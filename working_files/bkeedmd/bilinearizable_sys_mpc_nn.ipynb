{
 "cells": [
  {
   "cell_type": "markdown",
   "metadata": {},
   "source": [
    "$\\newcommand{\\mb}[1]{\\mathbf{ #1 }}$\n",
    "$\\newcommand{\\bs}[1]{\\boldsymbol{ #1 }}$\n",
    "$\\newcommand{\\bb}[1]{\\mathbb{ #1 }}$\n",
    "\n",
    "$\\newcommand{\\R}{\\bb{R}}$\n",
    "\n",
    "$\\newcommand{\\ip}[2]{\\left\\langle #1, #2 \\right\\rangle}$\n",
    "$\\newcommand{\\norm}[1]{\\left\\Vert #1 \\right\\Vert}$\n",
    "\n",
    "$\\newcommand{\\der}[2]{\\frac{\\mathrm{d} #1 }{\\mathrm{d} #2 }}$\n",
    "$\\newcommand{\\derp}[2]{\\frac{\\partial #1 }{\\partial #2 }}$\n",
    "\n",
    "# Finite Dimensional Koopman Bilinear System"
   ]
  },
  {
   "cell_type": "markdown",
   "metadata": {},
   "source": [
    "Consider a nonlinear dynamical system that allows an exact finite dimensional Koopman canonical transform such that the control-affine dynamics can be transformed to a bilinear system. Consider the dynamical system "
   ]
  },
  {
   "cell_type": "markdown",
   "metadata": {},
   "source": [
    "\\begin{equation}\n",
    "\\mb{\\dot{x}}=\\mb{f}_0(\\mb x) + \\mb f_1 ( \\mb x) u_1 + \\mb f_2(\\mb x) u_2, \n",
    "\\end{equation}"
   ]
  },
  {
   "cell_type": "markdown",
   "metadata": {},
   "source": [
    "where we for this example choose $\\mb f_0, \\mb f_1$ as follows:"
   ]
  },
  {
   "cell_type": "markdown",
   "metadata": {},
   "source": [
    "\\begin{equation}\n",
    "\\mb f_0(\\mb x) = \\begin{bmatrix} x_3 \\\\ x_4 \\\\ \\lambda x_3 \\\\ \\mu x_4 + (2 \\lambda - \\mu) c x_3^2 \\end{bmatrix}, \\qquad\n",
    "\\mb f_1(\\mb x) = \\begin{bmatrix} 0 \\\\ 0 \\\\ 1 \\\\ 0 \\end{bmatrix}, \\qquad\n",
    "\\mb f_2(\\mb x) = \\begin{bmatrix} 0 \\\\ 0 \\\\ 0 \\\\ x_1+1 \\end{bmatrix}, \n",
    "\\end{equation}   "
   ]
  },
  {
   "cell_type": "markdown",
   "metadata": {},
   "source": [
    "and $\\lambda, \\mu, c \\in \\mathbb{R}$ are scalar parameters of the system. Setting $ \\mb x = [q_1 \\, q_2 \\, \\dot{q_1} \\, \\dot{q_2}]^T$, \n",
    "these equations of motion can be expressed as robotic dynamics of the form $\\mb{D}(\\mb{q})\\ddot{\\mb{q}} + \\mb{C}(\\mb{q}, \\dot{\\mb{q}})\\dot{\\mb{q}} + \\mb{G}(\\mb{q}) = \\mb{B}\\mb{u}$, where $\\mb D$ is the inertia matrix, $\\mb C$ is the matrix of Coriolis terms, $\\mb G$ is the matrix of gravitational terms, and $\\mb B$ is the static actuation matrix. Rewriting $\\mb f_0, \\mb f_1, \\mb f_2$ in terms of $\\mb D, \\mb C, \\mb G,$ and $\\mb B$ yield\n",
    "\n"
   ]
  },
  {
   "cell_type": "markdown",
   "metadata": {},
   "source": [
    "\\begin{equation}\n",
    "\\mb D(\\mb q) = \\begin{bmatrix} 1 & 0\\\\ 0 &  \\frac{1}{q_1+1} \\end{bmatrix}, \n",
    "\\qquad \\mb C(\\mb q, \\mb{\\dot{q}}) = -\\begin{bmatrix} \\lambda & 0 \\\\ \\frac{1}{q_1 + 1}(2 \\lambda - \\mu) c \\dot{q}_1 & \\frac{1}{q_1 +1} \\mu \\end{bmatrix}, \\qquad \n",
    "\\mb G(\\mb q) = \\begin{bmatrix} 0 \\\\ 0 \\end{bmatrix} \n",
    "\\qquad \\mb B = \\begin{bmatrix}1 & 0 \\\\ 0 & 1 \\end{bmatrix},\n",
    "\\end{equation}"
   ]
  },
  {
   "cell_type": "markdown",
   "metadata": {},
   "source": [
    "As a result of the careful construction of this system, there exists a Koopman canonical transform, $\\mb z = T(\\mb x)$ that exactly transforms the control-affine dynamics into a bilinear system. Consider the transformation:"
   ]
  },
  {
   "cell_type": "markdown",
   "metadata": {},
   "source": [
    "\\begin{equation}\n",
    "    T(\\mb q, \\mb{\\dot{q}}) = \\begin{bmatrix} \n",
    "    \\phi_1(\\mb q, \\mb{\\dot{q}})\\\\\n",
    "    \\phi_2(\\mb q, \\mb{\\dot{q}})\\\\\n",
    "    \\phi_3(\\mb q, \\mb{\\dot{q}})\\\\\n",
    "    \\phi_4(\\mb q, \\mb{\\dot{q}})\\\\\n",
    "    \\phi_5(\\mb q, \\mb{\\dot{q}})\\\\\n",
    "    \\phi_6(\\mb q, \\mb{\\dot{q}})\\\\\n",
    "    \\end{bmatrix}\n",
    "    = \\begin{bmatrix} \n",
    "    1\\\\\n",
    "    q_1 - \\frac{1}{\\lambda}\\dot{q}_1\\\\\n",
    "    q_2 - \\frac{1}{\\mu} \\dot{q}_2 + \\frac{(2 \\lambda - \\mu)c}{2\\lambda \\mu} \\dot{q}_1^2\\\\\n",
    "    \\dot{q}_1\\\\\n",
    "    \\dot{q}_2 - c \\dot{q}_1^2\\\\\n",
    "    \\dot{q}_1^2\\\\\n",
    "    \\end{bmatrix},\n",
    "\\end{equation}"
   ]
  },
  {
   "cell_type": "markdown",
   "metadata": {},
   "source": [
    "where $\\phi_1, \\phi_2, \\phi_3, \\phi_4, \\phi_5, \\phi_6$ are eigenfunctions of the Koopman operator associated with the drift \n",
    "vector field $\\mb f_0$. The matrix with the eigenvalue associated with the i-th eigenfunction on the i-th diagonal \n",
    "element is $F=\\text{diag}(0, 0, \\lambda, \\mu, 2 \\lambda, 0)$. Then, to reformulate the dynamics we have: "
   ]
  },
  {
   "cell_type": "markdown",
   "metadata": {},
   "source": [
    "\\begin{equation} \n",
    "L_{\\mb f_1} T(\\mb q, \\mb{\\dot{q}}) = \\begin{bmatrix} 0\\\\ -\\frac{1}{\\lambda}\\\\ \\frac{(2\\lambda - \\mu)c}{\\lambda \\mu}\\dot{q}_1\\\\ 1 \\\\ -2c\\dot{q}_1 \\\\ 2\\dot{q_1} \\end{bmatrix}, \\qquad \n",
    "L_{\\mb f_2} T(\\mb q, \\mb{\\dot{q}}) = \\begin{bmatrix} 0 \\\\ 0\\\\ -\\frac{1}{\\mu}(q_1 + 1)\\\\0 \\\\ q_1 + 1 \\\\ 0 \\end{bmatrix} \n",
    "\\end{equation}"
   ]
  },
  {
   "cell_type": "markdown",
   "metadata": {},
   "source": [
    "and the dynamics can be equivalently transformed to a bilinear form $\\mb{\\dot{z}} = F \\mb z + G_1\\mb z u_1 + G_2\\mb z u_2$ with "
   ]
  },
  {
   "cell_type": "markdown",
   "metadata": {},
   "source": [
    "\\begin{equation}\n",
    "F = \\begin{bmatrix} \n",
    "0 &0 & 0 & 0 & 0 & 0\\\\  \n",
    "0 & 0 & 0 & 0 & 0 & 0\\\\\n",
    "0 &0 & 0 & 0 & 0 & 0\\\\\n",
    "0 &0 & 0 & \\lambda & 0 & 0\\\\\n",
    "0 &0 & 0 & 0 & \\mu & 0 \\\\\n",
    "0 &0 & 0 & 0 & 0 & 2 \\lambda\\\\\n",
    "\\end{bmatrix}, \\qquad \n",
    "G_1 = \\begin{bmatrix} \n",
    "0 & 0 & 0 & 0 & 0 & 0\\\\\n",
    "-\\frac{1}{\\lambda}& 0 & 0 & 0 & 0 & 0\\\\\n",
    "0 & 0 & 0 & \\frac{(2\\lambda - \\mu)c}{\\lambda \\mu} & 0 & 0\\\\\n",
    "1 & 0 & 0 & 0 & 0 & 0\\\\\n",
    "0 & 0 & 0 & -2c & 0 & 0\\\\\n",
    "0 & 0 & 0 & 2 & 0 & 0\\\\  \n",
    "\\end{bmatrix}\n",
    ", \\qquad \n",
    "G_2 = \\begin{bmatrix} \n",
    "0 & 0 & 0 & 0 & 0 & 0\\\\\n",
    "0 & 0 &  0 & 0 & 0 & 0\\\\\n",
    " -\\frac{1}{\\mu} & -\\frac{1}{\\mu} & 0 &  -\\frac{1}{\\lambda \\mu} & 0 & 0\\\\\n",
    "0 & 0 & 0 & 0 & 0 & 0\\\\\n",
    "1 & 1 & 0 & \\frac{1}{\\lambda} & 0 & 0\\\\\n",
    "0 & 0 & 0 & 0 & 0 & 0\\\\  \n",
    "\\end{bmatrix}\n",
    "\\end{equation}"
   ]
  },
  {
   "cell_type": "code",
   "execution_count": 1,
   "metadata": {},
   "outputs": [],
   "source": [
    "import numpy as np\n",
    "import sys\n",
    "sys.path.append('../../')"
   ]
  },
  {
   "cell_type": "markdown",
   "metadata": {},
   "source": [
    "# Define experiment parameters"
   ]
  },
  {
   "cell_type": "code",
   "execution_count": 2,
   "metadata": {},
   "outputs": [],
   "source": [
    "from core.dynamics import RoboticDynamics, ConfigurationDynamics\n",
    "\n",
    "class KoopPdOutput(ConfigurationDynamics):\n",
    "    def __init__(self, dynamics, xd, n, m):\n",
    "        ConfigurationDynamics.__init__(self, dynamics, 1)\n",
    "        self.xd = xd\n",
    "        self.n = n\n",
    "        self.m = m\n",
    "\n",
    "    def proportional(self, x, t):\n",
    "        q = x[:int(n/2)]\n",
    "        q_d = self.xd[:int(n/2)]\n",
    "\n",
    "        return  q - q_d\n",
    "\n",
    "    def derivative(self, x, t):\n",
    "        q_dot = x[int(n/2):]\n",
    "        q_dot_d = self.xd[int(n/2):]\n",
    "\n",
    "        return q_dot - q_dot_d\n",
    "\n",
    "class FiniteDimKoopSys(RoboticDynamics):\n",
    "    def __init__(self, lambd, mu, c):\n",
    "        RoboticDynamics.__init__(self, 2, 2)\n",
    "        self.params = lambd, mu, c\n",
    "    \n",
    "    def D(self, q):\n",
    "        return np.array([[1, 0],[0, (q[0]+1)**(-1)]])\n",
    "    \n",
    "    def C(self, q, q_dot):\n",
    "        labmd, mu, c = self.params\n",
    "        return -np.array([[lambd, 0], [(q[0]+1)**(-1)*(2*lambd - mu)*c*q_dot[0], (q[0]+1)**(-1)*mu]])\n",
    "    \n",
    "    def G(self, q):\n",
    "        return np.array([0, 0])\n",
    "    \n",
    "    def B(self, q):\n",
    "        return np.array([[1, 0], [0, 1]])\n",
    "\n",
    "n, m = 4, 2\n",
    "lambd, mu, c = .3, .2, -.5\n",
    "sys_name = 'bilinearizable_sys'\n",
    "system = FiniteDimKoopSys(lambd, mu, c)"
   ]
  },
  {
   "cell_type": "code",
   "execution_count": 3,
   "metadata": {},
   "outputs": [],
   "source": [
    "from koopman_core.dynamics import LinearLiftedDynamics\n",
    "\n",
    "A_lin = np.array([[0, 0, 1, 0],\n",
    "                  [0, 0, 0, 1],\n",
    "                  [0, 0, lambd, 0],\n",
    "                  [0, 0, 0, mu]])\n",
    "B_lin = np.array([[0, 0],\n",
    "                  [0, 0],\n",
    "                  [1, 0],\n",
    "                  [0, 1]])\n",
    "dt = 1e-2\n",
    "linearized_sys = LinearLiftedDynamics(A_lin, B_lin, np.eye(n), lambda x: x)"
   ]
  },
  {
   "cell_type": "markdown",
   "metadata": {},
   "source": [
    "# Collect data for learning "
   ]
  },
  {
   "cell_type": "code",
   "execution_count": 4,
   "metadata": {},
   "outputs": [],
   "source": [
    "import scipy as sc\n",
    "import os\n",
    "\n",
    "q_dc, r_dc = 5e2, 1                                                 # State and actuation penalty values, data collection\n",
    "Q_dc = q_dc * np.identity(n)                                        # State penalty matrix, data collection\n",
    "R_dc = r_dc*np.identity(m)                                          # Actuation penalty matrix, data collection\n",
    "P_dc = sc.linalg.solve_continuous_are(A_lin, B_lin, Q_dc, R_dc)     # Algebraic Ricatti equation solution, data collection\n",
    "K_dc = np.linalg.inv(R_dc)@B_lin.T@P_dc                             # LQR feedback gain matrix, data collection\n",
    "K_dc_p = K_dc[:,:int(n/2)]                                          # Proportional control gains, data collection\n",
    "K_dc_d = K_dc[:,int(n/2):]                                          # Derivative control gains, data collection\n",
    "\n",
    "# Data collection parameters:\n",
    "collect_data = False\n",
    "dt = 1.0e-2                                                         # Time step length\n",
    "traj_length_dc = 2.                                                 # Trajectory length, data collection\n",
    "n_pred_dc = int(traj_length_dc/dt)                                  # Number of time steps, data collection\n",
    "t_eval = dt * np.arange(n_pred_dc + 1)                              # Simulation time points\n",
    "n_traj_train = 100                                                      # Number of trajectories to execute, data collection\n",
    "n_traj_val = int(0.2*n_traj_train)\n",
    "noise_var = 5.                                                      # Exploration noise to perturb controller, data collection\n",
    "\n",
    "xmax = np.array([1., 1., 1., 1.])                                   # State constraints, trajectory generation\n",
    "xmin = -xmax\n",
    "umax = np.array([10., 10.])                                         # Actuation constraint, trajectory generation\n",
    "umin = -umax\n",
    "x0_max = xmax/2                                                     # Initial value limits\n",
    "sub_sample_rate = 1                                                 # Rate to subsample data for training\n",
    "model_fname = 'examples/'                                           # Path to save learned models\n",
    "n_cols = 10                                                         # Number of columns in training data plot\n",
    "directory = os.path.abspath(\"\")                                     # Path to save learned models"
   ]
  },
  {
   "cell_type": "code",
   "execution_count": 5,
   "metadata": {
    "scrolled": false
   },
   "outputs": [],
   "source": [
    "from koopman_core.util import run_experiment\n",
    "import dill\n",
    "\n",
    "if collect_data:\n",
    "    xs_train, us_train, t_train = run_experiment(system, n, n_traj_train, n_pred_dc, t_eval, x0_max, plot_experiment_data=True,\n",
    "                                      m=m, K_p=K_dc_p, K_d=K_dc_d, noise_var=noise_var)\n",
    "    xs_val, us_val, t_val = run_experiment(system, n, n_traj_val, n_pred_dc, t_eval, x0_max,\n",
    "                                      m=m, K_p=K_dc_p, K_d=K_dc_d, noise_var=noise_var)\n",
    "\n",
    "    data_list = [xs_train, us_train, t_train, n_traj_train, xs_val, us_val, t_val, n_traj_val]\n",
    "    outfile = open(directory + '/data/' + sys_name + '_data.pickle', 'wb')\n",
    "    dill.dump(data_list, outfile)\n",
    "    outfile.close()\n",
    "else:\n",
    "    infile = open(directory + '/data/' + sys_name + '_data.pickle', 'rb')\n",
    "    xs_train, us_train, t_train, n_traj_train, xs_val, us_val, t_val, n_traj_val = dill.load(infile)\n",
    "    infile.close()"
   ]
  },
  {
   "cell_type": "markdown",
   "metadata": {},
   "source": [
    "# Learn Koopman-based models of the dynamics"
   ]
  },
  {
   "cell_type": "markdown",
   "metadata": {},
   "source": [
    "### Learn bilinear EDMD model"
   ]
  },
  {
   "cell_type": "code",
   "execution_count": 6,
   "metadata": {},
   "outputs": [],
   "source": [
    "#Bilinear EDMD parameters:                                           \n",
    "alpha_bedmd = 2.4e-5  # Regularization strength (LASSO) bEDMD\n",
    "tune_mdl_bedmd = False"
   ]
  },
  {
   "cell_type": "code",
   "execution_count": 7,
   "metadata": {},
   "outputs": [],
   "source": [
    "from sklearn import preprocessing, linear_model\n",
    "from koopman_core.learning import BilinearEdmd\n",
    "from koopman_core.dynamics import BilinearLiftedDynamics\n",
    "\n",
    "bedmd_features = preprocessing.PolynomialFeatures(2)\n",
    "bedmd_features.fit(np.zeros((1,n)))\n",
    "n_lift_bedmd = bedmd_features.transform((np.zeros((1,n)))).shape[1]\n",
    "\n",
    "C_bedmd = np.zeros((n,n_lift_bedmd))\n",
    "C_bedmd[:,1:n+1] = np.eye(n)\n",
    "\n",
    "basis_bedmd = lambda x: bedmd_features.transform(x)\n",
    "optimizer_bedmd = linear_model.MultiTaskLasso(alpha=alpha_bedmd, fit_intercept=False, selection='random')\n",
    "cv_bedmd = linear_model.MultiTaskLassoCV(fit_intercept=False, n_jobs=-1, cv=3, selection='random')\n",
    "#standardizer_bedmd = preprocessing.StandardScaler(with_mean=False)\n",
    "standardizer_bedmd = None\n",
    "\n",
    "model_bedmd = BilinearEdmd(n, m, basis_bedmd, n_lift_bedmd, n_traj_train, optimizer_bedmd, cv=cv_bedmd, \n",
    "                           standardizer=standardizer_bedmd, C=C_bedmd, continuous_mdl=False, dt=dt)\n",
    "X_bedmd, y_bedmd = model_bedmd.process(xs_train, us_train, np.tile(t_train,(n_traj_train,1)), downsample_rate=sub_sample_rate)\n",
    "model_bedmd.fit(X_bedmd, y_bedmd, cv=tune_mdl_bedmd, override_kinematics=True)\n",
    "sys_bedmd = BilinearLiftedDynamics(model_bedmd.n_lift, m, model_bedmd.A, model_bedmd.B, model_bedmd.C, \n",
    "                                   model_bedmd.basis, continuous_mdl=False, dt=dt)\n",
    "if tune_mdl_bedmd:\n",
    "    print('$\\\\alpha$ bilinear EDMD: ', model_bedmd.cv.alpha_)"
   ]
  },
  {
   "cell_type": "markdown",
   "metadata": {},
   "source": [
    "### Learn Koopman DNN model"
   ]
  },
  {
   "cell_type": "code",
   "execution_count": 8,
   "metadata": {},
   "outputs": [
    {
     "name": "stdout",
     "output_type": "stream",
     "text": [
      "{'state_dim': 4, 'ctrl_dim': 2, 'encoder_hidden_width': 100, 'encoder_hidden_depth': 1, 'encoder_output_dim': 1, 'optimizer': 'adam', 'activation_type': 'relu', 'lr': 0.01, 'epochs': 100, 'batch_size': 128, 'lin_loss_penalty': 0.5, 'l2_reg': 0, 'l1_reg': 0, 'first_obs_const': True, 'override_kinematics': True, 'dt': 0.01}\n"
     ]
    }
   ],
   "source": [
    "import dill, os, torch\n",
    "\n",
    "load_tuned_params = False\n",
    "\n",
    "if load_tuned_params:\n",
    "    infile = open(os.path.abspath('') + '/data/analytic_koop_sys_best_params.pickle', 'rb')\n",
    "    best_config, val_loss, test_loss, open_loop_mse, open_loop_std = dill.load(infile)\n",
    "    infile.close()\n",
    "\n",
    "else:\n",
    "    net_params = {}\n",
    "    net_params['state_dim'] = n\n",
    "    net_params['ctrl_dim'] = m\n",
    "    net_params['encoder_hidden_width'] = 100\n",
    "    net_params['encoder_hidden_depth'] = 1\n",
    "    net_params['encoder_output_dim'] = 1\n",
    "    net_params['optimizer'] = 'adam'\n",
    "    net_params['activation_type'] = 'relu'\n",
    "    net_params['lr'] = 1e-2\n",
    "    net_params['epochs'] = 100\n",
    "    net_params['batch_size'] = 128\n",
    "    net_params['lin_loss_penalty'] = 0.5\n",
    "    net_params['l2_reg'] = 0\n",
    "    net_params['l1_reg'] = 0\n",
    "    net_params['first_obs_const'] = True\n",
    "    net_params['override_kinematics'] = True \n",
    "    net_params['dt'] = dt\n",
    "\n",
    "print(net_params)"
   ]
  },
  {
   "cell_type": "code",
   "execution_count": 9,
   "metadata": {
    "scrolled": false
   },
   "outputs": [
    {
     "name": "stdout",
     "output_type": "stream",
     "text": [
      "Epoch   1: train loss: 930.01989746, validation loss: 663.44290352\n",
      "Epoch   2: train loss: 370.72842407, validation loss: 125.01222682\n",
      "Epoch   3: train loss: 41.85569000, validation loss: 5.63683328\n",
      "Epoch   4: train loss: 3.09024763, validation loss: 1.61302006\n",
      "Epoch   5: train loss: 1.76978469, validation loss: 1.23393631\n",
      "Epoch   6: train loss: 1.37697375, validation loss: 0.99147053\n",
      "Epoch   7: train loss: 1.07978976, validation loss: 0.79333009\n",
      "Epoch   8: train loss: 0.83348966, validation loss: 0.60297585\n",
      "Epoch   9: train loss: 0.63102329, validation loss: 0.45629804\n",
      "Epoch  10: train loss: 0.46815884, validation loss: 0.33430795\n",
      "Epoch  11: train loss: 0.33702901, validation loss: 0.24178137\n",
      "Epoch  12: train loss: 0.23669358, validation loss: 0.16617788\n",
      "Epoch  13: train loss: 0.16167505, validation loss: 0.11208246\n",
      "Epoch  14: train loss: 0.10703000, validation loss: 0.07319028\n",
      "Epoch  15: train loss: 0.06880973, validation loss: 0.04769754\n",
      "Epoch  16: train loss: 0.04263008, validation loss: 0.02837136\n",
      "Epoch  17: train loss: 0.02564430, validation loss: 0.01676020\n",
      "Epoch  18: train loss: 0.01498089, validation loss: 0.00961038\n",
      "Epoch  19: train loss: 0.00860999, validation loss: 0.00535355\n",
      "Epoch  20: train loss: 0.00489161, validation loss: 0.00312280\n",
      "Epoch  21: train loss: 0.00292009, validation loss: 0.00186145\n",
      "Epoch  22: train loss: 0.00188940, validation loss: 0.00146960\n",
      "Epoch  23: train loss: 0.00158883, validation loss: 0.00099662\n",
      "Epoch  24: train loss: 0.00112629, validation loss: 0.00080652\n",
      "Epoch  25: train loss: 0.00102995, validation loss: 0.00075288\n",
      "Epoch  26: train loss: 0.00098756, validation loss: 0.00082259\n",
      "Epoch  27: train loss: 0.00104587, validation loss: 0.00082388\n",
      "Epoch  28: train loss: 0.00107718, validation loss: 0.00088975\n",
      "Epoch  29: train loss: 0.00099539, validation loss: 0.00075148\n",
      "Epoch  30: train loss: 0.00098613, validation loss: 0.00077668\n",
      "Epoch  31: train loss: 0.00098234, validation loss: 0.00080583\n",
      "Epoch  32: train loss: 0.00101003, validation loss: 0.00074839\n",
      "Epoch  33: train loss: 0.00097458, validation loss: 0.00081041\n",
      "Epoch  34: train loss: 0.00131091, validation loss: 0.00072471\n",
      "Epoch  35: train loss: 0.00101268, validation loss: 0.00074093\n",
      "Epoch  36: train loss: 0.00098241, validation loss: 0.00081090\n",
      "Epoch  37: train loss: 0.00100987, validation loss: 0.00082085\n",
      "Epoch  38: train loss: 0.00098943, validation loss: 0.00080643\n",
      "Epoch  39: train loss: 0.00102259, validation loss: 0.00075736\n",
      "Epoch  40: train loss: 0.00113892, validation loss: 0.00083904\n",
      "Epoch  41: train loss: 0.00112330, validation loss: 0.00112218\n",
      "Epoch  42: train loss: 0.00109225, validation loss: 0.00086846\n",
      "Epoch  43: train loss: 0.00107185, validation loss: 0.00080671\n",
      "Epoch  44: train loss: 0.00108775, validation loss: 0.00138800\n",
      "Epoch  45: train loss: 0.00121276, validation loss: 0.00084891\n",
      "Epoch  46: train loss: 0.00103153, validation loss: 0.00092841\n",
      "Epoch  47: train loss: 0.00101900, validation loss: 0.00078942\n",
      "Epoch  48: train loss: 0.00103105, validation loss: 0.00077668\n",
      "Epoch  49: train loss: 0.00101686, validation loss: 0.00084048\n",
      "Epoch  50: train loss: 0.00103638, validation loss: 0.00075883\n",
      "Epoch  51: train loss: 0.00108132, validation loss: 0.00082402\n",
      "Epoch  52: train loss: 0.00116417, validation loss: 0.00106340\n",
      "Epoch  53: train loss: 0.00119939, validation loss: 0.00107903\n",
      "Epoch  54: train loss: 0.00129704, validation loss: 0.00106464\n",
      "Epoch  55: train loss: 0.00108584, validation loss: 0.00078015\n",
      "Epoch  56: train loss: 0.00109312, validation loss: 0.00071721\n",
      "Epoch  57: train loss: 0.00114926, validation loss: 0.00131479\n",
      "Epoch  58: train loss: 0.00123659, validation loss: 0.00097784\n",
      "Epoch  59: train loss: 0.00125872, validation loss: 0.00084596\n",
      "Epoch  60: train loss: 0.00111008, validation loss: 0.00091245\n",
      "Epoch  61: train loss: 0.00109871, validation loss: 0.00086497\n",
      "Epoch  62: train loss: 0.00109770, validation loss: 0.00080142\n",
      "Epoch  63: train loss: 0.00110230, validation loss: 0.00099101\n",
      "Epoch  64: train loss: 0.00115806, validation loss: 0.00087594\n",
      "Epoch  65: train loss: 0.00114311, validation loss: 0.00097351\n",
      "Epoch  66: train loss: 0.00148714, validation loss: 0.00306268\n",
      "Epoch  67: train loss: 0.00177425, validation loss: 0.00091404\n",
      "Epoch  68: train loss: 0.00116600, validation loss: 0.00086529\n",
      "Epoch  69: train loss: 0.00118066, validation loss: 0.00097773\n",
      "Epoch  70: train loss: 0.00122031, validation loss: 0.00096496\n",
      "Epoch  71: train loss: 0.00122574, validation loss: 0.00090243\n",
      "Epoch  72: train loss: 0.00120071, validation loss: 0.00108456\n",
      "Epoch  73: train loss: 0.00119000, validation loss: 0.00125334\n",
      "Epoch  74: train loss: 0.00128006, validation loss: 0.00138987\n",
      "Epoch  75: train loss: 0.00126551, validation loss: 0.00110207\n",
      "Epoch  76: train loss: 0.00131114, validation loss: 0.00099983\n",
      "Epoch  77: train loss: 0.00140028, validation loss: 0.00110704\n",
      "Epoch  78: train loss: 0.00155896, validation loss: 0.00112646\n",
      "Epoch  79: train loss: 0.00170841, validation loss: 0.00093686\n",
      "Epoch  80: train loss: 0.00133417, validation loss: 0.00112005\n",
      "Epoch  81: train loss: 0.00132611, validation loss: 0.00128849\n",
      "Epoch  82: train loss: 0.00125948, validation loss: 0.00080148\n",
      "Epoch  83: train loss: 0.00116714, validation loss: 0.00082362\n",
      "Epoch  84: train loss: 0.00124673, validation loss: 0.00081123\n",
      "Epoch  85: train loss: 0.00117384, validation loss: 0.00101305\n",
      "Epoch  86: train loss: 0.00112134, validation loss: 0.00090033\n",
      "Epoch  87: train loss: 0.00119213, validation loss: 0.00149330\n",
      "Epoch  88: train loss: 0.00116703, validation loss: 0.00094060\n",
      "Epoch  89: train loss: 0.00129359, validation loss: 0.00091405\n",
      "Epoch  90: train loss: 0.00113342, validation loss: 0.00089086\n",
      "Epoch  91: train loss: 0.00123081, validation loss: 0.00093465\n",
      "Epoch  92: train loss: 0.00115518, validation loss: 0.00086243\n",
      "Epoch  93: train loss: 0.00117901, validation loss: 0.00082798\n",
      "Epoch  94: train loss: 0.00120789, validation loss: 0.00099621\n",
      "Epoch  95: train loss: 0.00125476, validation loss: 0.00125612\n",
      "Epoch  96: train loss: 0.00122935, validation loss: 0.00080467\n",
      "Epoch  97: train loss: 0.00114580, validation loss: 0.00078724\n",
      "Epoch  98: train loss: 0.00124863, validation loss: 0.00100929\n",
      "Epoch  99: train loss: 0.00116825, validation loss: 0.00091863\n",
      "Epoch 100: train loss: 0.00121501, validation loss: 0.00087927\n",
      "Finished Training\n"
     ]
    }
   ],
   "source": [
    "from koopman_core.learning import KoopDnn, KoopmanNetCtrl\n",
    "\n",
    "standardizer_x_kdnn = preprocessing.StandardScaler(with_mean=False)\n",
    "standardizer_u_kdnn = preprocessing.StandardScaler(with_mean=False)\n",
    "n_tot = n + net_params['encoder_output_dim'] + int(net_params['first_obs_const'])\n",
    "\n",
    "net = KoopmanNetCtrl(net_params, standardizer_x=standardizer_x_kdnn, standardizer_u=standardizer_u_kdnn)\n",
    "model_koop_dnn = KoopDnn(net)\n",
    "model_koop_dnn.set_datasets(xs_train, t_train, u_train=us_train, x_val=xs_val, u_val=us_val, t_val=t_val)\n",
    "model_koop_dnn.model_pipeline(net_params, early_stop=True)\n",
    "model_koop_dnn.construct_koopman_model()\n",
    "sys_koop_dnn = BilinearLiftedDynamics(n_tot, m, model_koop_dnn.A, model_koop_dnn.B, model_koop_dnn.C, model_koop_dnn.basis_encode,\n",
    "                                    continuous_mdl=False, dt=dt, standardizer_x=standardizer_x_kdnn\n",
    "                                     , standardizer_u=standardizer_u_kdnn)"
   ]
  },
  {
   "cell_type": "markdown",
   "metadata": {},
   "source": [
    "# Evaluate open-loop prediction performance"
   ]
  },
  {
   "cell_type": "code",
   "execution_count": 10,
   "metadata": {},
   "outputs": [],
   "source": [
    "# Prediction performance evaluation parameters:\n",
    "folder_plots = 'figures/'                                          # Path to save plots\n",
    "n_traj_ol = 50                                                     # Number of trajectories to execute, open loop"
   ]
  },
  {
   "cell_type": "code",
   "execution_count": 11,
   "metadata": {},
   "outputs": [
    {
     "name": "stdout",
     "output_type": "stream",
     "text": [
      "\n",
      "Open loop performance statistics:\n",
      "            Mean squared error    Standard deviation\n",
      "--------  --------------------  --------------------\n",
      "Koop DNN               2e-05                 0.00475\n",
      "bEDMD                  0.00017               0.01305\n"
     ]
    },
    {
     "data": {
      "text/plain": [
       "<Figure size 864x432 with 0 Axes>"
      ]
     },
     "metadata": {},
     "output_type": "display_data"
    }
   ],
   "source": [
    "from koopman_core.util import evaluate_ol_pred\n",
    "from tabulate import tabulate\n",
    "import random as rand\n",
    "\n",
    "xs_ol, us_ol, t_ol = run_experiment(system, n, n_traj_ol, n_pred_dc, t_eval, x0_max,\n",
    "                                      m=m, K_p=K_dc_p, K_d=K_dc_d, noise_var=noise_var)\n",
    "\n",
    "mdl_lst = [sys_koop_dnn, sys_bedmd]\n",
    "mdl_names = ['Koop DNN', 'bEDMD']\n",
    "error, mse, std = [], [], []\n",
    "\n",
    "for sys in mdl_lst:\n",
    "    err_tmp, mse_tmp, std_tmp = evaluate_ol_pred(sys, xs_ol, t_eval, us=us_ol)\n",
    "    error.append(err_tmp)\n",
    "    mse.append(mse_tmp)\n",
    "    std.append(std_tmp)\n",
    "    \n",
    "print('\\nOpen loop performance statistics:')\n",
    "table_data = []\n",
    "for name, mse_mdl, std_mdl in zip(mdl_names, mse, std):\n",
    "    table_data.append([name, \"{:.5f}\".format(mse_mdl), \"{:.5f}\".format(std_mdl)])\n",
    "\n",
    "print(tabulate(table_data, \n",
    "               headers=['Mean squared error', 'Standard deviation']))"
   ]
  },
  {
   "cell_type": "code",
   "execution_count": 12,
   "metadata": {},
   "outputs": [
    {
     "data": {
      "image/png": "[encoded data removed]",
      "text/plain": [
       "<Figure size 864x288 with 4 Axes>"
      ]
     },
     "metadata": {
      "needs_background": "light"
     },
     "output_type": "display_data"
    }
   ],
   "source": [
    "import matplotlib.pyplot as plt\n",
    "import matplotlib\n",
    "\n",
    "figwidth = 12\n",
    "lw = 2\n",
    "fs = 14\n",
    "y_lim_gain = 1.2\n",
    "row = 2\n",
    "col = n/row\n",
    "\n",
    "#Plot open loop results:\n",
    "plt.figure(figsize=(figwidth,4))\n",
    "axs = [plt.subplot(row,col,jj+1) for jj in range(n)]\n",
    "\n",
    "for ii, err in enumerate(error):\n",
    "    err_mean = np.mean(err, axis=0)\n",
    "    err_std = np.std(err, axis=0)\n",
    "    \n",
    "    for jj in range(n):\n",
    "        axs[jj].plot(t_eval[1:], err_mean[:,jj], label=mdl_names[ii])\n",
    "        axs[jj].fill_between(t_eval[1:], err_mean[:,jj]-err_std[:,jj], err_mean[:,jj]+err_std[:,jj], alpha=0.1)\n",
    "\n",
    "for jj in range(n):\n",
    "    axs[jj].set_xlabel('Time (sec)', fontsize=fs)\n",
    "    axs[jj].set_ylabel('$x_'+ str(jj+1) + '$', fontsize=fs)\n",
    "\n",
    "plt.legend(frameon=False, fontsize=fs)\n",
    "stitle=plt.suptitle('Open loop prediction performance of learned models', fontsize=fs+2)\n",
    "matplotlib.rcParams['pdf.fonttype'] = 42\n",
    "matplotlib.rcParams['ps.fonttype'] = 42\n",
    "plt.savefig(folder_plots + 'koop_sys_prediction.pdf', format='pdf', dpi=2400, bbox_extra_artists=(stitle,), bbox_inches=\"tight\")\n",
    "plt.show()"
   ]
  }
 ],
 "metadata": {
  "kernelspec": {
   "display_name": "keedmd",
   "language": "python",
   "name": "keedmd"
  },
  "language_info": {
   "codemirror_mode": {
    "name": "ipython",
    "version": 3
   },
   "file_extension": ".py",
   "mimetype": "text/x-python",
   "name": "python",
   "nbconvert_exporter": "python",
   "pygments_lexer": "ipython3",
   "version": "3.7.6"
  }
 },
 "nbformat": 4,
 "nbformat_minor": 4
}
