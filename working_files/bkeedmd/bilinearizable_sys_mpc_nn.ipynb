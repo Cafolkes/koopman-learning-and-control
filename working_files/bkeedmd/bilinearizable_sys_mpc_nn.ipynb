{
 "cells": [
  {
   "cell_type": "markdown",
   "metadata": {},
   "source": [
    "$\\newcommand{\\mb}[1]{\\mathbf{ #1 }}$\n",
    "$\\newcommand{\\bs}[1]{\\boldsymbol{ #1 }}$\n",
    "$\\newcommand{\\bb}[1]{\\mathbb{ #1 }}$\n",
    "\n",
    "$\\newcommand{\\R}{\\bb{R}}$\n",
    "\n",
    "$\\newcommand{\\ip}[2]{\\left\\langle #1, #2 \\right\\rangle}$\n",
    "$\\newcommand{\\norm}[1]{\\left\\Vert #1 \\right\\Vert}$\n",
    "\n",
    "$\\newcommand{\\der}[2]{\\frac{\\mathrm{d} #1 }{\\mathrm{d} #2 }}$\n",
    "$\\newcommand{\\derp}[2]{\\frac{\\partial #1 }{\\partial #2 }}$\n",
    "\n",
    "# Finite Dimensional Koopman Bilinear System"
   ]
  },
  {
   "cell_type": "markdown",
   "metadata": {},
   "source": [
    "Consider a nonlinear dynamical system that allows an exact finite dimensional Koopman canonical transform such that the control-affine dynamics can be transformed to a bilinear system. Consider the dynamical system "
   ]
  },
  {
   "cell_type": "markdown",
   "metadata": {},
   "source": [
    "\\begin{equation}\n",
    "\\mb{\\dot{x}}=\\mb{f}_0(\\mb x) + \\mb f_1 ( \\mb x) u_1 + \\mb f_2(\\mb x) u_2, \n",
    "\\end{equation}"
   ]
  },
  {
   "cell_type": "markdown",
   "metadata": {},
   "source": [
    "where we for this example choose $\\mb f_0, \\mb f_1$ as follows:"
   ]
  },
  {
   "cell_type": "markdown",
   "metadata": {},
   "source": [
    "\\begin{equation}\n",
    "\\mb f_0(\\mb x) = \\begin{bmatrix} x_3 \\\\ x_4 \\\\ \\lambda x_3 \\\\ \\mu x_4 + (2 \\lambda - \\mu) c x_3^2 \\end{bmatrix}, \\qquad\n",
    "\\mb f_1(\\mb x) = \\begin{bmatrix} 0 \\\\ 0 \\\\ 1 \\\\ 0 \\end{bmatrix}, \\qquad\n",
    "\\mb f_2(\\mb x) = \\begin{bmatrix} 0 \\\\ 0 \\\\ 0 \\\\ x_1+1 \\end{bmatrix}, \n",
    "\\end{equation}   "
   ]
  },
  {
   "cell_type": "markdown",
   "metadata": {},
   "source": [
    "and $\\lambda, \\mu, c \\in \\mathbb{R}$ are scalar parameters of the system. Setting $ \\mb x = [q_1 \\, q_2 \\, \\dot{q_1} \\, \\dot{q_2}]^T$, \n",
    "these equations of motion can be expressed as robotic dynamics of the form $\\mb{D}(\\mb{q})\\ddot{\\mb{q}} + \\mb{C}(\\mb{q}, \\dot{\\mb{q}})\\dot{\\mb{q}} + \\mb{G}(\\mb{q}) = \\mb{B}\\mb{u}$, where $\\mb D$ is the inertia matrix, $\\mb C$ is the matrix of Coriolis terms, $\\mb G$ is the matrix of gravitational terms, and $\\mb B$ is the static actuation matrix. Rewriting $\\mb f_0, \\mb f_1, \\mb f_2$ in terms of $\\mb D, \\mb C, \\mb G,$ and $\\mb B$ yield\n",
    "\n"
   ]
  },
  {
   "cell_type": "markdown",
   "metadata": {},
   "source": [
    "\\begin{equation}\n",
    "\\mb D(\\mb q) = \\begin{bmatrix} 1 & 0\\\\ 0 &  \\frac{1}{q_1+1} \\end{bmatrix}, \n",
    "\\qquad \\mb C(\\mb q, \\mb{\\dot{q}}) = -\\begin{bmatrix} \\lambda & 0 \\\\ \\frac{1}{q_1 + 1}(2 \\lambda - \\mu) c \\dot{q}_1 & \\frac{1}{q_1 +1} \\mu \\end{bmatrix}, \\qquad \n",
    "\\mb G(\\mb q) = \\begin{bmatrix} 0 \\\\ 0 \\end{bmatrix} \n",
    "\\qquad \\mb B = \\begin{bmatrix}1 & 0 \\\\ 0 & 1 \\end{bmatrix},\n",
    "\\end{equation}"
   ]
  },
  {
   "cell_type": "markdown",
   "metadata": {},
   "source": [
    "As a result of the careful construction of this system, there exists a Koopman canonical transform, $\\mb z = T(\\mb x)$ that exactly transforms the control-affine dynamics into a bilinear system. Consider the transformation:"
   ]
  },
  {
   "cell_type": "markdown",
   "metadata": {},
   "source": [
    "\\begin{equation}\n",
    "    T(\\mb q, \\mb{\\dot{q}}) = \\begin{bmatrix} \n",
    "    \\phi_1(\\mb q, \\mb{\\dot{q}})\\\\\n",
    "    \\phi_2(\\mb q, \\mb{\\dot{q}})\\\\\n",
    "    \\phi_3(\\mb q, \\mb{\\dot{q}})\\\\\n",
    "    \\phi_4(\\mb q, \\mb{\\dot{q}})\\\\\n",
    "    \\phi_5(\\mb q, \\mb{\\dot{q}})\\\\\n",
    "    \\phi_6(\\mb q, \\mb{\\dot{q}})\\\\\n",
    "    \\end{bmatrix}\n",
    "    = \\begin{bmatrix} \n",
    "    1\\\\\n",
    "    q_1 - \\frac{1}{\\lambda}\\dot{q}_1\\\\\n",
    "    q_2 - \\frac{1}{\\mu} \\dot{q}_2 + \\frac{(2 \\lambda - \\mu)c}{2\\lambda \\mu} \\dot{q}_1^2\\\\\n",
    "    \\dot{q}_1\\\\\n",
    "    \\dot{q}_2 - c \\dot{q}_1^2\\\\\n",
    "    \\dot{q}_1^2\\\\\n",
    "    \\end{bmatrix},\n",
    "\\end{equation}"
   ]
  },
  {
   "cell_type": "markdown",
   "metadata": {},
   "source": [
    "where $\\phi_1, \\phi_2, \\phi_3, \\phi_4, \\phi_5, \\phi_6$ are eigenfunctions of the Koopman operator associated with the drift \n",
    "vector field $\\mb f_0$. The matrix with the eigenvalue associated with the i-th eigenfunction on the i-th diagonal \n",
    "element is $F=\\text{diag}(0, 0, \\lambda, \\mu, 2 \\lambda, 0)$. Then, to reformulate the dynamics we have: "
   ]
  },
  {
   "cell_type": "markdown",
   "metadata": {},
   "source": [
    "\\begin{equation} \n",
    "L_{\\mb f_1} T(\\mb q, \\mb{\\dot{q}}) = \\begin{bmatrix} 0\\\\ -\\frac{1}{\\lambda}\\\\ \\frac{(2\\lambda - \\mu)c}{\\lambda \\mu}\\dot{q}_1\\\\ 1 \\\\ -2c\\dot{q}_1 \\\\ 2\\dot{q_1} \\end{bmatrix}, \\qquad \n",
    "L_{\\mb f_2} T(\\mb q, \\mb{\\dot{q}}) = \\begin{bmatrix} 0 \\\\ 0\\\\ -\\frac{1}{\\mu}(q_1 + 1)\\\\0 \\\\ q_1 + 1 \\\\ 0 \\end{bmatrix} \n",
    "\\end{equation}"
   ]
  },
  {
   "cell_type": "markdown",
   "metadata": {},
   "source": [
    "and the dynamics can be equivalently transformed to a bilinear form $\\mb{\\dot{z}} = F \\mb z + G_1\\mb z u_1 + G_2\\mb z u_2$ with "
   ]
  },
  {
   "cell_type": "markdown",
   "metadata": {},
   "source": [
    "\\begin{equation}\n",
    "F = \\begin{bmatrix} \n",
    "0 &0 & 0 & 0 & 0 & 0\\\\  \n",
    "0 & 0 & 0 & 0 & 0 & 0\\\\\n",
    "0 &0 & 0 & 0 & 0 & 0\\\\\n",
    "0 &0 & 0 & \\lambda & 0 & 0\\\\\n",
    "0 &0 & 0 & 0 & \\mu & 0 \\\\\n",
    "0 &0 & 0 & 0 & 0 & 2 \\lambda\\\\\n",
    "\\end{bmatrix}, \\qquad \n",
    "G_1 = \\begin{bmatrix} \n",
    "0 & 0 & 0 & 0 & 0 & 0\\\\\n",
    "-\\frac{1}{\\lambda}& 0 & 0 & 0 & 0 & 0\\\\\n",
    "0 & 0 & 0 & \\frac{(2\\lambda - \\mu)c}{\\lambda \\mu} & 0 & 0\\\\\n",
    "1 & 0 & 0 & 0 & 0 & 0\\\\\n",
    "0 & 0 & 0 & -2c & 0 & 0\\\\\n",
    "0 & 0 & 0 & 2 & 0 & 0\\\\  \n",
    "\\end{bmatrix}\n",
    ", \\qquad \n",
    "G_2 = \\begin{bmatrix} \n",
    "0 & 0 & 0 & 0 & 0 & 0\\\\\n",
    "0 & 0 &  0 & 0 & 0 & 0\\\\\n",
    " -\\frac{1}{\\mu} & -\\frac{1}{\\mu} & 0 &  -\\frac{1}{\\lambda \\mu} & 0 & 0\\\\\n",
    "0 & 0 & 0 & 0 & 0 & 0\\\\\n",
    "1 & 1 & 0 & \\frac{1}{\\lambda} & 0 & 0\\\\\n",
    "0 & 0 & 0 & 0 & 0 & 0\\\\  \n",
    "\\end{bmatrix}\n",
    "\\end{equation}"
   ]
  },
  {
   "cell_type": "code",
   "execution_count": 1,
   "metadata": {},
   "outputs": [],
   "source": [
    "import numpy as np\n",
    "import sys\n",
    "sys.path.append('../../')"
   ]
  },
  {
   "cell_type": "markdown",
   "metadata": {},
   "source": [
    "# Define experiment parameters"
   ]
  },
  {
   "cell_type": "code",
   "execution_count": 2,
   "metadata": {},
   "outputs": [],
   "source": [
    "from core.dynamics import RoboticDynamics, ConfigurationDynamics\n",
    "\n",
    "class KoopPdOutput(ConfigurationDynamics):\n",
    "    def __init__(self, dynamics, xd, n, m):\n",
    "        ConfigurationDynamics.__init__(self, dynamics, 1)\n",
    "        self.xd = xd\n",
    "        self.n = n\n",
    "        self.m = m\n",
    "\n",
    "    def proportional(self, x, t):\n",
    "        q = x[:int(n/2)]\n",
    "        q_d = self.xd[:int(n/2)]\n",
    "\n",
    "        return  q - q_d\n",
    "\n",
    "    def derivative(self, x, t):\n",
    "        q_dot = x[int(n/2):]\n",
    "        q_dot_d = self.xd[int(n/2):]\n",
    "\n",
    "        return q_dot - q_dot_d\n",
    "\n",
    "class FiniteDimKoopSys(RoboticDynamics):\n",
    "    def __init__(self, lambd, mu, c):\n",
    "        RoboticDynamics.__init__(self, 2, 2)\n",
    "        self.params = lambd, mu, c\n",
    "    \n",
    "    def D(self, q):\n",
    "        return np.array([[1, 0],[0, (q[0]+1)**(-1)]])\n",
    "    \n",
    "    def C(self, q, q_dot):\n",
    "        labmd, mu, c = self.params\n",
    "        return -np.array([[lambd, 0], [(q[0]+1)**(-1)*(2*lambd - mu)*c*q_dot[0], (q[0]+1)**(-1)*mu]])\n",
    "    \n",
    "    def G(self, q):\n",
    "        return np.array([0, 0])\n",
    "    \n",
    "    def B(self, q):\n",
    "        return np.array([[1, 0], [0, 1]])\n",
    "\n",
    "n, m = 4, 2\n",
    "lambd, mu, c = .3, .2, -.5\n",
    "sys_name = 'bilinearizable_sys'\n",
    "system = FiniteDimKoopSys(lambd, mu, c)"
   ]
  },
  {
   "cell_type": "code",
   "execution_count": 3,
   "metadata": {},
   "outputs": [],
   "source": [
    "from koopman_core.dynamics import LinearLiftedDynamics\n",
    "\n",
    "A_lin = np.array([[0, 0, 1, 0],\n",
    "                  [0, 0, 0, 1],\n",
    "                  [0, 0, lambd, 0],\n",
    "                  [0, 0, 0, mu]])\n",
    "B_lin = np.array([[0, 0],\n",
    "                  [0, 0],\n",
    "                  [1, 0],\n",
    "                  [0, 1]])\n",
    "dt = 1e-2\n",
    "linearized_sys = LinearLiftedDynamics(A_lin, B_lin, np.eye(n), lambda x: x)"
   ]
  },
  {
   "cell_type": "markdown",
   "metadata": {},
   "source": [
    "# Collect data for learning "
   ]
  },
  {
   "cell_type": "code",
   "execution_count": 4,
   "metadata": {},
   "outputs": [],
   "source": [
    "import scipy as sc\n",
    "import os\n",
    "\n",
    "q_dc, r_dc = 5e2, 1                                                 # State and actuation penalty values, data collection\n",
    "Q_dc = q_dc * np.identity(n)                                        # State penalty matrix, data collection\n",
    "R_dc = r_dc*np.identity(m)                                          # Actuation penalty matrix, data collection\n",
    "P_dc = sc.linalg.solve_continuous_are(A_lin, B_lin, Q_dc, R_dc)     # Algebraic Ricatti equation solution, data collection\n",
    "K_dc = np.linalg.inv(R_dc)@B_lin.T@P_dc                             # LQR feedback gain matrix, data collection\n",
    "K_dc_p = K_dc[:,:int(n/2)]                                          # Proportional control gains, data collection\n",
    "K_dc_d = K_dc[:,int(n/2):]                                          # Derivative control gains, data collection\n",
    "\n",
    "# Data collection parameters:\n",
    "collect_data = False\n",
    "dt = 1.0e-2                                                         # Time step length\n",
    "traj_length_dc = 2.                                                 # Trajectory length, data collection\n",
    "n_pred_dc = int(traj_length_dc/dt)                                  # Number of time steps, data collection\n",
    "t_eval = dt * np.arange(n_pred_dc + 1)                              # Simulation time points\n",
    "n_traj_train = 100                                                      # Number of trajectories to execute, data collection\n",
    "n_traj_val = int(0.2*n_traj_train)\n",
    "noise_var = 5.                                                      # Exploration noise to perturb controller, data collection\n",
    "\n",
    "xmax = np.array([1., 1., 1., 1.])                                   # State constraints, trajectory generation\n",
    "xmin = -xmax\n",
    "umax = np.array([10., 10.])                                         # Actuation constraint, trajectory generation\n",
    "umin = -umax\n",
    "x0_max = xmax/2                                                     # Initial value limits\n",
    "sub_sample_rate = 1                                                 # Rate to subsample data for training\n",
    "model_fname = 'examples/'                                           # Path to save learned models\n",
    "n_cols = 10                                                         # Number of columns in training data plot\n",
    "directory = os.path.abspath(\"\")                                     # Path to save learned models"
   ]
  },
  {
   "cell_type": "code",
   "execution_count": 5,
   "metadata": {
    "scrolled": false
   },
   "outputs": [],
   "source": [
    "from koopman_core.util import run_experiment\n",
    "import dill\n",
    "\n",
    "if collect_data:\n",
    "    xs_train, us_train, t_train = run_experiment(system, n, n_traj_train, n_pred_dc, t_eval, x0_max, plot_experiment_data=True,\n",
    "                                      m=m, K_p=K_dc_p, K_d=K_dc_d, noise_var=noise_var)\n",
    "    xs_val, us_val, t_val = run_experiment(system, n, n_traj_val, n_pred_dc, t_eval, x0_max,\n",
    "                                      m=m, K_p=K_dc_p, K_d=K_dc_d, noise_var=noise_var)\n",
    "\n",
    "    data_list = [xs_train, us_train, t_train, n_traj_train, xs_val, us_val, t_val, n_traj_val]\n",
    "    outfile = open(directory + '/data/' + sys_name + '_data.pickle', 'wb')\n",
    "    dill.dump(data_list, outfile)\n",
    "    outfile.close()\n",
    "else:\n",
    "    infile = open(directory + '/data/' + sys_name + '_data.pickle', 'rb')\n",
    "    xs_train, us_train, t_train, n_traj_train, xs_val, us_val, t_val, n_traj_val = dill.load(infile)\n",
    "    infile.close()"
   ]
  },
  {
   "cell_type": "markdown",
   "metadata": {},
   "source": [
    "# Learn Koopman-based models of the dynamics"
   ]
  },
  {
   "cell_type": "markdown",
   "metadata": {},
   "source": [
    "### Learn bilinear EDMD model"
   ]
  },
  {
   "cell_type": "code",
   "execution_count": 6,
   "metadata": {},
   "outputs": [],
   "source": [
    "#Bilinear EDMD parameters:                                           \n",
    "alpha_bedmd = 2.4e-5  # Regularization strength (LASSO) bEDMD\n",
    "tune_mdl_bedmd = False"
   ]
  },
  {
   "cell_type": "code",
   "execution_count": 7,
   "metadata": {},
   "outputs": [],
   "source": [
    "from sklearn import preprocessing, linear_model\n",
    "from koopman_core.learning import BilinearEdmd\n",
    "from koopman_core.dynamics import BilinearLiftedDynamics\n",
    "\n",
    "bedmd_features = preprocessing.PolynomialFeatures(2)\n",
    "bedmd_features.fit(np.zeros((1,n)))\n",
    "n_lift_bedmd = bedmd_features.transform((np.zeros((1,n)))).shape[1]\n",
    "\n",
    "C_bedmd = np.zeros((n,n_lift_bedmd))\n",
    "C_bedmd[:,1:n+1] = np.eye(n)\n",
    "\n",
    "basis_bedmd = lambda x: bedmd_features.transform(x)\n",
    "optimizer_bedmd = linear_model.MultiTaskLasso(alpha=alpha_bedmd, fit_intercept=False, selection='random')\n",
    "cv_bedmd = linear_model.MultiTaskLassoCV(fit_intercept=False, n_jobs=-1, cv=3, selection='random')\n",
    "#standardizer_bedmd = preprocessing.StandardScaler(with_mean=False)\n",
    "standardizer_bedmd = None\n",
    "\n",
    "model_bedmd = BilinearEdmd(n, m, basis_bedmd, n_lift_bedmd, n_traj_train, optimizer_bedmd, cv=cv_bedmd, \n",
    "                           standardizer=standardizer_bedmd, C=C_bedmd, continuous_mdl=False, dt=dt)\n",
    "X_bedmd, y_bedmd = model_bedmd.process(xs_train, us_train, np.tile(t_train,(n_traj_train,1)), downsample_rate=sub_sample_rate)\n",
    "model_bedmd.fit(X_bedmd, y_bedmd, cv=tune_mdl_bedmd, override_kinematics=True)\n",
    "sys_bedmd = BilinearLiftedDynamics(model_bedmd.n_lift, m, model_bedmd.A, model_bedmd.B, model_bedmd.C, \n",
    "                                   model_bedmd.basis, continuous_mdl=False, dt=dt)\n",
    "if tune_mdl_bedmd:\n",
    "    print('$\\\\alpha$ bilinear EDMD: ', model_bedmd.cv.alpha_)"
   ]
  },
  {
   "cell_type": "markdown",
   "metadata": {},
   "source": [
    "### Learn Koopman DNN model"
   ]
  },
  {
   "cell_type": "code",
   "execution_count": 15,
   "metadata": {},
   "outputs": [
    {
     "name": "stdout",
     "output_type": "stream",
     "text": [
      "{'state_dim': 4, 'ctrl_dim': 2, 'encoder_hidden_width': 100, 'encoder_hidden_depth': 1, 'encoder_output_dim': 1, 'optimizer': 'adam', 'activation_type': 'relu', 'lr': 0.001, 'epochs': 200, 'batch_size': 128, 'lin_loss_penalty': 0.5, 'l2_reg': 0, 'l1_reg': 0, 'first_obs_const': True, 'override_kinematics': True, 'dt': 0.01}\n"
     ]
    }
   ],
   "source": [
    "import dill, os, torch\n",
    "\n",
    "load_tuned_params = False\n",
    "\n",
    "if load_tuned_params:\n",
    "    infile = open(os.path.abspath('') + '/data/analytic_koop_sys_best_params.pickle', 'rb')\n",
    "    best_config, val_loss, test_loss, open_loop_mse, open_loop_std = dill.load(infile)\n",
    "    infile.close()\n",
    "\n",
    "else:\n",
    "    net_params = {}\n",
    "    net_params['state_dim'] = n\n",
    "    net_params['ctrl_dim'] = m\n",
    "    net_params['encoder_hidden_width'] = 100\n",
    "    net_params['encoder_hidden_depth'] = 1\n",
    "    net_params['encoder_output_dim'] = 1\n",
    "    net_params['optimizer'] = 'adam'\n",
    "    net_params['activation_type'] = 'relu'\n",
    "    net_params['lr'] = 1e-3\n",
    "    net_params['epochs'] = 200\n",
    "    net_params['batch_size'] = 128\n",
    "    net_params['lin_loss_penalty'] = 0.5\n",
    "    net_params['l2_reg'] = 0\n",
    "    net_params['l1_reg'] = 0\n",
    "    net_params['first_obs_const'] = True\n",
    "    net_params['override_kinematics'] = True \n",
    "    net_params['dt'] = dt\n",
    "\n",
    "print(net_params)"
   ]
  },
  {
   "cell_type": "code",
   "execution_count": 16,
   "metadata": {
    "scrolled": false
   },
   "outputs": [
    {
     "name": "stdout",
     "output_type": "stream",
     "text": [
      "Epoch   1: train loss: 1081.67895508, validation loss: 1025.03004074\n",
      "Epoch   2: train loss: 891.66778564, validation loss: 637.02946663\n",
      "Epoch   3: train loss: 334.06256104, validation loss: 118.41963553\n",
      "Epoch   4: train loss: 67.36976624, validation loss: 42.28298742\n",
      "Epoch   5: train loss: 35.95782471, validation loss: 26.24120456\n",
      "Epoch   6: train loss: 24.61388397, validation loss: 18.48274127\n",
      "Epoch   7: train loss: 17.68042946, validation loss: 13.58769968\n",
      "Epoch   8: train loss: 13.12877560, validation loss: 10.34135608\n",
      "Epoch   9: train loss: 9.93009949, validation loss: 8.05514392\n",
      "Epoch  10: train loss: 7.72555780, validation loss: 6.35806976\n",
      "Epoch  11: train loss: 6.14961624, validation loss: 5.07613125\n",
      "Epoch  12: train loss: 4.98462534, validation loss: 3.96264053\n",
      "Epoch  13: train loss: 4.03681946, validation loss: 3.48145365\n",
      "Epoch  14: train loss: 3.32351542, validation loss: 2.73700100\n",
      "Epoch  15: train loss: 2.83493042, validation loss: 2.51807121\n",
      "Epoch  16: train loss: 2.39349079, validation loss: 2.27481398\n",
      "Epoch  17: train loss: 2.01539564, validation loss: 1.68791899\n",
      "Epoch  18: train loss: 1.68992591, validation loss: 1.51298738\n",
      "Epoch  19: train loss: 1.44495475, validation loss: 1.31185587\n",
      "Epoch  20: train loss: 1.22067022, validation loss: 1.17774140\n",
      "Epoch  21: train loss: 1.07079029, validation loss: 1.00599783\n",
      "Epoch  22: train loss: 0.92554116, validation loss: 0.88440674\n",
      "Epoch  23: train loss: 0.80872077, validation loss: 0.81990879\n",
      "Epoch  24: train loss: 0.72462296, validation loss: 0.71790982\n",
      "Epoch  25: train loss: 0.65195996, validation loss: 0.75314252\n",
      "Epoch  26: train loss: 0.58214986, validation loss: 0.61958009\n",
      "Epoch  27: train loss: 0.50439197, validation loss: 0.51490461\n",
      "Epoch  28: train loss: 0.46076393, validation loss: 0.50146635\n",
      "Epoch  29: train loss: 0.40101868, validation loss: 0.48444074\n",
      "Epoch  30: train loss: 0.35742167, validation loss: 0.38153916\n",
      "Epoch  31: train loss: 0.31437948, validation loss: 0.35590979\n",
      "Epoch  32: train loss: 0.27603593, validation loss: 0.31682221\n",
      "Epoch  33: train loss: 0.24420130, validation loss: 0.34449657\n",
      "Epoch  34: train loss: 0.21840575, validation loss: 0.28439877\n",
      "Epoch  35: train loss: 0.19377062, validation loss: 0.28148748\n",
      "Epoch  36: train loss: 0.17792299, validation loss: 0.27767360\n",
      "Epoch  37: train loss: 0.16103542, validation loss: 0.22575923\n",
      "Epoch  38: train loss: 0.14897771, validation loss: 0.22344837\n",
      "Epoch  39: train loss: 0.13161409, validation loss: 0.22856324\n",
      "Epoch  40: train loss: 0.11567736, validation loss: 0.21348577\n",
      "Epoch  41: train loss: 0.11030623, validation loss: 0.18737909\n",
      "Epoch  42: train loss: 0.09376349, validation loss: 0.17455272\n",
      "Epoch  43: train loss: 0.09185365, validation loss: 0.16821914\n",
      "Epoch  44: train loss: 0.08325858, validation loss: 0.18325911\n",
      "Epoch  45: train loss: 0.06881580, validation loss: 0.16477267\n",
      "Epoch  46: train loss: 0.06490973, validation loss: 0.14531455\n",
      "Epoch  47: train loss: 0.05708531, validation loss: 0.17543447\n",
      "Epoch  48: train loss: 0.05305471, validation loss: 0.15015529\n",
      "Epoch  49: train loss: 0.04433840, validation loss: 0.13947465\n",
      "Epoch  50: train loss: 0.04420192, validation loss: 0.15420455\n",
      "Epoch  51: train loss: 0.04718355, validation loss: 0.13377589\n",
      "Epoch  52: train loss: 0.04858813, validation loss: 0.14349200\n",
      "Epoch  53: train loss: 0.04325917, validation loss: 0.11081182\n",
      "Epoch  54: train loss: 0.04534678, validation loss: 0.16587018\n",
      "Epoch  55: train loss: 0.03671848, validation loss: 0.11956255\n",
      "Epoch  56: train loss: 0.03624797, validation loss: 0.11139733\n",
      "Epoch  57: train loss: 0.03308010, validation loss: 0.13362703\n",
      "Epoch  58: train loss: 0.02916725, validation loss: 0.12440065\n",
      "Epoch  59: train loss: 0.02377648, validation loss: 0.10651807\n",
      "Epoch  60: train loss: 0.02235052, validation loss: 0.11150021\n",
      "Epoch  61: train loss: 0.02635690, validation loss: 0.09270945\n",
      "Epoch  62: train loss: 0.02255299, validation loss: 0.10784050\n",
      "Epoch  63: train loss: 0.02378918, validation loss: 0.08858801\n",
      "Epoch  64: train loss: 0.02031738, validation loss: 0.08563108\n",
      "Epoch  65: train loss: 0.01972462, validation loss: 0.07883276\n",
      "Epoch  66: train loss: 0.01796708, validation loss: 0.08303391\n",
      "Epoch  67: train loss: 0.02151230, validation loss: 0.09382400\n",
      "Epoch  68: train loss: 0.01735023, validation loss: 0.11404367\n",
      "Epoch  69: train loss: 0.02343883, validation loss: 0.08004149\n",
      "Epoch  70: train loss: 0.01797401, validation loss: 0.10968596\n",
      "Epoch  71: train loss: 0.01827148, validation loss: 0.05978473\n",
      "Epoch  72: train loss: 0.01682347, validation loss: 0.06297724\n",
      "Epoch  73: train loss: 0.01544990, validation loss: 0.14405348\n",
      "Epoch  74: train loss: 0.01528393, validation loss: 0.07260216\n",
      "Epoch  75: train loss: 0.01463190, validation loss: 0.10017502\n",
      "Epoch  76: train loss: 0.01862279, validation loss: 0.07904983\n",
      "Epoch  77: train loss: 0.01262468, validation loss: 0.05594197\n",
      "Epoch  78: train loss: 0.01213506, validation loss: 0.09126718\n",
      "Epoch  79: train loss: 0.01831259, validation loss: 0.05283225\n",
      "Epoch  80: train loss: 0.01306016, validation loss: 0.11940191\n",
      "Epoch  81: train loss: 0.01025043, validation loss: 0.04939582\n",
      "Epoch  82: train loss: 0.00981377, validation loss: 0.06807616\n",
      "Epoch  83: train loss: 0.01018290, validation loss: 0.06571577\n",
      "Epoch  84: train loss: 0.01019744, validation loss: 0.05737878\n",
      "Epoch  85: train loss: 0.01411927, validation loss: 0.06863939\n",
      "Epoch  86: train loss: 0.01358585, validation loss: 0.05976512\n",
      "Epoch  87: train loss: 0.01044453, validation loss: 0.06086907\n",
      "Epoch  88: train loss: 0.01029677, validation loss: 0.07691672\n",
      "Epoch  89: train loss: 0.01415500, validation loss: 0.04710569\n",
      "Epoch  90: train loss: 0.00922713, validation loss: 0.04318389\n",
      "Epoch  91: train loss: 0.00682730, validation loss: 0.05078777\n",
      "Epoch  92: train loss: 0.00818746, validation loss: 0.11474153\n",
      "Epoch  93: train loss: 0.01394309, validation loss: 0.04275022\n",
      "Epoch  94: train loss: 0.01418207, validation loss: 0.04955942\n",
      "Epoch  95: train loss: 0.00874933, validation loss: 0.05163715\n",
      "Epoch  96: train loss: 0.00715289, validation loss: 0.04148050\n",
      "Epoch  97: train loss: 0.00984129, validation loss: 0.04792308\n",
      "Epoch  98: train loss: 0.01066101, validation loss: 0.04271211\n",
      "Epoch  99: train loss: 0.00986448, validation loss: 0.03678544\n",
      "Epoch 100: train loss: 0.01042168, validation loss: 0.14182910\n",
      "Epoch 101: train loss: 0.01588443, validation loss: 0.03632103\n",
      "Epoch 102: train loss: 0.00924829, validation loss: 0.05198339\n",
      "Epoch 103: train loss: 0.00660614, validation loss: 0.05562759\n",
      "Epoch 104: train loss: 0.00716377, validation loss: 0.08391881\n",
      "Epoch 105: train loss: 0.01045880, validation loss: 0.05051250\n",
      "Epoch 106: train loss: 0.00869073, validation loss: 0.04396842\n",
      "Epoch 107: train loss: 0.00504783, validation loss: 0.04111784\n",
      "Epoch 108: train loss: 0.02054529, validation loss: 0.04555336\n",
      "Epoch 109: train loss: 0.01619200, validation loss: 0.04453013\n",
      "Epoch 110: train loss: 0.00690421, validation loss: 0.03260092\n",
      "Epoch 111: train loss: 0.01038039, validation loss: 0.03668545\n",
      "Epoch 112: train loss: 0.00908213, validation loss: 0.03596172\n",
      "Epoch 113: train loss: 0.00682383, validation loss: 0.03566638\n",
      "Epoch 114: train loss: 0.00767964, validation loss: 0.03086494\n",
      "Epoch 115: train loss: 0.00514901, validation loss: 0.03891566\n",
      "Epoch 116: train loss: 0.00411289, validation loss: 0.02698992\n",
      "Epoch 117: train loss: 0.00353113, validation loss: 0.03176399\n",
      "Epoch 118: train loss: 0.00527973, validation loss: 0.11859182\n",
      "Epoch 119: train loss: 0.01191055, validation loss: 0.02964935\n",
      "Epoch 120: train loss: 0.00718619, validation loss: 0.03338869\n",
      "Epoch 121: train loss: 0.00585190, validation loss: 0.07233018\n",
      "Epoch 122: train loss: 0.00605481, validation loss: 0.02843494\n",
      "Epoch 123: train loss: 0.00578750, validation loss: 0.03572506\n",
      "Epoch 124: train loss: 0.00478520, validation loss: 0.03698457\n",
      "Epoch 125: train loss: 0.00680470, validation loss: 0.02463160\n",
      "Epoch 126: train loss: 0.01435020, validation loss: 0.07353715\n",
      "Epoch 127: train loss: 0.00646820, validation loss: 0.02945224\n",
      "Epoch 128: train loss: 0.00337296, validation loss: 0.02376418\n",
      "Epoch 129: train loss: 0.00387708, validation loss: 0.02730215\n",
      "Epoch 130: train loss: 0.00510537, validation loss: 0.03677083\n"
     ]
    },
    {
     "name": "stdout",
     "output_type": "stream",
     "text": [
      "Epoch 131: train loss: 0.00406863, validation loss: 0.02774077\n",
      "Epoch 132: train loss: 0.00286000, validation loss: 0.03133065\n",
      "Epoch 133: train loss: 0.00262257, validation loss: 0.05122401\n",
      "Epoch 134: train loss: 0.00534373, validation loss: 0.03375771\n",
      "Epoch 135: train loss: 0.00332426, validation loss: 0.03084630\n",
      "Epoch 136: train loss: 0.00476727, validation loss: 0.02845553\n",
      "Epoch 137: train loss: 0.01007883, validation loss: 0.03900323\n",
      "Epoch 138: train loss: 0.00991165, validation loss: 0.04751260\n",
      "Epoch 139: train loss: 0.00799255, validation loss: 0.02979318\n",
      "Epoch 140: train loss: 0.00337013, validation loss: 0.02920086\n",
      "Epoch 141: train loss: 0.00426937, validation loss: 0.02656908\n",
      "Epoch 142: train loss: 0.00365162, validation loss: 0.02718810\n",
      "Epoch 143: train loss: 0.00448784, validation loss: 0.03899463\n",
      "Epoch 144: train loss: 0.01257995, validation loss: 0.05020346\n",
      "Epoch 145: train loss: 0.01289649, validation loss: 0.03039972\n",
      "Epoch 146: train loss: 0.00848535, validation loss: 0.02555822\n",
      "Epoch 147: train loss: 0.00404159, validation loss: 0.02223726\n",
      "Epoch 148: train loss: 0.00576338, validation loss: 0.02626136\n",
      "Epoch 149: train loss: 0.00394378, validation loss: 0.02968537\n",
      "Epoch 150: train loss: 0.00331399, validation loss: 0.03697007\n",
      "Epoch 151: train loss: 0.00570434, validation loss: 0.01719712\n",
      "Epoch 152: train loss: 0.00452409, validation loss: 0.02953785\n",
      "Epoch 153: train loss: 0.00434317, validation loss: 0.03106641\n",
      "Epoch 154: train loss: 0.00451965, validation loss: 0.02313253\n",
      "Epoch 155: train loss: 0.00236959, validation loss: 0.02468171\n",
      "Epoch 156: train loss: 0.00293812, validation loss: 0.03168031\n",
      "Epoch 157: train loss: 0.00587871, validation loss: 0.02411861\n",
      "Epoch 158: train loss: 0.00296161, validation loss: 0.03124134\n",
      "Epoch 159: train loss: 0.00756704, validation loss: 0.04793761\n",
      "Epoch 160: train loss: 0.00966037, validation loss: 0.02321958\n",
      "Epoch 161: train loss: 0.00598022, validation loss: 0.03093275\n",
      "Epoch 162: train loss: 0.00621334, validation loss: 0.02299321\n",
      "Epoch 163: train loss: 0.00577394, validation loss: 0.02445300\n",
      "Epoch 164: train loss: 0.00288305, validation loss: 0.02318053\n",
      "Epoch 165: train loss: 0.00262385, validation loss: 0.02008660\n",
      "Epoch 166: train loss: 0.00265228, validation loss: 0.02771910\n",
      "Epoch 167: train loss: 0.00368281, validation loss: 0.03247832\n",
      "Epoch 168: train loss: 0.00491701, validation loss: 0.02628525\n",
      "Epoch 169: train loss: 0.00375518, validation loss: 0.01788957\n",
      "Epoch 170: train loss: 0.01184295, validation loss: 0.01898430\n",
      "Epoch 171: train loss: 0.00289716, validation loss: 0.01868453\n",
      "Epoch 172: train loss: 0.00289118, validation loss: 0.02427981\n",
      "Epoch 173: train loss: 0.00410321, validation loss: 0.02416378\n",
      "Epoch 174: train loss: 0.00177201, validation loss: 0.02039671\n",
      "Epoch 175: train loss: 0.00164639, validation loss: 0.02046064\n",
      "Epoch 176: train loss: 0.00232012, validation loss: 0.02623486\n",
      "Epoch 177: train loss: 0.00393299, validation loss: 0.02425881\n",
      "Epoch 178: train loss: 0.01078635, validation loss: 0.03575472\n",
      "Epoch 179: train loss: 0.01829155, validation loss: 0.02919369\n",
      "Epoch 180: train loss: 0.00496144, validation loss: 0.02450796\n",
      "Epoch 181: train loss: 0.00183117, validation loss: 0.01958847\n",
      "Epoch 182: train loss: 0.00201957, validation loss: 0.02070404\n",
      "Epoch 183: train loss: 0.00196287, validation loss: 0.02144522\n",
      "Epoch 184: train loss: 0.00572393, validation loss: 0.02277817\n",
      "Epoch 185: train loss: 0.00580822, validation loss: 0.02716313\n",
      "Epoch 186: train loss: 0.00870315, validation loss: 0.02581784\n",
      "Epoch 187: train loss: 0.00282634, validation loss: 0.02564446\n",
      "Epoch 188: train loss: 0.00306874, validation loss: 0.01843581\n",
      "Epoch 189: train loss: 0.00229254, validation loss: 0.02412047\n",
      "Epoch 190: train loss: 0.00290908, validation loss: 0.02311820\n",
      "Epoch 191: train loss: 0.00220380, validation loss: 0.02264939\n",
      "Epoch 192: train loss: 0.00289639, validation loss: 0.02040678\n",
      "Epoch 193: train loss: 0.00440739, validation loss: 0.02330074\n",
      "Epoch 194: train loss: 0.00680992, validation loss: 0.02581913\n",
      "Epoch 195: train loss: 0.00678690, validation loss: 0.05238299\n",
      "Epoch 196: train loss: 0.00886183, validation loss: 0.01772743\n",
      "Epoch 197: train loss: 0.00606130, validation loss: 0.02278686\n",
      "Epoch 198: train loss: 0.00197268, validation loss: 0.02532334\n",
      "Epoch 199: train loss: 0.00204893, validation loss: 0.02498956\n",
      "Epoch 200: train loss: 0.00340177, validation loss: 0.02462065\n",
      "Finished Training\n"
     ]
    }
   ],
   "source": [
    "from koopman_core.learning import KoopDnn, KoopmanNetCtrl\n",
    "\n",
    "#standardizer_x_kdnn = preprocessing.StandardScaler(with_mean=False)\n",
    "standardizer_x_kdnn = preprocessing.StandardScaler()\n",
    "standardizer_u_kdnn = preprocessing.StandardScaler()\n",
    "n_tot = n + net_params['encoder_output_dim'] + int(net_params['first_obs_const'])\n",
    "\n",
    "net = KoopmanNetCtrl(net_params, standardizer_x=standardizer_x_kdnn, standardizer_u=standardizer_u_kdnn)\n",
    "model_koop_dnn = KoopDnn(net)\n",
    "model_koop_dnn.set_datasets(xs_train, t_train, u_train=us_train, x_val=xs_val, u_val=us_val, t_val=t_val)\n",
    "model_koop_dnn.model_pipeline(net_params)\n",
    "model_koop_dnn.construct_koopman_model()\n",
    "sys_koop_dnn = BilinearLiftedDynamics(n_tot, m, model_koop_dnn.A, model_koop_dnn.B, model_koop_dnn.C, \n",
    "                                      model_koop_dnn.basis_encode, continuous_mdl=False, dt=dt, \n",
    "                                      standardizer_x=standardizer_x_kdnn, standardizer_u=standardizer_u_kdnn)"
   ]
  },
  {
   "cell_type": "markdown",
   "metadata": {},
   "source": [
    "# Evaluate open-loop prediction performance"
   ]
  },
  {
   "cell_type": "code",
   "execution_count": 17,
   "metadata": {},
   "outputs": [],
   "source": [
    "# Prediction performance evaluation parameters:\n",
    "folder_plots = 'figures/'                                          # Path to save plots\n",
    "n_traj_ol = 50                                                     # Number of trajectories to execute, open loop"
   ]
  },
  {
   "cell_type": "code",
   "execution_count": 18,
   "metadata": {},
   "outputs": [
    {
     "name": "stdout",
     "output_type": "stream",
     "text": [
      "\n",
      "Open loop performance statistics:\n",
      "            Mean squared error    Standard deviation\n",
      "--------  --------------------  --------------------\n",
      "Koop DNN               3e-05                 0.00486\n",
      "bEDMD                  0.00015               0.01205\n"
     ]
    },
    {
     "data": {
      "text/plain": [
       "<Figure size 864x432 with 0 Axes>"
      ]
     },
     "metadata": {},
     "output_type": "display_data"
    }
   ],
   "source": [
    "from koopman_core.util import evaluate_ol_pred\n",
    "from tabulate import tabulate\n",
    "import random as rand\n",
    "\n",
    "xs_ol, us_ol, t_ol = run_experiment(system, n, n_traj_ol, n_pred_dc, t_eval, x0_max,\n",
    "                                      m=m, K_p=K_dc_p, K_d=K_dc_d, noise_var=noise_var)\n",
    "\n",
    "mdl_lst = [sys_koop_dnn, sys_bedmd]\n",
    "mdl_names = ['Koop DNN', 'bEDMD']\n",
    "error, mse, std = [], [], []\n",
    "\n",
    "for sys in mdl_lst:\n",
    "    err_tmp, mse_tmp, std_tmp = evaluate_ol_pred(sys, xs_ol, t_eval, us=us_ol)\n",
    "    error.append(err_tmp)\n",
    "    mse.append(mse_tmp)\n",
    "    std.append(std_tmp)\n",
    "    \n",
    "print('\\nOpen loop performance statistics:')\n",
    "table_data = []\n",
    "for name, mse_mdl, std_mdl in zip(mdl_names, mse, std):\n",
    "    table_data.append([name, \"{:.5f}\".format(mse_mdl), \"{:.5f}\".format(std_mdl)])\n",
    "\n",
    "print(tabulate(table_data, \n",
    "               headers=['Mean squared error', 'Standard deviation']))"
   ]
  },
  {
   "cell_type": "code",
   "execution_count": 19,
   "metadata": {},
   "outputs": [
    {
     "data": {
      "image/png": "[encoded data removed]",
      "text/plain": [
       "<Figure size 864x288 with 4 Axes>"
      ]
     },
     "metadata": {
      "needs_background": "light"
     },
     "output_type": "display_data"
    }
   ],
   "source": [
    "import matplotlib.pyplot as plt\n",
    "import matplotlib\n",
    "\n",
    "figwidth = 12\n",
    "lw = 2\n",
    "fs = 14\n",
    "y_lim_gain = 1.2\n",
    "row = 2\n",
    "col = n/row\n",
    "\n",
    "#Plot open loop results:\n",
    "plt.figure(figsize=(figwidth,4))\n",
    "axs = [plt.subplot(row,col,jj+1) for jj in range(n)]\n",
    "\n",
    "for ii, err in enumerate(error):\n",
    "    err_mean = np.mean(err, axis=0)\n",
    "    err_std = np.std(err, axis=0)\n",
    "    \n",
    "    for jj in range(n):\n",
    "        axs[jj].plot(t_eval[1:], err_mean[:,jj], label=mdl_names[ii])\n",
    "        axs[jj].fill_between(t_eval[1:], err_mean[:,jj]-err_std[:,jj], err_mean[:,jj]+err_std[:,jj], alpha=0.1)\n",
    "\n",
    "for jj in range(n):\n",
    "    axs[jj].grid()\n",
    "    axs[jj].set_xlabel('Time (sec)', fontsize=fs)\n",
    "    axs[jj].set_ylabel('$x_'+ str(jj+1) + '$', fontsize=fs)\n",
    "\n",
    "plt.legend(frameon=False, fontsize=fs)\n",
    "stitle=plt.suptitle('Open loop prediction performance of learned models', fontsize=fs+2)\n",
    "matplotlib.rcParams['pdf.fonttype'] = 42\n",
    "matplotlib.rcParams['ps.fonttype'] = 42\n",
    "plt.savefig(folder_plots + 'koop_sys_prediction.pdf', format='pdf', dpi=2400, bbox_extra_artists=(stitle,), bbox_inches=\"tight\")\n",
    "plt.show()"
   ]
  },
  {
   "cell_type": "code",
   "execution_count": 13,
   "metadata": {},
   "outputs": [
    {
     "name": "stdout",
     "output_type": "stream",
     "text": [
      "[0.0223093  0.00944786]\n",
      "[5.44863724 5.43992453]\n",
      "[ 0.01007821 -0.00539606 -0.01089513  0.00437488]\n",
      "[0.14561805 0.16455691 0.16175582 0.17373891]\n"
     ]
    }
   ],
   "source": [
    "print(standardizer_u_kdnn.mean_)\n",
    "print(standardizer_u_kdnn.scale_)\n",
    "print(standardizer_x_kdnn.mean_)\n",
    "print(standardizer_x_kdnn.scale_)"
   ]
  },
  {
   "cell_type": "code",
   "execution_count": null,
   "metadata": {},
   "outputs": [],
   "source": []
  }
 ],
 "metadata": {
  "kernelspec": {
   "display_name": "keedmd",
   "language": "python",
   "name": "keedmd"
  },
  "language_info": {
   "codemirror_mode": {
    "name": "ipython",
    "version": 3
   },
   "file_extension": ".py",
   "mimetype": "text/x-python",
   "name": "python",
   "nbconvert_exporter": "python",
   "pygments_lexer": "ipython3",
   "version": "3.7.6"
  }
 },
 "nbformat": 4,
 "nbformat_minor": 4
}
