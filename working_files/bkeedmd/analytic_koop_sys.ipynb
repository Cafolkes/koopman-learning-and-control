{
 "cells": [
  {
   "cell_type": "code",
   "execution_count": 1,
   "metadata": {},
   "outputs": [],
   "source": [
    "import sys\n",
    "sys.path.append('../../')\n",
    "\n",
    "import numpy as np\n",
    "import scipy as sc\n",
    "import random as rand\n",
    "from sklearn import preprocessing, linear_model\n",
    "import matplotlib.pyplot as plt\n",
    "\n",
    "from core.controllers import ConstantController\n",
    "\n",
    "from koopman_core.dynamics import LinearLiftedDynamics, BilinearLiftedDynamics\n",
    "from koopman_core.learning import Edmd_aut, KoopDnn\n",
    "from koopman_core.systems import AutKoopSys"
   ]
  },
  {
   "cell_type": "markdown",
   "metadata": {
    "pycharm": {
     "name": "#%% md\n"
    }
   },
   "source": [
    "## Autonomous system with analytic finite dimensional Koopman operator"
   ]
  },
  {
   "cell_type": "markdown",
   "metadata": {},
   "source": [
    "Consider the continuous-time dynamics\n",
    "\n",
    "\\begin{equation}\n",
    "    \\begin{bmatrix} \\dot{x}_1 \\\\ \\dot{x}_2 \\end{bmatrix}\n",
    "    = \\begin{bmatrix}\n",
    "    \\mu x_1\\\\\n",
    "    -\\lambda x_1^2 + \\lambda x_2\n",
    "    \\end{bmatrix}\n",
    "\\end{equation}\n",
    "by carefully choosing observables, the drift vector field of the dynamics can be reformulated as an equilvalent linear system (global linearization). Define the observables\n",
    "\n",
    "\\begin{equation}\n",
    "\\begin{bmatrix}\n",
    "y_1 \\\\ y_2 \\\\ y_3\n",
    "\\end{bmatrix}\n",
    "= \\begin{bmatrix}\n",
    "x_1 \\\\ x_2 \\\\ x_1^2\n",
    "\\end{bmatrix}\n",
    "\\end{equation}\n",
    "\n",
    "then the system can be rewritten as\n",
    "\n",
    "\\begin{equation}\n",
    "\\begin{bmatrix}\n",
    "\\dot{y}_1 \\\\ \\dot{y}_2 \\\\ \\dot{y}_3 \\end{bmatrix} = \n",
    "\\begin{bmatrix}\n",
    "\\mu & 0 & 0\\\\\n",
    "0 & \\lambda & - \\lambda \\\\\n",
    "0 & 0 & \\mu \\end{bmatrix}\n",
    "\\begin{bmatrix}\n",
    "y_1 \\\\ y_2 \\\\ y_3 \\end{bmatrix}\n",
    "\\end{equation}\n",
    "\n",
    "\n"
   ]
  },
  {
   "cell_type": "code",
   "execution_count": 2,
   "metadata": {
    "pycharm": {
     "name": "#%%\n"
    }
   },
   "outputs": [],
   "source": [
    "# System parameters\n",
    "n, m = 2, 0\n",
    "mu, lambd = -0.3, -0.6\n",
    "koop_sys = AutKoopSys(mu, lambd)"
   ]
  },
  {
   "cell_type": "markdown",
   "metadata": {
    "pycharm": {
     "name": "#%% md\n"
    }
   },
   "source": [
    "### Collect data for learning"
   ]
  },
  {
   "cell_type": "markdown",
   "metadata": {
    "pycharm": {
     "name": "#%% md\n"
    }
   },
   "source": [
    "To collect data, a nominal controller is designed with LQR on the dynamics's linearization around hover. However, any\n",
    "controller can be used and the method does not require the knowledge of model's linearization. In addition, a\n",
    "exploratory white noise is added to the controller to ensure that the data is sufficiently excited. Note that the system\n",
    "is underactuated and that trajectory optimization is necessary to control the position of the vehicle. We use a\n",
    "simplified trajectory generator based on a model predictive controller for the linearized dynamics. More careful design\n",
    "of the desired trajectory may be necessary for more demanding applications and this is readily compatible with our method.\n",
    "\n",
    "4 data sets are collected to evaluate the impact of signal and process noise:\n",
    "- Nominal data set (no signal or process noise)\n",
    "- Data set with signal noise\n",
    "- Data set with process noise\n",
    "- Data set with signal and process noise"
   ]
  },
  {
   "cell_type": "code",
   "execution_count": 3,
   "metadata": {
    "pycharm": {
     "name": "#%%\n"
    }
   },
   "outputs": [],
   "source": [
    "# Data collection parameters:\n",
    "dt = 5.0e-2                                                         # Time step length\n",
    "traj_length_dc = 8.                                                 # Trajectory length, data collection\n",
    "n_pred_dc = int(traj_length_dc/dt)                                  # Number of time steps, data collection\n",
    "t_eval = dt * np.arange(n_pred_dc + 1)                              # Simulation time points\n",
    "n_traj_dc = 10                                                     # Number of trajectories to execute, data collection\n",
    "\n",
    "xmax = np.array([1, 1])                                             # State constraints, trajectory generation\n",
    "xmin = -xmax\n",
    "x0_max = xmax                                                       # Initial value limits\n",
    "sub_sample_rate = 1                                                 # Rate to subsample data for training\n",
    "n_cols = 10                                                         # Number of columns in training data plot\n",
    "folder_plots = 'figures/'                              # Path to save plots"
   ]
  },
  {
   "cell_type": "code",
   "execution_count": 4,
   "metadata": {
    "pycharm": {
     "name": "#%%\n"
    },
    "scrolled": true
   },
   "outputs": [
    {
     "data": {
      "image/png": "[encoded data removed]",
      "text/plain": [
       "<Figure size 864x86.4 with 10 Axes>"
      ]
     },
     "metadata": {
      "needs_background": "light"
     },
     "output_type": "display_data"
    }
   ],
   "source": [
    "xs = np.empty((n_traj_dc, n_pred_dc + 1, n))\n",
    "ctrl = ConstantController(koop_sys, 0.)\n",
    "\n",
    "plt.figure(figsize=(12, 12 * n_traj_dc / (n_cols ** 2)))\n",
    "for ii in range(n_traj_dc):\n",
    "    x0 = np.asarray([rand.uniform(l, u) for l, u in zip(-x0_max, x0_max)])\n",
    "    xs[ii, :, :], _ = koop_sys.simulate(x0, ctrl, t_eval)\n",
    "    \n",
    "    plt.subplot(int(np.ceil(n_traj_dc / n_cols)), n_cols, ii + 1)\n",
    "    plt.plot(xs[ii, :, 0], xs[ii, :, 1])\n",
    "    plt.scatter(0,0,color='g')\n",
    "    plt.scatter(x0[0],x0[1],color='tab:orange')\n",
    "\n",
    "plt.suptitle('Nominal training data (no signal or process noise)')\n",
    "plt.show()"
   ]
  },
  {
   "cell_type": "markdown",
   "metadata": {},
   "source": [
    "### Learn a lifted linear model with Koopman DNN"
   ]
  },
  {
   "cell_type": "code",
   "execution_count": 5,
   "metadata": {},
   "outputs": [],
   "source": [
    "net_params = {}\n",
    "net_params['state_dim'] = n\n",
    "net_params['encoder_hidden_dim'] = [10, 10]\n",
    "net_params['encoder_output_dim'] = 4\n",
    "net_params['optimizer'] = 'adam'\n",
    "net_params['lr'] = 0.001\n",
    "#net_params['momentum'] = 0.9\n",
    "net_params['epochs'] = 20\n",
    "net_params['batch_size'] = 16\n",
    "net_params['lin_loss_penalty'] = 5e-1/net_params['encoder_output_dim']\n",
    "net_params['l2_reg'] = 0\n",
    "net_params['l1_reg'] = 0\n",
    "net_params['n_multistep'] = 10\n",
    "net_params['first_obs_const'] = False\n",
    "net_params['override_kinematics'] = False\n",
    "net_params['dt'] = dt"
   ]
  },
  {
   "cell_type": "code",
   "execution_count": 6,
   "metadata": {
    "scrolled": true
   },
   "outputs": [
    {
     "name": "stdout",
     "output_type": "stream",
     "text": [
      "Epoch   1: train loss: 0.00339833, validation loss: 0.00188842\n",
      "Epoch   2: train loss: 0.00100321, validation loss: 0.00068394\n",
      "Epoch   3: train loss: 0.00038683, validation loss: 0.00030136\n",
      "Epoch   4: train loss: 0.00017454, validation loss: 0.00014974\n",
      "Epoch   5: train loss: 0.00009057, validation loss: 0.00008448\n",
      "Epoch   6: train loss: 0.00005151, validation loss: 0.00005390\n",
      "Epoch   7: train loss: 0.00003517, validation loss: 0.00003953\n",
      "Epoch   8: train loss: 0.00002743, validation loss: 0.00003190\n",
      "Epoch   9: train loss: 0.00002374, validation loss: 0.00002820\n",
      "Epoch  10: train loss: 0.00002179, validation loss: 0.00002621\n",
      "Epoch  11: train loss: 0.00002058, validation loss: 0.00002395\n",
      "Epoch  12: train loss: 0.00001954, validation loss: 0.00002281\n",
      "Epoch  13: train loss: 0.00001860, validation loss: 0.00002150\n",
      "Epoch  14: train loss: 0.00001733, validation loss: 0.00001956\n",
      "Epoch  15: train loss: 0.00001524, validation loss: 0.00001638\n",
      "Epoch  16: train loss: 0.00001237, validation loss: 0.00001240\n",
      "Epoch  17: train loss: 0.00000928, validation loss: 0.00000915\n",
      "Epoch  18: train loss: 0.00000578, validation loss: 0.00000500\n",
      "Epoch  19: train loss: 0.00000331, validation loss: 0.00000307\n",
      "Epoch  20: train loss: 0.00000224, validation loss: 0.00000243\n",
      "Finished Training\n"
     ]
    }
   ],
   "source": [
    "from koopman_core.learning import KoopmanNetAut\n",
    "\n",
    "net = KoopmanNetAut(net_params)\n",
    "model_koop_dnn = KoopDnn(net)\n",
    "model_koop_dnn.set_datasets(xs, t_eval)\n",
    "model_koop_dnn.model_pipeline(net_params, early_stop=True)\n",
    "model_koop_dnn.construct_koopman_model()\n",
    "sys_koop_dnn = LinearLiftedDynamics(model_koop_dnn.A, None, model_koop_dnn.C, model_koop_dnn.basis_encode, continuous_mdl=False, dt=dt)"
   ]
  },
  {
   "cell_type": "markdown",
   "metadata": {},
   "source": [
    "### Learn a linear model with dynamic mode decomposition (DMD)"
   ]
  },
  {
   "cell_type": "markdown",
   "metadata": {},
   "source": [
    "To compare our method with existing techniques, we first learn a linear state space model from data. This is dubbed dynamic mode decomposition. I.e. we use linear regression with LASSO regularization to learn an approximate linear model with model structure\n",
    "\n",
    "\\begin{equation}\n",
    "    \\mathbf{x}_{k+1} = A_{dmd} \\mathbf{x}_k\n",
    "\\end{equation}\n"
   ]
  },
  {
   "cell_type": "code",
   "execution_count": 7,
   "metadata": {},
   "outputs": [],
   "source": [
    "#DMD parameters:\n",
    "alpha_dmd = 5.4e-4\n",
    "tune_mdl_dmd = True"
   ]
  },
  {
   "cell_type": "code",
   "execution_count": 8,
   "metadata": {},
   "outputs": [
    {
     "name": "stdout",
     "output_type": "stream",
     "text": [
      "$\\alpha$ DMD:  6.057282152999062e-06\n"
     ]
    }
   ],
   "source": [
    "basis = lambda x: x\n",
    "C_dmd = np.eye(n)\n",
    "\n",
    "cv_dmd = linear_model.MultiTaskLassoCV(fit_intercept=False, n_jobs=-1, cv=3, selection='random')\n",
    "standardizer_dmd = preprocessing.StandardScaler(with_mean=False)\n",
    "\n",
    "optimizer_dmd = linear_model.MultiTaskLasso(alpha=alpha_dmd, fit_intercept=False, selection='random')\n",
    "model_dmd = Edmd_aut(n, basis, n, n_traj_dc, optimizer_dmd, cv=cv_dmd, standardizer=standardizer_dmd, C=C_dmd, first_obs_const=False, continuous_mdl=False, dt=dt)\n",
    "X_dmd, y_dmd = model_dmd.process(xs, np.tile(t_eval,(n_traj_dc,1)), downsample_rate=sub_sample_rate)\n",
    "model_dmd.fit(X_dmd, y_dmd, cv=tune_mdl_dmd)\n",
    "sys_dmd = LinearLiftedDynamics(model_dmd.A, None, model_dmd.C, model_dmd.basis, continuous_mdl=False, dt=dt)\n",
    "if tune_mdl_dmd:\n",
    "    print('$\\\\alpha$ DMD: ',model_dmd.cv.alpha_)"
   ]
  },
  {
   "cell_type": "markdown",
   "metadata": {
    "pycharm": {
     "name": "#%% md\n"
    }
   },
   "source": [
    "### Learn a lifted linear model with extended dynamic mode decomposition (EDMD)"
   ]
  },
  {
   "cell_type": "markdown",
   "metadata": {
    "pycharm": {
     "name": "#%% md\n"
    }
   },
   "source": [
    "In addition, we compare our method with the current state of the art of Koopman based learning, the extended dynamic mode\n",
    "decomposition. We use a dictionary of nonlinear functions $\\boldsymbol{\\phi(x)}$ to lift the state variables and learn a lifted state space model\n",
    "of the dynamics. I.e. we first lift and then use linear regression with LASSO regularization to learn an approximate\n",
    "lifted linear model with model structure\n",
    "\n",
    "\\begin{equation}\n",
    "    \\mathbf{z}_{k+1} = A_{edmd}\\mathbf{z}_k, \\qquad \\mathbf{z} = \\boldsymbol{\\phi(x)}\n",
    "\\end{equation}"
   ]
  },
  {
   "cell_type": "code",
   "execution_count": 9,
   "metadata": {
    "pycharm": {
     "name": "#%%\n"
    }
   },
   "outputs": [],
   "source": [
    "#EDMD parameters:\n",
    "alpha_edmd = 1.2e-4\n",
    "tune_mdl_edmd = True"
   ]
  },
  {
   "cell_type": "code",
   "execution_count": 10,
   "metadata": {
    "pycharm": {
     "name": "#%%\n"
    }
   },
   "outputs": [
    {
     "name": "stdout",
     "output_type": "stream",
     "text": [
      "$\\alpha$ EDMD:  0.00014180449733147305\n"
     ]
    }
   ],
   "source": [
    "koop_features = preprocessing.PolynomialFeatures(degree=2)\n",
    "koop_features.fit(np.zeros((1,n)))\n",
    "basis = lambda x: koop_features.transform(x)\n",
    "n_lift_edmd = basis(np.zeros((1,n))).shape[1]\n",
    "\n",
    "C_edmd = np.zeros((n,n_lift_edmd))\n",
    "C_edmd[:,1:n+1] = np.eye(n)\n",
    "\n",
    "optimizer_edmd = linear_model.MultiTaskLasso(alpha=alpha_edmd, fit_intercept=False, selection='random', max_iter=2000)\n",
    "cv_edmd = linear_model.MultiTaskLassoCV(fit_intercept=False, n_jobs=-1, cv=3, selection='random', max_iter=2000)\n",
    "standardizer_edmd = preprocessing.StandardScaler(with_mean=False)\n",
    "\n",
    "model_edmd = Edmd_aut(n, basis, n_lift_edmd, n_traj_dc, optimizer_edmd, cv=cv_edmd, standardizer=standardizer_edmd, C=C_edmd, continuous_mdl=False, dt=dt)\n",
    "X_edmd, y_edmd = model_edmd.process(xs, np.tile(t_eval,(n_traj_dc,1)), downsample_rate=sub_sample_rate)\n",
    "model_edmd.fit(X_edmd, y_edmd, cv=tune_mdl_edmd)\n",
    "sys_edmd = LinearLiftedDynamics(model_edmd.A, None, model_edmd.C, model_edmd.basis, continuous_mdl=False, dt=dt)\n",
    "if tune_mdl_edmd:\n",
    "    print('$\\\\alpha$ EDMD: ', model_edmd.cv.alpha_)"
   ]
  },
  {
   "cell_type": "markdown",
   "metadata": {},
   "source": [
    "### Evaluate open loop prediction performance"
   ]
  },
  {
   "cell_type": "markdown",
   "metadata": {
    "pycharm": {
     "name": "#%% md\n"
    }
   },
   "source": [
    "We now evaluate the open loop prediction performance of the implemented methods.\n",
    "This is done by generating a new data set in the same way as the training set, predicting the evolution of the system\n",
    "with the control sequence of each trajectory executed in the data set with each of the models, and finally comparing\n",
    "the mean and standard deviation of the error between the true and predicted evolution over the trajectories. All the models are evaluated on 2 test data sets. One nominal data set (no signal or process noise) and a data set with process noise. No test data with signal noise is used, as we would need to fix the signal noise sequence to do a fair comparison in open loop prediction, hence resulting in the same comparison as the 2 data sets used."
   ]
  },
  {
   "cell_type": "code",
   "execution_count": 11,
   "metadata": {
    "pycharm": {
     "name": "#%%\n"
    }
   },
   "outputs": [],
   "source": [
    "# Prediction performance evaluation parameters:\n",
    "n_traj_ol = n_traj_dc                                                     # Number of trajectories to execute, open loop"
   ]
  },
  {
   "cell_type": "code",
   "execution_count": 12,
   "metadata": {
    "pycharm": {
     "name": "#%%\n"
    }
   },
   "outputs": [
    {
     "name": "stdout",
     "output_type": "stream",
     "text": [
      "\n",
      "Open loop performance statistics:\n",
      "               Mean squared error    Standard deviation\n",
      "-----------  --------------------  --------------------\n",
      "Koopman DNN              29.14                  5.38799\n",
      "DMD                       0.00651               0.07436\n",
      "EDMD                      0.00023               0.01519\n"
     ]
    }
   ],
   "source": [
    "from tabulate import tabulate\n",
    "\n",
    "t_eval = dt * np.arange(4./dt + 1)\n",
    "xs_ol = np.empty((n_traj_ol, t_eval.shape[0], n))    \n",
    "xs_koop_dnn_ol = np.empty((n_traj_ol, t_eval.shape[0]-1, n))\n",
    "xs_dmd_ol = np.empty((n_traj_ol, t_eval.shape[0]-1, n))\n",
    "xs_edmd_ol = np.empty((n_traj_ol, t_eval.shape[0]-1, n))\n",
    "    \n",
    "for ii in range(n_traj_ol):\n",
    "    x0 = np.asarray([rand.uniform(l, u) for l, u in zip(-x0_max, x0_max)])\n",
    "    xs_ol[ii,:,:], _ = koop_sys.simulate(x0, ctrl, t_eval)\n",
    "\n",
    "    z_0_koop_dnn = sys_koop_dnn.basis(np.atleast_2d(x0)).squeeze()\n",
    "    zs_koop_dnn_tmp, _ = sys_koop_dnn.simulate(z_0_koop_dnn, ctrl, t_eval[:-1])\n",
    "    xs_koop_dnn_ol[ii,:,:] = np.dot(sys_koop_dnn.C, zs_koop_dnn_tmp.T).T\n",
    "    \n",
    "    xs_dmd_ol[ii,:,:], _ = sys_dmd.simulate(x0, ctrl, t_eval[:-1])\n",
    "\n",
    "    z_0_edmd = sys_edmd.basis(np.atleast_2d(x0)).squeeze()\n",
    "    zs_edmd_tmp, _ = sys_edmd.simulate(z_0_edmd, ctrl, t_eval[:-1])\n",
    "    xs_edmd_ol[ii,:,:] = np.dot(sys_edmd.C, zs_edmd_tmp.T).T\n",
    "\n",
    "data = [xs_koop_dnn_ol, xs_dmd_ol, xs_edmd_ol]\n",
    "mdl_names = ['Koopman DNN', 'DMD', 'EDMD']\n",
    "error, mse, std = [], [], []\n",
    "\n",
    "for ii, d in enumerate(data):\n",
    "    err_tmp = xs_ol[:,:-1,:]-d\n",
    "    error.append(err_tmp)\n",
    "    mse.append(np.mean(np.square(error[ii])))\n",
    "    std.append(np.std(error[ii]))\n",
    "    \n",
    "print('\\nOpen loop performance statistics:')\n",
    "\n",
    "table_data = []\n",
    "for name, mse_mdl, std_mdl in zip(mdl_names, mse, std):\n",
    "    table_data.append([name, \"{:.5f}\".format(mse_mdl), \"{:.5f}\".format(std_mdl)])\n",
    "\n",
    "print(tabulate(table_data, \n",
    "               headers=['Mean squared error', 'Standard deviation']))"
   ]
  },
  {
   "cell_type": "code",
   "execution_count": 13,
   "metadata": {
    "pycharm": {
     "name": "#%%\n"
    }
   },
   "outputs": [
    {
     "data": {
      "image/png": "[encoded data removed]",
      "text/plain": [
       "<Figure size 864x288 with 2 Axes>"
      ]
     },
     "metadata": {
      "needs_background": "light"
     },
     "output_type": "display_data"
    }
   ],
   "source": [
    "import matplotlib.pyplot as plt\n",
    "import matplotlib\n",
    "\n",
    "figwidth = 12\n",
    "lw = 2\n",
    "fs = 14\n",
    "y_lim_gain = 1.2\n",
    "row = 1\n",
    "col = 2\n",
    "\n",
    "#Plot open loop results:\n",
    "plt.figure(figsize=(figwidth,4))\n",
    "axs = [plt.subplot(row,col,jj+1) for jj in range(n)]\n",
    "\n",
    "for ii, err in enumerate(error):\n",
    "    err_mean = np.mean(err, axis=0)\n",
    "    err_std = np.std(err, axis=0)\n",
    "    \n",
    "    for jj in range(n):\n",
    "        axs[jj].plot(t_eval[1:], err_mean[:,jj], label=mdl_names[ii])\n",
    "        axs[jj].fill_between(t_eval[1:], err_mean[:,jj]-err_std[:,jj], err_mean[:,jj]+err_std[:,jj], alpha=0.1)\n",
    "\n",
    "for jj in range(n):\n",
    "    axs[jj].set_xlabel('Time (sec)', fontsize=fs)\n",
    "    axs[jj].set_ylabel('$x_'+ str(jj+1) + '$', fontsize=fs)\n",
    "\n",
    "plt.legend(frameon=False, fontsize=fs)\n",
    "stitle=plt.suptitle('Open loop prediction performance of learned models', fontsize=fs+2)\n",
    "matplotlib.rcParams['pdf.fonttype'] = 42\n",
    "matplotlib.rcParams['ps.fonttype'] = 42\n",
    "plt.savefig(folder_plots + 'koop_sys_prediction.pdf', format='pdf', dpi=2400, bbox_extra_artists=(stitle,), bbox_inches=\"tight\")\n",
    "plt.show()"
   ]
  },
  {
   "cell_type": "code",
   "execution_count": 14,
   "metadata": {},
   "outputs": [
    {
     "data": {
      "image/png": "[encoded data removed]",
      "text/plain": [
       "<Figure size 432x288 with 1 Axes>"
      ]
     },
     "metadata": {
      "needs_background": "light"
     },
     "output_type": "display_data"
    }
   ],
   "source": [
    "analytic_koop = sc.linalg.expm(np.array([[mu, 0, 0], [0, lambd, -lambd], [0, 0, mu]])*dt)\n",
    "eig_analytic = np.linalg.eigvals(analytic_koop)\n",
    "eig_koop_dnn = np.sort(np.linalg.eigvals(sys_koop_dnn.A))[::-1]\n",
    "eig_edmd = np.sort(np.linalg.eigvals(sys_edmd.A))[::-1]\n",
    "n_eig = eig_analytic.size\n",
    "eig_koop_dnn = eig_koop_dnn[:n_eig]\n",
    "eig_edmd = eig_edmd[:n_eig]\n",
    "ang = np.linspace(0,2*np.pi,100)\n",
    "circle = np.array([np.cos(ang), np.sin(ang)])\n",
    "\n",
    "plt.figure()\n",
    "plt.plot(circle[0,:], circle[1,:])\n",
    "plt.scatter(np.real(eig_analytic), np.imag(eig_analytic), marker='o', color='tab:blue', label='Analytic')\n",
    "plt.scatter(np.real(eig_koop_dnn), np.imag(eig_koop_dnn), marker='*', color='tab:green', label='Koopman DNN')\n",
    "plt.scatter(np.real(eig_edmd), np.imag(eig_edmd), marker='x', color='tab:orange', label='EDMD')\n",
    "plt.legend(loc='upper right', fontsize=fs)\n",
    "plt.grid()\n",
    "plt.title('Learned VS analytic Koopman spectrum', fontsize=fs)\n",
    "plt.xlabel('Real part', fontsize=fs)\n",
    "plt.ylabel('Imaginary part', fontsize=fs)\n",
    "plt.show()"
   ]
  }
 ],
 "metadata": {
  "kernelspec": {
   "display_name": "keedmd",
   "language": "python",
   "name": "keedmd"
  },
  "language_info": {
   "codemirror_mode": {
    "name": "ipython",
    "version": 3
   },
   "file_extension": ".py",
   "mimetype": "text/x-python",
   "name": "python",
   "nbconvert_exporter": "python",
   "pygments_lexer": "ipython3",
   "version": "3.7.6"
  }
 },
 "nbformat": 4,
 "nbformat_minor": 1
}
