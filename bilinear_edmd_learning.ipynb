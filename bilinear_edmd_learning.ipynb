{
 "cells": [
  {
   "cell_type": "markdown",
   "source": [
    "$\\newcommand{\\mb}[1]{\\mathbf{ #1 }}$\n",
    "$\\newcommand{\\bs}[1]{\\boldsymbol{ #1 }}$\n",
    "$\\newcommand{\\bb}[1]{\\mathbb{ #1 }}$\n",
    "\n",
    "$\\newcommand{\\R}{\\bb{R}}$\n",
    "\n",
    "$\\newcommand{\\ip}[2]{\\left\\langle #1, #2 \\right\\rangle}$\n",
    "$\\newcommand{\\norm}[1]{\\left\\Vert #1 \\right\\Vert}$\n",
    "\n",
    "$\\newcommand{\\der}[2]{\\frac{\\mathrm{d} #1 }{\\mathrm{d} #2 }}$\n",
    "$\\newcommand{\\derp}[2]{\\frac{\\partial #1 }{\\partial #2 }}$\n",
    "\n",
    "# Finite Dimensional Koopman Bilinear System"
   ],
   "metadata": {
    "collapsed": false
   }
  },
  {
   "cell_type": "markdown",
   "source": [
    "Consider a nonlinear dynamical system that allows an exact finite dimensional Koopman canonical transform such that the control-affine dynamics can be transformed to a bilinear system. Consider the dynamical system "
   ],
   "metadata": {
    "collapsed": false
   }
  },
  {
   "cell_type": "markdown",
   "source": [
    "\\begin{equation}\n",
    "\\mb{\\dot{x}}=\\mb{f}_0(\\mb x) + \\mb f_1 ( \\mb x) u_1 + \\mb f_2(\\mb x) u_2, \n",
    "\\end{equation}"
   ],
   "metadata": {
    "collapsed": false
   }
  },
  {
   "cell_type": "markdown",
   "source": [
    "where we for this example choose $\\mb f_0, \\mb f_1$ as follows:"
   ],
   "metadata": {
    "collapsed": false
   }
  },
  {
   "cell_type": "markdown",
   "source": [
    "\\begin{equation}\n",
    "\\mb f_0(\\mb x) = \\begin{bmatrix} x_3 \\\\ x_4 \\\\ \\lambda x_3 \\\\ \\mu x_4 + (2 \\lambda - \\mu) c x_3^2 \\end{bmatrix}, \\qquad\n",
    "\\mb f_1(\\mb x) = \\begin{bmatrix} 0 \\\\ 0 \\\\ 1 \\\\ 0 \\end{bmatrix}, \\qquad\n",
    "\\mb f_2(\\mb x) = \\begin{bmatrix} 0 \\\\ 0 \\\\ 0 \\\\ x_1+1 \\end{bmatrix}, \n",
    "\\end{equation}   "
   ],
   "metadata": {
    "collapsed": false
   }
  },
  {
   "cell_type": "markdown",
   "source": [
    "and $\\lambda, \\mu, c \\in \\mathbb{R}$ are scalar parameters of the system. Setting $ \\mb x = [q_1 \\, q_2 \\, \\dot{q_1} \\, \\dot{q_2}]^T$, \n",
    "these equations of motion can be expressed as robotic dynamics of the form $\\mb{D}(\\mb{q})\\ddot{\\mb{q}} + \\mb{C}(\\mb{q}, \\dot{\\mb{q}})\\dot{\\mb{q}} + \\mb{G}(\\mb{q}) = \\mb{B}\\mb{u}$, where $\\mb D$ is the inertia matrix, $\\mb C$ is the matrix of Coriolis terms, $\\mb G$ is the matrix of gravitational terms, and $\\mb B$ is the static actuation matrix. Rewriting $\\mb f_0, \\mb f_1, \\mb f_2$ in terms of $\\mb D, \\mb C, \\mb G,$ and $\\mb B$ yield\n"
   ],
   "metadata": {
    "collapsed": false
   }
  },
  {
   "cell_type": "markdown",
   "source": [
    "\\begin{equation}\n",
    "\\mb D(\\mb q) = \\begin{bmatrix} 1 & 0\\\\ 0 &  \\frac{1}{q_1+1} \\end{bmatrix}, \n",
    "\\qquad \\mb C(\\mb q, \\mb{\\dot{q}}) = -\\begin{bmatrix} \\lambda & 0 \\\\ \\frac{1}{q_1 + 1}(2 \\lambda - \\mu) c \\dot{q}_1 & \\frac{1}{q_1 +1} \\mu \\end{bmatrix}, \\qquad \n",
    "\\mb G(\\mb q) = \\begin{bmatrix} 0 \\\\ 0 \\end{bmatrix} \n",
    "\\qquad \\mb B = \\begin{bmatrix}1 & 0 \\\\ 0 & 1 \\end{bmatrix},\n",
    "\\end{equation}"
   ],
   "metadata": {
    "collapsed": false
   }
  },
  {
   "cell_type": "code",
   "execution_count": 9,
   "outputs": [],
   "source": [
    "import numpy as np\n",
    "\n",
    "from core.dynamics import RoboticDynamics\n",
    "\n",
    "class FiniteDimKoopSys(RoboticDynamics):\n",
    "    def __init__(self, lambd, mu, c):\n",
    "        RoboticDynamics.__init__(self, 2, 2)\n",
    "        self.params = lambd, mu, c\n",
    "    \n",
    "    def D(self, q):\n",
    "        return np.array([[1, 0],[0, (q[0]+1)**(-1)]])\n",
    "    \n",
    "    def C(self, q, q_dot):\n",
    "        labmd, mu, c = self.params\n",
    "        return -np.array([[lambd, 0], [(q[0]+1)**(-1)*(2*lambd - mu)*c*q_dot[0], (q[0]+1)**(-1)*mu]])\n",
    "    \n",
    "    def G(self, q):\n",
    "        return np.array([0, 0])\n",
    "    \n",
    "    def B(self, q):\n",
    "        return np.array([[1, 0], [0, 1]])\n",
    "    \n",
    "lambd, mu, c = .3, .2, -.5\n",
    "n, m = 4, 2\n",
    "finite_dim_koop_sys = FiniteDimKoopSys(lambd, mu, c)"
   ],
   "metadata": {
    "collapsed": false,
    "pycharm": {
     "name": "#%%\n"
    }
   }
  },
  {
   "cell_type": "markdown",
   "source": [
    "### Collect data from the system under PD control\n",
    "\n",
    "We first collect data from the system under PD control designed by LQR on the linearization of the dynamics around the \n",
    "origin. This is done by picking 20 intial conditions $\\mb x_0 = [q_0, \\dot{q}_0]^T$ uniformly at random in the space \n",
    "$\\mb x_0 \\in [-2, 2]^4$. The linearized dynamics around the origin are:"
   ],
   "metadata": {
    "collapsed": false
   }
  },
  {
   "cell_type": "code",
   "source": [
    "from core.controllers import PDController\n",
    "from scipy.linalg import solve_continuous_are\n",
    "\n",
    "A_lin = np.array([[0, 0, 1, 0],\n",
    "                  [0, 0, 0, 1],\n",
    "                  [0, 0, lambd, 0],\n",
    "                  [0, 0, 0, mu]])\n",
    "B_lin = np.array([[0, 0],\n",
    "                  [0, 0],\n",
    "                  [1, 0],\n",
    "                  [0, 1]])\n",
    "lin_dynamics = (A_lin, B_lin)\n",
    "\n",
    "q, r = 5, 1\n",
    "Q_fb = q * np.identity(4)\n",
    "R_fb = r*np.identity(2)\n",
    "P = solve_continuous_are(A_lin, B_lin, Q_fb, R_fb)\n",
    "K = np.linalg.inv(R_fb)@B_lin.T@P\n",
    "K_p, K_d = K[:,:int(n/2)], K[:,int(n/2):]\n",
    "pd_controller = PDController(finite_dim_koop_sys, K_p, K_d)"
   ],
   "metadata": {
    "collapsed": false,
    "pycharm": {
     "name": "#%%\n"
    }
   },
   "execution_count": 10,
   "outputs": []
  },
  {
   "cell_type": "markdown",
   "source": [
    "Finally, we collect the data and store the state and action pairs that will be used to learn dynamics models later on:"
   ],
   "metadata": {
    "collapsed": false
   }
  },
  {
   "cell_type": "code",
   "execution_count": 11,
   "outputs": [
    {
     "data": {
      "text/plain": "<Figure size 864x86.4 with 10 Axes>",
      "image/png": "[encoded data removed]"
     },
     "metadata": {
      "needs_background": "light"
     },
     "output_type": "display_data"
    }
   ],
   "source": [
    "import matplotlib.pyplot as plt\n",
    "import random as rn\n",
    "from koopman_core.controllers.perturbed_controller import PerturbedController\n",
    "\n",
    "n_traj = 10                                                 # Number of trajectories to collect data from\n",
    "dt = 1.0e-2                                                 # Time step length\n",
    "N = int(5./dt)                                              # Number of time steps\n",
    "t_eval = dt * np.arange(N + 1)                              # Simulation time points\n",
    "traj_bounds = [2., 2., 2., 2.]                                        # State constraints, [q, q_dot]\n",
    "pert_noise_var = 2.                                        # Variance of controller perturbation noise\n",
    "\n",
    "pert_lqr_controller = PerturbedController(finite_dim_koop_sys, pd_controller, pert_noise_var)\n",
    "xs = np.empty((n_traj,N+1,n))\n",
    "us = np.empty((n_traj, N, m))\n",
    "\n",
    "n_cols = 10\n",
    "plt.figure(figsize=(12,12*n_traj/(n_cols**2)))\n",
    "for ii in range(n_traj):\n",
    "    x_0 = np.asarray([rn.uniform(-i,i)  for i in traj_bounds])\n",
    "    xs[ii,:,:], us[ii,:,:] = finite_dim_koop_sys.simulate(x_0, pert_lqr_controller, t_eval)\n",
    "\n",
    "    plt.subplot(int(np.ceil(n_traj/n_cols)),n_cols,ii+1)\n",
    "    plt.plot(t_eval, xs[ii,:,0], 'b', label='$x$')\n",
    "    plt.plot(t_eval, xs[ii,:,1], 'r', label='$\\\\theta$')\n",
    "plt.suptitle('Training data',y=0.94)\n",
    "plt.show()"
   ],
   "metadata": {
    "collapsed": false,
    "pycharm": {
     "name": "#%%\n"
    }
   }
  },
  {
   "cell_type": "markdown",
   "source": [
    "### Learn lifted linear state space model with EDMD"
   ],
   "metadata": {
    "collapsed": false
   }
  },
  {
   "cell_type": "markdown",
   "source": [
    "To learn a lifted state space model with EDMD, we use a monomial basis. I.e. we use all monomials up a specified degree\n",
    "such that the lifting function $\\bs{\\phi}(\\mb x)$ is\n",
    "\n",
    "\\begin{equation}\n",
    "\\mb z = \\bs{\\phi}(\\mb x) = [1 \\quad x_1 \\quad \\dots  \\quad x_n \\quad x_1^2 \\quad x_1 x_2 \\quad x_n^2 \\quad \\dots ]^T\n",
    "\\end{equation}\n",
    "\n",
    "Using the EDMD algorithm, sampled vectors of the state and control action pairs $(\\mb x, \\mb u)$ are collected, the state\n",
    "is lifted, $\\mb z = \\bs{\\phi}(\\mb x)$, and least squares\n",
    "regression is used to find $A_{\\mb z}, B_{\\mb z}$ that best fit the data resulting in a model of the form:\n",
    "\n",
    "\\begin{equation}\n",
    "\\dot{\\mb{z}} = A_{\\mb z}\\mb z + B_{\\mb z} \\mb u\n",
    "\\end{equation}"
   ],
   "metadata": {
    "collapsed": false,
    "pycharm": {
     "name": "#%% md\n"
    }
   }
  },
  {
   "cell_type": "code",
   "execution_count": 12,
   "outputs": [
    {
     "name": "stderr",
     "output_type": "stream",
     "text": [
      "/Users/carlaxelfolkestad/.conda/envs/keedmd/lib/python3.7/site-packages/pysindy/optimizers/stlsq.py:156: UserWarning: Sparsity parameter is too big (0.075) and eliminated all coefficients\n",
      "  \"coefficients\".format(self.threshold)\n",
      "/Users/carlaxelfolkestad/.conda/envs/keedmd/lib/python3.7/site-packages/pysindy/optimizers/stlsq.py:156: UserWarning: Sparsity parameter is too big (0.075) and eliminated all coefficients\n",
      "  \"coefficients\".format(self.threshold)\n",
      "/Users/carlaxelfolkestad/.conda/envs/keedmd/lib/python3.7/site-packages/pysindy/optimizers/stlsq.py:156: UserWarning: Sparsity parameter is too big (0.075) and eliminated all coefficients\n",
      "  \"coefficients\".format(self.threshold)\n",
      "/Users/carlaxelfolkestad/.conda/envs/keedmd/lib/python3.7/site-packages/pysindy/optimizers/stlsq.py:156: UserWarning: Sparsity parameter is too big (0.075) and eliminated all coefficients\n",
      "  \"coefficients\".format(self.threshold)\n",
      "/Users/carlaxelfolkestad/.conda/envs/keedmd/lib/python3.7/site-packages/pysindy/optimizers/stlsq.py:156: UserWarning: Sparsity parameter is too big (0.075) and eliminated all coefficients\n",
      "  \"coefficients\".format(self.threshold)\n"
     ]
    }
   ],
   "source": [
    "from core.dynamics.linear_system_dynamics import LinearSystemDynamics\n",
    "from koopman_core.learning import Edmd\n",
    "from sklearn import preprocessing\n",
    "from pysindy.optimizers.stlsq import STLSQ\n",
    "\n",
    "threshold_edmd = 7.5e-2\n",
    "poly_features_edmd = preprocessing.PolynomialFeatures(degree=3)\n",
    "poly_features_edmd.fit(np.zeros((1,n)))\n",
    "n_lift_edmd = poly_features_edmd.n_output_features_\n",
    "C_edmd = np.zeros((n,n_lift_edmd))\n",
    "C_edmd[:,1:n+1] = np.eye(n)\n",
    "\n",
    "basis_edmd = lambda x: poly_features_edmd.transform(x)\n",
    "optimizer_edmd = STLSQ(threshold=threshold_edmd)\n",
    "standardizer_edmd = preprocessing.StandardScaler(with_mean=False)\n",
    "\n",
    "model_edmd = Edmd(n, m, basis_edmd, n_lift_edmd, n_traj, optimizer_edmd, standardizer=standardizer_edmd, C=C_edmd)\n",
    "X_edmd, y_edmd = model_edmd.process(xs, us, np.tile(t_eval,(n_traj,1)))\n",
    "model_edmd.fit(X_edmd, y_edmd)\n",
    "sys_edmd = LinearSystemDynamics(model_edmd.A, model_edmd.B)"
   ],
   "metadata": {
    "collapsed": false,
    "pycharm": {
     "name": "#%%\n"
    }
   }
  },
  {
   "cell_type": "markdown",
   "source": [
    "### Learn lifted bilinear state space model with bEDMD"
   ],
   "metadata": {
    "collapsed": false
   }
  },
  {
   "cell_type": "markdown",
   "source": [
    "To enable learning of a bilinear model, we modify the EDMD algorithm by defining the basis functions as follows\n",
    "\n",
    "\\begin{equation}\n",
    "\\bs{\\hat{\\phi}}(\\mb x, \\mb u) = \\begin{bmatrix} \\bs{\\phi}(\\mb x) \\\\ \\bs{\\phi}(\\mb x) u_1\\\\ \\vdots \\\\ \\bs{\\phi}(\\mb x)u_m\n",
    "\\end{bmatrix}\n",
    "\\end{equation}\n",
    "\n",
    "then, we solve the linear regression problem $\\bs{\\dot{\\phi}} = \\hat{A}\\bs{\\hat{\\phi}}$ to find the $\\hat{A}$ that best\n",
    "fits the data. If the lifting dimension of $\\bs{\\phi}(x)$ is $n_{lift}$, then we can parse $\\hat{A}$ as follows\n",
    "\n",
    "\\begin{equation}\n",
    "F = \\hat{A}_{(:,:n_{lift})}, \\qquad G_1 = \\hat{A}_{:,n_{lift}:2n_{lift}}, \\qquad \\dots \\qquad G_m  = \\hat{A}_{:,m n_{lift}:(m+1)n_{lift}}\n",
    "\\end{equation}\n",
    "\n",
    "resulting in the learned bilinear model of the form\n",
    "\n",
    "\\begin{equation}\n",
    "\\mb{\\dot{z}} = F \\mb z + \\sum_{i=1}^m G_i\\mb z u_i\n",
    "\\end{equation}"
   ],
   "metadata": {
    "collapsed": false,
    "pycharm": {
     "name": "#%% md\n"
    }
   }
  },
  {
   "cell_type": "code",
   "execution_count": 13,
   "outputs": [
    {
     "name": "stderr",
     "output_type": "stream",
     "text": [
      "/Users/carlaxelfolkestad/.conda/envs/keedmd/lib/python3.7/site-packages/pysindy/optimizers/stlsq.py:156: UserWarning: Sparsity parameter is too big (0.1) and eliminated all coefficients\n",
      "  \"coefficients\".format(self.threshold)\n",
      "/Users/carlaxelfolkestad/.conda/envs/keedmd/lib/python3.7/site-packages/pysindy/optimizers/stlsq.py:156: UserWarning: Sparsity parameter is too big (0.1) and eliminated all coefficients\n",
      "  \"coefficients\".format(self.threshold)\n",
      "/Users/carlaxelfolkestad/.conda/envs/keedmd/lib/python3.7/site-packages/pysindy/optimizers/stlsq.py:156: UserWarning: Sparsity parameter is too big (0.1) and eliminated all coefficients\n",
      "  \"coefficients\".format(self.threshold)\n",
      "/Users/carlaxelfolkestad/.conda/envs/keedmd/lib/python3.7/site-packages/pysindy/optimizers/stlsq.py:156: UserWarning: Sparsity parameter is too big (0.1) and eliminated all coefficients\n",
      "  \"coefficients\".format(self.threshold)\n"
     ]
    }
   ],
   "source": [
    "from koopman_core.dynamics import BilinearLiftedDynamics\n",
    "from koopman_core.learning import BilinearEdmd\n",
    "\n",
    "threshold_bedmd = 1e-1\n",
    "poly_features_bedmd = preprocessing.PolynomialFeatures(degree=2)\n",
    "poly_features_bedmd.fit(np.zeros((1,n)))\n",
    "n_lift_bedmd = poly_features_bedmd.n_output_features_\n",
    "C_bedmd = np.zeros((n,n_lift_bedmd))\n",
    "C_bedmd[:,1:n+1] = np.eye(n)\n",
    "\n",
    "basis_bedmd = lambda x: poly_features_bedmd.transform(x)\n",
    "optimizer_bedmd = STLSQ(threshold=threshold_bedmd)\n",
    "standardizer_bedmd = preprocessing.StandardScaler(with_mean=False)\n",
    "\n",
    "model_bedmd = BilinearEdmd(n, m, basis_bedmd, n_lift_bedmd, n_traj, optimizer_bedmd, standardizer=standardizer_bedmd, C=C_bedmd)\n",
    "X_bedmd, y_bedmd = model_bedmd.process(xs, us, np.tile(t_eval,(n_traj,1)))\n",
    "model_bedmd.fit(X_bedmd, y_bedmd)\n",
    "sys_bedmd = BilinearLiftedDynamics(n_lift_bedmd, m, model_bedmd.A, model_bedmd.B, C_bedmd, basis_bedmd)"
   ],
   "metadata": {
    "collapsed": false,
    "pycharm": {
     "name": "#%%\n"
    }
   }
  },
  {
   "cell_type": "markdown",
   "source": [
    "### Learn lifted bilinear model with FL guaranteed bEDMD"
   ],
   "metadata": {
    "collapsed": false,
    "pycharm": {
     "name": "#%% md\n"
    }
   }
  },
  {
   "cell_type": "markdown",
   "source": [
    "TODO: Describe new learning method"
   ],
   "metadata": {
    "collapsed": false,
    "pycharm": {
     "name": "#%% md\n"
    }
   }
  },
  {
   "cell_type": "code",
   "execution_count": null,
   "outputs": [
    {
     "name": "stderr",
     "output_type": "stream",
     "text": [
      "/Users/carlaxelfolkestad/.conda/envs/keedmd/lib/python3.7/site-packages/pysindy/optimizers/stlsq.py:156: UserWarning: Sparsity parameter is too big (0.1) and eliminated all coefficients\n",
      "  \"coefficients\".format(self.threshold)\n",
      "/Users/carlaxelfolkestad/.conda/envs/keedmd/lib/python3.7/site-packages/pysindy/optimizers/stlsq.py:156: UserWarning: Sparsity parameter is too big (0.1) and eliminated all coefficients\n",
      "  \"coefficients\".format(self.threshold)\n",
      "/Users/carlaxelfolkestad/.conda/envs/keedmd/lib/python3.7/site-packages/pysindy/optimizers/stlsq.py:156: UserWarning: Sparsity parameter is too big (0.1) and eliminated all coefficients\n",
      "  \"coefficients\".format(self.threshold)\n",
      "/Users/carlaxelfolkestad/.conda/envs/keedmd/lib/python3.7/site-packages/pysindy/optimizers/stlsq.py:156: UserWarning: Sparsity parameter is too big (0.1) and eliminated all coefficients\n",
      "  \"coefficients\".format(self.threshold)\n"
     ]
    }
   ],
   "source": [
    "from koopman_core.learning import FlBilinearLearner\n",
    "\n",
    "threshold_bedmd = 1e-1\n",
    "poly_features_fl_bedmd = preprocessing.PolynomialFeatures(degree=2)\n",
    "poly_features_fl_bedmd.fit(np.zeros((1,n)))\n",
    "n_lift_fl_bedmd = poly_features_fl_bedmd.n_output_features_\n",
    "C_fl_bedmd = np.zeros((n,n_lift_fl_bedmd))\n",
    "C_fl_bedmd[:,1:n+1] = np.eye(n)\n",
    "\n",
    "basis_fl_bedmd = lambda x: poly_features_fl_bedmd.transform(x)\n",
    "optimizer_fl_bedmd = STLSQ(threshold=threshold_bedmd)\n",
    "standardizer_fl_bedmd = preprocessing.StandardScaler(with_mean=False)\n",
    "\n",
    "model_fl_bedmd = FlBilinearLearner(n, m, basis_fl_bedmd, n_lift_fl_bedmd, n_traj, optimizer_fl_bedmd, C_fl_bedmd, standardizer=standardizer_fl_bedmd, C=C_fl_bedmd)\n",
    "X_fl_bedmd, y_fl_bedmd = model_fl_bedmd.process(xs, us, np.tile(t_eval,(n_traj,1)))\n",
    "model_fl_bedmd.fit(X_fl_bedmd, y_fl_bedmd)\n",
    "sys_fl_bedmd = BilinearLiftedDynamics(n_lift_fl_bedmd, m, model_fl_bedmd.A, model_fl_bedmd.B, C_fl_bedmd, basis_fl_bedmd)\n",
    "\n",
    "coefs = model_bedmd.A\n",
    "for b in model_bedmd.B:\n",
    "    coefs = np.concatenate((coefs, b), axis=1)\n",
    "print(\"The norm of the EDMD residual is \", np.linalg.norm(X_bedmd@coefs.T - y_bedmd))\n"
   ],
   "metadata": {
    "collapsed": false,
    "pycharm": {
     "name": "#%%\n",
     "is_executing": true
    }
   }
  },
  {
   "cell_type": "markdown",
   "source": [
    "### Compare prediction performance of the linear and bilinear models"
   ],
   "metadata": {
    "collapsed": false
   }
  },
  {
   "cell_type": "code",
   "execution_count": null,
   "outputs": [],
   "source": [
    "from matplotlib import pyplot as plt\n",
    "from koopman_core.controllers.openloop_controller import OpenLoopController\n",
    "\n",
    "n_traj_test = 25\n",
    "xs_test, xs_edmd_test, xs_bedmd_test, xs_fl_bedmd_test, us_test, ts_test = [], [], [], [], [], []\n",
    "for ii in range(n_traj_test):\n",
    "    x_0 = np.asarray([rn.uniform(-i,i)  for i in traj_bounds])\n",
    "    xs_tmp, us_tmp = finite_dim_koop_sys.simulate(x_0, pert_lqr_controller, t_eval)\n",
    "    ol_controller = OpenLoopController(sys_bedmd, us_tmp, t_eval[:-1])\n",
    "\n",
    "    z_0_edmd = basis_edmd(np.atleast_2d(x_0)).squeeze()\n",
    "    zs_edmd_tmp, _ = sys_edmd.simulate(z_0_edmd, ol_controller, t_eval[:-1])\n",
    "    xs_edmd_tmp = np.dot(C_edmd, zs_edmd_tmp.T)\n",
    "\n",
    "    z_0_bedmd = basis_bedmd(np.atleast_2d(x_0)).squeeze()\n",
    "    zs_bedmd_tmp, _ = sys_bedmd.simulate(z_0_bedmd, ol_controller, t_eval[:-1])\n",
    "    xs_bedmd_tmp = np.dot(C_bedmd, zs_bedmd_tmp.T)\n",
    "\n",
    "    z_0_fl_bedmd = basis_fl_bedmd(np.atleast_2d(x_0)).squeeze()\n",
    "    zs_fl_bedmd_tmp, _ = sys_fl_bedmd.simulate(z_0_fl_bedmd, ol_controller, t_eval[:-1])\n",
    "    xs_fl_bedmd_tmp = np.dot(C_fl_bedmd, zs_fl_bedmd_tmp.T)\n",
    "\n",
    "    xs_test.append(xs_tmp.T)\n",
    "    xs_edmd_test.append(xs_edmd_tmp)\n",
    "    xs_bedmd_test.append(xs_bedmd_tmp)\n",
    "    xs_fl_bedmd_test.append(xs_fl_bedmd_tmp)\n",
    "    us_test.append(us_tmp)\n",
    "    ts_test.append(t_eval)\n",
    "\n",
    "xs_test, xs_edmd_test, xs_bedmd_test, xs_fl_bedmd_test, us_test, ts_test = \\\n",
    "    np.array(xs_test), np.array(xs_edmd_test), np.array(xs_bedmd_test), np.array(xs_fl_bedmd_test), np.array(us_test), np.array(ts_test)\n",
    "\n",
    "error_edmd = xs_test[:,:,:-1] - xs_edmd_test\n",
    "error_edmd_mean = np.mean(error_edmd, axis=0)\n",
    "error_edmd_std = np.std(error_edmd, axis=0)\n",
    "mse_edmd = np.mean(np.mean(np.mean(np.square(error_edmd))))\n",
    "\n",
    "error_bedmd = xs_test[:,:,:-1] - xs_bedmd_test\n",
    "error_bedmd_mean = np.mean(error_bedmd, axis=0)\n",
    "error_bedmd_std = np.std(error_bedmd, axis=0)\n",
    "mse_bedmd = np.mean(np.mean(np.mean(np.square(error_bedmd))))\n",
    "\n",
    "error_fl_bedmd = xs_test[:,:,:-1] - xs_fl_bedmd_test\n",
    "error_fl_bedmd_mean = np.mean(error_fl_bedmd, axis=0)\n",
    "error_fl_bedmd_std = np.std(error_fl_bedmd, axis=0)\n",
    "mse_fl_bedmd = np.mean(np.mean(np.mean(np.square(error_fl_bedmd))))"
   ],
   "metadata": {
    "collapsed": false,
    "pycharm": {
     "name": "#%%\n",
     "is_executing": true
    }
   }
  },
  {
   "cell_type": "code",
   "execution_count": null,
   "outputs": [],
   "source": [
    "fig, axs = plt.subplots(2, 2, figsize=(10, 6))\n",
    "ylabels = ['$e_{q_1}$', '$e_{q_2}$', '$e_{\\dot{q}_1}$', '$e_{\\dot{q}_2}$']\n",
    "fig.suptitle('Open loop predicition error of EDMD and bilinear EDMD models', y=1.025, fontsize=18)\n",
    "for ax, err_edmd_mean, err_edmd_std, err_bedmd_mean, err_bedmd_std, err_fl_bedmd_mean, err_fl_bedmd_std, ylabel in zip(axs.flatten(), error_edmd_mean, error_edmd_std, error_bedmd_mean, error_bedmd_std, error_fl_bedmd_mean, error_fl_bedmd_std, ylabels):\n",
    "    ax.plot(ts_test[0,:-1], err_edmd_mean, linewidth=3, label='mean, EDMD')\n",
    "    ax.fill_between(ts_test[0,:-1], err_edmd_mean-err_edmd_std, err_edmd_mean+err_edmd_std, alpha=0.2, label='std, EDMD')\n",
    "    ax.plot(ts_test[0,:-1], err_bedmd_mean, linewidth=3, label='mean, bEDMD')\n",
    "    ax.fill_between(ts_test[0,:-1], err_bedmd_mean-err_bedmd_std, err_bedmd_mean+err_bedmd_std, alpha=0.2, label='std, bEDMD')\n",
    "    ax.plot(ts_test[0,:-1], err_fl_bedmd_mean, linewidth=3, label='mean, FL bEDMD')\n",
    "    ax.fill_between(ts_test[0,:-1], err_fl_bedmd_mean-err_fl_bedmd_std, err_fl_bedmd_mean+err_fl_bedmd_std, alpha=0.2, label='std, FL bEDMD')\n",
    "    ax.set_ylabel(ylabel, fontsize=16)\n",
    "    ax.grid()\n",
    "    ax.set_xlabel('$t$ (sec)', fontsize=16)\n",
    "\n",
    "ax.legend(ncol=2)\n",
    "plt.tight_layout()\n",
    "plt.show()\n",
    "print('Lifting dimension EDMD: ', n_lift_edmd, 'Lifting dimension bEDMD: ', n_lift_bedmd*(m+1) , 'Lifting dimension FL bEDMD: ', n_lift_fl_bedmd*(m+1))\n",
    "print('MSE EDMD: ', mse_edmd, '\\nMSE bilinear EDMD: ', mse_bedmd, '\\nMSE FL bilinear EDMD: ', mse_fl_bedmd)\n",
    "print('Improvement EDMD -> bEDMD: ', (1-mse_bedmd/mse_edmd)*100, ' percent\\nImprovement bEDMD -> FL bEDMD: ', (1-mse_fl_bedmd/mse_bedmd)*100, ' percent')"
   ],
   "metadata": {
    "collapsed": false,
    "pycharm": {
     "name": "#%%\n",
     "is_executing": true
    }
   }
  },
  {
   "cell_type": "code",
   "execution_count": null,
   "outputs": [],
   "source": [
    "\n"
   ],
   "metadata": {
    "collapsed": false,
    "pycharm": {
     "name": "#%%\n",
     "is_executing": true
    }
   }
  }
 ],
 "metadata": {
  "kernelspec": {
   "display_name": "Python 3",
   "language": "python",
   "name": "python3"
  },
  "language_info": {
   "codemirror_mode": {
    "name": "ipython",
    "version": 2
   },
   "file_extension": ".py",
   "mimetype": "text/x-python",
   "name": "python",
   "nbconvert_exporter": "python",
   "pygments_lexer": "ipython2",
   "version": "2.7.6"
  }
 },
 "nbformat": 4,
 "nbformat_minor": 0
}