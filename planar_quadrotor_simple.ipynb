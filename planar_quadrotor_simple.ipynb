{
 "cells": [
  {
   "cell_type": "code",
   "execution_count": 106,
   "metadata": {
    "collapsed": true
   },
   "outputs": [],
   "source": [
    "import numpy as np\n",
    "import scipy as sc\n",
    "import random as rand\n",
    "from sklearn import preprocessing, linear_model\n",
    "import matplotlib.pyplot as plt\n",
    "\n",
    "from core.controllers import PDController\n",
    "from core.dynamics import LinearSystemDynamics, ConfigurationDynamics\n",
    "\n",
    "from koopman_core.controllers import OpenLoopController, MPCController,BilinearFBLinController, PerturbedController, LinearLiftedController\n",
    "from koopman_core.dynamics import LinearLiftedDynamics, BilinearLiftedDynamics\n",
    "from koopman_core.learning import Edmd, BilinearEdmd\n",
    "from koopman_core.basis_functions import PolySineBasis\n",
    "from koopman_core.learning.utils import differentiate_vec\n",
    "from koopman_core.systems import PlanarQuadrotorForceInput\n",
    "\n",
    "class QuadrotorPdOutput(ConfigurationDynamics):\n",
    "    def __init__(self, dynamics, xd, t_d, n, m):\n",
    "        ConfigurationDynamics.__init__(self, dynamics, 1)\n",
    "        self.xd = xd\n",
    "        self.t_d = t_d\n",
    "        self.xd_dot = differentiate_vec(self.xd, self.t_d)\n",
    "        self.n = n\n",
    "        self.m = m\n",
    "\n",
    "    def proportional(self, x, t):\n",
    "        q, q_dot = x[:int(n/2)], x[int(n/2):]\n",
    "        return self.y(q) - self.y_d(t)\n",
    "\n",
    "    def derivative(self, x, t):\n",
    "        q, q_dot = x[:int(n/2)], x[int(n/2):]\n",
    "        return self.dydq(q)@q_dot - self.y_d_dot(t)\n",
    "\n",
    "    def y(self, q):\n",
    "        return q\n",
    "\n",
    "    def dydq(self, q):\n",
    "        return np.eye(int(self.n/2))\n",
    "\n",
    "    def d2ydq2(self, q):\n",
    "        return np.zeros((int(self.n/2), int(self.n/2), int(self.n/2)))\n",
    "\n",
    "    def y_d(self, t):\n",
    "        return self.desired_state_(t)[:int(self.n/2)]\n",
    "\n",
    "    def y_d_dot(self, t):\n",
    "        return self.desired_state_(t)[int(self.n/2):]\n",
    "\n",
    "    def y_d_ddot(self, t):\n",
    "        return self.desired_state_dot_(t)[int(self.n/2):]\n",
    "\n",
    "    def desired_state_(self, t):\n",
    "        return [np.interp(t, self.t_d.flatten(),self.xd[:,ii].flatten()) for ii in range(self.xd.shape[1])]\n",
    "\n",
    "    def desired_state_dot_(self, t):\n",
    "        return [np.interp(t, self.t_d.flatten(),self.xd_dot[:,ii].flatten()) for ii in range(self.xd_dot.shape[1])]\n",
    "\n",
    "class QuadrotorTrajectoryOutput(ConfigurationDynamics):\n",
    "    def __init__(self, bilinear_dynamics, y_d, y_d_dot, y_d_ddot, dt, z_d=None, z_d_dot=None, z_d_ddot=None, C_h=None):\n",
    "        ConfigurationDynamics.__init__(self, bilinear_dynamics, 2)\n",
    "        self.bilinear_dynamics = bilinear_dynamics\n",
    "        self.ref = y_d\n",
    "        self.ref_dot = y_d_dot\n",
    "        self.ref_ddot = y_d_ddot\n",
    "\n",
    "        self.ref_z = z_d\n",
    "        self.ref_dot_z = z_d_dot\n",
    "        self.ref_ddot_z = z_d_ddot\n",
    "\n",
    "        self.C_h = C_h\n",
    "        self.dt = dt\n",
    "        self.t_d = self.dt * np.arange(0, self.ref.shape[1])\n",
    "\n",
    "    def eval_z(self, x, t):\n",
    "        z = self.bilinear_dynamics.phi_fun(x.reshape(1,-1)).squeeze()\n",
    "        return z - self.z_d(t)\n",
    "\n",
    "    def y(self, q):\n",
    "        return q\n",
    "\n",
    "    def dydq(self, q):\n",
    "        return np.array([[1, 0], [0, 1]])\n",
    "\n",
    "    def d2ydq2(self, q):\n",
    "        return np.zeros((1, 2, 2))\n",
    "\n",
    "    def y_d(self, t):\n",
    "        return self.interpolate_ref_(self.ref, t)\n",
    "\n",
    "    def y_d_dot(self, t):\n",
    "        return self.interpolate_ref_(self.ref_dot, t)\n",
    "\n",
    "    def y_d_ddot(self, t):\n",
    "        return self.interpolate_ref_(self.ref_ddot, t)\n",
    "\n",
    "    def z_d(self, t):\n",
    "        return self.interpolate_ref_(self.ref_z, t)\n",
    "\n",
    "    def z_d_dot(self, t):\n",
    "        return self.interpolate_ref_(self.ref_dot_z, t)\n",
    "\n",
    "    def z_d_ddot(self, t):\n",
    "        return self.interpolate_ref_(self.ref_ddot_z, t)\n",
    "\n",
    "    def interpolate_ref_(self, ref, t):\n",
    "        return np.array([np.interp(t, self.t_d, ref[ii, :]) for ii in range(ref.shape[0])])"
   ]
  },
  {
   "cell_type": "markdown",
   "source": [
    "## Planar Quadrotor Example"
   ],
   "metadata": {
    "collapsed": false,
    "pycharm": {
     "name": "#%% md\n"
    }
   }
  },
  {
   "cell_type": "markdown",
   "source": [
    "Consider a planar quadrotor with states $\\mathbf{x} = [y \\, z \\, \\theta \\, \\dot{y} \\, \\dot{z} \\, \\dot{\\theta}]^T$ and continuous-time dynamics\n",
    "\n",
    "\\begin{equation}\n",
    "    \\begin{bmatrix} \\ddot{y} \\\\ \\ddot{z} \\\\ \\ddot{\\theta} \\end{bmatrix}\n",
    "    = \\begin{bmatrix}\n",
    "    0\\\\-g\\\\0\n",
    "    \\end{bmatrix} +\n",
    "    \\begin{bmatrix}\n",
    "    -\\frac{1}{m}\\text{sin}\\theta & -\\frac{1}{m}\\text{sin}\\theta\\\\\n",
    "    \\frac{1}{m}\\text{cos}\\theta & \\frac{1}{m}\\text{cos}\\theta\\\\\n",
    "    -\\frac{l_{arm}}{I_{xx}} & \\frac{l_{arm}}{I_{xx}}\n",
    "    \\end{bmatrix}\n",
    "    \\begin{bmatrix}\n",
    "    T_1 \\\\ T_2\n",
    "    \\end{bmatrix}\n",
    "\\end{equation}\n",
    "\n",
    "where $y,z$ describe the position of the vehicle in a fixed reference frame, $\\theta$ is the orientation of the vehicle,\n",
    "$T_1, T_2$ are the thrust from each of the propellers, $g$ is the gravitational acceleration, $m$ is the vehicle mass,\n",
    "$l_{arm}$ is the distance from the vehicle's center of mass to the center of the propeller, and $I_{xx}$ is the inertia\n",
    "around the x-axis."
   ],
   "metadata": {
    "collapsed": false
   }
  },
  {
   "cell_type": "code",
   "execution_count": 107,
   "outputs": [],
   "source": [
    "# Cart pole system parameters\n",
    "mass = 2.\n",
    "inertia = 1.\n",
    "prop_arm = 0.2\n",
    "gravity = 9.81\n",
    "quadrotor = PlanarQuadrotorForceInput(mass, inertia, prop_arm, g=gravity)\n",
    "\n",
    "# Linearized system specification:\n",
    "n, m = 6, 2                                                         # Number of states, number of control inputs\n",
    "A_nom = np.array([[0., 0., 0., 1., 0., 0.],                         # Linearization of the true system around the origin\n",
    "                  [0., 0., 0., 0., 1., 0.],\n",
    "                  [0., 0., 0., 0., 0., 1.],\n",
    "                  [0., 0., -gravity, 0., 0., 0.],\n",
    "                  [0., 0., 0., 0., 0., 0.],\n",
    "                  [0., 0., 0., 0., 0., 0.]])\n",
    "B_nom = np.array([[0., 0.],                                         # Linearization of the true system around the origin\n",
    "                  [0., 0.],\n",
    "                  [0., 0.],\n",
    "                  [0., 0.],\n",
    "                  [1./mass, 1./mass],\n",
    "                  [-prop_arm/inertia, prop_arm/inertia]])\n",
    "\n",
    "hover_thrust = mass*gravity/m"
   ],
   "metadata": {
    "collapsed": false,
    "pycharm": {
     "name": "#%%\n"
    }
   }
  },
  {
   "cell_type": "markdown",
   "source": [
    "### Collect data for learning"
   ],
   "metadata": {
    "collapsed": false,
    "pycharm": {
     "name": "#%% md\n"
    }
   }
  },
  {
   "cell_type": "markdown",
   "source": [
    "To collect data, a nominal controller is designed with LQR on the dynamics's linearization around hover. However, any\n",
    "controller can be used and the method does not require the knowledge of model's linearization. In addition, a\n",
    "exploratory white noise is added to the controller to ensure that the data is sufficiently excited. Note that the system\n",
    "is underactuated and that trajectory optimization is necessary to control the position of the vehicle. We use a\n",
    "simplified trajectory generator based on a model predictive controller for the linearized dynamics. More careful design\n",
    "of the desired trajectory may be necessary for more demanding applications and this is readily compatible with our method.\n",
    "\n"
   ],
   "metadata": {
    "collapsed": false,
    "pycharm": {
     "name": "#%% md\n"
    }
   }
  },
  {
   "cell_type": "code",
   "execution_count": 108,
   "outputs": [],
   "source": [
    "q_dc, r_dc = 1e2, 1                                                 # State and actuation penalty values, data collection\n",
    "Q_dc = q_dc * np.identity(n)                                        # State penalty matrix, data collection\n",
    "R_dc = r_dc*np.identity(m)                                          # Actuation penalty matrix, data collection\n",
    "P_dc = sc.linalg.solve_continuous_are(A_nom, B_nom, Q_dc, R_dc)     # Algebraic Ricatti equation solution, data collection\n",
    "K_dc = np.linalg.inv(R_dc)@B_nom.T@P_dc                             # LQR feedback gain matrix, data collection\n",
    "K_dc_p = K_dc[:,:int(n/2)]                                          # Proportional control gains, data collection\n",
    "K_dc_d = K_dc[:,int(n/2):]                                          # Derivative control gains, data collection\n",
    "nominal_sys = LinearSystemDynamics(A=A_nom, B=B_nom)\n",
    "\n",
    "# Data collection parameters:\n",
    "dt = 1.0e-2                                                         # Time step length\n",
    "traj_length_dc = 2.                                                 # Trajectory length, data collection\n",
    "n_pred_dc = int(traj_length_dc/dt)                                  # Number of time steps, data collection\n",
    "t_eval = dt * np.arange(n_pred_dc + 1)                              # Simulation time points\n",
    "n_traj_dc = 50                                                      # Number of trajectories to execute, data collection\n",
    "noise_var = 1.                                                      # Exploration noise to perturb controller, data collection\n",
    "\n",
    "xmax = np.array([2, 2, np.pi/3, 2.,2.,2.])                          # State constraints, trajectory generation\n",
    "xmin = -xmax\n",
    "umax = np.array([50., 50.]) - hover_thrust                          # Actuation constraint, trajectory generation\n",
    "umin = np.array([0., 0.]) - hover_thrust\n",
    "x0_max = np.array([xmax[0], xmax[1], xmax[2], 1., 1., 1.])          # Initial value limits\n",
    "Q_trajgen = sc.sparse.diags([0,0,0,0,0,0])                          # State penalty matrix, trajectory generation\n",
    "QN_trajgen = sc.sparse.diags([5e1,5e1,5e1,1e1,1e1,1e1])             # Final state penalty matrix, trajectory generation\n",
    "R_trajgen = sc.sparse.eye(m)                                        # Actuation penalty matrix, trajectory generation\n",
    "sub_sample_rate = 5                                                 # Rate to subsample data for training\n",
    "model_fname = 'examples/planar_quad_models'                         # Path to save learned models\n",
    "n_cols = 10                                                         # Number of columns in training data plot"
   ],
   "metadata": {
    "collapsed": false,
    "pycharm": {
     "name": "#%%\n"
    }
   }
  },
  {
   "cell_type": "code",
   "execution_count": null,
   "outputs": [],
   "source": [
    "xd = np.empty((n_traj_dc, n_pred_dc + 1, n))\n",
    "xs = np.empty((n_traj_dc, n_pred_dc + 1, n))\n",
    "us = np.empty((n_traj_dc, n_pred_dc, m))\n",
    "\n",
    "plt.figure(figsize=(12, 12 * n_traj_dc / (n_cols ** 2)))\n",
    "for ii in range(n_traj_dc):\n",
    "    x0 = np.asarray([rand.uniform(l, u) for l, u in zip(-x0_max, x0_max)])\n",
    "    set_pt_dc = np.asarray([rand.uniform(l, u) for l, u in zip(-x0_max, x0_max)])\n",
    "    mpc_trajgen = MPCController(nominal_sys, n_pred_dc, dt, umin, umax, xmin, xmax, QN_trajgen, R_trajgen,\n",
    "                                QN_trajgen, set_pt_dc)\n",
    "    mpc_trajgen.eval(x0, 0)\n",
    "    xd[ii, :, :] = mpc_trajgen.parse_result().T\n",
    "    while abs(x0[0]) < 1.25 or np.any(np.isnan(xd[ii, :, :])):\n",
    "        x0 = np.asarray([rand.uniform(l, u) for l, u in zip(-x0_max, x0_max)])\n",
    "        set_pt_dc = np.asarray([rand.uniform(l, u) for l, u in zip(-x0_max, x0_max)])\n",
    "        mpc_trajgen = MPCController(nominal_sys, n_pred_dc, dt, umin, umax, xmin, xmax, QN_trajgen, R_trajgen,\n",
    "                                    QN_trajgen, set_pt_dc)\n",
    "        mpc_trajgen.eval(x0, 0)\n",
    "        xd[ii, :, :] = mpc_trajgen.parse_result().T\n",
    "\n",
    "    output = QuadrotorPdOutput(quadrotor, xd[ii, :, :], t_eval, n, m)\n",
    "    pd_controller = PDController(output, K_dc_p, K_dc_d)\n",
    "    perturbed_pd_controller = PerturbedController(quadrotor, pd_controller, noise_var, const_offset=hover_thrust)\n",
    "    xs[ii, :, :], us[ii, :, :] = quadrotor.simulate(x0, perturbed_pd_controller, t_eval)\n",
    "\n",
    "    plt.subplot(int(np.ceil(n_traj_dc / n_cols)), n_cols, ii + 1)\n",
    "    plt.plot(t_eval, xs[ii, :, 0], 'b', label='$y$')\n",
    "    plt.plot(t_eval, xs[ii, :, 1], 'g', label='$z$')\n",
    "    plt.plot(t_eval, xs[ii, :, 2], 'r', label='$\\\\theta$')\n",
    "    plt.plot(t_eval, xd[ii, :, 0], '--b', label='$y_d$')\n",
    "    plt.plot(t_eval, xd[ii, :, 1], '--g', label='$z_d$')\n",
    "    plt.plot(t_eval, xd[ii, :, 2], '--r', label='$\\\\theta_d$')\n",
    "\n",
    "plt.suptitle(\n",
    "    'Training data \\nx-axis: time (sec), y-axis: state value, $x$ - blue, $xd$ - dotted blue, $\\\\theta$ - red, $\\\\theta_d$ - dotted red',\n",
    "    y=0.94)\n",
    "plt.show()"
   ],
   "metadata": {
    "collapsed": false,
    "pycharm": {
     "name": "#%%\n",
     "is_executing": true
    }
   }
  },
  {
   "cell_type": "markdown",
   "source": [
    "### Learn a linear model with dynamic mode decomposition (DMD)"
   ],
   "metadata": {
    "collapsed": false,
    "pycharm": {
     "name": "#%% md\n"
    }
   }
  },
  {
   "cell_type": "markdown",
   "source": [
    "To compare our method with existing techniques, we first learn a linear state space model from data. This is dubbed\n",
    "dynamic mode decomposition. I.e. we use linear regression with LASSO regularization to learn an approximate linear model\n",
    "with model structure\n",
    "\n",
    "\\begin{equation}\n",
    "    \\mathbf{\\dot{x}} = A_{dmd}\\mathbf{x} + B_{dmd}\\mathbf{u}\n",
    "\\end{equation}"
   ],
   "metadata": {
    "collapsed": false,
    "pycharm": {
     "name": "#%% md\n"
    }
   }
  },
  {
   "cell_type": "code",
   "execution_count": null,
   "outputs": [],
   "source": [
    "#DMD parameters:\n",
    "alpha_dmd = 1.4e-2                                                  # Regularization strength (LASSO) DMD\n",
    "tune_mdl_dmd = False"
   ],
   "metadata": {
    "collapsed": false,
    "pycharm": {
     "name": "#%%\n",
     "is_executing": true
    }
   }
  },
  {
   "cell_type": "code",
   "execution_count": null,
   "outputs": [],
   "source": [
    "basis = lambda x: x\n",
    "C_dmd = np.eye(n)\n",
    "\n",
    "optimizer_dmd = linear_model.MultiTaskLasso(alpha=alpha_dmd, fit_intercept=False, selection='random')\n",
    "cv_dmd = linear_model.MultiTaskLassoCV(fit_intercept=False, n_jobs=-1, cv=3, selection='random')\n",
    "standardizer_dmd = preprocessing.StandardScaler(with_mean=False)\n",
    "\n",
    "model_dmd = Edmd(n, m, basis, n, n_traj_dc, optimizer_dmd, cv=cv_dmd, standardizer=standardizer_dmd, C=C_dmd, first_obs_const=False)\n",
    "xdmd, y_dmd = model_dmd.process(xs, us-hover_thrust, np.tile(t_eval,(n_traj_dc,1)), downsample_rate=sub_sample_rate)\n",
    "model_dmd.fit(xdmd, y_dmd, cv=tune_mdl_dmd, override_kinematics=True)\n",
    "sys_dmd = LinearLiftedDynamics(model_dmd.A, model_dmd.B, model_dmd.C, model_dmd.basis)\n",
    "if tune_mdl_dmd:\n",
    "    print('$\\\\alpha$ DMD: ',model_dmd.cv.alpha_)"
   ],
   "metadata": {
    "collapsed": false,
    "pycharm": {
     "name": "#%%\n",
     "is_executing": true
    }
   }
  },
  {
   "cell_type": "markdown",
   "source": [
    "### Learn a lifted linear model with extended dynamic mode decomposition (EDMD)"
   ],
   "metadata": {
    "collapsed": false,
    "pycharm": {
     "name": "#%% md\n"
    }
   }
  },
  {
   "cell_type": "markdown",
   "source": [
    "In addition, we compare our method with the current state of the art of Koopman based learning, the extended dynamic mode\n",
    "decomposition. We use a dictionary of nonlinear functions $\\boldsymbol{\\phi(x)}$ to lift the state variables and learn a lifted state space model\n",
    "of the dynamics. I.e. we first lift and then use linear regression with LASSO regularization to learn an approximate\n",
    "lifted linear model with model structure\n",
    "\n",
    "\\begin{equation}\n",
    "    \\mathbf{\\dot{z}} = A_{edmd}\\mathbf{z} + B_{edmd}\\mathbf{u}, \\qquad \\mathbf{z} = \\boldsymbol{\\phi(x)}\n",
    "\\end{equation}"
   ],
   "metadata": {
    "collapsed": false,
    "pycharm": {
     "name": "#%% md\n"
    }
   }
  },
  {
   "cell_type": "code",
   "execution_count": null,
   "outputs": [],
   "source": [
    "#EDMD parameters:\n",
    "alpha_edmd = 1.1e-1                                                 # Regularization strength (LASSO) EDMD\n",
    "tune_mdl_edmd = False"
   ],
   "metadata": {
    "collapsed": false,
    "pycharm": {
     "name": "#%%\n",
     "is_executing": true
    }
   }
  },
  {
   "cell_type": "code",
   "execution_count": null,
   "outputs": [],
   "source": [
    "basis = PolySineBasis(n, poly_deg=2, cross_terms=False)\n",
    "basis.construct_basis()\n",
    "poly_sine_features = preprocessing.FunctionTransformer(basis.basis)\n",
    "poly_sine_features.fit(np.zeros((1,n)))\n",
    "n_lift_edmd = poly_sine_features.transform((np.zeros((1,n)))).shape[1]\n",
    "C_edmd = np.zeros((n,n_lift_edmd))\n",
    "C_edmd[:,1:n+1] = np.eye(n)\n",
    "\n",
    "optimizer_edmd = linear_model.MultiTaskLasso(alpha=alpha_edmd, fit_intercept=False, selection='random')\n",
    "cv_edmd = linear_model.MultiTaskLassoCV(fit_intercept=False, n_jobs=-1, cv=3, selection='random')\n",
    "standardizer_edmd = preprocessing.StandardScaler(with_mean=False)\n",
    "\n",
    "model_edmd = Edmd(n, m, basis.basis, n_lift_edmd, n_traj_dc, optimizer_edmd, cv=cv_edmd, standardizer=standardizer_edmd, C=C_edmd)\n",
    "X_edmd, y_edmd = model_edmd.process(xs, us-hover_thrust, np.tile(t_eval,(n_traj_dc,1)), downsample_rate=sub_sample_rate)\n",
    "model_edmd.fit(X_edmd, y_edmd, cv=tune_mdl_edmd, override_kinematics=True)\n",
    "model_edmd.reduce_mdl()\n",
    "sys_edmd = LinearLiftedDynamics(model_edmd.A, model_edmd.B, model_edmd.C, model_edmd.basis_reduced)\n",
    "if tune_mdl_edmd:\n",
    "    print('$\\\\alpha$ EDMD: ',model_edmd.cv.alpha_)\n"
   ],
   "metadata": {
    "collapsed": false,
    "pycharm": {
     "name": "#%%\n",
     "is_executing": true
    }
   }
  },
  {
   "cell_type": "markdown",
   "source": [
    "### Learn a lifted bilinear model with bilinear extended mode decomposition (bEDMD)"
   ],
   "metadata": {
    "collapsed": false,
    "pycharm": {
     "name": "#%% md\n"
    }
   }
  },
  {
   "cell_type": "markdown",
   "source": [
    "Finally, we use the method developed in the paper to learn a lifted bilinear model of the dynamics, dubbed bilinear\n",
    "extended mode decomposition (bEDMD). I.e. we first lift and then use linear regression with LASSO regularization to learn an approximate\n",
    "lifted linear model with model structure\n",
    "\n",
    "\\begin{equation}\n",
    "    \\mathbf{\\dot{z}}=F\\mathbf{z}+\\sum_{i=1}^m G_i\\mathbf{z}\\mathbf{u}_i, \\qquad \\mathbf{z} = \\boldsymbol{\\phi(x)}\n",
    "\\end{equation}"
   ],
   "metadata": {
    "collapsed": false,
    "pycharm": {
     "name": "#%% md\n"
    }
   }
  },
  {
   "cell_type": "code",
   "execution_count": null,
   "outputs": [],
   "source": [
    "#Bilinear EDMD parameters:\n",
    "alpha_bedmd_init = 1.9e-2                                           # Regularization strength (LASSO) bEDMD\n",
    "alpha_bedmd = 1.9e-2\n",
    "tune_mdl_bedmd = False"
   ],
   "metadata": {
    "collapsed": false,
    "pycharm": {
     "name": "#%%\n",
     "is_executing": true
    }
   }
  },
  {
   "cell_type": "code",
   "execution_count": null,
   "outputs": [],
   "source": [
    "n_lift_bedmd = n_lift_edmd\n",
    "C_bedmd = np.zeros((n,n_lift_bedmd))\n",
    "C_bedmd[:,1:n+1] = np.eye(n)\n",
    "\n",
    "basis_bedmd = lambda x: poly_sine_features.transform(x)\n",
    "optimizer_bedmd = linear_model.MultiTaskLasso(alpha=alpha_bedmd, fit_intercept=False, selection='random')\n",
    "cv_bedmd = linear_model.MultiTaskLassoCV(fit_intercept=False, n_jobs=-1, cv=3, selection='random')\n",
    "standardizer_bedmd = preprocessing.StandardScaler(with_mean=False)\n",
    "\n",
    "model_bedmd = BilinearEdmd(n, m, basis_bedmd, n_lift_bedmd, n_traj_dc, optimizer_bedmd, cv=cv_bedmd, standardizer=standardizer_bedmd, C=C_bedmd)\n",
    "X_bedmd, y_bedmd = model_bedmd.process(xs, us-hover_thrust, np.tile(t_eval,(n_traj_dc,1)), downsample_rate=sub_sample_rate)\n",
    "model_bedmd.fit(X_bedmd, y_bedmd, cv=tune_mdl_bedmd, override_kinematics=True)\n",
    "sys_bedmd = BilinearLiftedDynamics(model_bedmd.n_lift, m, model_bedmd.A, model_bedmd.B, model_bedmd.C, model_bedmd.basis)\n",
    "if tune_mdl_bedmd:\n",
    "    print('$\\\\alpha$ bilinear EDMD: ', model_bedmd.cv.alpha_)\n",
    "    "
   ],
   "metadata": {
    "collapsed": false,
    "pycharm": {
     "name": "#%%\n",
     "is_executing": true
    }
   }
  },
  {
   "cell_type": "markdown",
   "source": [
    "### Evaluate open loop prediction performance"
   ],
   "metadata": {
    "collapsed": false
   }
  },
  {
   "cell_type": "markdown",
   "source": [
    "We first evaluate the open loop prediction performance of the proposed method.\n",
    "This is done by generating a new data set in the same way as the training set, predicting the evolution of the system\n",
    "with the control sequence of each trajectory executed in the data set with each of the models, and finally comparing\n",
    "the mean and standard deviation of the error between the true and predicted evolution over the trajectories. The\n",
    "experimental results support what is to be expected from the theory as the error in the $y$ and $z$ terms are\n",
    "significantly lower for the bEDMD method than both DMD and EDMD. The reason for this\n",
    "improvement is that the bEDMD method can capture the nonlinearities present in the actuation matrix of the\n",
    "$(y,z)$-dynamics."
   ],
   "metadata": {
    "collapsed": false,
    "pycharm": {
     "name": "#%% md\n"
    }
   }
  },
  {
   "cell_type": "code",
   "execution_count": null,
   "outputs": [],
   "source": [
    "# Prediction performance evaluation parameters:\n",
    "folder_plots = 'examples/figures/'                                  # Path to save plots\n",
    "n_traj_ol = 100                                                      # Number of trajectories to execute, open loop"
   ],
   "metadata": {
    "collapsed": false,
    "pycharm": {
     "name": "#%%\n",
     "is_executing": true
    }
   }
  },
  {
   "cell_type": "code",
   "execution_count": null,
   "outputs": [],
   "source": [
    "xs_ol = np.empty((n_traj_ol, t_eval.shape[0], n))\n",
    "xs_dmd_ol = np.empty((n_traj_ol, t_eval.shape[0]-1, n))\n",
    "xs_edmd_ol = np.empty((n_traj_ol, t_eval.shape[0]-1, n))\n",
    "xs_bedmd_ol = np.empty((n_traj_ol, t_eval.shape[0]-1, n))\n",
    "us_test = np.empty((n_traj_ol, t_eval.shape[0]-1, m))\n",
    "\n",
    "for ii in range(n_traj_ol):\n",
    "    x0 = np.asarray([rand.uniform(l, u) for l, u in zip(-x0_max, x0_max)])\n",
    "    set_pt_dc = np.asarray([rand.uniform(l, u) for l, u in zip(-x0_max, x0_max)])\n",
    "    mpc_trajgen = MPCController(nominal_sys, n_pred_dc, dt, umin, umax, xmin, xmax, QN_trajgen, R_trajgen,\n",
    "                                QN_trajgen, set_pt_dc)\n",
    "    mpc_trajgen.eval(x0, 0)\n",
    "    xd = mpc_trajgen.parse_result().T\n",
    "\n",
    "    while xd[0,0] is None:\n",
    "        x0 = np.asarray([rand.uniform(l, u) for l, u in zip(-x0_max, x0_max)])\n",
    "        set_pt_dc = np.asarray([rand.uniform(l, u) for l, u in zip(-x0_max, x0_max)])\n",
    "        mpc_trajgen = MPCController(nominal_sys, n_pred_dc, dt, umin, umax, xmin, xmax, QN_trajgen, R_trajgen,\n",
    "                                    QN_trajgen, set_pt_dc)\n",
    "        mpc_trajgen.eval(x0, 0)\n",
    "        xd = mpc_trajgen.parse_result().T\n",
    "\n",
    "    output = QuadrotorPdOutput(quadrotor, xd, t_eval, n, m)\n",
    "    pd_controller = PDController(output, K_dc_p, K_dc_d)\n",
    "    perturbed_pd_controller = PerturbedController(quadrotor, pd_controller, noise_var, const_offset=mass * gravity / 2)\n",
    "\n",
    "    xs_ol[ii,:,:], us_test[ii,:,:] = quadrotor.simulate(x0, perturbed_pd_controller, t_eval)\n",
    "    ol_controller_nom = OpenLoopController(sys_bedmd, us_test[ii,:,:]-hover_thrust, t_eval[:-1])\n",
    "\n",
    "    xs_dmd_ol[ii,:,:], _ = sys_dmd.simulate(x0, ol_controller_nom, t_eval[:-1])\n",
    "\n",
    "    z_0_edmd = sys_edmd.phi_fun(np.atleast_2d(x0)).squeeze()\n",
    "    zs_edmd_tmp, _ = sys_edmd.simulate(z_0_edmd, ol_controller_nom, t_eval[:-1])\n",
    "    xs_edmd_ol[ii,:,:] = np.dot(model_edmd.C, zs_edmd_tmp.T).T\n",
    "\n",
    "    z_0_bedmd = sys_bedmd.phi_fun(np.atleast_2d(x0)).squeeze()\n",
    "    zs_bedmd_tmp, _ = sys_bedmd.simulate(z_0_bedmd, ol_controller_nom, t_eval[:-1])\n",
    "    xs_bedmd_ol[ii,:,:] = np.dot(model_bedmd.C, zs_bedmd_tmp.T).T\n",
    "\n",
    "error_dmd = xs_ol[:,:-1,:] - xs_dmd_ol\n",
    "error_dmd_mean = np.mean(error_dmd, axis=0).T\n",
    "error_dmd_std = np.std(error_dmd, axis=0).T\n",
    "mse_dmd = np.mean(np.mean(np.mean(np.square(error_dmd))))\n",
    "\n",
    "error_edmd = xs_ol[:,:-1,:] - xs_edmd_ol\n",
    "error_edmd_mean = np.mean(error_edmd, axis=0).T\n",
    "error_edmd_std = np.std(error_edmd, axis=0).T\n",
    "mse_edmd = np.mean(np.mean(np.mean(np.square(error_edmd))))\n",
    "\n",
    "error_bedmd = xs_ol[:,:-1,:] - xs_bedmd_ol\n",
    "error_bedmd_mean = np.mean(error_bedmd, axis=0).T\n",
    "error_bedmd_std = np.std(error_bedmd, axis=0).T\n",
    "mse_bedmd = np.mean(np.mean(np.mean(np.square(error_bedmd))))\n",
    "\n",
    "print('\\nOpen loop performance statistics:')\n",
    "print('   MSE DMD:   ', \"{:.3f}\".format(mse_dmd),\n",
    "      '\\n   MSE EDMD:  ', \"{:.3f}\".format(mse_edmd),\n",
    "      '\\n   MSE bEDMD: ', \"{:.3f}\".format(mse_bedmd))\n",
    "print('   Improvement DMD -> EDMD:   ', \"{:.2f}\".format((1 - mse_edmd / mse_dmd) * 100), ' %'\n",
    "      '\\n   Improvement DMD -> bEDMD:  ', \"{:.2f}\".format((1 - mse_bedmd / mse_dmd) * 100), ' %'\n",
    "      '\\n   Improvement EDMD -> bEDMD: ', \"{:.2f}\".format((1 - mse_bedmd / mse_edmd) * 100), ' %')"
   ],
   "metadata": {
    "collapsed": false,
    "pycharm": {
     "name": "#%%\n",
     "is_executing": true
    }
   }
  },
  {
   "cell_type": "code",
   "execution_count": null,
   "outputs": [],
   "source": [
    "import matplotlib.pyplot as plt\n",
    "import matplotlib\n",
    "\n",
    "figwidth = 12\n",
    "lw = 2\n",
    "fs = 16\n",
    "y_lim_gain = 1.2\n",
    "\n",
    "#Plot open loop results:\n",
    "ylabels = ['$e_{y}$', '$e_z$', '$e_{\\\\theta}$']\n",
    "plt.figure(figsize=(figwidth,3))\n",
    "for ii in range(3):\n",
    "    plt.subplot(1,3,ii+1)\n",
    "    plt.plot(t_eval[:-1], error_dmd_mean[ii,:], linewidth=lw, label='DMD')\n",
    "    plt.fill_between(t_eval[:-1], error_dmd_mean[ii,:] - error_dmd_std[ii,:], error_dmd_mean[ii,:] + error_dmd_std[ii,:], alpha=0.2)\n",
    "    plt.plot(t_eval[:-1], error_edmd_mean[ii, :], linewidth=lw, label='EDMD')\n",
    "    plt.fill_between(t_eval[:-1], error_edmd_mean[ii, :] - error_edmd_std[ii, :],error_edmd_mean[ii, :] + error_edmd_std[ii, :], alpha=0.2)\n",
    "    plt.plot(t_eval[:-1], error_bedmd_mean[ii, :], linewidth=lw, label='bEDMD')\n",
    "    plt.fill_between(t_eval[:-1], error_bedmd_mean[ii, :] - error_bedmd_std[ii, :],error_bedmd_mean[ii, :] + error_bedmd_std[ii, :], alpha=0.2)\n",
    "    ylim = max(max(np.abs(error_bedmd_mean[ii, :] - error_bedmd_std[ii, :])), max(np.abs(error_bedmd_mean[ii, :] + error_bedmd_std[ii, :])))\n",
    "    plt.ylim([-ylim * y_lim_gain, ylim * y_lim_gain])\n",
    "    plt.xlabel('$t$ (sec)', fontsize=fs)\n",
    "    plt.ylabel(ylabels[ii], fontsize=fs)\n",
    "    plt.grid()\n",
    "\n",
    "plt.legend(loc='upper left', fontsize=fs-4)\n",
    "suptitle = plt.suptitle('Open loop prediction error of DMD, EDMD and bilinear EDMD models', y=1.05, fontsize=18)\n",
    "matplotlib.rcParams['pdf.fonttype'] = 42\n",
    "matplotlib.rcParams['ps.fonttype'] = 42\n",
    "plt.tight_layout()\n",
    "plt.savefig(folder_plots + 'planar_quad_prediction.pdf', format='pdf', dpi=2400, bbox_extra_artists=(suptitle,), bbox_inches=\"tight\")\n",
    "plt.show()\n"
   ],
   "metadata": {
    "collapsed": false,
    "pycharm": {
     "name": "#%%\n",
     "is_executing": true
    }
   }
  },
  {
   "cell_type": "markdown",
   "source": [
    "### Evaluate closed loop performance"
   ],
   "metadata": {
    "collapsed": false
   }
  },
  {
   "cell_type": "markdown",
   "source": [
    "We now study the closed loop performance of the control design. A trajectory is designed\n",
    "to move the system from $(y_0,z_0) = (-1,0)$ to $(y_f,z_f) = (1,1)$. Then, the feedback linearizing controller is\n",
    "designed to track the trajectory in the $z,\\theta$ coordinates. These coordinates are chosen to avoid singularities\n",
    "present in the $y,z$ coordinates. Comparing the closed loop performance of the feedback linearization based on the\n",
    "bEDMD with LQR controllers designed using the DMD and EDMD models, we observe that the trajectory tracking error is\n",
    "significantly reduced while expending only somewhat more control effort."
   ],
   "metadata": {
    "collapsed": false,
    "pycharm": {
     "name": "#%% md\n"
    }
   }
  },
  {
   "cell_type": "code",
   "execution_count": null,
   "outputs": [],
   "source": [
    "#Closed loop performance evaluation parameters:\n",
    "x0_cl = np.array([-1., 0., 0., 0., 0., 0.])                         # Initial value, closed loop trajectory\n",
    "set_pt_cl = np.array([1., 1., 0., 0., 0., 0.])                      # Desired final value, closed loop trajectory\n",
    "t_eval_cl = dt * np.arange(201)                                     # Simulation time points, closed loop\n",
    "Q_trajgen_cl = sc.sparse.diags([0,0,0,0,0,0])                       # State penalty matrix, trajectory generation\n",
    "QN_trajgen_cl = sc.sparse.diags([3e2,3e2,3e2,1e2,1e2,1e2])          # Final state penalty matrix, trajectory generation\n",
    "R_trajgen_cl = sc.sparse.eye(m)                                     # Actuation penalty matrix, trajectory generation\n",
    "mpc_trajgen_cl = MPCController(nominal_sys,t_eval_cl.size,dt,umin,umax,xmin,xmax,QN_trajgen_cl,R_trajgen_cl,QN_trajgen_cl,set_pt_cl)\n",
    "q_cl, r_cl = 2e1, 1                                                  # State and actuation penalty values, closed loop\n",
    "output_inds = np.array([1, 2])                                      # Output states, feedback linearizing controller\n",
    "\n",
    "# Generate trajectory:\n",
    "mpc_trajgen_cl.eval(x0_cl, 0)\n",
    "xr_cl = mpc_trajgen_cl.parse_result()[:,:-1]\n",
    "ur_cl = mpc_trajgen_cl.get_control_prediction()\n",
    "xr_cl_dot = nominal_sys.eval_dot(xr_cl,ur_cl,0.)\n",
    "\n",
    "# Define outputs:\n",
    "y_d = xr_cl[output_inds,:]\n",
    "y_d_dot = xr_cl[output_inds+int(n/2),:]\n",
    "y_d_ddot = xr_cl_dot[output_inds+int(n/2),:]"
   ],
   "metadata": {
    "collapsed": false,
    "pycharm": {
     "name": "#%%\n",
     "is_executing": true
    }
   }
  },
  {
   "cell_type": "markdown",
   "source": [
    "##### Design LQR controller based on DMD model"
   ],
   "metadata": {
    "collapsed": false
   }
  },
  {
   "cell_type": "code",
   "execution_count": null,
   "outputs": [],
   "source": [
    "Q_dmd = q_cl*np.identity(n)\n",
    "R_dmd = r_cl*np.identity(m)\n",
    "P_dmd = sc.linalg.solve_continuous_are(model_dmd.A, model_dmd.B, Q_dmd, R_dmd)\n",
    "K_dmd = np.linalg.inv(R_dmd)@model_dmd.B.T@P_dmd\n",
    "K_dmd_p, K_dmd_d = K_dmd[:,:int(n/2)], K_dmd[:,int(n/2):]\n",
    "output_dmd = QuadrotorPdOutput(sys_dmd, xr_cl.T, t_eval_cl, n, m)\n",
    "controller_dmd = PDController(output_dmd, K_dmd_p, K_dmd_d)\n",
    "controller_dmd = PerturbedController(sys_dmd,controller_dmd,0.,const_offset=hover_thrust, umin=umin, umax=umax)"
   ],
   "metadata": {
    "collapsed": false,
    "pycharm": {
     "name": "#%%\n",
     "is_executing": true
    }
   }
  },
  {
   "cell_type": "markdown",
   "source": [
    "##### Design LQR controller based on EDMD model"
   ],
   "metadata": {
    "collapsed": false
   }
  },
  {
   "cell_type": "code",
   "execution_count": null,
   "outputs": [],
   "source": [
    "z_d_edmd = np.array([sys_edmd.phi_fun(x.reshape(1,-1)).squeeze() for x in xr_cl.T]).T\n",
    "z_d_dot_edmd = differentiate_vec(z_d_edmd.T, t_eval_cl).T\n",
    "z_d_ddot_edmd = differentiate_vec(z_d_dot_edmd.T, t_eval_cl).T\n",
    "output_edmd = QuadrotorTrajectoryOutput(sys_edmd, y_d, y_d_dot, y_d_ddot, dt, z_d_edmd, z_d_dot_edmd, z_d_ddot_edmd, model_edmd.C[output_inds,:])\n",
    "\n",
    "Q_edmd = q_cl*np.identity(sys_edmd.n)\n",
    "R_edmd = r_cl*np.identity(m)\n",
    "P_edmd = sc.linalg.solve_continuous_are(sys_edmd.A, sys_edmd.B, Q_edmd, R_edmd)\n",
    "K_edmd = np.linalg.inv(R_edmd)@model_edmd.B.T@P_edmd\n",
    "controller_edmd = LinearLiftedController(output_edmd, K_edmd)\n",
    "controller_edmd = PerturbedController(quadrotor, controller_edmd,0.,const_offset=hover_thrust, umin=umin, umax=umax)\n"
   ],
   "metadata": {
    "collapsed": false,
    "pycharm": {
     "name": "#%%\n",
     "is_executing": true
    }
   }
  },
  {
   "cell_type": "markdown",
   "source": [
    "##### Design feedback linearizing controller based on bEDMD model"
   ],
   "metadata": {
    "collapsed": false
   }
  },
  {
   "cell_type": "code",
   "execution_count": null,
   "outputs": [],
   "source": [
    "k = m\n",
    "n_lift_bedmd = sys_bedmd.n\n",
    "Q_bedmd = q_cl*np.eye(int(2*n_lift_bedmd))\n",
    "R_bedmd = r_cl*np.eye(n_lift_bedmd)\n",
    "C_h = model_bedmd.C[output_inds,:]\n",
    "\n",
    "z_d_bedmd = np.array([sys_bedmd.phi_fun(x.reshape(1,-1)).squeeze() for x in xr_cl.T]).T\n",
    "z_d_dot_bedmd = differentiate_vec(z_d_bedmd.T, t_eval_cl).T\n",
    "z_d_ddot_bedmd = differentiate_vec(z_d_dot_bedmd.T, t_eval_cl).T\n",
    "output_bedmd = QuadrotorTrajectoryOutput(sys_bedmd, y_d, y_d_dot, y_d_ddot, dt, z_d_bedmd, z_d_dot_bedmd, z_d_ddot_bedmd, C_h)\n",
    "\n",
    "f_eta = np.concatenate((np.zeros((n_lift_bedmd,n_lift_bedmd)), np.eye(n_lift_bedmd)), axis=1)\n",
    "f_eta_dot = np.concatenate((sys_bedmd.F@sys_bedmd.F, np.zeros((n_lift_bedmd,n_lift_bedmd))), axis=1)\n",
    "F_lin = np.concatenate((f_eta, f_eta_dot), axis=0)\n",
    "G_lin = np.concatenate((np.zeros((n_lift_bedmd,n_lift_bedmd)), np.eye(n_lift_bedmd)), axis=0)\n",
    "\n",
    "P_bedmd = sc.linalg.solve_continuous_are(F_lin, G_lin, Q_bedmd, R_bedmd)\n",
    "K_bedmd = np.linalg.inv(R_bedmd)@G_lin.T@P_bedmd\n",
    "controller_bedmd = BilinearFBLinController(sys_bedmd, output_bedmd, K_bedmd)\n",
    "controller_bedmd = PerturbedController(sys_bedmd, controller_bedmd,0.,const_offset=hover_thrust, umin=umin, umax=umax)\n"
   ],
   "metadata": {
    "collapsed": false,
    "pycharm": {
     "name": "#%%\n",
     "is_executing": true
    }
   }
  },
  {
   "cell_type": "markdown",
   "source": [
    "##### Compare closed loop performance"
   ],
   "metadata": {
    "collapsed": false
   }
  },
  {
   "cell_type": "code",
   "execution_count": null,
   "outputs": [],
   "source": [
    "# Simulate the system under closed loop control:\n",
    "xs_cl_dmd, us_cl_dmd = quadrotor.simulate(x0_cl, controller_dmd, t_eval_cl)\n",
    "xs_cl_edmd, us_cl_edmd = quadrotor.simulate(x0_cl, controller_edmd, t_eval_cl)\n",
    "xs_cl_bedmd, us_cl_bedmd = quadrotor.simulate(x0_cl, controller_bedmd, t_eval_cl)\n",
    "\n",
    "mse_cl_dmd = np.linalg.norm(xs_cl_dmd[1:,output_inds]-xr_cl[output_inds,1:].T, ord='fro')**2\n",
    "mse_cl_edmd = np.linalg.norm(xs_cl_edmd[1:,output_inds]-xr_cl[output_inds,1:].T, ord='fro')**2\n",
    "mse_cl_bedmd = np.linalg.norm(xs_cl_bedmd[1:,output_inds]-xr_cl[output_inds,1:].T, ord='fro')**2\n",
    "ctrl_cost_dmd = np.linalg.norm(us_cl_dmd, ord='fro')**2\n",
    "ctrl_cost_edmd = np.linalg.norm(us_cl_edmd, ord='fro')**2\n",
    "ctrl_cost_bedmd = np.linalg.norm(us_cl_bedmd, ord='fro')**2\n",
    "\n",
    "print('\\nClosed loop performance statistics:')\n",
    "print(' -Tracking error:')\n",
    "print('   Tracking MSE DMD:   ', \"{:.3f}\".format(mse_cl_dmd),\n",
    "      '\\n   Tracking MSE EDMD:  ', \"{:.3f}\".format(mse_cl_edmd),\n",
    "      '\\n   Tracking MSE bEDMD: ', \"{:.3f}\".format(mse_cl_bedmd))\n",
    "print('   Improvement DMD -> EDMD:   ', \"{:.2f}\".format(100*(1-(mse_cl_edmd)/(mse_cl_dmd))), ' %'\n",
    "      '\\n   Improvement DMD -> bEDMD:  ', \"{:.2f}\".format(100*(1-(mse_cl_bedmd)/(mse_cl_dmd))), ' %'\n",
    "      '\\n   Improvement EDMD -> bEDMD: ', \"{:.2f}\".format(100*(1-(mse_cl_bedmd)/(mse_cl_edmd))), ' %')\n",
    "print(' -Control effort:')\n",
    "print('   Control effort DMD:   ', \"{:.3f}\".format(ctrl_cost_dmd),\n",
    "      '\\n   Control effort EDMD:  ', \"{:.3f}\".format(ctrl_cost_edmd),\n",
    "      '\\n   Control effort bEDMD: ', \"{:.3f}\".format(ctrl_cost_bedmd))\n",
    "print('   Improvement DMD -> EDMD:   ', \"{:.2f}\".format(100*(1-(ctrl_cost_edmd)/(ctrl_cost_dmd))), ' %'\n",
    "      '\\n   Improvement DMD -> bEDMD:  ', \"{:.2f}\".format(100*(1-(ctrl_cost_bedmd)/(ctrl_cost_dmd))), ' %'\n",
    "      '\\n   Improvement EDMD -> bEDMD: ', \"{:.2f}\".format(100*(1-(ctrl_cost_bedmd)/(ctrl_cost_edmd))), ' %')"
   ],
   "metadata": {
    "collapsed": false,
    "pycharm": {
     "name": "#%%\n",
     "is_executing": true
    }
   }
  },
  {
   "cell_type": "code",
   "execution_count": null,
   "outputs": [],
   "source": [
    "x_index = output_inds[0]\n",
    "y_index = output_inds[1]\n",
    "plt.figure(figsize=(figwidth, 4))\n",
    "\n",
    "plt.subplot(2, 2, 1)\n",
    "plt.plot(t_eval_cl, xr_cl[x_index,:], '--r', linewidth=2, label='Reference')\n",
    "plt.plot(t_eval_cl,xs_cl_dmd[:, x_index], linewidth=lw, label='DMD')\n",
    "plt.plot(t_eval_cl,xs_cl_edmd[:, x_index], linewidth=lw, label='EDMD')\n",
    "plt.plot(t_eval_cl,xs_cl_bedmd[:, x_index], linewidth=lw, label='bEDMD')\n",
    "plt.ylabel('$z$', fontsize=fs)\n",
    "plt.title('Output states', fontsize=fs)\n",
    "plt.grid()\n",
    "\n",
    "plt.subplot(2, 2, 3)\n",
    "plt.plot(t_eval_cl, xr_cl[y_index, :], '--r', linewidth=2, label='Reference')\n",
    "plt.plot(t_eval_cl, xs_cl_dmd[:, y_index], linewidth=lw, label='DMD')\n",
    "plt.plot(t_eval_cl, xs_cl_edmd[:, y_index], linewidth=lw, label='EDMD')\n",
    "plt.plot(t_eval_cl, xs_cl_bedmd[:, y_index], linewidth=lw, label='bEDMD')\n",
    "plt.ylabel('$\\\\theta$', fontsize=fs)\n",
    "plt.xlabel('Time (sec)')\n",
    "plt.grid()\n",
    "\n",
    "plt.subplot(2, 2, 2)\n",
    "plt.plot(t_eval_cl[:-1], us_cl_dmd[:, 0], linewidth=lw, label='DMD')\n",
    "plt.plot(t_eval_cl[:-1], us_cl_edmd[:, 0], linewidth=lw, label='EDMD')\n",
    "plt.plot(t_eval_cl[:-1], us_cl_bedmd[:, 0], linewidth=lw, label='bEDMD')\n",
    "plt.ylabel('$u_1$', fontsize=fs)\n",
    "plt.title('Control action', fontsize=fs)\n",
    "plt.grid()\n",
    "\n",
    "plt.subplot(2, 2, 4)\n",
    "plt.plot(t_eval_cl[:-1], us_cl_dmd[:, 1], linewidth=lw, label='DMD')\n",
    "plt.plot(t_eval_cl[:-1], us_cl_edmd[:, 1], linewidth=lw, label='EDMD')\n",
    "plt.plot(t_eval_cl[:-1], us_cl_bedmd[:, 1], linewidth=lw, label='bEDMD')\n",
    "plt.xlabel('Time (sec)', fontsize=fs)\n",
    "plt.ylabel('$u_2$', fontsize=fs)\n",
    "plt.grid()\n",
    "\n",
    "suptitle = plt.suptitle('Trajectory tracking based on DMD, EDMD and bilinear EDMD models', y=1.05,fontsize=18)\n",
    "matplotlib.rcParams['pdf.fonttype'] = 42\n",
    "matplotlib.rcParams['ps.fonttype'] = 42\n",
    "plt.tight_layout()\n",
    "plt.savefig(folder_plots + 'planar_quad_closedloop.pdf', format='pdf', dpi=2400, bbox_extra_artists=(suptitle,),\n",
    "            bbox_inches=\"tight\")\n",
    "plt.show()\n",
    "\n",
    "\n",
    "\n"
   ],
   "metadata": {
    "collapsed": false,
    "pycharm": {
     "name": "#%%\n",
     "is_executing": true
    }
   }
  }
 ],
 "metadata": {
  "kernelspec": {
   "display_name": "Python 3",
   "language": "python",
   "name": "python3"
  },
  "language_info": {
   "codemirror_mode": {
    "name": "ipython",
    "version": 2
   },
   "file_extension": ".py",
   "mimetype": "text/x-python",
   "name": "python",
   "nbconvert_exporter": "python",
   "pygments_lexer": "ipython2",
   "version": "2.7.6"
  }
 },
 "nbformat": 4,
 "nbformat_minor": 0
}