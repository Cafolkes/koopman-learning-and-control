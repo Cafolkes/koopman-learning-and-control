{
 "cells": [
  {
   "cell_type": "code",
   "execution_count": 1,
   "metadata": {},
   "outputs": [],
   "source": [
    "import sys\n",
    "sys.path.append('../../')\n",
    "import os\n",
    "import dill\n",
    "\n",
    "import numpy as np\n",
    "import scipy as sc\n",
    "import random as rand\n",
    "from sklearn import preprocessing, linear_model\n",
    "import matplotlib.pyplot as plt\n",
    "\n",
    "from core.controllers import ConstantController\n",
    "\n",
    "from koopman_core.dynamics import LinearLiftedDynamics, BilinearLiftedDynamics\n",
    "from koopman_core.learning import Edmd_aut, KoopDnn"
   ]
  },
  {
   "cell_type": "markdown",
   "metadata": {
    "pycharm": {
     "name": "#%% md\n"
    }
   },
   "source": [
    "## Autonomous system with analytic finite dimensional Koopman operator"
   ]
  },
  {
   "cell_type": "markdown",
   "metadata": {},
   "source": [
    "Consider the continuous-time dynamics\n",
    "\n",
    "\\begin{equation}\n",
    "    x = \\begin{bmatrix} x_1\\\\x_2\\\\\\dot{x}_1\\\\ \\dot{x}_2 \\end{bmatrix}, \\qquad\n",
    "    \\begin{bmatrix} \\dot{x}_1 \\\\ \\dot{x}_2 \\\\ \\dot{x}_3 \\\\ \\dot{x}_4 \\end{bmatrix}\n",
    "    = \\begin{bmatrix}\n",
    "    x_3 \\\\ \n",
    "    x_4 \\\\\n",
    "    \\mu x_3\\\\\n",
    "    -\\lambda x_3^2 + \\lambda x_4\n",
    "    \\end{bmatrix}\n",
    "\\end{equation}\n",
    "by carefully choosing observables, the drift vector field of the dynamics can be reformulated as an equilvalent linear system (global linearization). Define the observables\n",
    "\n",
    "\\begin{equation}\n",
    "\\begin{bmatrix}\n",
    "y_1 \\\\ y_2 \\\\ y_3 \\\\ y_4 \\\\ y_5\n",
    "\\end{bmatrix}\n",
    "= \\begin{bmatrix}\n",
    "x_1 \\\\ x_2 \\\\ x_3 \\\\ x_4 \\\\ x_3^2\n",
    "\\end{bmatrix}\n",
    "\\end{equation}\n",
    "\n",
    "then the system can be rewritten as\n",
    "\n",
    "\\begin{equation}\n",
    "\\begin{bmatrix}\n",
    "\\dot{y}_1 \\\\ \\dot{y}_2 \\\\ \\dot{y}_3 \\\\ \\dot{y}_4 \\\\ \\dot{y}_5 \\end{bmatrix} = \n",
    "\\begin{bmatrix}\n",
    "0 & 0 & 1 & 0 & 0\\\\\n",
    "0 & 0 & 0 & 1 & 0\\\\\n",
    "0 & 0 & \\mu & 0 & 0\\\\\n",
    "0 & 0 & 0 & \\lambda & - \\lambda \\\\\n",
    "0 & 0 & 0 & 0 & \\mu \\end{bmatrix}\n",
    "\\begin{bmatrix}\n",
    "y_1 \\\\ y_2 \\\\ y_3 \\\\ y_4 \\\\ y_5 \\end{bmatrix}\n",
    "\\end{equation}\n",
    "\n",
    "\n"
   ]
  },
  {
   "cell_type": "code",
   "execution_count": 2,
   "metadata": {
    "pycharm": {
     "name": "#%%\n"
    }
   },
   "outputs": [],
   "source": [
    "from core.dynamics import SystemDynamics\n",
    "\n",
    "class FiniteKoopSys(SystemDynamics):\n",
    "    def __init__(self, mu, lambd):\n",
    "        SystemDynamics.__init__(self, 4, 0)\n",
    "        self.params = mu, lambd\n",
    "    \n",
    "    def drift(self, x, t):\n",
    "        mu, lambd = self.params\n",
    "\n",
    "        return np.array([x[2], x[3], mu*x[2], -lambd*x[2]**2 + lambd*x[3]])\n",
    "\n",
    "    def eval_dot(self, x, u, t):\n",
    "        return self.drift(x, t)\n",
    "    \n",
    "n, m = 4, 0\n",
    "mu, lambd = -0.3, -0.6\n",
    "system = FiniteKoopSys(mu, lambd)\n",
    "sys_name = 'analytic_koop_sys'"
   ]
  },
  {
   "cell_type": "markdown",
   "metadata": {
    "pycharm": {
     "name": "#%% md\n"
    }
   },
   "source": [
    "### Collect data for learning"
   ]
  },
  {
   "cell_type": "markdown",
   "metadata": {
    "pycharm": {
     "name": "#%% md\n"
    }
   },
   "source": [
    "To collect data, a nominal controller is designed with LQR on the dynamics's linearization around hover. However, any\n",
    "controller can be used and the method does not require the knowledge of model's linearization. In addition, a\n",
    "exploratory white noise is added to the controller to ensure that the data is sufficiently excited. Note that the system\n",
    "is underactuated and that trajectory optimization is necessary to control the position of the vehicle. We use a\n",
    "simplified trajectory generator based on a model predictive controller for the linearized dynamics. More careful design\n",
    "of the desired trajectory may be necessary for more demanding applications and this is readily compatible with our method.\n",
    "\n",
    "4 data sets are collected to evaluate the impact of signal and process noise:\n",
    "- Nominal data set (no signal or process noise)\n",
    "- Data set with signal noise\n",
    "- Data set with process noise\n",
    "- Data set with signal and process noise"
   ]
  },
  {
   "cell_type": "code",
   "execution_count": 3,
   "metadata": {
    "pycharm": {
     "name": "#%%\n"
    }
   },
   "outputs": [],
   "source": [
    "# Data collection parameters:\n",
    "collect_data = False\n",
    "dt = 1.0e-2                                                         # Time step length\n",
    "traj_length_dc = 4.                                                 # Trajectory length, data collection\n",
    "n_pred_dc = int(traj_length_dc/dt)                                  # Number of time steps, data collection\n",
    "t_eval = dt * np.arange(n_pred_dc + 1)                              # Simulation time points\n",
    "n_traj_train = 100                                                     # Number of trajectories to execute, data collection\n",
    "n_traj_val = int(0.2*n_traj_train)\n",
    "\n",
    "xmax = np.array([2, 2, 2, 2])                                             # State constraints, trajectory generation\n",
    "xmin = -xmax\n",
    "x0_max = xmax                                                       # Initial value limits\n",
    "sub_sample_rate = 1                                                 # Rate to subsample data for training\n",
    "n_cols = 10                                                         # Number of columns in training data plot\n",
    "folder_plots = 'figures/'                                           # Path to save plots\n",
    "directory = os.path.abspath(\"\")                                     # Path to save learned models"
   ]
  },
  {
   "cell_type": "code",
   "execution_count": 4,
   "metadata": {
    "pycharm": {
     "name": "#%%\n"
    },
    "scrolled": true
   },
   "outputs": [],
   "source": [
    "from koopman_core.util import run_experiment\n",
    "if collect_data:\n",
    "    xs_train, t_train = run_experiment(system, n, n_traj_train, n_pred_dc, t_eval, x0_max, plot_experiment_data=True)\n",
    "    xs_val, t_val = run_experiment(system, n, n_traj_val, n_pred_dc, t_eval, x0_max, plot_experiment_data=True)\n",
    "\n",
    "    data_list = [xs_train, t_train, n_traj_train, xs_val, t_val, n_traj_val]\n",
    "    outfile = open(directory + '/data/' + sys_name + '_data.pickle', 'wb')\n",
    "    dill.dump(data_list, outfile)\n",
    "    outfile.close()\n",
    "else:\n",
    "    infile = open(directory + '/data/' + sys_name + '_data.pickle', 'rb')\n",
    "    xs_train, t_train, n_traj_train, xs_val, t_val, n_traj_val = dill.load(infile)\n",
    "    infile.close()"
   ]
  },
  {
   "cell_type": "markdown",
   "metadata": {},
   "source": [
    "### Learn a lifted linear model with Koopman DNN"
   ]
  },
  {
   "cell_type": "code",
   "execution_count": 5,
   "metadata": {},
   "outputs": [],
   "source": [
    "net_params = {}\n",
    "net_params['state_dim'] = n\n",
    "net_params['encoder_hidden_width'] = 20\n",
    "net_params['encoder_hidden_depth'] = 1\n",
    "net_params['encoder_output_dim'] = 1\n",
    "net_params['optimizer'] = 'adam'\n",
    "net_params['lr'] = 1e-2\n",
    "net_params['epochs'] = 100\n",
    "net_params['batch_size'] = 128\n",
    "net_params['lin_loss_penalty'] = 0.5 #5e-1/net_params['encoder_output_dim']\n",
    "net_params['l2_reg'] = 0\n",
    "net_params['l1_reg'] = 0\n",
    "net_params['n_multistep'] = 1\n",
    "net_params['first_obs_const'] = True\n",
    "net_params['override_kinematics'] = True \n",
    "net_params['dt'] = dt"
   ]
  },
  {
   "cell_type": "code",
   "execution_count": 6,
   "metadata": {},
   "outputs": [
    {
     "data": {
      "image/png": "[encoded data removed]",
      "text/plain": [
       "<Figure size 432x288 with 1 Axes>"
      ]
     },
     "metadata": {
      "needs_background": "light"
     },
     "output_type": "display_data"
    },
    {
     "name": "stdout",
     "output_type": "stream",
     "text": [
      "{'state_dim': 4, 'encoder_hidden_width': 20, 'encoder_hidden_depth': 1, 'encoder_output_dim': 1, 'optimizer': 'adam', 'lr': 0.01, 'epochs': 100, 'batch_size': 128, 'lin_loss_penalty': 0.5, 'l2_reg': 0, 'l1_reg': 0, 'n_multistep': 1, 'first_obs_const': True, 'override_kinematics': True, 'dt': 0.01}\n"
     ]
    }
   ],
   "source": [
    "import dill, os, torch\n",
    "\n",
    "infile = open(os.path.abspath('') + '/data/analytic_koop_sys_best_params.pickle', 'rb')\n",
    "best_config_lst, val_loss, test_loss, open_loop_mse, open_loop_std = dill.load(infile)\n",
    "infile.close()\n",
    "\n",
    "n_multistep_lst = [conf['n_multistep'] for conf in best_config_lst]\n",
    "plt.figure()\n",
    "plt.plot(n_multistep_lst, val_loss, label='Validation loss')\n",
    "plt.plot(n_multistep_lst, test_loss, label='Test loss')\n",
    "plt.plot(n_multistep_lst, open_loop_mse, label='Open loop prediction mse')\n",
    "plt.legend()\n",
    "plt.xlabel('# of steps, multistep prediction')\n",
    "plt.ylabel('Loss')\n",
    "plt.show()\n",
    "#net_params = best_config_lst[0]\n",
    "#net_params['encoder_output_dim'] = 1\n",
    "#net_params['n_multistep'] = 1\n",
    "#net_params['encoder_hidden_dim'] = [200, 200]\n",
    "#print(net_params)\n",
    "print(net_params)"
   ]
  },
  {
   "cell_type": "code",
   "execution_count": 7,
   "metadata": {
    "scrolled": true
   },
   "outputs": [
    {
     "name": "stdout",
     "output_type": "stream",
     "text": [
      "Epoch   1: train loss: 0.00753749, validation loss: 0.00038861\n",
      "Epoch   2: train loss: 0.00020581, validation loss: 0.00023042\n",
      "Epoch   3: train loss: 0.00014679, validation loss: 0.00017310\n",
      "Epoch   4: train loss: 0.00013263, validation loss: 0.00015754\n",
      "Epoch   5: train loss: 0.00012006, validation loss: 0.00023336\n",
      "Epoch   6: train loss: 0.00013198, validation loss: 0.00014055\n",
      "Epoch   7: train loss: 0.00008224, validation loss: 0.00007256\n",
      "Epoch   8: train loss: 0.00005811, validation loss: 0.00005766\n",
      "Epoch   9: train loss: 0.00005346, validation loss: 0.00008141\n",
      "Epoch  10: train loss: 0.00004999, validation loss: 0.00004724\n",
      "Epoch  11: train loss: 0.00004217, validation loss: 0.00003672\n",
      "Epoch  12: train loss: 0.00004049, validation loss: 0.00006955\n",
      "Epoch  13: train loss: 0.00004820, validation loss: 0.00004639\n",
      "Epoch  14: train loss: 0.00003379, validation loss: 0.00004592\n",
      "Epoch  15: train loss: 0.00004727, validation loss: 0.00004566\n",
      "Epoch  16: train loss: 0.00004069, validation loss: 0.00002829\n",
      "Epoch  17: train loss: 0.00002882, validation loss: 0.00002496\n",
      "Epoch  18: train loss: 0.00002714, validation loss: 0.00003581\n",
      "Epoch  19: train loss: 0.00004113, validation loss: 0.00003577\n",
      "Epoch  20: train loss: 0.00002474, validation loss: 0.00002691\n",
      "Epoch  21: train loss: 0.00003207, validation loss: 0.00001605\n",
      "Epoch  22: train loss: 0.00002885, validation loss: 0.00004277\n",
      "Epoch  23: train loss: 0.00002201, validation loss: 0.00003480\n",
      "Epoch  24: train loss: 0.00002790, validation loss: 0.00002357\n",
      "Epoch  25: train loss: 0.00002296, validation loss: 0.00003791\n",
      "Epoch  26: train loss: 0.00002210, validation loss: 0.00001997\n",
      "Epoch  27: train loss: 0.00002797, validation loss: 0.00002339\n",
      "Epoch  28: train loss: 0.00002065, validation loss: 0.00003417\n",
      "Epoch  29: train loss: 0.00002419, validation loss: 0.00001946\n",
      "Epoch  30: train loss: 0.00001694, validation loss: 0.00002305\n",
      "Epoch  31: train loss: 0.00002081, validation loss: 0.00002775\n",
      "Epoch  32: train loss: 0.00001479, validation loss: 0.00001250\n",
      "Epoch  33: train loss: 0.00002504, validation loss: 0.00001229\n",
      "Epoch  34: train loss: 0.00001638, validation loss: 0.00002230\n",
      "Epoch  35: train loss: 0.00001989, validation loss: 0.00002221\n",
      "Epoch  36: train loss: 0.00003067, validation loss: 0.00001278\n",
      "Epoch  37: train loss: 0.00001955, validation loss: 0.00001808\n",
      "Epoch  38: train loss: 0.00001969, validation loss: 0.00002106\n",
      "Epoch  39: train loss: 0.00002236, validation loss: 0.00001580\n",
      "Epoch  40: train loss: 0.00001874, validation loss: 0.00001182\n",
      "Epoch  41: train loss: 0.00001292, validation loss: 0.00001387\n",
      "Epoch  42: train loss: 0.00001744, validation loss: 0.00004778\n",
      "Epoch  43: train loss: 0.00001753, validation loss: 0.00001524\n",
      "Epoch  44: train loss: 0.00002011, validation loss: 0.00003588\n",
      "Epoch  45: train loss: 0.00001486, validation loss: 0.00001239\n",
      "Epoch  46: train loss: 0.00001963, validation loss: 0.00002663\n",
      "Epoch  47: train loss: 0.00001494, validation loss: 0.00002218\n",
      "Epoch  48: train loss: 0.00001907, validation loss: 0.00002441\n",
      "Epoch  49: train loss: 0.00001835, validation loss: 0.00001746\n",
      "Epoch  50: train loss: 0.00001708, validation loss: 0.00001012\n",
      "Epoch  51: train loss: 0.00002165, validation loss: 0.00002184\n",
      "Epoch  52: train loss: 0.00001560, validation loss: 0.00000905\n",
      "Epoch  53: train loss: 0.00001223, validation loss: 0.00001505\n",
      "Epoch  54: train loss: 0.00001533, validation loss: 0.00004102\n",
      "Epoch  55: train loss: 0.00001791, validation loss: 0.00000876\n",
      "Epoch  56: train loss: 0.00002055, validation loss: 0.00002174\n",
      "Epoch  57: train loss: 0.00001464, validation loss: 0.00002055\n",
      "Epoch  58: train loss: 0.00001778, validation loss: 0.00002666\n",
      "Epoch  59: train loss: 0.00001648, validation loss: 0.00001960\n",
      "Epoch  60: train loss: 0.00001890, validation loss: 0.00001267\n",
      "Epoch  61: train loss: 0.00001529, validation loss: 0.00001261\n",
      "Epoch  62: train loss: 0.00001575, validation loss: 0.00001506\n",
      "Epoch  63: train loss: 0.00002509, validation loss: 0.00002245\n",
      "Epoch  64: train loss: 0.00001660, validation loss: 0.00002487\n",
      "Epoch  65: train loss: 0.00001394, validation loss: 0.00001757\n",
      "Epoch  66: train loss: 0.00001937, validation loss: 0.00003842\n",
      "Epoch  67: train loss: 0.00001671, validation loss: 0.00005604\n",
      "Epoch  68: train loss: 0.00001762, validation loss: 0.00001825\n",
      "Epoch  69: train loss: 0.00002036, validation loss: 0.00002189\n",
      "Epoch  70: train loss: 0.00001670, validation loss: 0.00001715\n",
      "Epoch  71: train loss: 0.00001526, validation loss: 0.00001820\n",
      "Epoch  72: train loss: 0.00001407, validation loss: 0.00001209\n",
      "Epoch  73: train loss: 0.00001718, validation loss: 0.00001111\n",
      "Epoch  74: train loss: 0.00001450, validation loss: 0.00001323\n",
      "Epoch  75: train loss: 0.00001449, validation loss: 0.00001810\n",
      "Epoch  76: train loss: 0.00001505, validation loss: 0.00001129\n",
      "Epoch  77: train loss: 0.00001597, validation loss: 0.00001651\n",
      "Epoch  78: train loss: 0.00001812, validation loss: 0.00002307\n",
      "Epoch  79: train loss: 0.00001671, validation loss: 0.00002405\n",
      "Epoch  80: train loss: 0.00001443, validation loss: 0.00002602\n",
      "Epoch  81: train loss: 0.00002198, validation loss: 0.00001548\n",
      "Epoch  82: train loss: 0.00001520, validation loss: 0.00001385\n",
      "Epoch  83: train loss: 0.00002042, validation loss: 0.00001331\n",
      "Epoch  84: train loss: 0.00001470, validation loss: 0.00006631\n",
      "Epoch  85: train loss: 0.00001736, validation loss: 0.00001215\n",
      "Epoch  86: train loss: 0.00001187, validation loss: 0.00001050\n",
      "Epoch  87: train loss: 0.00001479, validation loss: 0.00001826\n",
      "Epoch  88: train loss: 0.00001415, validation loss: 0.00001227\n",
      "Epoch  89: train loss: 0.00001865, validation loss: 0.00001571\n",
      "Epoch  90: train loss: 0.00002019, validation loss: 0.00003385\n",
      "Epoch  91: train loss: 0.00001783, validation loss: 0.00000932\n",
      "Epoch  92: train loss: 0.00001185, validation loss: 0.00001767\n",
      "Epoch  93: train loss: 0.00001334, validation loss: 0.00001231\n",
      "Epoch  94: train loss: 0.00001834, validation loss: 0.00001781\n",
      "Epoch  95: train loss: 0.00001482, validation loss: 0.00001390\n",
      "Epoch  96: train loss: 0.00001486, validation loss: 0.00001610\n",
      "Epoch  97: train loss: 0.00002076, validation loss: 0.00002422\n",
      "Epoch  98: train loss: 0.00001303, validation loss: 0.00001064\n",
      "Epoch  99: train loss: 0.00001603, validation loss: 0.00001827\n",
      "Epoch 100: train loss: 0.00001465, validation loss: 0.00001056\n",
      "Finished Training\n"
     ]
    }
   ],
   "source": [
    "from koopman_core.learning import KoopmanNetAut\n",
    "\n",
    "#standardizer_kdnn = preprocessing.StandardScaler(with_mean=False)\n",
    "standardizer_kdnn = None\n",
    "\n",
    "net = KoopmanNetAut(net_params, standardizer=standardizer_kdnn)\n",
    "model_koop_dnn = KoopDnn(net)\n",
    "model_koop_dnn.set_datasets(xs_train, t_train, x_val=xs_val, t_val=t_val)\n",
    "model_koop_dnn.model_pipeline(net_params, early_stop=False)\n",
    "model_koop_dnn.construct_koopman_model()\n",
    "sys_koop_dnn = LinearLiftedDynamics(model_koop_dnn.A, None, model_koop_dnn.C, model_koop_dnn.basis_encode,\n",
    "                                    continuous_mdl=False, dt=dt, standardizer=standardizer_kdnn)"
   ]
  },
  {
   "cell_type": "code",
   "execution_count": 8,
   "metadata": {},
   "outputs": [
    {
     "name": "stdout",
     "output_type": "stream",
     "text": [
      "KoopmanNetAut(\n",
      "  (encoder_fc_in): Linear(in_features=4, out_features=20, bias=True)\n",
      "  (encoder_fc_out): Linear(in_features=20, out_features=1, bias=True)\n",
      "  (koopman_fc_drift): Linear(in_features=6, out_features=3, bias=False)\n",
      ")\n"
     ]
    },
    {
     "data": {
      "text/plain": [
       "array([[ 1.0000000e+00,  0.0000000e+00,  0.0000000e+00,  0.0000000e+00,\n",
       "         0.0000000e+00,  0.0000000e+00],\n",
       "       [ 0.0000000e+00,  1.0000000e+00,  0.0000000e+00,  9.9999998e-03,\n",
       "         0.0000000e+00,  0.0000000e+00],\n",
       "       [ 0.0000000e+00,  0.0000000e+00,  1.0000000e+00,  0.0000000e+00,\n",
       "         9.9999998e-03,  0.0000000e+00],\n",
       "       [ 2.3874554e-07, -2.7273018e-08, -1.2736163e-07,  9.9700481e-01,\n",
       "         5.3338744e-07,  2.7878093e-06],\n",
       "       [ 1.3478022e-03,  5.7326465e-06,  2.7075554e-05, -3.0714185e-05,\n",
       "         9.9402648e-01,  2.5468549e-02],\n",
       "       [-3.0624328e-04, -5.7605957e-06, -2.6569078e-06, -1.4394274e-05,\n",
       "        -4.1794323e-05,  9.9418473e-01]], dtype=float32)"
      ]
     },
     "execution_count": 8,
     "metadata": {},
     "output_type": "execute_result"
    }
   ],
   "source": [
    "print(model_koop_dnn.net)\n",
    "#print(model_koop_dnn.net.optimization_parameters)\n",
    "model_koop_dnn.A"
   ]
  },
  {
   "cell_type": "markdown",
   "metadata": {},
   "source": [
    "### Learn a linear model with dynamic mode decomposition (DMD)"
   ]
  },
  {
   "cell_type": "markdown",
   "metadata": {},
   "source": [
    "To compare our method with existing techniques, we first learn a linear state space model from data. This is dubbed dynamic mode decomposition. I.e. we use linear regression with LASSO regularization to learn an approximate linear model with model structure\n",
    "\n",
    "\\begin{equation}\n",
    "    \\mathbf{x}_{k+1} = A_{dmd} \\mathbf{x}_k\n",
    "\\end{equation}\n"
   ]
  },
  {
   "cell_type": "code",
   "execution_count": 9,
   "metadata": {},
   "outputs": [],
   "source": [
    "#DMD parameters:\n",
    "alpha_dmd = 5.4e-4\n",
    "tune_mdl_dmd = True"
   ]
  },
  {
   "cell_type": "code",
   "execution_count": 10,
   "metadata": {},
   "outputs": [
    {
     "name": "stdout",
     "output_type": "stream",
     "text": [
      "$\\alpha$ DMD:  4.127792175604534e-05\n"
     ]
    }
   ],
   "source": [
    "basis = lambda x: x\n",
    "C_dmd = np.eye(n)\n",
    "\n",
    "cv_dmd = linear_model.MultiTaskLassoCV(fit_intercept=False, n_jobs=-1, cv=3, selection='random')\n",
    "standardizer_dmd = preprocessing.StandardScaler(with_mean=False)\n",
    "\n",
    "optimizer_dmd = linear_model.MultiTaskLasso(alpha=alpha_dmd, fit_intercept=False, selection='random')\n",
    "model_dmd = Edmd_aut(n, basis, n, n_traj_train, optimizer_dmd, cv=cv_dmd, standardizer=standardizer_dmd, C=C_dmd, first_obs_const=False, continuous_mdl=False, dt=dt)\n",
    "X_dmd, y_dmd = model_dmd.process(xs_train, np.tile(t_train,(n_traj_train,1)), downsample_rate=sub_sample_rate)\n",
    "model_dmd.fit(X_dmd, y_dmd, cv=tune_mdl_dmd)\n",
    "sys_dmd = LinearLiftedDynamics(model_dmd.A, None, model_dmd.C, model_dmd.basis, continuous_mdl=False, dt=dt)\n",
    "if tune_mdl_dmd:\n",
    "    print('$\\\\alpha$ DMD: ',model_dmd.cv.alpha_)"
   ]
  },
  {
   "cell_type": "markdown",
   "metadata": {
    "pycharm": {
     "name": "#%% md\n"
    }
   },
   "source": [
    "### Learn a lifted linear model with extended dynamic mode decomposition (EDMD)"
   ]
  },
  {
   "cell_type": "markdown",
   "metadata": {
    "pycharm": {
     "name": "#%% md\n"
    }
   },
   "source": [
    "In addition, we compare our method with the current state of the art of Koopman based learning, the extended dynamic mode\n",
    "decomposition. We use a dictionary of nonlinear functions $\\boldsymbol{\\phi(x)}$ to lift the state variables and learn a lifted state space model\n",
    "of the dynamics. I.e. we first lift and then use linear regression with LASSO regularization to learn an approximate\n",
    "lifted linear model with model structure\n",
    "\n",
    "\\begin{equation}\n",
    "    \\mathbf{z}_{k+1} = A_{edmd}\\mathbf{z}_k, \\qquad \\mathbf{z} = \\boldsymbol{\\phi(x)}\n",
    "\\end{equation}"
   ]
  },
  {
   "cell_type": "code",
   "execution_count": 11,
   "metadata": {
    "pycharm": {
     "name": "#%%\n"
    }
   },
   "outputs": [],
   "source": [
    "#EDMD parameters:\n",
    "alpha_edmd = 1.2e-4\n",
    "tune_mdl_edmd = True"
   ]
  },
  {
   "cell_type": "code",
   "execution_count": 12,
   "metadata": {
    "pycharm": {
     "name": "#%%\n"
    }
   },
   "outputs": [
    {
     "name": "stdout",
     "output_type": "stream",
     "text": [
      "$\\alpha$ EDMD:  9.457768644217314e-06\n"
     ]
    }
   ],
   "source": [
    "koop_features = preprocessing.PolynomialFeatures(degree=2)\n",
    "koop_features.fit(np.zeros((1,n)))\n",
    "basis = lambda x: koop_features.transform(x)\n",
    "n_lift_edmd = basis(np.zeros((1,n))).shape[1]\n",
    "\n",
    "C_edmd = np.zeros((n,n_lift_edmd))\n",
    "C_edmd[:,1:n+1] = np.eye(n)\n",
    "\n",
    "optimizer_edmd = linear_model.MultiTaskLasso(alpha=alpha_edmd, fit_intercept=False, selection='random', max_iter=2000)\n",
    "cv_edmd = linear_model.MultiTaskLassoCV(fit_intercept=False, n_jobs=-1, cv=3, selection='random', max_iter=2000)\n",
    "standardizer_edmd = preprocessing.StandardScaler(with_mean=False)\n",
    "\n",
    "model_edmd = Edmd_aut(n, basis, n_lift_edmd, n_traj_train, optimizer_edmd, cv=cv_edmd, standardizer=standardizer_edmd, C=C_edmd, continuous_mdl=False, dt=dt)\n",
    "X_edmd, y_edmd = model_edmd.process(xs_train, np.tile(t_train,(n_traj_train,1)), downsample_rate=sub_sample_rate)\n",
    "model_edmd.fit(X_edmd, y_edmd, cv=tune_mdl_edmd)\n",
    "sys_edmd = LinearLiftedDynamics(model_edmd.A, None, model_edmd.C, model_edmd.basis, continuous_mdl=False, dt=dt)\n",
    "if tune_mdl_edmd:\n",
    "    print('$\\\\alpha$ EDMD: ', model_edmd.cv.alpha_)"
   ]
  },
  {
   "cell_type": "markdown",
   "metadata": {},
   "source": [
    "### Evaluate open loop prediction performance"
   ]
  },
  {
   "cell_type": "markdown",
   "metadata": {
    "pycharm": {
     "name": "#%% md\n"
    }
   },
   "source": [
    "We now evaluate the open loop prediction performance of the implemented methods.\n",
    "This is done by generating a new data set in the same way as the training set, predicting the evolution of the system\n",
    "with the control sequence of each trajectory executed in the data set with each of the models, and finally comparing\n",
    "the mean and standard deviation of the error between the true and predicted evolution over the trajectories. All the models are evaluated on 2 test data sets. One nominal data set (no signal or process noise) and a data set with process noise. No test data with signal noise is used, as we would need to fix the signal noise sequence to do a fair comparison in open loop prediction, hence resulting in the same comparison as the 2 data sets used."
   ]
  },
  {
   "cell_type": "code",
   "execution_count": 13,
   "metadata": {
    "pycharm": {
     "name": "#%%\n"
    }
   },
   "outputs": [],
   "source": [
    "# Prediction performance evaluation parameters:\n",
    "n_traj_ol = n_traj_train                                                     # Number of trajectories to execute, open loop"
   ]
  },
  {
   "cell_type": "code",
   "execution_count": 14,
   "metadata": {
    "pycharm": {
     "name": "#%%\n"
    }
   },
   "outputs": [
    {
     "name": "stdout",
     "output_type": "stream",
     "text": [
      "\n",
      "Open loop performance statistics:\n",
      "               Mean squared error    Standard deviation\n",
      "-----------  --------------------  --------------------\n",
      "Koopman DNN               2e-05                 0.0047\n",
      "DMD                       0.03052               0.15664\n",
      "EDMD                      0                     0.00141\n"
     ]
    }
   ],
   "source": [
    "from koopman_core.util import evaluate_ol_pred\n",
    "from tabulate import tabulate\n",
    "\n",
    "t_eval = dt * np.arange(4./dt + 1)\n",
    "xs_ol = np.empty((n_traj_ol, t_eval.shape[0], n))    \n",
    "ctrl = ConstantController(system, 0.)\n",
    "    \n",
    "for ii in range(n_traj_ol):\n",
    "    x0 = np.asarray([rand.uniform(l, u) for l, u in zip(-x0_max, x0_max)])\n",
    "    xs_ol[ii,:,:], _ = system.simulate(x0, ctrl, t_eval)\n",
    "\n",
    "mdl_lst = [sys_koop_dnn, sys_dmd, sys_edmd]\n",
    "mdl_names = ['Koopman DNN', 'DMD', 'EDMD']\n",
    "error, mse, std = [], [], []\n",
    "\n",
    "for sys in mdl_lst:\n",
    "    err_tmp, mse_tmp, std_tmp = evaluate_ol_pred(sys, xs_ol, t_eval)\n",
    "    error.append(err_tmp)\n",
    "    mse.append(mse_tmp)\n",
    "    std.append(std_tmp)\n",
    "    \n",
    "print('\\nOpen loop performance statistics:')\n",
    "\n",
    "table_data = []\n",
    "for name, mse_mdl, std_mdl in zip(mdl_names, mse, std):\n",
    "    table_data.append([name, \"{:.5f}\".format(mse_mdl), \"{:.5f}\".format(std_mdl)])\n",
    "\n",
    "print(tabulate(table_data, \n",
    "               headers=['Mean squared error', 'Standard deviation']))"
   ]
  },
  {
   "cell_type": "code",
   "execution_count": 15,
   "metadata": {
    "pycharm": {
     "name": "#%%\n"
    }
   },
   "outputs": [
    {
     "data": {
      "image/png": "[encoded data removed]",
      "text/plain": [
       "<Figure size 864x576 with 4 Axes>"
      ]
     },
     "metadata": {
      "needs_background": "light"
     },
     "output_type": "display_data"
    }
   ],
   "source": [
    "import matplotlib.pyplot as plt\n",
    "import matplotlib\n",
    "\n",
    "figwidth = 12\n",
    "lw = 2\n",
    "fs = 14\n",
    "y_lim_gain = 1.2\n",
    "row = 2\n",
    "col = 2\n",
    "\n",
    "#Plot open loop results:\n",
    "plt.figure(figsize=(figwidth,8))\n",
    "axs = [plt.subplot(row,col,jj+1) for jj in range(n)]\n",
    "\n",
    "for ii, err in enumerate(error):\n",
    "    err_mean = np.mean(err, axis=0)\n",
    "    err_std = np.std(err, axis=0)\n",
    "    \n",
    "    for jj in range(n):\n",
    "        axs[jj].plot(t_eval[1:], err_mean[:,jj], label=mdl_names[ii])\n",
    "        axs[jj].fill_between(t_eval[1:], err_mean[:,jj]-err_std[:,jj], err_mean[:,jj]+err_std[:,jj], alpha=0.1)\n",
    "\n",
    "for jj in range(n):\n",
    "    axs[jj].set_xlabel('Time (sec)', fontsize=fs)\n",
    "    axs[jj].set_ylabel('$x_'+ str(jj+1) + '$', fontsize=fs)\n",
    "\n",
    "plt.legend(frameon=False, fontsize=fs)\n",
    "stitle=plt.suptitle('Open loop prediction performance of learned models', fontsize=fs+2)\n",
    "matplotlib.rcParams['pdf.fonttype'] = 42\n",
    "matplotlib.rcParams['ps.fonttype'] = 42\n",
    "plt.savefig(folder_plots + 'koop_sys_prediction.pdf', format='pdf', dpi=2400, bbox_extra_artists=(stitle,), bbox_inches=\"tight\")\n",
    "plt.show()"
   ]
  },
  {
   "cell_type": "markdown",
   "metadata": {},
   "source": [
    "##### analytic_koop = sc.linalg.expm(np.array([[mu, 0, 0], [0, lambd, -lambd], [0, 0, mu]])*dt)\n",
    "eig_analytic = np.linalg.eigvals(analytic_koop)\n",
    "eig_koop_dnn = np.sort(np.linalg.eigvals(sys_koop_dnn.A))[::-1]\n",
    "eig_edmd = np.sort(np.linalg.eigvals(sys_edmd.A))[::-1]\n",
    "n_eig = eig_analytic.size\n",
    "eig_koop_dnn = eig_koop_dnn[:n_eig]\n",
    "eig_edmd = eig_edmd[:n_eig]\n",
    "ang = np.linspace(0,2*np.pi,100)\n",
    "circle = np.array([np.cos(ang), np.sin(ang)])\n",
    "\n",
    "plt.figure()\n",
    "plt.plot(circle[0,:], circle[1,:])\n",
    "plt.scatter(np.real(eig_analytic), np.imag(eig_analytic), marker='o', color='tab:blue', label='Analytic')\n",
    "plt.scatter(np.real(eig_koop_dnn), np.imag(eig_koop_dnn), marker='*', color='tab:green', label='Koopman DNN')\n",
    "plt.scatter(np.real(eig_edmd), np.imag(eig_edmd), marker='x', color='tab:orange', label='EDMD')\n",
    "plt.legend(loc='upper right', fontsize=fs)\n",
    "plt.grid()\n",
    "plt.title('Learned VS analytic Koopman spectrum', fontsize=fs)\n",
    "plt.xlabel('Real part', fontsize=fs)\n",
    "plt.ylabel('Imaginary part', fontsize=fs)\n",
    "plt.show()"
   ]
  },
  {
   "cell_type": "code",
   "execution_count": null,
   "metadata": {},
   "outputs": [],
   "source": []
  }
 ],
 "metadata": {
  "kernelspec": {
   "display_name": "keedmd",
   "language": "python",
   "name": "keedmd"
  },
  "language_info": {
   "codemirror_mode": {
    "name": "ipython",
    "version": 3
   },
   "file_extension": ".py",
   "mimetype": "text/x-python",
   "name": "python",
   "nbconvert_exporter": "python",
   "pygments_lexer": "ipython3",
   "version": "3.7.6"
  }
 },
 "nbformat": 4,
 "nbformat_minor": 1
}
