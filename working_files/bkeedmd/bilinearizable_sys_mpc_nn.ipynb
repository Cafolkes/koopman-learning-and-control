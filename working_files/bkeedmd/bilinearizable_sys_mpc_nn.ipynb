{
 "cells": [
  {
   "cell_type": "markdown",
   "metadata": {},
   "source": [
    "$\\newcommand{\\mb}[1]{\\mathbf{ #1 }}$\n",
    "$\\newcommand{\\bs}[1]{\\boldsymbol{ #1 }}$\n",
    "$\\newcommand{\\bb}[1]{\\mathbb{ #1 }}$\n",
    "\n",
    "$\\newcommand{\\R}{\\bb{R}}$\n",
    "\n",
    "$\\newcommand{\\ip}[2]{\\left\\langle #1, #2 \\right\\rangle}$\n",
    "$\\newcommand{\\norm}[1]{\\left\\Vert #1 \\right\\Vert}$\n",
    "\n",
    "$\\newcommand{\\der}[2]{\\frac{\\mathrm{d} #1 }{\\mathrm{d} #2 }}$\n",
    "$\\newcommand{\\derp}[2]{\\frac{\\partial #1 }{\\partial #2 }}$\n",
    "\n",
    "# Finite Dimensional Koopman Bilinear System"
   ]
  },
  {
   "cell_type": "markdown",
   "metadata": {},
   "source": [
    "Consider a nonlinear dynamical system that allows an exact finite dimensional Koopman canonical transform such that the control-affine dynamics can be transformed to a bilinear system. Consider the dynamical system "
   ]
  },
  {
   "cell_type": "markdown",
   "metadata": {},
   "source": [
    "\\begin{equation}\n",
    "\\mb{\\dot{x}}=\\mb{f}_0(\\mb x) + \\mb f_1 ( \\mb x) u_1 + \\mb f_2(\\mb x) u_2, \n",
    "\\end{equation}"
   ]
  },
  {
   "cell_type": "markdown",
   "metadata": {},
   "source": [
    "where we for this example choose $\\mb f_0, \\mb f_1$ as follows:"
   ]
  },
  {
   "cell_type": "markdown",
   "metadata": {},
   "source": [
    "\\begin{equation}\n",
    "\\mb f_0(\\mb x) = \\begin{bmatrix} x_3 \\\\ x_4 \\\\ \\lambda x_3 \\\\ \\mu x_4 + (2 \\lambda - \\mu) c x_3^2 \\end{bmatrix}, \\qquad\n",
    "\\mb f_1(\\mb x) = \\begin{bmatrix} 0 \\\\ 0 \\\\ 1 \\\\ 0 \\end{bmatrix}, \\qquad\n",
    "\\mb f_2(\\mb x) = \\begin{bmatrix} 0 \\\\ 0 \\\\ 0 \\\\ x_1+1 \\end{bmatrix}, \n",
    "\\end{equation}   "
   ]
  },
  {
   "cell_type": "markdown",
   "metadata": {},
   "source": [
    "and $\\lambda, \\mu, c \\in \\mathbb{R}$ are scalar parameters of the system. Setting $ \\mb x = [q_1 \\, q_2 \\, \\dot{q_1} \\, \\dot{q_2}]^T$, \n",
    "these equations of motion can be expressed as robotic dynamics of the form $\\mb{D}(\\mb{q})\\ddot{\\mb{q}} + \\mb{C}(\\mb{q}, \\dot{\\mb{q}})\\dot{\\mb{q}} + \\mb{G}(\\mb{q}) = \\mb{B}\\mb{u}$, where $\\mb D$ is the inertia matrix, $\\mb C$ is the matrix of Coriolis terms, $\\mb G$ is the matrix of gravitational terms, and $\\mb B$ is the static actuation matrix. Rewriting $\\mb f_0, \\mb f_1, \\mb f_2$ in terms of $\\mb D, \\mb C, \\mb G,$ and $\\mb B$ yield\n",
    "\n"
   ]
  },
  {
   "cell_type": "markdown",
   "metadata": {},
   "source": [
    "\\begin{equation}\n",
    "\\mb D(\\mb q) = \\begin{bmatrix} 1 & 0\\\\ 0 &  \\frac{1}{q_1+1} \\end{bmatrix}, \n",
    "\\qquad \\mb C(\\mb q, \\mb{\\dot{q}}) = -\\begin{bmatrix} \\lambda & 0 \\\\ \\frac{1}{q_1 + 1}(2 \\lambda - \\mu) c \\dot{q}_1 & \\frac{1}{q_1 +1} \\mu \\end{bmatrix}, \\qquad \n",
    "\\mb G(\\mb q) = \\begin{bmatrix} 0 \\\\ 0 \\end{bmatrix} \n",
    "\\qquad \\mb B = \\begin{bmatrix}1 & 0 \\\\ 0 & 1 \\end{bmatrix},\n",
    "\\end{equation}"
   ]
  },
  {
   "cell_type": "markdown",
   "metadata": {},
   "source": [
    "As a result of the careful construction of this system, there exists a Koopman canonical transform, $\\mb z = T(\\mb x)$ that exactly transforms the control-affine dynamics into a bilinear system. Consider the transformation:"
   ]
  },
  {
   "cell_type": "markdown",
   "metadata": {},
   "source": [
    "\\begin{equation}\n",
    "    T(\\mb q, \\mb{\\dot{q}}) = \\begin{bmatrix} \n",
    "    \\phi_1(\\mb q, \\mb{\\dot{q}})\\\\\n",
    "    \\phi_2(\\mb q, \\mb{\\dot{q}})\\\\\n",
    "    \\phi_3(\\mb q, \\mb{\\dot{q}})\\\\\n",
    "    \\phi_4(\\mb q, \\mb{\\dot{q}})\\\\\n",
    "    \\phi_5(\\mb q, \\mb{\\dot{q}})\\\\\n",
    "    \\phi_6(\\mb q, \\mb{\\dot{q}})\\\\\n",
    "    \\end{bmatrix}\n",
    "    = \\begin{bmatrix} \n",
    "    1\\\\\n",
    "    q_1 - \\frac{1}{\\lambda}\\dot{q}_1\\\\\n",
    "    q_2 - \\frac{1}{\\mu} \\dot{q}_2 + \\frac{(2 \\lambda - \\mu)c}{2\\lambda \\mu} \\dot{q}_1^2\\\\\n",
    "    \\dot{q}_1\\\\\n",
    "    \\dot{q}_2 - c \\dot{q}_1^2\\\\\n",
    "    \\dot{q}_1^2\\\\\n",
    "    \\end{bmatrix},\n",
    "\\end{equation}"
   ]
  },
  {
   "cell_type": "markdown",
   "metadata": {},
   "source": [
    "where $\\phi_1, \\phi_2, \\phi_3, \\phi_4, \\phi_5, \\phi_6$ are eigenfunctions of the Koopman operator associated with the drift \n",
    "vector field $\\mb f_0$. The matrix with the eigenvalue associated with the i-th eigenfunction on the i-th diagonal \n",
    "element is $F=\\text{diag}(0, 0, \\lambda, \\mu, 2 \\lambda, 0)$. Then, to reformulate the dynamics we have: "
   ]
  },
  {
   "cell_type": "markdown",
   "metadata": {},
   "source": [
    "\\begin{equation} \n",
    "L_{\\mb f_1} T(\\mb q, \\mb{\\dot{q}}) = \\begin{bmatrix} 0\\\\ -\\frac{1}{\\lambda}\\\\ \\frac{(2\\lambda - \\mu)c}{\\lambda \\mu}\\dot{q}_1\\\\ 1 \\\\ -2c\\dot{q}_1 \\\\ 2\\dot{q_1} \\end{bmatrix}, \\qquad \n",
    "L_{\\mb f_2} T(\\mb q, \\mb{\\dot{q}}) = \\begin{bmatrix} 0 \\\\ 0\\\\ -\\frac{1}{\\mu}(q_1 + 1)\\\\0 \\\\ q_1 + 1 \\\\ 0 \\end{bmatrix} \n",
    "\\end{equation}"
   ]
  },
  {
   "cell_type": "markdown",
   "metadata": {},
   "source": [
    "and the dynamics can be equivalently transformed to a bilinear form $\\mb{\\dot{z}} = F \\mb z + G_1\\mb z u_1 + G_2\\mb z u_2$ with "
   ]
  },
  {
   "cell_type": "markdown",
   "metadata": {},
   "source": [
    "\\begin{equation}\n",
    "F = \\begin{bmatrix} \n",
    "0 &0 & 0 & 0 & 0 & 0\\\\  \n",
    "0 & 0 & 0 & 0 & 0 & 0\\\\\n",
    "0 &0 & 0 & 0 & 0 & 0\\\\\n",
    "0 &0 & 0 & \\lambda & 0 & 0\\\\\n",
    "0 &0 & 0 & 0 & \\mu & 0 \\\\\n",
    "0 &0 & 0 & 0 & 0 & 2 \\lambda\\\\\n",
    "\\end{bmatrix}, \\qquad \n",
    "G_1 = \\begin{bmatrix} \n",
    "0 & 0 & 0 & 0 & 0 & 0\\\\\n",
    "-\\frac{1}{\\lambda}& 0 & 0 & 0 & 0 & 0\\\\\n",
    "0 & 0 & 0 & \\frac{(2\\lambda - \\mu)c}{\\lambda \\mu} & 0 & 0\\\\\n",
    "1 & 0 & 0 & 0 & 0 & 0\\\\\n",
    "0 & 0 & 0 & -2c & 0 & 0\\\\\n",
    "0 & 0 & 0 & 2 & 0 & 0\\\\  \n",
    "\\end{bmatrix}\n",
    ", \\qquad \n",
    "G_2 = \\begin{bmatrix} \n",
    "0 & 0 & 0 & 0 & 0 & 0\\\\\n",
    "0 & 0 &  0 & 0 & 0 & 0\\\\\n",
    " -\\frac{1}{\\mu} & -\\frac{1}{\\mu} & 0 &  -\\frac{1}{\\lambda \\mu} & 0 & 0\\\\\n",
    "0 & 0 & 0 & 0 & 0 & 0\\\\\n",
    "1 & 1 & 0 & \\frac{1}{\\lambda} & 0 & 0\\\\\n",
    "0 & 0 & 0 & 0 & 0 & 0\\\\  \n",
    "\\end{bmatrix}\n",
    "\\end{equation}"
   ]
  },
  {
   "cell_type": "code",
   "execution_count": 1,
   "metadata": {},
   "outputs": [],
   "source": [
    "import numpy as np\n",
    "import sys\n",
    "sys.path.append('../../')"
   ]
  },
  {
   "cell_type": "markdown",
   "metadata": {},
   "source": [
    "# Define experiment parameters"
   ]
  },
  {
   "cell_type": "code",
   "execution_count": 2,
   "metadata": {},
   "outputs": [],
   "source": [
    "from core.dynamics import RoboticDynamics, ConfigurationDynamics\n",
    "\n",
    "class KoopPdOutput(ConfigurationDynamics):\n",
    "    def __init__(self, dynamics, xd, n, m):\n",
    "        ConfigurationDynamics.__init__(self, dynamics, 1)\n",
    "        self.xd = xd\n",
    "        self.n = n\n",
    "        self.m = m\n",
    "\n",
    "    def proportional(self, x, t):\n",
    "        q = x[:int(n/2)]\n",
    "        q_d = self.xd[:int(n/2)]\n",
    "\n",
    "        return  q - q_d\n",
    "\n",
    "    def derivative(self, x, t):\n",
    "        q_dot = x[int(n/2):]\n",
    "        q_dot_d = self.xd[int(n/2):]\n",
    "\n",
    "        return q_dot - q_dot_d\n",
    "\n",
    "class FiniteDimKoopSys(RoboticDynamics):\n",
    "    def __init__(self, lambd, mu, c):\n",
    "        RoboticDynamics.__init__(self, 2, 2)\n",
    "        self.params = lambd, mu, c\n",
    "    \n",
    "    def D(self, q):\n",
    "        return np.array([[1, 0],[0, (q[0]+1)**(-1)]])\n",
    "    \n",
    "    def C(self, q, q_dot):\n",
    "        labmd, mu, c = self.params\n",
    "        return -np.array([[lambd, 0], [(q[0]+1)**(-1)*(2*lambd - mu)*c*q_dot[0], (q[0]+1)**(-1)*mu]])\n",
    "    \n",
    "    def G(self, q):\n",
    "        return np.array([0, 0])\n",
    "    \n",
    "    def B(self, q):\n",
    "        return np.array([[1, 0], [0, 1]])\n",
    "\n",
    "n, m = 4, 2\n",
    "lambd, mu, c = .3, .2, -.5\n",
    "sys_name = 'bilinearizable_sys'\n",
    "system = FiniteDimKoopSys(lambd, mu, c)"
   ]
  },
  {
   "cell_type": "code",
   "execution_count": 3,
   "metadata": {},
   "outputs": [],
   "source": [
    "from koopman_core.dynamics import LinearLiftedDynamics\n",
    "\n",
    "A_lin = np.array([[0, 0, 1, 0],\n",
    "                  [0, 0, 0, 1],\n",
    "                  [0, 0, lambd, 0],\n",
    "                  [0, 0, 0, mu]])\n",
    "B_lin = np.array([[0, 0],\n",
    "                  [0, 0],\n",
    "                  [1, 0],\n",
    "                  [0, 1]])\n",
    "dt = 1e-2\n",
    "linearized_sys = LinearLiftedDynamics(A_lin, B_lin, np.eye(n), lambda x: x)"
   ]
  },
  {
   "cell_type": "markdown",
   "metadata": {},
   "source": [
    "# Collect data for learning "
   ]
  },
  {
   "cell_type": "code",
   "execution_count": 4,
   "metadata": {},
   "outputs": [],
   "source": [
    "import scipy as sc\n",
    "import os\n",
    "\n",
    "q_dc, r_dc = 5e2, 1                                                 # State and actuation penalty values, data collection\n",
    "Q_dc = q_dc * np.identity(n)                                        # State penalty matrix, data collection\n",
    "R_dc = r_dc*np.identity(m)                                          # Actuation penalty matrix, data collection\n",
    "P_dc = sc.linalg.solve_continuous_are(A_lin, B_lin, Q_dc, R_dc)     # Algebraic Ricatti equation solution, data collection\n",
    "K_dc = np.linalg.inv(R_dc)@B_lin.T@P_dc                             # LQR feedback gain matrix, data collection\n",
    "K_dc_p = K_dc[:,:int(n/2)]                                          # Proportional control gains, data collection\n",
    "K_dc_d = K_dc[:,int(n/2):]                                          # Derivative control gains, data collection\n",
    "\n",
    "# Data collection parameters:\n",
    "collect_data = False\n",
    "dt = 1.0e-2                                                         # Time step length\n",
    "traj_length_dc = 2.                                                 # Trajectory length, data collection\n",
    "n_pred_dc = int(traj_length_dc/dt)                                  # Number of time steps, data collection\n",
    "t_eval = dt * np.arange(n_pred_dc + 1)                              # Simulation time points\n",
    "n_traj_train = 100                                                      # Number of trajectories to execute, data collection\n",
    "n_traj_val = int(0.2*n_traj_train)\n",
    "noise_var = 5.                                                      # Exploration noise to perturb controller, data collection\n",
    "\n",
    "xmax = np.array([1., 1., 1., 1.])                                   # State constraints, trajectory generation\n",
    "xmin = -xmax\n",
    "umax = np.array([10., 10.])                                         # Actuation constraint, trajectory generation\n",
    "umin = -umax\n",
    "x0_max = xmax/2                                                     # Initial value limits\n",
    "sub_sample_rate = 1                                                 # Rate to subsample data for training\n",
    "model_fname = 'examples/'                                           # Path to save learned models\n",
    "n_cols = 10                                                         # Number of columns in training data plot\n",
    "directory = os.path.abspath(\"\")                                     # Path to save learned models"
   ]
  },
  {
   "cell_type": "code",
   "execution_count": 5,
   "metadata": {
    "scrolled": false
   },
   "outputs": [],
   "source": [
    "from koopman_core.util import run_experiment\n",
    "import dill\n",
    "\n",
    "if collect_data:\n",
    "    xs_train, us_train, t_train = run_experiment(system, n, n_traj_train, n_pred_dc, t_eval, x0_max, plot_experiment_data=True,\n",
    "                                      m=m, K_p=K_dc_p, K_d=K_dc_d, noise_var=noise_var)\n",
    "    xs_val, us_val, t_val = run_experiment(system, n, n_traj_val, n_pred_dc, t_eval, x0_max,\n",
    "                                      m=m, K_p=K_dc_p, K_d=K_dc_d, noise_var=noise_var)\n",
    "\n",
    "    data_list = [xs_train, us_train, t_train, n_traj_train, xs_val, us_val, t_val, n_traj_val]\n",
    "    outfile = open(directory + '/data/' + sys_name + '_data.pickle', 'wb')\n",
    "    dill.dump(data_list, outfile)\n",
    "    outfile.close()\n",
    "else:\n",
    "    infile = open(directory + '/data/' + sys_name + '_data.pickle', 'rb')\n",
    "    xs_train, us_train, t_train, n_traj_train, xs_val, us_val, t_val, n_traj_val = dill.load(infile)\n",
    "    infile.close()"
   ]
  },
  {
   "cell_type": "markdown",
   "metadata": {},
   "source": [
    "# Learn Koopman-based models of the dynamics"
   ]
  },
  {
   "cell_type": "markdown",
   "metadata": {},
   "source": [
    "### Learn bilinear EDMD model"
   ]
  },
  {
   "cell_type": "code",
   "execution_count": 6,
   "metadata": {},
   "outputs": [],
   "source": [
    "#Bilinear EDMD parameters:                                           \n",
    "alpha_bedmd = 2.4e-5  # Regularization strength (LASSO) bEDMD\n",
    "tune_mdl_bedmd = False"
   ]
  },
  {
   "cell_type": "code",
   "execution_count": 7,
   "metadata": {},
   "outputs": [],
   "source": [
    "from sklearn import preprocessing, linear_model\n",
    "from koopman_core.learning import BilinearEdmd\n",
    "from koopman_core.dynamics import BilinearLiftedDynamics\n",
    "\n",
    "bedmd_features = preprocessing.PolynomialFeatures(2)\n",
    "bedmd_features.fit(np.zeros((1,n)))\n",
    "n_lift_bedmd = bedmd_features.transform((np.zeros((1,n)))).shape[1]\n",
    "\n",
    "C_bedmd = np.zeros((n,n_lift_bedmd))\n",
    "C_bedmd[:,1:n+1] = np.eye(n)\n",
    "\n",
    "basis_bedmd = lambda x: bedmd_features.transform(x)\n",
    "optimizer_bedmd = linear_model.MultiTaskLasso(alpha=alpha_bedmd, fit_intercept=False, selection='random')\n",
    "cv_bedmd = linear_model.MultiTaskLassoCV(fit_intercept=False, n_jobs=-1, cv=3, selection='random')\n",
    "#standardizer_bedmd = preprocessing.StandardScaler(with_mean=False)\n",
    "standardizer_bedmd = None\n",
    "\n",
    "model_bedmd = BilinearEdmd(n, m, basis_bedmd, n_lift_bedmd, n_traj_train, optimizer_bedmd, cv=cv_bedmd, \n",
    "                           standardizer=standardizer_bedmd, C=C_bedmd, continuous_mdl=False, dt=dt)\n",
    "X_bedmd, y_bedmd = model_bedmd.process(xs_train, us_train, np.tile(t_train,(n_traj_train,1)), downsample_rate=sub_sample_rate)\n",
    "model_bedmd.fit(X_bedmd, y_bedmd, cv=tune_mdl_bedmd, override_kinematics=True)\n",
    "sys_bedmd = BilinearLiftedDynamics(model_bedmd.n_lift, m, model_bedmd.A, model_bedmd.B, model_bedmd.C, \n",
    "                                   model_bedmd.basis, continuous_mdl=False, dt=dt)\n",
    "if tune_mdl_bedmd:\n",
    "    print('$\\\\alpha$ bilinear EDMD: ', model_bedmd.cv.alpha_)"
   ]
  },
  {
   "cell_type": "markdown",
   "metadata": {},
   "source": [
    "### Learn Koopman DNN model"
   ]
  },
  {
   "cell_type": "code",
   "execution_count": 8,
   "metadata": {},
   "outputs": [
    {
     "name": "stdout",
     "output_type": "stream",
     "text": [
      "{'state_dim': 4, 'ctrl_dim': 2, 'encoder_hidden_width': 100, 'encoder_hidden_depth': 1, 'encoder_output_dim': 1, 'optimizer': 'adam', 'activation_type': 'relu', 'lr': 0.001, 'epochs': 200, 'batch_size': 256, 'lin_loss_penalty': 0.001, 'l2_reg': 0, 'l1_reg': 0, 'first_obs_const': True, 'override_kinematics': True, 'dt': 0.01}\n"
     ]
    }
   ],
   "source": [
    "import dill, os, torch\n",
    "\n",
    "load_tuned_params = False\n",
    "\n",
    "if load_tuned_params:\n",
    "    infile = open(os.path.abspath('') + '/data/analytic_koop_sys_best_params.pickle', 'rb')\n",
    "    best_config, val_loss, test_loss, open_loop_mse, open_loop_std = dill.load(infile)\n",
    "    infile.close()\n",
    "\n",
    "else:\n",
    "    net_params = {}\n",
    "    net_params['state_dim'] = n\n",
    "    net_params['ctrl_dim'] = m\n",
    "    net_params['encoder_hidden_width'] = 100\n",
    "    net_params['encoder_hidden_depth'] = 1\n",
    "    net_params['encoder_output_dim'] = 1\n",
    "    net_params['optimizer'] = 'adam'\n",
    "    net_params['activation_type'] = 'relu'\n",
    "    net_params['lr'] = 1e-3\n",
    "    net_params['epochs'] = 200\n",
    "    net_params['batch_size'] = 256\n",
    "    net_params['lin_loss_penalty'] = 1e-3\n",
    "    net_params['l2_reg'] = 0\n",
    "    net_params['l1_reg'] = 0\n",
    "    net_params['first_obs_const'] = True\n",
    "    net_params['override_kinematics'] = True # TODO: Fix override kin... \n",
    "    net_params['dt'] = dt\n",
    "\n",
    "print(net_params)"
   ]
  },
  {
   "cell_type": "code",
   "execution_count": 9,
   "metadata": {
    "scrolled": false
   },
   "outputs": [
    {
     "name": "stdout",
     "output_type": "stream",
     "text": [
      "Epoch   1: train loss: 1059.53796387, validation loss: 1013.07023239\n",
      "Epoch   2: train loss: 967.31964111, validation loss: 859.66953659\n",
      "Epoch   3: train loss: 707.14013672, validation loss: 541.87387848\n",
      "Epoch   4: train loss: 373.37976074, validation loss: 269.29443455\n",
      "Epoch   5: train loss: 190.67996216, validation loss: 147.03718185\n",
      "Epoch   6: train loss: 108.65653229, validation loss: 83.76909161\n",
      "Epoch   7: train loss: 63.52553940, validation loss: 48.46940374\n",
      "Epoch   8: train loss: 38.61249161, validation loss: 29.09155738\n",
      "Epoch   9: train loss: 25.31528091, validation loss: 18.90689075\n",
      "Epoch  10: train loss: 17.95082664, validation loss: 13.45917678\n",
      "Epoch  11: train loss: 13.64342213, validation loss: 10.25897416\n",
      "Epoch  12: train loss: 11.02377510, validation loss: 8.16239396\n",
      "Epoch  13: train loss: 8.94210339, validation loss: 6.65290093\n",
      "Epoch  14: train loss: 7.59853935, validation loss: 5.61285765\n",
      "Epoch  15: train loss: 6.49905825, validation loss: 4.82959510\n",
      "Epoch  16: train loss: 5.74718857, validation loss: 4.18626973\n",
      "Epoch  17: train loss: 4.96462011, validation loss: 3.67871073\n",
      "Epoch  18: train loss: 4.37045670, validation loss: 3.25080240\n",
      "Epoch  19: train loss: 3.88283539, validation loss: 2.89179377\n",
      "Epoch  20: train loss: 3.45687866, validation loss: 2.59983123\n",
      "Epoch  21: train loss: 3.15305018, validation loss: 2.30739139\n",
      "Epoch  22: train loss: 2.76813173, validation loss: 2.08000547\n",
      "Epoch  23: train loss: 2.50002694, validation loss: 1.86165675\n",
      "Epoch  24: train loss: 2.25909185, validation loss: 1.69716640\n",
      "Epoch  25: train loss: 2.03353333, validation loss: 1.53144543\n",
      "Epoch  26: train loss: 1.86126339, validation loss: 1.39267411\n",
      "Epoch  27: train loss: 1.68652475, validation loss: 1.29022181\n",
      "Epoch  28: train loss: 1.55308342, validation loss: 1.16729536\n",
      "Epoch  29: train loss: 1.52046990, validation loss: 1.08348364\n",
      "Epoch  30: train loss: 1.29991615, validation loss: 0.99482527\n",
      "Epoch  31: train loss: 1.20157135, validation loss: 0.91194570\n",
      "Epoch  32: train loss: 1.10699487, validation loss: 0.87643061\n",
      "Epoch  33: train loss: 1.03041303, validation loss: 0.80448825\n",
      "Epoch  34: train loss: 0.96057534, validation loss: 0.74801345\n",
      "Epoch  35: train loss: 0.89323437, validation loss: 0.70810693\n",
      "Epoch  36: train loss: 0.84037107, validation loss: 0.67737508\n",
      "Epoch  37: train loss: 0.78686410, validation loss: 0.63184910\n",
      "Epoch  38: train loss: 0.73979586, validation loss: 0.59559632\n",
      "Epoch  39: train loss: 0.69762844, validation loss: 0.55841369\n",
      "Epoch  40: train loss: 0.66560942, validation loss: 0.53172638\n",
      "Epoch  41: train loss: 0.62792414, validation loss: 0.52329662\n",
      "Epoch  42: train loss: 0.61680406, validation loss: 0.48891933\n",
      "Epoch  43: train loss: 0.56196147, validation loss: 0.48114600\n",
      "Epoch  44: train loss: 0.53484243, validation loss: 0.44225088\n",
      "Epoch  45: train loss: 0.50842178, validation loss: 0.42320934\n",
      "Epoch  46: train loss: 0.49468467, validation loss: 0.42020555\n",
      "Epoch  47: train loss: 0.48297110, validation loss: 0.38164812\n",
      "Epoch  48: train loss: 0.43846506, validation loss: 0.36711607\n",
      "Epoch  49: train loss: 0.41409388, validation loss: 0.35019128\n",
      "Epoch  50: train loss: 0.39294598, validation loss: 0.32911830\n",
      "Epoch  51: train loss: 0.40111628, validation loss: 0.31480552\n",
      "Epoch  52: train loss: 0.35335681, validation loss: 0.30324870\n",
      "Epoch  53: train loss: 0.33234358, validation loss: 0.28088977\n",
      "Epoch  54: train loss: 0.31618303, validation loss: 0.26781765\n",
      "Epoch  55: train loss: 0.29840091, validation loss: 0.25978898\n",
      "Epoch  56: train loss: 0.28035113, validation loss: 0.23956773\n",
      "Epoch  57: train loss: 0.26565003, validation loss: 0.22803487\n",
      "Epoch  58: train loss: 0.25032657, validation loss: 0.21322156\n",
      "Epoch  59: train loss: 0.23555659, validation loss: 0.20033871\n",
      "Epoch  60: train loss: 0.23236883, validation loss: 0.19622060\n",
      "Epoch  61: train loss: 0.20796919, validation loss: 0.18183487\n",
      "Epoch  62: train loss: 0.19509377, validation loss: 0.16489469\n",
      "Epoch  63: train loss: 0.18229869, validation loss: 0.15635669\n",
      "Epoch  64: train loss: 0.17709392, validation loss: 0.14798149\n",
      "Epoch  65: train loss: 0.15685749, validation loss: 0.13492456\n",
      "Epoch  66: train loss: 0.14509547, validation loss: 0.12425992\n",
      "Epoch  67: train loss: 0.13460112, validation loss: 0.11746154\n",
      "Epoch  68: train loss: 0.12552394, validation loss: 0.11000257\n",
      "Epoch  69: train loss: 0.11558063, validation loss: 0.10036624\n",
      "Epoch  70: train loss: 0.10523143, validation loss: 0.09103644\n",
      "Epoch  71: train loss: 0.09676140, validation loss: 0.08707003\n",
      "Epoch  72: train loss: 0.08957506, validation loss: 0.07730923\n",
      "Epoch  73: train loss: 0.08214875, validation loss: 0.07268468\n",
      "Epoch  74: train loss: 0.07468259, validation loss: 0.06556470\n",
      "Epoch  75: train loss: 0.06802023, validation loss: 0.05899014\n",
      "Epoch  76: train loss: 0.06164930, validation loss: 0.05401184\n",
      "Epoch  77: train loss: 0.05584258, validation loss: 0.04973863\n",
      "Epoch  78: train loss: 0.05096017, validation loss: 0.04617723\n",
      "Epoch  79: train loss: 0.04582112, validation loss: 0.04022547\n",
      "Epoch  80: train loss: 0.04110824, validation loss: 0.03643788\n",
      "Epoch  81: train loss: 0.03704058, validation loss: 0.03333372\n",
      "Epoch  82: train loss: 0.03337415, validation loss: 0.03053044\n",
      "Epoch  83: train loss: 0.03025875, validation loss: 0.02678624\n",
      "Epoch  84: train loss: 0.02685362, validation loss: 0.02462469\n",
      "Epoch  85: train loss: 0.02407658, validation loss: 0.02169698\n",
      "Epoch  86: train loss: 0.02173829, validation loss: 0.01930071\n",
      "Epoch  87: train loss: 0.01935730, validation loss: 0.01768983\n",
      "Epoch  88: train loss: 0.01757699, validation loss: 0.01598438\n",
      "Epoch  89: train loss: 0.01552181, validation loss: 0.01399029\n",
      "Epoch  90: train loss: 0.01377152, validation loss: 0.01325137\n",
      "Epoch  91: train loss: 0.01237262, validation loss: 0.01163154\n",
      "Epoch  92: train loss: 0.01124616, validation loss: 0.01080970\n",
      "Epoch  93: train loss: 0.01024489, validation loss: 0.01004688\n",
      "Epoch  94: train loss: 0.00938704, validation loss: 0.00932772\n",
      "Epoch  95: train loss: 0.00849244, validation loss: 0.00830452\n",
      "Epoch  96: train loss: 0.00765747, validation loss: 0.00789643\n",
      "Epoch  97: train loss: 0.00713972, validation loss: 0.00778869\n",
      "Epoch  98: train loss: 0.00659652, validation loss: 0.00696299\n",
      "Epoch  99: train loss: 0.00616807, validation loss: 0.00623743\n",
      "Epoch 100: train loss: 0.00571396, validation loss: 0.00642065\n",
      "Epoch 101: train loss: 0.00554634, validation loss: 0.00633215\n",
      "Epoch 102: train loss: 0.00514032, validation loss: 0.00533138\n",
      "Epoch 103: train loss: 0.00484263, validation loss: 0.00528574\n",
      "Epoch 104: train loss: 0.00467785, validation loss: 0.00498361\n",
      "Epoch 105: train loss: 0.00439189, validation loss: 0.00460485\n",
      "Epoch 106: train loss: 0.00425709, validation loss: 0.00472255\n",
      "Epoch 107: train loss: 0.00406550, validation loss: 0.00456090\n",
      "Epoch 108: train loss: 0.00384317, validation loss: 0.00447028\n",
      "Epoch 109: train loss: 0.00372956, validation loss: 0.00487392\n",
      "Epoch 110: train loss: 0.00358706, validation loss: 0.00414126\n",
      "Epoch 111: train loss: 0.00339973, validation loss: 0.00399006\n",
      "Epoch 112: train loss: 0.00330511, validation loss: 0.00359672\n",
      "Epoch 113: train loss: 0.00318231, validation loss: 0.00367006\n",
      "Epoch 114: train loss: 0.00315076, validation loss: 0.00366141\n",
      "Epoch 115: train loss: 0.00297366, validation loss: 0.00356145\n",
      "Epoch 116: train loss: 0.00290591, validation loss: 0.00325573\n",
      "Epoch 117: train loss: 0.00277918, validation loss: 0.00342314\n",
      "Epoch 118: train loss: 0.00268275, validation loss: 0.00322161\n",
      "Epoch 119: train loss: 0.00265416, validation loss: 0.00285220\n",
      "Epoch 120: train loss: 0.00256803, validation loss: 0.00297847\n",
      "Epoch 121: train loss: 0.00245645, validation loss: 0.00275720\n",
      "Epoch 122: train loss: 0.00238099, validation loss: 0.00264586\n",
      "Epoch 123: train loss: 0.00230010, validation loss: 0.00260326\n",
      "Epoch 124: train loss: 0.00221701, validation loss: 0.00285259\n",
      "Epoch 125: train loss: 0.00217908, validation loss: 0.00266082\n",
      "Epoch 126: train loss: 0.00219730, validation loss: 0.00227940\n",
      "Epoch 127: train loss: 0.00205307, validation loss: 0.00253043\n",
      "Epoch 128: train loss: 0.00207930, validation loss: 0.00278659\n",
      "Epoch 129: train loss: 0.00210066, validation loss: 0.00265407\n",
      "Epoch 130: train loss: 0.00206874, validation loss: 0.00221952\n"
     ]
    },
    {
     "name": "stdout",
     "output_type": "stream",
     "text": [
      "Epoch 131: train loss: 0.00193850, validation loss: 0.00211866\n",
      "Epoch 132: train loss: 0.00187877, validation loss: 0.00217783\n",
      "Epoch 133: train loss: 0.00181051, validation loss: 0.00224599\n",
      "Epoch 134: train loss: 0.00179180, validation loss: 0.00209029\n",
      "Epoch 135: train loss: 0.00172747, validation loss: 0.00184734\n",
      "Epoch 136: train loss: 0.00164019, validation loss: 0.00183162\n",
      "Epoch 137: train loss: 0.00159344, validation loss: 0.00183880\n",
      "Epoch 138: train loss: 0.00162592, validation loss: 0.00202119\n",
      "Epoch 139: train loss: 0.00160329, validation loss: 0.00178929\n",
      "Epoch 140: train loss: 0.00157213, validation loss: 0.00178056\n",
      "Epoch 141: train loss: 0.00150524, validation loss: 0.00176208\n",
      "Epoch 142: train loss: 0.00148451, validation loss: 0.00195272\n",
      "Epoch 143: train loss: 0.00148094, validation loss: 0.00171049\n",
      "Epoch 144: train loss: 0.00147219, validation loss: 0.00172716\n",
      "Epoch 145: train loss: 0.00144582, validation loss: 0.00175535\n",
      "Epoch 146: train loss: 0.00148505, validation loss: 0.00174638\n",
      "Epoch 147: train loss: 0.00141154, validation loss: 0.00158070\n",
      "Epoch 148: train loss: 0.00140341, validation loss: 0.00149465\n",
      "Epoch 149: train loss: 0.00143026, validation loss: 0.00138740\n",
      "Epoch 150: train loss: 0.00131062, validation loss: 0.00167941\n",
      "Epoch 151: train loss: 0.00134203, validation loss: 0.00145424\n",
      "Epoch 152: train loss: 0.00130470, validation loss: 0.00161048\n",
      "Epoch 153: train loss: 0.00138827, validation loss: 0.00167176\n",
      "Epoch 154: train loss: 0.00131434, validation loss: 0.00149214\n",
      "Epoch 155: train loss: 0.00129876, validation loss: 0.00149354\n",
      "Epoch 156: train loss: 0.00129859, validation loss: 0.00150970\n",
      "Epoch 157: train loss: 0.00143210, validation loss: 0.00160576\n",
      "Epoch 158: train loss: 0.00127746, validation loss: 0.00184781\n",
      "Epoch 159: train loss: 0.00132000, validation loss: 0.00161743\n",
      "Epoch 160: train loss: 0.00130395, validation loss: 0.00147547\n",
      "Epoch 161: train loss: 0.00128098, validation loss: 0.00172612\n",
      "Epoch 162: train loss: 0.00130595, validation loss: 0.00185957\n",
      "Epoch 163: train loss: 0.00135915, validation loss: 0.00146481\n",
      "Epoch 164: train loss: 0.00123007, validation loss: 0.00160109\n",
      "Epoch 165: train loss: 0.00126585, validation loss: 0.00145467\n",
      "Epoch 166: train loss: 0.00130544, validation loss: 0.00129264\n",
      "Epoch 167: train loss: 0.00126768, validation loss: 0.00196763\n",
      "Epoch 168: train loss: 0.00136049, validation loss: 0.00162675\n",
      "Epoch 169: train loss: 0.00133675, validation loss: 0.00165282\n",
      "Epoch 170: train loss: 0.00141177, validation loss: 0.00134528\n",
      "Epoch 171: train loss: 0.00121119, validation loss: 0.00182780\n",
      "Epoch 172: train loss: 0.00120744, validation loss: 0.00202000\n",
      "Epoch 173: train loss: 0.00142181, validation loss: 0.00152466\n",
      "Epoch 174: train loss: 0.00119257, validation loss: 0.00139952\n",
      "Epoch 175: train loss: 0.00117938, validation loss: 0.00145015\n",
      "Epoch 176: train loss: 0.00116191, validation loss: 0.00154221\n",
      "Epoch 177: train loss: 0.00131019, validation loss: 0.00187502\n",
      "Epoch 178: train loss: 0.00123456, validation loss: 0.00163859\n",
      "Epoch 179: train loss: 0.00113869, validation loss: 0.00138495\n",
      "Epoch 180: train loss: 0.00113698, validation loss: 0.00134318\n",
      "Epoch 181: train loss: 0.00115088, validation loss: 0.00140845\n",
      "Epoch 182: train loss: 0.00118140, validation loss: 0.00131596\n",
      "Epoch 183: train loss: 0.00117151, validation loss: 0.00161961\n",
      "Epoch 184: train loss: 0.00114755, validation loss: 0.00143652\n",
      "Epoch 185: train loss: 0.00114405, validation loss: 0.00125654\n",
      "Epoch 186: train loss: 0.00112659, validation loss: 0.00124912\n",
      "Epoch 187: train loss: 0.00115287, validation loss: 0.00166784\n",
      "Epoch 188: train loss: 0.00122751, validation loss: 0.00133497\n",
      "Epoch 189: train loss: 0.00115524, validation loss: 0.00119910\n",
      "Epoch 190: train loss: 0.00113851, validation loss: 0.00146927\n",
      "Epoch 191: train loss: 0.00116126, validation loss: 0.00131497\n",
      "Epoch 192: train loss: 0.00127847, validation loss: 0.00135569\n",
      "Epoch 193: train loss: 0.00121910, validation loss: 0.00144020\n",
      "Epoch 194: train loss: 0.00119497, validation loss: 0.00173468\n",
      "Epoch 195: train loss: 0.00120799, validation loss: 0.00129011\n",
      "Epoch 196: train loss: 0.00120826, validation loss: 0.00136653\n",
      "Epoch 197: train loss: 0.00117757, validation loss: 0.00157074\n",
      "Epoch 198: train loss: 0.00119375, validation loss: 0.00169833\n",
      "Epoch 199: train loss: 0.00121938, validation loss: 0.00183647\n",
      "Epoch 200: train loss: 0.00117321, validation loss: 0.00136076\n",
      "Finished Training\n"
     ]
    }
   ],
   "source": [
    "from koopman_core.learning import KoopDnn, KoopmanNetCtrl\n",
    "from koopman_core.util import fit_standardizer\n",
    "\n",
    "standardizer_x_kdnn = fit_standardizer(xs_train, preprocessing.StandardScaler(with_mean=False))\n",
    "#standardizer_x_kdnn = None\n",
    "standardizer_u_kdnn = fit_standardizer(us_train, preprocessing.StandardScaler(with_mean=False))\n",
    "n_tot = n + net_params['encoder_output_dim'] + int(net_params['first_obs_const'])\n",
    "\n",
    "net = KoopmanNetCtrl(net_params, standardizer_x=standardizer_x_kdnn, standardizer_u=standardizer_u_kdnn)\n",
    "model_koop_dnn = KoopDnn(net)\n",
    "model_koop_dnn.set_datasets(xs_train, t_train, u_train=us_train, x_val=xs_val, u_val=us_val, t_val=t_val)\n",
    "model_koop_dnn.model_pipeline(net_params)\n",
    "model_koop_dnn.construct_koopman_model()\n",
    "sys_koop_dnn = BilinearLiftedDynamics(n_tot, m, model_koop_dnn.A, model_koop_dnn.B, model_koop_dnn.C, \n",
    "                                      model_koop_dnn.basis_encode, continuous_mdl=False, dt=dt, \n",
    "                                      standardizer_x=standardizer_x_kdnn, standardizer_u=standardizer_u_kdnn)"
   ]
  },
  {
   "cell_type": "code",
   "execution_count": 10,
   "metadata": {},
   "outputs": [
    {
     "data": {
      "image/png": "[encoded data removed]",
      "text/plain": [
       "<Figure size 1080x576 with 1 Axes>"
      ]
     },
     "metadata": {
      "needs_background": "light"
     },
     "output_type": "display_data"
    }
   ],
   "source": [
    "import matplotlib.pyplot as plt\n",
    "\n",
    "train_loss = [l[0] for l in model_koop_dnn.train_loss_hist]\n",
    "train_pred_loss = [l[1] for l in model_koop_dnn.train_loss_hist]\n",
    "train_lin_loss = [l[2] for l in model_koop_dnn.train_loss_hist]\n",
    "val_loss = [l[0] for l in model_koop_dnn.val_loss_hist]\n",
    "val_pred_loss = [l[1] for l in model_koop_dnn.val_loss_hist]\n",
    "val_lin_loss = [l[2] for l in model_koop_dnn.val_loss_hist]\n",
    "epochs = np.arange(0, net_params['epochs'])\n",
    "\n",
    "plt.figure(figsize=(15,8))\n",
    "plt.plot(epochs, train_loss, color='tab:orange', label='Training loss')\n",
    "plt.plot(epochs, train_pred_loss, '--', color='tab:orange', label='Training prediction loss')\n",
    "plt.plot(epochs, train_lin_loss, ':', color='tab:orange', label='Training linear loss')\n",
    "plt.plot(epochs, val_loss, color='tab:blue', label='Validation loss')\n",
    "plt.plot(epochs, val_pred_loss, '--', color='tab:blue', label='Validation prediction loss')\n",
    "plt.plot(epochs, val_lin_loss, ':', color='tab:blue', label='Validation linear loss')\n",
    "plt.legend()\n",
    "plt.xlabel('Epoch')\n",
    "plt.ylabel('Loss')\n",
    "plt.yscale('log')\n",
    "plt.show()"
   ]
  },
  {
   "cell_type": "markdown",
   "metadata": {},
   "source": [
    "# Evaluate open-loop prediction performance"
   ]
  },
  {
   "cell_type": "code",
   "execution_count": 11,
   "metadata": {},
   "outputs": [],
   "source": [
    "# Prediction performance evaluation parameters:\n",
    "folder_plots = 'figures/'                                          # Path to save plots\n",
    "n_traj_ol = 50                                                     # Number of trajectories to execute, open loop"
   ]
  },
  {
   "cell_type": "code",
   "execution_count": 12,
   "metadata": {},
   "outputs": [
    {
     "name": "stdout",
     "output_type": "stream",
     "text": [
      "\n",
      "Open loop performance statistics:\n",
      "            Mean squared error    Standard deviation\n",
      "--------  --------------------  --------------------\n",
      "Koop DNN               5e-05                 0.00684\n",
      "bEDMD                  0.00015               0.01217\n"
     ]
    },
    {
     "data": {
      "text/plain": [
       "<Figure size 864x432 with 0 Axes>"
      ]
     },
     "metadata": {},
     "output_type": "display_data"
    }
   ],
   "source": [
    "from koopman_core.util import evaluate_ol_pred\n",
    "from tabulate import tabulate\n",
    "import random as rand\n",
    "\n",
    "xs_ol, us_ol, t_ol = run_experiment(system, n, n_traj_ol, n_pred_dc, t_eval, x0_max,\n",
    "                                      m=m, K_p=K_dc_p, K_d=K_dc_d, noise_var=noise_var)\n",
    "\n",
    "mdl_lst = [sys_koop_dnn, sys_bedmd]\n",
    "mdl_names = ['Koop DNN', 'bEDMD']\n",
    "error, mse, std = [], [], []\n",
    "\n",
    "for sys in mdl_lst:\n",
    "    err_tmp, mse_tmp, std_tmp = evaluate_ol_pred(sys, xs_ol, t_eval, us=us_ol)\n",
    "    error.append(err_tmp)\n",
    "    mse.append(mse_tmp)\n",
    "    std.append(std_tmp)\n",
    "    \n",
    "print('\\nOpen loop performance statistics:')\n",
    "table_data = []\n",
    "for name, mse_mdl, std_mdl in zip(mdl_names, mse, std):\n",
    "    table_data.append([name, \"{:.5f}\".format(mse_mdl), \"{:.5f}\".format(std_mdl)])\n",
    "\n",
    "print(tabulate(table_data, \n",
    "               headers=['Mean squared error', 'Standard deviation']))"
   ]
  },
  {
   "cell_type": "code",
   "execution_count": 13,
   "metadata": {},
   "outputs": [
    {
     "data": {
      "image/png": "[encoded data removed]",
      "text/plain": [
       "<Figure size 864x288 with 4 Axes>"
      ]
     },
     "metadata": {
      "needs_background": "light"
     },
     "output_type": "display_data"
    }
   ],
   "source": [
    "import matplotlib.pyplot as plt\n",
    "import matplotlib\n",
    "\n",
    "figwidth = 12\n",
    "lw = 2\n",
    "fs = 14\n",
    "y_lim_gain = 1.2\n",
    "row = 2\n",
    "col = n/row\n",
    "\n",
    "#Plot open loop results:\n",
    "plt.figure(figsize=(figwidth,4))\n",
    "axs = [plt.subplot(row,col,jj+1) for jj in range(n)]\n",
    "\n",
    "for ii, err in enumerate(error):\n",
    "    err_mean = np.mean(err, axis=0)\n",
    "    err_std = np.std(err, axis=0)\n",
    "    \n",
    "    for jj in range(n):\n",
    "        axs[jj].plot(t_eval[1:], err_mean[:,jj], label=mdl_names[ii])\n",
    "        axs[jj].fill_between(t_eval[1:], err_mean[:,jj]-err_std[:,jj], err_mean[:,jj]+err_std[:,jj], alpha=0.1)\n",
    "\n",
    "for jj in range(n):\n",
    "    axs[jj].grid()\n",
    "    axs[jj].set_xlabel('Time (sec)', fontsize=fs)\n",
    "    axs[jj].set_ylabel('$x_'+ str(jj+1) + '$', fontsize=fs)\n",
    "\n",
    "plt.legend(frameon=False, fontsize=fs)\n",
    "stitle=plt.suptitle('Open loop prediction performance of learned models', fontsize=fs+2)\n",
    "matplotlib.rcParams['pdf.fonttype'] = 42\n",
    "matplotlib.rcParams['ps.fonttype'] = 42\n",
    "plt.savefig(folder_plots + 'koop_sys_prediction.pdf', format='pdf', dpi=2400, bbox_extra_artists=(stitle,), bbox_inches=\"tight\")\n",
    "plt.show()"
   ]
  },
  {
   "cell_type": "code",
   "execution_count": 14,
   "metadata": {},
   "outputs": [
    {
     "name": "stdout",
     "output_type": "stream",
     "text": [
      "[0.0223093  0.00944786]\n",
      "[5.44863724 5.43992453]\n",
      "[ 0.01007821 -0.00539606 -0.01089513  0.00437488]\n",
      "[0.14561805 0.16455691 0.16175582 0.17373891]\n"
     ]
    }
   ],
   "source": [
    "print(standardizer_u_kdnn.mean_)\n",
    "print(standardizer_u_kdnn.scale_)\n",
    "print(standardizer_x_kdnn.mean_)\n",
    "print(standardizer_x_kdnn.scale_)"
   ]
  },
  {
   "cell_type": "code",
   "execution_count": null,
   "metadata": {},
   "outputs": [],
   "source": []
  }
 ],
 "metadata": {
  "kernelspec": {
   "display_name": "keedmd",
   "language": "python",
   "name": "keedmd"
  },
  "language_info": {
   "codemirror_mode": {
    "name": "ipython",
    "version": 3
   },
   "file_extension": ".py",
   "mimetype": "text/x-python",
   "name": "python",
   "nbconvert_exporter": "python",
   "pygments_lexer": "ipython3",
   "version": "3.7.6"
  }
 },
 "nbformat": 4,
 "nbformat_minor": 4
}
