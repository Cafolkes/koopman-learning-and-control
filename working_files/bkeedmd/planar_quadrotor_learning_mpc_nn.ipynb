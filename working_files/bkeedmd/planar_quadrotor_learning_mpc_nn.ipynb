{
 "cells": [
  {
   "cell_type": "code",
   "execution_count": 1,
   "metadata": {},
   "outputs": [],
   "source": [
    "import sys\n",
    "sys.path.append('../../')\n",
    "import os\n",
    "import dill\n",
    "import numpy as np\n",
    "import scipy as sc\n",
    "import random as rand\n",
    "from sklearn import preprocessing, linear_model\n",
    "import matplotlib.pyplot as plt\n",
    "\n",
    "from core.controllers import PDController\n",
    "from core.dynamics import LinearSystemDynamics, ConfigurationDynamics\n",
    "\n",
    "from koopman_core.controllers import OpenLoopController, MPCController,BilinearFBLinController, PerturbedController, LinearLiftedController\n",
    "from koopman_core.dynamics import LinearLiftedDynamics, BilinearLiftedDynamics\n",
    "from koopman_core.learning import Edmd, BilinearEdmd, KoopDnn\n",
    "from koopman_core.basis_functions import PlanarQuadBasis\n",
    "from koopman_core.learning.utils import differentiate_vec\n",
    "from koopman_core.systems import PlanarQuadrotorForceInput\n",
    "\n",
    "class QuadrotorPdOutput(ConfigurationDynamics):\n",
    "    def __init__(self, dynamics, xd, t_d, n, m):\n",
    "        ConfigurationDynamics.__init__(self, dynamics, 1)\n",
    "        self.xd = xd\n",
    "        self.t_d = t_d\n",
    "        self.xd_dot = differentiate_vec(self.xd, self.t_d)\n",
    "        self.n = n\n",
    "        self.m = m\n",
    "\n",
    "    def proportional(self, x, t):\n",
    "        q, q_dot = x[:int(n/2)], x[int(n/2):]\n",
    "        return self.y(q) - self.y_d(t)\n",
    "\n",
    "    def derivative(self, x, t):\n",
    "        q, q_dot = x[:int(n/2)], x[int(n/2):]\n",
    "        return self.dydq(q)@q_dot - self.y_d_dot(t)\n",
    "\n",
    "    def y(self, q):\n",
    "        return q\n",
    "\n",
    "    def dydq(self, q):\n",
    "        return np.eye(int(self.n/2))\n",
    "\n",
    "    def d2ydq2(self, q):\n",
    "        return np.zeros((int(self.n/2), int(self.n/2), int(self.n/2)))\n",
    "\n",
    "    def y_d(self, t):\n",
    "        return self.desired_state_(t)[:int(self.n/2)]\n",
    "\n",
    "    def y_d_dot(self, t):\n",
    "        return self.desired_state_(t)[int(self.n/2):]\n",
    "\n",
    "    def y_d_ddot(self, t):\n",
    "        return self.desired_state_dot_(t)[int(self.n/2):]\n",
    "\n",
    "    def desired_state_(self, t):\n",
    "        return [np.interp(t, self.t_d.flatten(),self.xd[:,ii].flatten()) for ii in range(self.xd.shape[1])]\n",
    "\n",
    "    def desired_state_dot_(self, t):\n",
    "        return [np.interp(t, self.t_d.flatten(),self.xd_dot[:,ii].flatten()) for ii in range(self.xd_dot.shape[1])]\n",
    "\n",
    "class PlanarQuadrotorForceInputDiscrete(PlanarQuadrotorForceInput):\n",
    "    def __init__(self, mass, inertia, prop_arm, g=9.81, dt=1e-2):\n",
    "        PlanarQuadrotorForceInput.__init__(self, mass, inertia, prop_arm, g=g)\n",
    "        self.dt=dt\n",
    "        \n",
    "    def eval_dot(self, x, u, t):\n",
    "        return x + self.dt*self.drift(x, t) + self.dt*np.dot(self.act(x, t),u)\n",
    "\n",
    "    def get_linearization(self, x0, x1, u0, t):\n",
    "        m, J, b, g = self.params\n",
    "        A_lin = np.eye(self.n) + self.dt*np.array([[0, 0, 0, 1, 0, 0],\n",
    "                                                   [0, 0, 0, 0, 1, 0],\n",
    "                                                   [0, 0, 0, 0, 0, 1],\n",
    "                                                   [0, 0, -(1/m)*np.cos(x0[2])*u0[0] -(1/m)*np.cos(x0[2])*u0[1], 0, 0, 0],\n",
    "                                                   [0, 0, -(1/m)*np.sin(x0[2])*u0[0] -(1/m)*np.sin(x0[2])*u0[1], 0, 0, 0],\n",
    "                                                   [0, 0, 0, 0, 0, 0],])\n",
    "\n",
    "        B_lin = self.dt*np.array([[0, 0],\n",
    "                                  [0, 0],\n",
    "                                  [0, 0],\n",
    "                                  [-(1/m)*np.sin(x0[2]), -(1/m)*np.sin(x0[2])],\n",
    "                                  [(1/m)*np.cos(x0[2]), (1/m)*np.cos(x0[2])],\n",
    "                                  [-b/J, b/J]])\n",
    "\n",
    "        if x1 is None:\n",
    "            x1 = A_lin@x0 + B_lin@u0\n",
    "\n",
    "        f_d = self.eval_dot(x0,u0,t)\n",
    "        r_lin = f_d - x1\n",
    "\n",
    "        return A_lin, B_lin, r_lin\n",
    "    "
   ]
  },
  {
   "cell_type": "markdown",
   "metadata": {
    "pycharm": {
     "name": "#%% md\n"
    }
   },
   "source": [
    "## Planar Quadrotor Example"
   ]
  },
  {
   "cell_type": "markdown",
   "metadata": {},
   "source": [
    "Consider a planar quadrotor with states $\\mathbf{x} = [y \\, z \\, \\theta \\, \\dot{y} \\, \\dot{z} \\, \\dot{\\theta}]^T$ and continuous-time dynamics\n",
    "\n",
    "\\begin{equation}\n",
    "    \\begin{bmatrix} \\ddot{y} \\\\ \\ddot{z} \\\\ \\ddot{\\theta} \\end{bmatrix}\n",
    "    = \\begin{bmatrix}\n",
    "    0\\\\-g\\\\0\n",
    "    \\end{bmatrix} +\n",
    "    \\begin{bmatrix}\n",
    "    -\\frac{1}{m}\\text{sin}\\theta & -\\frac{1}{m}\\text{sin}\\theta\\\\\n",
    "    \\frac{1}{m}\\text{cos}\\theta & \\frac{1}{m}\\text{cos}\\theta\\\\\n",
    "    -\\frac{l_{arm}}{I_{xx}} & \\frac{l_{arm}}{I_{xx}}\n",
    "    \\end{bmatrix}\n",
    "    \\begin{bmatrix}\n",
    "    T_1 \\\\ T_2\n",
    "    \\end{bmatrix}\n",
    "\\end{equation}\n",
    "\n",
    "where $y,z$ describe the position of the vehicle in a fixed reference frame, $\\theta$ is the orientation of the vehicle,\n",
    "$T_1, T_2$ are the thrust from each of the propellers, $g$ is the gravitational acceleration, $m$ is the vehicle mass,\n",
    "$l_{arm}$ is the distance from the vehicle's center of mass to the center of the propeller, and $I_{xx}$ is the inertia\n",
    "around the x-axis."
   ]
  },
  {
   "cell_type": "code",
   "execution_count": 2,
   "metadata": {
    "pycharm": {
     "name": "#%%\n"
    }
   },
   "outputs": [],
   "source": [
    "mass = 2.\n",
    "inertia = 1.\n",
    "prop_arm = 0.2\n",
    "gravity = 9.81\n",
    "sys_name = 'planar_quad'\n",
    "system = PlanarQuadrotorForceInput(mass, inertia, prop_arm, g=gravity)\n",
    "\n",
    "# Linearized system specification:\n",
    "n, m = 6, 2                                                         # Number of states, number of control inputs\n",
    "A_nom = np.array([[0., 0., 0., 1., 0., 0.],                         # Linearization of the true system around the origin\n",
    "                  [0., 0., 0., 0., 1., 0.],\n",
    "                  [0., 0., 0., 0., 0., 1.],\n",
    "                  [0., 0., -gravity, 0., 0., 0.],\n",
    "                  [0., 0., 0., 0., 0., 0.],\n",
    "                  [0., 0., 0., 0., 0., 0.]])\n",
    "B_nom = np.array([[0., 0.],                                         # Linearization of the true system around the origin\n",
    "                  [0., 0.],\n",
    "                  [0., 0.],\n",
    "                  [0., 0.],\n",
    "                  [1./mass, 1./mass],\n",
    "                  [-prop_arm/inertia, prop_arm/inertia]])\n",
    "\n",
    "hover_thrust = mass*gravity/m"
   ]
  },
  {
   "cell_type": "markdown",
   "metadata": {
    "pycharm": {
     "name": "#%% md\n"
    }
   },
   "source": [
    "### Collect data for learning"
   ]
  },
  {
   "cell_type": "markdown",
   "metadata": {
    "pycharm": {
     "name": "#%% md\n"
    }
   },
   "source": [
    "To collect data, a nominal controller is designed with LQR on the dynamics's linearization around hover. However, any\n",
    "controller can be used and the method does not require the knowledge of model's linearization. In addition, a\n",
    "exploratory white noise is added to the controller to ensure that the data is sufficiently excited. Note that the system\n",
    "is underactuated and that trajectory optimization is necessary to control the position of the vehicle. We use a\n",
    "simplified trajectory generator based on a model predictive controller for the linearized dynamics. More careful design\n",
    "of the desired trajectory may be necessary for more demanding applications and this is readily compatible with our method.\n",
    "\n"
   ]
  },
  {
   "cell_type": "code",
   "execution_count": 3,
   "metadata": {
    "pycharm": {
     "name": "#%%\n"
    }
   },
   "outputs": [],
   "source": [
    "q_dc, r_dc = 5e2, 1                                                 # State and actuation penalty values, data collection\n",
    "Q_dc = q_dc * np.identity(n)                                        # State penalty matrix, data collection\n",
    "R_dc = r_dc*np.identity(m)                                          # Actuation penalty matrix, data collection\n",
    "P_dc = sc.linalg.solve_continuous_are(A_nom, B_nom, Q_dc, R_dc)     # Algebraic Ricatti equation solution, data collection\n",
    "K_dc = np.linalg.inv(R_dc)@B_nom.T@P_dc                             # LQR feedback gain matrix, data collection\n",
    "K_dc_p = K_dc[:,:int(n/2)]                                          # Proportional control gains, data collection\n",
    "K_dc_d = K_dc[:,int(n/2):]                                          # Derivative control gains, data collection\n",
    "nominal_sys = LinearLiftedDynamics(A_nom, B_nom, np.eye(n), lambda x: x)\n",
    "\n",
    "# Data collection parameters:\n",
    "collect_data = False\n",
    "dt = 1.0e-2                                                         # Time step length\n",
    "traj_length_dc = 2.                                                 # Trajectory length, data collection\n",
    "n_pred_dc = int(traj_length_dc/dt)                                  # Number of time steps, data collection\n",
    "t_train = dt * np.arange(n_pred_dc + 1)                             # Simulation time points\n",
    "n_traj_train = 200                                                  # Number of trajectories to execute, data collection\n",
    "n_traj_val = int(0.2*n_traj_train)\n",
    "noise_var = 5.                                                      # Exploration noise to perturb controller, data collection\n",
    "\n",
    "xmax = np.array([2, 2, np.pi/3, 2.,2.,2.])                          # State constraints, trajectory generation\n",
    "xmin = -xmax\n",
    "umax = np.array([2*hover_thrust, 2*hover_thrust]) - hover_thrust    # Actuation constraint, trajectory generation\n",
    "umin = np.array([0., 0.]) - hover_thrust\n",
    "x0_max = np.array([xmax[0], xmax[1], xmax[2], 1., 1., 1.])          # Initial value limits\n",
    "Q_trajgen = sc.sparse.diags([0,0,0,0,0,0])                          # State penalty matrix, trajectory generation\n",
    "QN_trajgen = sc.sparse.diags([5e1,5e1,5e1,1e1,1e1,1e1])             # Final state penalty matrix, trajectory generation\n",
    "R_trajgen = sc.sparse.eye(m)                                        # Actuation penalty matrix, trajectory generation\n",
    "sub_sample_rate = 1                                                 # Rate to subsample data for training\n",
    "model_fname = 'examples/planar_quad_models'                         # Path to save learned models\n",
    "n_cols = 10                                                         # Number of columns in training data plot\n",
    "save_figures = True\n",
    "directory = os.path.abspath(\"\")                                     # Path to save learned models\n",
    "#dropbox_folder = '/Users/carlaxelfolkestad/Dropbox/Apps/Overleaf/Koopman NMPC (ICRA21)/'"
   ]
  },
  {
   "cell_type": "code",
   "execution_count": 4,
   "metadata": {
    "pycharm": {
     "name": "#%%\n"
    },
    "scrolled": true
   },
   "outputs": [],
   "source": [
    "if collect_data:\n",
    "    xd = np.empty((n_traj_train + n_traj_val, n_pred_dc + 1, n))\n",
    "    xs = np.empty((n_traj_train + n_traj_val, n_pred_dc + 1, n))\n",
    "    us = np.empty((n_traj_train + n_traj_val, n_pred_dc, m))\n",
    "\n",
    "    plt.figure(figsize=(12, 12 * (n_traj_train + n_traj_val) / (n_cols ** 2)))\n",
    "    for ii in range(n_traj_train+n_traj_val):\n",
    "        x0 = np.asarray([rand.uniform(l, u) for l, u in zip(-x0_max, x0_max)])\n",
    "        set_pt_dc = np.asarray([rand.uniform(l, u) for l, u in zip(-x0_max, x0_max)])\n",
    "        mpc_trajgen = MPCController(nominal_sys, n_pred_dc, dt, umin, umax, xmin, xmax, QN_trajgen, R_trajgen,\n",
    "                                    QN_trajgen, set_pt_dc)\n",
    "        mpc_trajgen.eval(x0, 0)\n",
    "        xd[ii, :, :] = mpc_trajgen.parse_result().T\n",
    "        while abs(x0[0]) + abs(x0[1]) < 1 or np.any(np.isnan(xd[ii, :, :])):\n",
    "            x0 = np.asarray([rand.uniform(l, u) for l, u in zip(-x0_max, x0_max)])\n",
    "            set_pt_dc = np.asarray([rand.uniform(l, u) for l, u in zip(-x0_max, x0_max)])\n",
    "            mpc_trajgen = MPCController(nominal_sys, n_pred_dc, dt, umin, umax, xmin, xmax, QN_trajgen, R_trajgen,\n",
    "                                        QN_trajgen, set_pt_dc)\n",
    "            mpc_trajgen.eval(x0, 0)\n",
    "            xd[ii, :, :] = mpc_trajgen.parse_result().T\n",
    "\n",
    "        output = QuadrotorPdOutput(system, xd[ii, :, :], t_train, n, m)\n",
    "        pd_controller = PDController(output, K_dc_p, K_dc_d)\n",
    "        perturbed_pd_controller = PerturbedController(system, pd_controller, noise_var, const_offset=hover_thrust)\n",
    "        xs[ii, :, :], us[ii, :, :] = system.simulate(x0, perturbed_pd_controller, t_train)\n",
    "\n",
    "        plt.subplot(int(np.ceil((n_traj_train + n_traj_val) / n_cols)), n_cols, ii + 1)\n",
    "        plt.plot(t_train, xs[ii, :, 0], 'b', label='$y$')\n",
    "        plt.plot(t_train, xs[ii, :, 1], 'g', label='$z$')\n",
    "        plt.plot(t_train, xs[ii, :, 2], 'r', label='$\\\\theta$')\n",
    "        plt.plot(t_train, xd[ii, :, 0], '--b', label='$y_d$')\n",
    "        plt.plot(t_train, xd[ii, :, 1], '--g', label='$z_d$')\n",
    "        plt.plot(t_train, xd[ii, :, 2], '--r', label='$\\\\theta_d$')\n",
    "\n",
    "    plt.suptitle(\n",
    "        'Training data \\nx-axis: time (sec), y-axis: state value, $x$ - blue, $xd$ - dotted blue, $\\\\theta$ - red, $\\\\theta_d$ - dotted red',\n",
    "        y=0.94)\n",
    "    plt.show()\n",
    "\n",
    "    xs_train, us_train = xs[:n_traj_train,:,:], us[:n_traj_train, :, :]\n",
    "    xs_val, us_val = xs[n_traj_train:,:,:], us[n_traj_train:, :, :]\n",
    "    \n",
    "    data_list = [xs_train, us_train, t_train, n_traj_train, xs_val, us_val, t_train, n_traj_val]\n",
    "    outfile = open(directory + '/data/' + sys_name + '_data.pickle', 'wb')\n",
    "    dill.dump(data_list, outfile)\n",
    "    outfile.close()\n",
    "else:\n",
    "    infile = open(directory + '/data/' + sys_name + '_data.pickle', 'rb')\n",
    "    xs_train, us_train, t_train, n_traj_train, xs_val, us_val, t_val, n_traj_val = dill.load(infile)\n",
    "    infile.close()"
   ]
  },
  {
   "cell_type": "markdown",
   "metadata": {
    "pycharm": {
     "name": "#%% md\n"
    }
   },
   "source": [
    "### Learn a linear model with dynamic mode decomposition (DMD)"
   ]
  },
  {
   "cell_type": "markdown",
   "metadata": {
    "pycharm": {
     "name": "#%% md\n"
    }
   },
   "source": [
    "To compare our method with existing techniques, we first learn a linear state space model from data. This is dubbed\n",
    "dynamic mode decomposition. I.e. we use linear regression with LASSO regularization to learn an approximate linear model\n",
    "with model structure\n",
    "\n",
    "\\begin{equation}\n",
    "    \\mathbf{\\dot{x}} = A_{dmd}\\mathbf{x} + B_{dmd}\\mathbf{u}\n",
    "\\end{equation}"
   ]
  },
  {
   "cell_type": "code",
   "execution_count": 5,
   "metadata": {
    "pycharm": {
     "name": "#%%\n"
    }
   },
   "outputs": [],
   "source": [
    "#DMD parameters:\n",
    "alpha_dmd = 9.8e-5                                                  # Regularization strength (LASSO) DMD\n",
    "tune_mdl_dmd = False"
   ]
  },
  {
   "cell_type": "code",
   "execution_count": 6,
   "metadata": {
    "pycharm": {
     "name": "#%%\n"
    }
   },
   "outputs": [],
   "source": [
    "basis = lambda x: x\n",
    "C_dmd = np.eye(n)\n",
    "\n",
    "optimizer_dmd = linear_model.MultiTaskLasso(alpha=alpha_dmd, fit_intercept=False, selection='random')\n",
    "cv_dmd = linear_model.MultiTaskLassoCV(fit_intercept=False, n_jobs=-1, cv=3, selection='random')\n",
    "standardizer_dmd = preprocessing.StandardScaler(with_mean=False)\n",
    "\n",
    "model_dmd = Edmd(n, m, basis, n, n_traj_train, optimizer_dmd, cv=cv_dmd, standardizer=standardizer_dmd, C=C_dmd, \n",
    "                 first_obs_const=False, continuous_mdl=False, dt=dt)\n",
    "xdmd, y_dmd = model_dmd.process(xs_train, us_train-hover_thrust, np.tile(t_train,(n_traj_train,1)), \n",
    "                                downsample_rate=sub_sample_rate)\n",
    "model_dmd.fit(xdmd, y_dmd, cv=tune_mdl_dmd, override_kinematics=True)\n",
    "sys_dmd = LinearLiftedDynamics(model_dmd.A, model_dmd.B, model_dmd.C, model_dmd.basis, continuous_mdl=False, dt=dt)\n",
    "if tune_mdl_dmd:\n",
    "    print('$\\\\alpha$ DMD: ',model_dmd.cv.alpha_)"
   ]
  },
  {
   "cell_type": "code",
   "execution_count": 71,
   "metadata": {},
   "outputs": [
    {
     "data": {
      "text/plain": [
       "array([[ 1.00000000e+00,  0.00000000e+00,  0.00000000e+00,\n",
       "         1.00000000e-02,  0.00000000e+00,  0.00000000e+00],\n",
       "       [ 0.00000000e+00,  1.00000000e+00,  0.00000000e+00,\n",
       "         0.00000000e+00,  1.00000000e-02,  0.00000000e+00],\n",
       "       [ 0.00000000e+00,  0.00000000e+00,  1.00000000e+00,\n",
       "         0.00000000e+00,  0.00000000e+00,  1.00000000e-02],\n",
       "       [-3.15099160e-05,  1.98901180e-05, -9.93055333e-02,\n",
       "         1.00004769e+00, -2.10990433e-04,  8.76530754e-05],\n",
       "       [ 3.40911026e-05, -1.30112226e-05,  1.80583786e-03,\n",
       "         6.44900203e-05,  9.99884865e-01,  1.27853675e-04],\n",
       "       [ 1.38337117e-06,  3.21208778e-07, -1.58204127e-04,\n",
       "        -2.45495824e-06,  4.38847573e-07,  9.99995135e-01]])"
      ]
     },
     "execution_count": 71,
     "metadata": {},
     "output_type": "execute_result"
    }
   ],
   "source": [
    "model_dmd.A"
   ]
  },
  {
   "cell_type": "markdown",
   "metadata": {
    "pycharm": {
     "name": "#%% md\n"
    }
   },
   "source": [
    "### Learn a lifted linear model with extended dynamic mode decomposition (EDMD)"
   ]
  },
  {
   "cell_type": "markdown",
   "metadata": {
    "pycharm": {
     "name": "#%% md\n"
    }
   },
   "source": [
    "In addition, we compare our method with the current state of the art of Koopman based learning, the extended dynamic mode\n",
    "decomposition. We use a dictionary of nonlinear functions $\\boldsymbol{\\phi(x)}$ to lift the state variables and learn a lifted state space model\n",
    "of the dynamics. I.e. we first lift and then use linear regression with LASSO regularization to learn an approximate\n",
    "lifted linear model with model structure\n",
    "\n",
    "\\begin{equation}\n",
    "    \\mathbf{\\dot{z}} = A_{edmd}\\mathbf{z} + B_{edmd}\\mathbf{u}, \\qquad \\mathbf{z} = \\boldsymbol{\\phi(x)}\n",
    "\\end{equation}"
   ]
  },
  {
   "cell_type": "code",
   "execution_count": 7,
   "metadata": {
    "pycharm": {
     "name": "#%%\n"
    }
   },
   "outputs": [],
   "source": [
    "#EDMD parameters:\n",
    "alpha_edmd = 2.22e-4                                                 # Regularization strength (LASSO) EDMD\n",
    "tune_mdl_edmd = False"
   ]
  },
  {
   "cell_type": "code",
   "execution_count": 8,
   "metadata": {
    "pycharm": {
     "name": "#%%\n"
    }
   },
   "outputs": [],
   "source": [
    "basis = PlanarQuadBasis(n, poly_deg=3)\n",
    "basis.construct_basis()\n",
    "planar_quad_features = preprocessing.FunctionTransformer(basis.basis)\n",
    "planar_quad_features.fit(np.zeros((1,n)))\n",
    "n_lift_edmd = planar_quad_features.transform((np.zeros((1,n)))).shape[1]\n",
    "C_edmd = np.zeros((n,n_lift_edmd))\n",
    "C_edmd[:,1:n+1] = np.eye(n)\n",
    "\n",
    "optimizer_edmd = linear_model.MultiTaskLasso(alpha=alpha_edmd, fit_intercept=False, selection='random', \n",
    "                                             max_iter=2000)\n",
    "cv_edmd = linear_model.MultiTaskLassoCV(fit_intercept=False, n_jobs=-1, cv=3, selection='random', max_iter=2000)\n",
    "standardizer_edmd = preprocessing.StandardScaler(with_mean=False)\n",
    "\n",
    "model_edmd = Edmd(n, m, basis.basis, n_lift_edmd, n_traj_train, optimizer_edmd, cv=cv_edmd, \n",
    "                  standardizer=standardizer_edmd, C=C_edmd, continuous_mdl=False, dt=dt)\n",
    "X_edmd, y_edmd = model_edmd.process(xs_train, us_train-hover_thrust, np.tile(t_train,(n_traj_train,1)), \n",
    "                                    downsample_rate=sub_sample_rate)\n",
    "model_edmd.fit(X_edmd, y_edmd, cv=tune_mdl_edmd, override_kinematics=True)\n",
    "model_edmd.reduce_mdl()\n",
    "sys_edmd = LinearLiftedDynamics(model_edmd.A, model_edmd.B, model_edmd.C, model_edmd.basis_reduced, \n",
    "                                continuous_mdl=False, dt=dt)\n",
    "if tune_mdl_edmd:\n",
    "    print('$\\\\alpha$ EDMD: ',model_edmd.cv.alpha_)\n"
   ]
  },
  {
   "cell_type": "markdown",
   "metadata": {
    "pycharm": {
     "name": "#%% md\n"
    }
   },
   "source": [
    "### Learn a lifted bilinear model with bilinear extended mode decomposition (bEDMD)"
   ]
  },
  {
   "cell_type": "markdown",
   "metadata": {
    "pycharm": {
     "name": "#%% md\n"
    }
   },
   "source": [
    "Finally, we use the method developed in the paper to learn a lifted bilinear model of the dynamics, dubbed bilinear\n",
    "extended mode decomposition (bEDMD). I.e. we first lift and then use linear regression with LASSO regularization to learn an approximate\n",
    "lifted linear model with model structure\n",
    "\n",
    "\\begin{equation}\n",
    "    \\mathbf{\\dot{z}}=F\\mathbf{z}+\\sum_{i=1}^m G_i\\mathbf{z}\\mathbf{u}_i, \\qquad \\mathbf{z} = \\boldsymbol{\\phi(x)}\n",
    "\\end{equation}"
   ]
  },
  {
   "cell_type": "code",
   "execution_count": 9,
   "metadata": {
    "pycharm": {
     "name": "#%%\n"
    }
   },
   "outputs": [],
   "source": [
    "#Bilinear EDMD parameters:                                           \n",
    "alpha_bedmd = 6.9e-5  # Regularization strength (LASSO) bEDMD\n",
    "tune_mdl_bedmd = False"
   ]
  },
  {
   "cell_type": "code",
   "execution_count": 10,
   "metadata": {
    "pycharm": {
     "name": "#%%\n"
    },
    "scrolled": true
   },
   "outputs": [
    {
     "name": "stderr",
     "output_type": "stream",
     "text": [
      "/Users/carlaxelfolkestad/.conda/envs/keedmd/lib/python3.7/site-packages/sklearn/linear_model/_coordinate_descent.py:1790: ConvergenceWarning: Objective did not converge. You might want to increase the number of iterations. Duality gap: 0.8300267325917001, tolerance: 0.03553704922153129\n",
      "  check_random_state(self.random_state), random)\n"
     ]
    }
   ],
   "source": [
    "n_lift_bedmd = n_lift_edmd\n",
    "C_bedmd = np.zeros((n,n_lift_bedmd))\n",
    "C_bedmd[:,1:n+1] = np.eye(n)\n",
    "\n",
    "basis_bedmd = lambda x: planar_quad_features.transform(x)\n",
    "optimizer_bedmd = linear_model.MultiTaskLasso(alpha=alpha_bedmd, fit_intercept=False, selection='random')\n",
    "cv_bedmd = linear_model.MultiTaskLassoCV(fit_intercept=False, n_jobs=-1, cv=3, selection='random')\n",
    "standardizer_bedmd = preprocessing.StandardScaler(with_mean=False)\n",
    "\n",
    "model_bedmd = BilinearEdmd(n, m, basis_bedmd, n_lift_bedmd, n_traj_train, optimizer_bedmd, cv=cv_bedmd, \n",
    "                           standardizer=standardizer_bedmd, C=C_bedmd, continuous_mdl=False, dt=dt)\n",
    "X_bedmd, y_bedmd = model_bedmd.process(xs_train, us_train, np.tile(t_train,(n_traj_train,1)), \n",
    "                                       downsample_rate=sub_sample_rate)\n",
    "model_bedmd.fit(X_bedmd, y_bedmd, cv=tune_mdl_bedmd, override_kinematics=True)\n",
    "sys_bedmd = BilinearLiftedDynamics(model_bedmd.n_lift, m, model_bedmd.A, model_bedmd.B, model_bedmd.C, \n",
    "                                   model_bedmd.basis, continuous_mdl=False, dt=dt)\n",
    "if tune_mdl_bedmd:\n",
    "    print('$\\\\alpha$ bilinear EDMD: ', model_bedmd.cv.alpha_)\n",
    "    "
   ]
  },
  {
   "cell_type": "markdown",
   "metadata": {},
   "source": [
    "### Learn a lifted bilinear model with Koopman NN"
   ]
  },
  {
   "cell_type": "code",
   "execution_count": 68,
   "metadata": {},
   "outputs": [
    {
     "name": "stdout",
     "output_type": "stream",
     "text": [
      "{'state_dim': 6, 'ctrl_dim': 2, 'encoder_hidden_width': 100, 'encoder_hidden_depth': 1, 'encoder_output_dim': 5, 'optimizer': 'adam', 'activation_type': 'relu', 'lr': 0.001, 'epochs': 500, 'batch_size': 256, 'lin_loss_penalty': 0.001, 'l2_reg': 0, 'l1_reg': 0, 'first_obs_const': True, 'override_kinematics': False, 'dt': 0.01}\n"
     ]
    }
   ],
   "source": [
    "import dill, os, torch\n",
    "\n",
    "load_tuned_params = False\n",
    "\n",
    "if load_tuned_params:\n",
    "    infile = open(os.path.abspath('') + '/data/planar_quad_best_params.pickle', 'rb')\n",
    "    net_params_lst, val_loss, test_loss, open_loop_mse, open_loop_std = dill.load(infile)\n",
    "    infile.close()\n",
    "    net_params = net_params_lst[-2]\n",
    "    \n",
    "    print(open_loop_mse)\n",
    "    plt.figure()\n",
    "    plt.plot(val_loss, label='Validation loss')\n",
    "    plt.plot(test_loss, label='Test loss')\n",
    "    plt.plot(open_loop_mse, label='Open loop mse')\n",
    "    plt.legend()\n",
    "    plt.show()\n",
    "    \n",
    "else:\n",
    "    net_params = {}\n",
    "    net_params['state_dim'] = n\n",
    "    net_params['ctrl_dim'] = m\n",
    "    net_params['encoder_hidden_width'] = 100\n",
    "    net_params['encoder_hidden_depth'] = 1\n",
    "    net_params['encoder_output_dim'] = 5\n",
    "    net_params['optimizer'] = 'adam'\n",
    "    net_params['activation_type'] = 'relu'\n",
    "    net_params['lr'] = 1e-3\n",
    "    net_params['epochs'] = 500\n",
    "    net_params['batch_size'] = 256\n",
    "    net_params['lin_loss_penalty'] = 1e-3\n",
    "    net_params['l2_reg'] = 0\n",
    "    net_params['l1_reg'] = 0\n",
    "    net_params['first_obs_const'] = True\n",
    "    net_params['override_kinematics'] = False  # TODO: Construct kinematics with normalized z... \n",
    "    net_params['dt'] = dt\n",
    "\n",
    "print(net_params)"
   ]
  },
  {
   "cell_type": "code",
   "execution_count": 69,
   "metadata": {
    "scrolled": false
   },
   "outputs": [
    {
     "name": "stdout",
     "output_type": "stream",
     "text": [
      "Epoch   1: train loss: 5.98241472, validation loss: 4.77756111\n",
      "Epoch   2: train loss: 4.22092438, validation loss: 3.91717699\n",
      "Epoch   3: train loss: 3.67856598, validation loss: 3.45704158\n",
      "Epoch   4: train loss: 3.27785540, validation loss: 3.09704015\n",
      "Epoch   5: train loss: 2.92580414, validation loss: 2.75628383\n",
      "Epoch   6: train loss: 2.61245322, validation loss: 2.44378145\n",
      "Epoch   7: train loss: 2.33407187, validation loss: 2.19252290\n",
      "Epoch   8: train loss: 2.07433581, validation loss: 1.94210211\n",
      "Epoch   9: train loss: 1.83587182, validation loss: 1.70643042\n",
      "Epoch  10: train loss: 1.62039697, validation loss: 1.49879512\n",
      "Epoch  11: train loss: 1.42313755, validation loss: 1.30486809\n",
      "Epoch  12: train loss: 1.24477339, validation loss: 1.14175377\n",
      "Epoch  13: train loss: 1.08217776, validation loss: 0.99424934\n",
      "Epoch  14: train loss: 0.93849570, validation loss: 0.85776514\n",
      "Epoch  15: train loss: 0.81113791, validation loss: 0.73926596\n",
      "Epoch  16: train loss: 0.69890356, validation loss: 0.63171585\n",
      "Epoch  17: train loss: 0.59693849, validation loss: 0.53455023\n",
      "Epoch  18: train loss: 0.50664610, validation loss: 0.45423491\n",
      "Epoch  19: train loss: 0.42856196, validation loss: 0.37950961\n",
      "Epoch  20: train loss: 0.36002594, validation loss: 0.31987133\n",
      "Epoch  21: train loss: 0.29971021, validation loss: 0.26508241\n",
      "Epoch  22: train loss: 0.24897809, validation loss: 0.22079292\n",
      "Epoch  23: train loss: 0.20544161, validation loss: 0.17957342\n",
      "Epoch  24: train loss: 0.16815694, validation loss: 0.15167421\n",
      "Epoch  25: train loss: 0.13628000, validation loss: 0.12548585\n",
      "Epoch  26: train loss: 0.10970385, validation loss: 0.10110605\n",
      "Epoch  27: train loss: 0.08807345, validation loss: 0.08240156\n",
      "Epoch  28: train loss: 0.06982914, validation loss: 0.06804436\n",
      "Epoch  29: train loss: 0.05540686, validation loss: 0.05260382\n",
      "Epoch  30: train loss: 0.04346743, validation loss: 0.04580182\n",
      "Epoch  31: train loss: 0.03345552, validation loss: 0.03682773\n",
      "Epoch  32: train loss: 0.02584141, validation loss: 0.02773295\n",
      "Epoch  33: train loss: 0.02049864, validation loss: 0.02498317\n",
      "Epoch  34: train loss: 0.01593446, validation loss: 0.02476363\n",
      "Epoch  35: train loss: 0.01278967, validation loss: 0.01871944\n",
      "Epoch  36: train loss: 0.01000380, validation loss: 0.01879763\n",
      "Epoch  37: train loss: 0.00847468, validation loss: 0.01530720\n",
      "Epoch  38: train loss: 0.00729427, validation loss: 0.01332823\n",
      "Epoch  39: train loss: 0.00714813, validation loss: 0.01242473\n",
      "Epoch  40: train loss: 0.00637887, validation loss: 0.01325781\n",
      "Epoch  41: train loss: 0.00548773, validation loss: 0.01143652\n",
      "Epoch  42: train loss: 0.00478677, validation loss: 0.01092682\n",
      "Epoch  43: train loss: 0.00488352, validation loss: 0.01008355\n",
      "Epoch  44: train loss: 0.00440775, validation loss: 0.01170570\n",
      "Epoch  45: train loss: 0.00416818, validation loss: 0.00953733\n",
      "Epoch  46: train loss: 0.00392142, validation loss: 0.01011789\n",
      "Epoch  47: train loss: 0.00411171, validation loss: 0.00881084\n",
      "Epoch  48: train loss: 0.00325360, validation loss: 0.00730881\n",
      "Epoch  49: train loss: 0.00322849, validation loss: 0.00869058\n",
      "Epoch  50: train loss: 0.00323154, validation loss: 0.00801430\n",
      "Epoch  51: train loss: 0.00314662, validation loss: 0.00737238\n",
      "Epoch  52: train loss: 0.00302533, validation loss: 0.00716563\n",
      "Epoch  53: train loss: 0.00292131, validation loss: 0.00650011\n",
      "Epoch  54: train loss: 0.00249935, validation loss: 0.00604143\n",
      "Epoch  55: train loss: 0.00261943, validation loss: 0.00656215\n",
      "Epoch  56: train loss: 0.00247912, validation loss: 0.00615759\n",
      "Epoch  57: train loss: 0.00241392, validation loss: 0.00508312\n",
      "Epoch  58: train loss: 0.00221466, validation loss: 0.00516451\n",
      "Epoch  59: train loss: 0.00223162, validation loss: 0.00499145\n",
      "Epoch  60: train loss: 0.00226530, validation loss: 0.00509111\n",
      "Epoch  61: train loss: 0.00197890, validation loss: 0.00482732\n",
      "Epoch  62: train loss: 0.00210421, validation loss: 0.00473382\n",
      "Epoch  63: train loss: 0.00182462, validation loss: 0.00397569\n",
      "Epoch  64: train loss: 0.00181088, validation loss: 0.00466029\n",
      "Epoch  65: train loss: 0.00174715, validation loss: 0.00365872\n",
      "Epoch  66: train loss: 0.00161417, validation loss: 0.00442338\n",
      "Epoch  67: train loss: 0.00159116, validation loss: 0.00329309\n",
      "Epoch  68: train loss: 0.00150230, validation loss: 0.00366424\n",
      "Epoch  69: train loss: 0.00150513, validation loss: 0.00368659\n",
      "Epoch  70: train loss: 0.00131236, validation loss: 0.00307934\n",
      "Epoch  71: train loss: 0.00137554, validation loss: 0.00353900\n",
      "Epoch  72: train loss: 0.00132116, validation loss: 0.00347568\n",
      "Epoch  73: train loss: 0.00127701, validation loss: 0.00378393\n",
      "Epoch  74: train loss: 0.00116831, validation loss: 0.00300444\n",
      "Epoch  75: train loss: 0.00119478, validation loss: 0.00276301\n",
      "Epoch  76: train loss: 0.00114564, validation loss: 0.00320554\n",
      "Epoch  77: train loss: 0.00107996, validation loss: 0.00299513\n",
      "Epoch  78: train loss: 0.00105483, validation loss: 0.00325970\n",
      "Epoch  79: train loss: 0.00099380, validation loss: 0.00283947\n",
      "Epoch  80: train loss: 0.00090620, validation loss: 0.00332887\n",
      "Epoch  81: train loss: 0.00092576, validation loss: 0.00307617\n",
      "Epoch  82: train loss: 0.00099199, validation loss: 0.00291163\n",
      "Epoch  83: train loss: 0.00094649, validation loss: 0.00349079\n",
      "Epoch  84: train loss: 0.00085382, validation loss: 0.00282553\n",
      "Epoch  85: train loss: 0.00086055, validation loss: 0.00264811\n",
      "Epoch  86: train loss: 0.00080480, validation loss: 0.00267311\n",
      "Epoch  87: train loss: 0.00076995, validation loss: 0.00210667\n",
      "Epoch  88: train loss: 0.00077314, validation loss: 0.00281675\n",
      "Epoch  89: train loss: 0.00074920, validation loss: 0.00230145\n",
      "Epoch  90: train loss: 0.00073806, validation loss: 0.00228101\n",
      "Epoch  91: train loss: 0.00070369, validation loss: 0.00264523\n",
      "Epoch  92: train loss: 0.00063742, validation loss: 0.00248589\n",
      "Epoch  93: train loss: 0.00065432, validation loss: 0.00241189\n",
      "Epoch  94: train loss: 0.00060659, validation loss: 0.00225227\n",
      "Epoch  95: train loss: 0.00060206, validation loss: 0.00246789\n",
      "Epoch  96: train loss: 0.00061983, validation loss: 0.00214779\n",
      "Epoch  97: train loss: 0.00057821, validation loss: 0.00245474\n",
      "Epoch  98: train loss: 0.00058758, validation loss: 0.00208886\n",
      "Epoch  99: train loss: 0.00051878, validation loss: 0.00227253\n",
      "Epoch 100: train loss: 0.00050832, validation loss: 0.00199976\n",
      "Epoch 101: train loss: 0.00055020, validation loss: 0.00188151\n",
      "Epoch 102: train loss: 0.00049310, validation loss: 0.00178540\n",
      "Epoch 103: train loss: 0.00046746, validation loss: 0.00172376\n",
      "Epoch 104: train loss: 0.00047862, validation loss: 0.00198412\n",
      "Epoch 105: train loss: 0.00044870, validation loss: 0.00192021\n",
      "Epoch 106: train loss: 0.00048711, validation loss: 0.00189058\n",
      "Epoch 107: train loss: 0.00044805, validation loss: 0.00177646\n",
      "Epoch 108: train loss: 0.00044127, validation loss: 0.00180666\n",
      "Epoch 109: train loss: 0.00041862, validation loss: 0.00173534\n",
      "Epoch 110: train loss: 0.00038585, validation loss: 0.00152394\n",
      "Epoch 111: train loss: 0.00038034, validation loss: 0.00167527\n",
      "Epoch 112: train loss: 0.00037421, validation loss: 0.00166130\n",
      "Epoch 113: train loss: 0.00036456, validation loss: 0.00155752\n",
      "Epoch 114: train loss: 0.00040223, validation loss: 0.00146600\n",
      "Epoch 115: train loss: 0.00036925, validation loss: 0.00139002\n",
      "Epoch 116: train loss: 0.00034267, validation loss: 0.00146193\n",
      "Epoch 117: train loss: 0.00031833, validation loss: 0.00121800\n",
      "Epoch 118: train loss: 0.00029550, validation loss: 0.00126456\n",
      "Epoch 119: train loss: 0.00030754, validation loss: 0.00150481\n",
      "Epoch 120: train loss: 0.00032278, validation loss: 0.00132080\n",
      "Epoch 121: train loss: 0.00030503, validation loss: 0.00168365\n",
      "Epoch 122: train loss: 0.00031783, validation loss: 0.00133594\n",
      "Epoch 123: train loss: 0.00032829, validation loss: 0.00138185\n",
      "Epoch 124: train loss: 0.00032482, validation loss: 0.00129635\n",
      "Epoch 125: train loss: 0.00029159, validation loss: 0.00175420\n",
      "Epoch 126: train loss: 0.00032540, validation loss: 0.00166820\n",
      "Epoch 127: train loss: 0.00029854, validation loss: 0.00164441\n",
      "Epoch 128: train loss: 0.00027581, validation loss: 0.00143344\n",
      "Epoch 129: train loss: 0.00028944, validation loss: 0.00128292\n",
      "Epoch 130: train loss: 0.00027267, validation loss: 0.00142706\n",
      "Epoch 131: train loss: 0.00026258, validation loss: 0.00129517\n"
     ]
    },
    {
     "name": "stdout",
     "output_type": "stream",
     "text": [
      "Epoch 132: train loss: 0.00028567, validation loss: 0.00132192\n",
      "Epoch 133: train loss: 0.00026433, validation loss: 0.00179157\n",
      "Epoch 134: train loss: 0.00025167, validation loss: 0.00129895\n",
      "Epoch 135: train loss: 0.00026322, validation loss: 0.00120766\n",
      "Epoch 136: train loss: 0.00029848, validation loss: 0.00156585\n",
      "Epoch 137: train loss: 0.00025095, validation loss: 0.00124556\n",
      "Epoch 138: train loss: 0.00023734, validation loss: 0.00139841\n",
      "Epoch 139: train loss: 0.00026505, validation loss: 0.00129753\n",
      "Epoch 140: train loss: 0.00022390, validation loss: 0.00134692\n",
      "Epoch 141: train loss: 0.00023748, validation loss: 0.00124579\n",
      "Epoch 142: train loss: 0.00022940, validation loss: 0.00123739\n",
      "Epoch 143: train loss: 0.00024121, validation loss: 0.00124593\n",
      "Epoch 144: train loss: 0.00021930, validation loss: 0.00117328\n",
      "Epoch 145: train loss: 0.00023360, validation loss: 0.00113510\n",
      "Epoch 146: train loss: 0.00025010, validation loss: 0.00113623\n",
      "Epoch 147: train loss: 0.00026010, validation loss: 0.00144812\n",
      "Epoch 148: train loss: 0.00024180, validation loss: 0.00134872\n",
      "Epoch 149: train loss: 0.00024289, validation loss: 0.00110448\n",
      "Epoch 150: train loss: 0.00021239, validation loss: 0.00115864\n",
      "Epoch 151: train loss: 0.00019181, validation loss: 0.00125934\n",
      "Epoch 152: train loss: 0.00024253, validation loss: 0.00131314\n",
      "Epoch 153: train loss: 0.00020229, validation loss: 0.00115889\n",
      "Epoch 154: train loss: 0.00022205, validation loss: 0.00146747\n",
      "Epoch 155: train loss: 0.00023794, validation loss: 0.00132873\n",
      "Epoch 156: train loss: 0.00023683, validation loss: 0.00132336\n",
      "Epoch 157: train loss: 0.00022102, validation loss: 0.00121465\n",
      "Epoch 158: train loss: 0.00019960, validation loss: 0.00128513\n",
      "Epoch 159: train loss: 0.00020501, validation loss: 0.00106192\n",
      "Epoch 160: train loss: 0.00020962, validation loss: 0.00114561\n",
      "Epoch 161: train loss: 0.00023369, validation loss: 0.00139452\n",
      "Epoch 162: train loss: 0.00020208, validation loss: 0.00101935\n",
      "Epoch 163: train loss: 0.00022720, validation loss: 0.00111927\n",
      "Epoch 164: train loss: 0.00027119, validation loss: 0.00108373\n",
      "Epoch 165: train loss: 0.00021349, validation loss: 0.00100429\n",
      "Epoch 166: train loss: 0.00020970, validation loss: 0.00117920\n",
      "Epoch 167: train loss: 0.00021861, validation loss: 0.00122039\n",
      "Epoch 168: train loss: 0.00019746, validation loss: 0.00157420\n",
      "Epoch 169: train loss: 0.00022409, validation loss: 0.00100240\n",
      "Epoch 170: train loss: 0.00020189, validation loss: 0.00099987\n",
      "Epoch 171: train loss: 0.00022801, validation loss: 0.00105810\n",
      "Epoch 172: train loss: 0.00020914, validation loss: 0.00125415\n",
      "Epoch 173: train loss: 0.00021656, validation loss: 0.00102840\n",
      "Epoch 174: train loss: 0.00022674, validation loss: 0.00115527\n",
      "Epoch 175: train loss: 0.00019668, validation loss: 0.00102918\n",
      "Epoch 176: train loss: 0.00016505, validation loss: 0.00110755\n",
      "Epoch 177: train loss: 0.00020137, validation loss: 0.00080167\n",
      "Epoch 178: train loss: 0.00020408, validation loss: 0.00107030\n",
      "Epoch 179: train loss: 0.00023614, validation loss: 0.00092108\n",
      "Epoch 180: train loss: 0.00022878, validation loss: 0.00124095\n",
      "Epoch 181: train loss: 0.00018260, validation loss: 0.00096316\n",
      "Epoch 182: train loss: 0.00019074, validation loss: 0.00115479\n",
      "Epoch 183: train loss: 0.00018090, validation loss: 0.00118283\n",
      "Epoch 184: train loss: 0.00018891, validation loss: 0.00117868\n",
      "Epoch 185: train loss: 0.00018889, validation loss: 0.00100061\n",
      "Epoch 186: train loss: 0.00020117, validation loss: 0.00097584\n",
      "Epoch 187: train loss: 0.00016279, validation loss: 0.00090946\n",
      "Epoch 188: train loss: 0.00024172, validation loss: 0.00110617\n",
      "Epoch 189: train loss: 0.00019131, validation loss: 0.00089382\n",
      "Epoch 190: train loss: 0.00020163, validation loss: 0.00114716\n",
      "Epoch 191: train loss: 0.00020422, validation loss: 0.00104328\n",
      "Epoch 192: train loss: 0.00020143, validation loss: 0.00085960\n",
      "Epoch 193: train loss: 0.00015855, validation loss: 0.00072760\n",
      "Epoch 194: train loss: 0.00020948, validation loss: 0.00124353\n",
      "Epoch 195: train loss: 0.00019053, validation loss: 0.00106883\n",
      "Epoch 196: train loss: 0.00019646, validation loss: 0.00104433\n",
      "Epoch 197: train loss: 0.00019056, validation loss: 0.00094106\n",
      "Epoch 198: train loss: 0.00021715, validation loss: 0.00107128\n",
      "Epoch 199: train loss: 0.00018741, validation loss: 0.00122024\n",
      "Epoch 200: train loss: 0.00019964, validation loss: 0.00109272\n",
      "Epoch 201: train loss: 0.00020264, validation loss: 0.00117634\n",
      "Epoch 202: train loss: 0.00018985, validation loss: 0.00121981\n",
      "Epoch 203: train loss: 0.00019560, validation loss: 0.00119786\n",
      "Epoch 204: train loss: 0.00020899, validation loss: 0.00126603\n",
      "Epoch 205: train loss: 0.00021801, validation loss: 0.00135381\n",
      "Epoch 206: train loss: 0.00018772, validation loss: 0.00097681\n",
      "Epoch 207: train loss: 0.00020624, validation loss: 0.00114983\n",
      "Epoch 208: train loss: 0.00017843, validation loss: 0.00124016\n",
      "Epoch 209: train loss: 0.00018966, validation loss: 0.00119822\n",
      "Epoch 210: train loss: 0.00020080, validation loss: 0.00097853\n",
      "Epoch 211: train loss: 0.00019595, validation loss: 0.00107486\n",
      "Epoch 212: train loss: 0.00022527, validation loss: 0.00102981\n",
      "Epoch 213: train loss: 0.00022870, validation loss: 0.00094801\n",
      "Epoch 214: train loss: 0.00018574, validation loss: 0.00141020\n",
      "Epoch 215: train loss: 0.00018849, validation loss: 0.00156555\n",
      "Epoch 216: train loss: 0.00018371, validation loss: 0.00101718\n",
      "Epoch 217: train loss: 0.00016614, validation loss: 0.00131578\n",
      "Epoch 218: train loss: 0.00018134, validation loss: 0.00108673\n",
      "Epoch 219: train loss: 0.00018083, validation loss: 0.00123533\n",
      "Epoch 220: train loss: 0.00019158, validation loss: 0.00123491\n",
      "Epoch 221: train loss: 0.00020029, validation loss: 0.00139804\n",
      "Epoch 222: train loss: 0.00018308, validation loss: 0.00127975\n",
      "Epoch 223: train loss: 0.00023385, validation loss: 0.00127060\n",
      "Epoch 224: train loss: 0.00020364, validation loss: 0.00107688\n",
      "Epoch 225: train loss: 0.00018739, validation loss: 0.00110274\n",
      "Epoch 226: train loss: 0.00018992, validation loss: 0.00113764\n",
      "Epoch 227: train loss: 0.00023086, validation loss: 0.00128143\n",
      "Epoch 228: train loss: 0.00018955, validation loss: 0.00101251\n",
      "Epoch 229: train loss: 0.00019190, validation loss: 0.00134712\n",
      "Epoch 230: train loss: 0.00020163, validation loss: 0.00101873\n",
      "Epoch 231: train loss: 0.00019432, validation loss: 0.00128588\n",
      "Epoch 232: train loss: 0.00021215, validation loss: 0.00113920\n",
      "Epoch 233: train loss: 0.00017190, validation loss: 0.00110490\n",
      "Epoch 234: train loss: 0.00018569, validation loss: 0.00130742\n",
      "Epoch 235: train loss: 0.00019837, validation loss: 0.00133117\n",
      "Epoch 236: train loss: 0.00019951, validation loss: 0.00130716\n",
      "Epoch 237: train loss: 0.00018778, validation loss: 0.00110939\n",
      "Epoch 238: train loss: 0.00020032, validation loss: 0.00105458\n",
      "Epoch 239: train loss: 0.00020403, validation loss: 0.00111286\n",
      "Epoch 240: train loss: 0.00014333, validation loss: 0.00109376\n",
      "Epoch 241: train loss: 0.00018046, validation loss: 0.00106890\n",
      "Epoch 242: train loss: 0.00019898, validation loss: 0.00089385\n",
      "Epoch 243: train loss: 0.00023367, validation loss: 0.00153107\n",
      "Epoch 244: train loss: 0.00016810, validation loss: 0.00087261\n",
      "Epoch 245: train loss: 0.00016817, validation loss: 0.00122450\n",
      "Epoch 246: train loss: 0.00019376, validation loss: 0.00114270\n",
      "Epoch 247: train loss: 0.00017795, validation loss: 0.00107130\n",
      "Epoch 248: train loss: 0.00022580, validation loss: 0.00103669\n",
      "Epoch 249: train loss: 0.00019350, validation loss: 0.00115594\n",
      "Epoch 250: train loss: 0.00017442, validation loss: 0.00098833\n",
      "Epoch 251: train loss: 0.00018153, validation loss: 0.00126155\n",
      "Epoch 252: train loss: 0.00018967, validation loss: 0.00130166\n",
      "Epoch 253: train loss: 0.00019161, validation loss: 0.00113292\n",
      "Epoch 254: train loss: 0.00020463, validation loss: 0.00150329\n",
      "Epoch 255: train loss: 0.00019841, validation loss: 0.00107659\n",
      "Epoch 256: train loss: 0.00017885, validation loss: 0.00117821\n",
      "Epoch 257: train loss: 0.00017832, validation loss: 0.00095331\n",
      "Epoch 258: train loss: 0.00014746, validation loss: 0.00096977\n",
      "Epoch 259: train loss: 0.00020928, validation loss: 0.00110673\n",
      "Epoch 260: train loss: 0.00018072, validation loss: 0.00109607\n",
      "Epoch 261: train loss: 0.00019425, validation loss: 0.00109692\n",
      "Epoch 262: train loss: 0.00019532, validation loss: 0.00117923\n"
     ]
    },
    {
     "name": "stdout",
     "output_type": "stream",
     "text": [
      "Epoch 263: train loss: 0.00017062, validation loss: 0.00104334\n",
      "Epoch 264: train loss: 0.00017845, validation loss: 0.00111832\n",
      "Epoch 265: train loss: 0.00017905, validation loss: 0.00123520\n",
      "Epoch 266: train loss: 0.00016335, validation loss: 0.00131941\n",
      "Epoch 267: train loss: 0.00019017, validation loss: 0.00121111\n",
      "Epoch 268: train loss: 0.00019253, validation loss: 0.00111244\n",
      "Epoch 269: train loss: 0.00016491, validation loss: 0.00114485\n",
      "Epoch 270: train loss: 0.00015847, validation loss: 0.00124427\n",
      "Epoch 271: train loss: 0.00018835, validation loss: 0.00105660\n",
      "Epoch 272: train loss: 0.00021871, validation loss: 0.00107561\n",
      "Epoch 273: train loss: 0.00016611, validation loss: 0.00108580\n",
      "Epoch 274: train loss: 0.00016730, validation loss: 0.00099239\n",
      "Epoch 275: train loss: 0.00017519, validation loss: 0.00144443\n",
      "Epoch 276: train loss: 0.00019441, validation loss: 0.00121231\n",
      "Epoch 277: train loss: 0.00014458, validation loss: 0.00128323\n",
      "Epoch 278: train loss: 0.00017718, validation loss: 0.00125585\n",
      "Epoch 279: train loss: 0.00018052, validation loss: 0.00124996\n",
      "Epoch 280: train loss: 0.00018053, validation loss: 0.00128874\n",
      "Epoch 281: train loss: 0.00016663, validation loss: 0.00094397\n",
      "Epoch 282: train loss: 0.00016958, validation loss: 0.00124270\n",
      "Epoch 283: train loss: 0.00016092, validation loss: 0.00104562\n",
      "Epoch 284: train loss: 0.00019520, validation loss: 0.00113149\n",
      "Epoch 285: train loss: 0.00016526, validation loss: 0.00115231\n",
      "Epoch 286: train loss: 0.00016841, validation loss: 0.00114939\n",
      "Epoch 287: train loss: 0.00018436, validation loss: 0.00109047\n",
      "Epoch 288: train loss: 0.00018354, validation loss: 0.00118066\n",
      "Epoch 289: train loss: 0.00018237, validation loss: 0.00118500\n",
      "Epoch 290: train loss: 0.00020079, validation loss: 0.00119557\n",
      "Epoch 291: train loss: 0.00018293, validation loss: 0.00128656\n",
      "Epoch 292: train loss: 0.00017047, validation loss: 0.00098144\n",
      "Epoch 293: train loss: 0.00018082, validation loss: 0.00103399\n",
      "Epoch 294: train loss: 0.00016502, validation loss: 0.00122015\n",
      "Epoch 295: train loss: 0.00015561, validation loss: 0.00094967\n",
      "Epoch 296: train loss: 0.00018069, validation loss: 0.00095378\n",
      "Epoch 297: train loss: 0.00017587, validation loss: 0.00133559\n",
      "Epoch 298: train loss: 0.00019336, validation loss: 0.00136369\n",
      "Epoch 299: train loss: 0.00017358, validation loss: 0.00111709\n",
      "Epoch 300: train loss: 0.00019506, validation loss: 0.00111366\n",
      "Epoch 301: train loss: 0.00018934, validation loss: 0.00116405\n",
      "Epoch 302: train loss: 0.00018136, validation loss: 0.00109591\n",
      "Epoch 303: train loss: 0.00013865, validation loss: 0.00086024\n",
      "Epoch 304: train loss: 0.00017591, validation loss: 0.00110644\n",
      "Epoch 305: train loss: 0.00017072, validation loss: 0.00093396\n",
      "Epoch 306: train loss: 0.00015867, validation loss: 0.00097500\n",
      "Epoch 307: train loss: 0.00016782, validation loss: 0.00095123\n",
      "Epoch 308: train loss: 0.00018507, validation loss: 0.00103783\n",
      "Epoch 309: train loss: 0.00017764, validation loss: 0.00110569\n",
      "Epoch 310: train loss: 0.00016622, validation loss: 0.00110411\n",
      "Epoch 311: train loss: 0.00019340, validation loss: 0.00096714\n",
      "Epoch 312: train loss: 0.00016371, validation loss: 0.00110527\n",
      "Epoch 313: train loss: 0.00019801, validation loss: 0.00113455\n",
      "Epoch 314: train loss: 0.00019818, validation loss: 0.00100227\n",
      "Epoch 315: train loss: 0.00017462, validation loss: 0.00111159\n",
      "Epoch 316: train loss: 0.00017282, validation loss: 0.00074137\n",
      "Epoch 317: train loss: 0.00018174, validation loss: 0.00115473\n",
      "Epoch 318: train loss: 0.00017493, validation loss: 0.00102466\n",
      "Epoch 319: train loss: 0.00020155, validation loss: 0.00102889\n",
      "Epoch 320: train loss: 0.00021721, validation loss: 0.00089091\n",
      "Epoch 321: train loss: 0.00016635, validation loss: 0.00123716\n",
      "Epoch 322: train loss: 0.00016463, validation loss: 0.00100143\n",
      "Epoch 323: train loss: 0.00017774, validation loss: 0.00118950\n",
      "Epoch 324: train loss: 0.00017842, validation loss: 0.00107996\n",
      "Epoch 325: train loss: 0.00016805, validation loss: 0.00116063\n",
      "Epoch 326: train loss: 0.00019381, validation loss: 0.00114067\n",
      "Epoch 327: train loss: 0.00016879, validation loss: 0.00132817\n",
      "Epoch 328: train loss: 0.00020299, validation loss: 0.00107541\n",
      "Epoch 329: train loss: 0.00017709, validation loss: 0.00126956\n",
      "Epoch 330: train loss: 0.00017976, validation loss: 0.00112034\n",
      "Epoch 331: train loss: 0.00017575, validation loss: 0.00111997\n",
      "Epoch 332: train loss: 0.00021891, validation loss: 0.00135243\n",
      "Epoch 333: train loss: 0.00017502, validation loss: 0.00141157\n",
      "Epoch 334: train loss: 0.00019345, validation loss: 0.00129260\n",
      "Epoch 335: train loss: 0.00017639, validation loss: 0.00120926\n",
      "Epoch 336: train loss: 0.00016345, validation loss: 0.00107488\n",
      "Epoch 337: train loss: 0.00016956, validation loss: 0.00118343\n",
      "Epoch 338: train loss: 0.00017553, validation loss: 0.00120213\n",
      "Epoch 339: train loss: 0.00019860, validation loss: 0.00106789\n",
      "Epoch 340: train loss: 0.00020574, validation loss: 0.00126160\n",
      "Epoch 341: train loss: 0.00016238, validation loss: 0.00119153\n",
      "Epoch 342: train loss: 0.00019641, validation loss: 0.00118298\n",
      "Epoch 343: train loss: 0.00015404, validation loss: 0.00122556\n",
      "Epoch 344: train loss: 0.00016789, validation loss: 0.00116678\n",
      "Epoch 345: train loss: 0.00016973, validation loss: 0.00124200\n",
      "Epoch 346: train loss: 0.00018072, validation loss: 0.00138828\n",
      "Epoch 347: train loss: 0.00016187, validation loss: 0.00125088\n",
      "Epoch 348: train loss: 0.00017184, validation loss: 0.00135954\n",
      "Epoch 349: train loss: 0.00016832, validation loss: 0.00127284\n",
      "Epoch 350: train loss: 0.00017716, validation loss: 0.00143696\n",
      "Epoch 351: train loss: 0.00017950, validation loss: 0.00111752\n",
      "Epoch 352: train loss: 0.00019603, validation loss: 0.00110411\n",
      "Epoch 353: train loss: 0.00016076, validation loss: 0.00126816\n",
      "Epoch 354: train loss: 0.00017608, validation loss: 0.00122503\n",
      "Epoch 355: train loss: 0.00021222, validation loss: 0.00113749\n",
      "Epoch 356: train loss: 0.00020034, validation loss: 0.00109478\n",
      "Epoch 357: train loss: 0.00017162, validation loss: 0.00105694\n",
      "Epoch 358: train loss: 0.00021896, validation loss: 0.00112013\n",
      "Epoch 359: train loss: 0.00018972, validation loss: 0.00103835\n",
      "Epoch 360: train loss: 0.00015700, validation loss: 0.00139294\n",
      "Epoch 361: train loss: 0.00017570, validation loss: 0.00120188\n",
      "Epoch 362: train loss: 0.00018449, validation loss: 0.00105475\n",
      "Epoch 363: train loss: 0.00020868, validation loss: 0.00115850\n",
      "Epoch 364: train loss: 0.00017604, validation loss: 0.00121088\n",
      "Epoch 365: train loss: 0.00016667, validation loss: 0.00138222\n",
      "Epoch 366: train loss: 0.00018751, validation loss: 0.00109890\n",
      "Epoch 367: train loss: 0.00014934, validation loss: 0.00122343\n",
      "Epoch 368: train loss: 0.00021434, validation loss: 0.00119120\n",
      "Epoch 369: train loss: 0.00020494, validation loss: 0.00118048\n",
      "Epoch 370: train loss: 0.00021054, validation loss: 0.00116250\n",
      "Epoch 371: train loss: 0.00016733, validation loss: 0.00111497\n",
      "Epoch 372: train loss: 0.00019576, validation loss: 0.00123592\n",
      "Epoch 373: train loss: 0.00015932, validation loss: 0.00126954\n",
      "Epoch 374: train loss: 0.00016524, validation loss: 0.00115423\n",
      "Epoch 375: train loss: 0.00016516, validation loss: 0.00131173\n",
      "Epoch 376: train loss: 0.00015710, validation loss: 0.00134029\n",
      "Epoch 377: train loss: 0.00017776, validation loss: 0.00107909\n",
      "Epoch 378: train loss: 0.00018716, validation loss: 0.00158588\n",
      "Epoch 379: train loss: 0.00017451, validation loss: 0.00138117\n",
      "Epoch 380: train loss: 0.00016934, validation loss: 0.00136569\n",
      "Epoch 381: train loss: 0.00018371, validation loss: 0.00114748\n",
      "Epoch 382: train loss: 0.00016242, validation loss: 0.00139094\n",
      "Epoch 383: train loss: 0.00016322, validation loss: 0.00141758\n",
      "Epoch 384: train loss: 0.00015702, validation loss: 0.00119834\n",
      "Epoch 385: train loss: 0.00015826, validation loss: 0.00128267\n",
      "Epoch 386: train loss: 0.00018024, validation loss: 0.00118171\n",
      "Epoch 387: train loss: 0.00015150, validation loss: 0.00141376\n",
      "Epoch 388: train loss: 0.00018232, validation loss: 0.00144198\n",
      "Epoch 389: train loss: 0.00020423, validation loss: 0.00118320\n",
      "Epoch 390: train loss: 0.00017846, validation loss: 0.00101245\n",
      "Epoch 391: train loss: 0.00016093, validation loss: 0.00106105\n",
      "Epoch 392: train loss: 0.00015385, validation loss: 0.00089017\n",
      "Epoch 393: train loss: 0.00016831, validation loss: 0.00089036\n"
     ]
    },
    {
     "name": "stdout",
     "output_type": "stream",
     "text": [
      "Epoch 394: train loss: 0.00016797, validation loss: 0.00109327\n",
      "Epoch 395: train loss: 0.00017360, validation loss: 0.00096231\n",
      "Epoch 396: train loss: 0.00020451, validation loss: 0.00122539\n",
      "Epoch 397: train loss: 0.00016284, validation loss: 0.00089012\n",
      "Epoch 398: train loss: 0.00020127, validation loss: 0.00129568\n",
      "Epoch 399: train loss: 0.00018769, validation loss: 0.00157054\n",
      "Epoch 400: train loss: 0.00017631, validation loss: 0.00127347\n",
      "Epoch 401: train loss: 0.00018395, validation loss: 0.00123797\n",
      "Epoch 402: train loss: 0.00016827, validation loss: 0.00111055\n",
      "Epoch 403: train loss: 0.00019791, validation loss: 0.00109113\n",
      "Epoch 404: train loss: 0.00018113, validation loss: 0.00113164\n",
      "Epoch 405: train loss: 0.00018621, validation loss: 0.00112580\n",
      "Epoch 406: train loss: 0.00016708, validation loss: 0.00125469\n",
      "Epoch 407: train loss: 0.00021915, validation loss: 0.00104550\n",
      "Epoch 408: train loss: 0.00015036, validation loss: 0.00122572\n",
      "Epoch 409: train loss: 0.00016406, validation loss: 0.00145253\n",
      "Epoch 410: train loss: 0.00017356, validation loss: 0.00122809\n",
      "Epoch 411: train loss: 0.00020268, validation loss: 0.00119665\n",
      "Epoch 412: train loss: 0.00015201, validation loss: 0.00118714\n",
      "Epoch 413: train loss: 0.00019927, validation loss: 0.00124443\n",
      "Epoch 414: train loss: 0.00016106, validation loss: 0.00108981\n",
      "Epoch 415: train loss: 0.00018331, validation loss: 0.00117249\n",
      "Epoch 416: train loss: 0.00019329, validation loss: 0.00105664\n",
      "Epoch 417: train loss: 0.00016495, validation loss: 0.00122781\n",
      "Epoch 418: train loss: 0.00016554, validation loss: 0.00130353\n",
      "Epoch 419: train loss: 0.00018052, validation loss: 0.00109333\n",
      "Epoch 420: train loss: 0.00021220, validation loss: 0.00108585\n",
      "Epoch 421: train loss: 0.00019108, validation loss: 0.00097818\n",
      "Epoch 422: train loss: 0.00016622, validation loss: 0.00108113\n",
      "Epoch 423: train loss: 0.00016882, validation loss: 0.00122902\n",
      "Epoch 424: train loss: 0.00018285, validation loss: 0.00096688\n",
      "Epoch 425: train loss: 0.00017934, validation loss: 0.00096543\n",
      "Epoch 426: train loss: 0.00016420, validation loss: 0.00101018\n",
      "Epoch 427: train loss: 0.00016595, validation loss: 0.00116735\n",
      "Epoch 428: train loss: 0.00016721, validation loss: 0.00158657\n",
      "Epoch 429: train loss: 0.00017389, validation loss: 0.00124105\n",
      "Epoch 430: train loss: 0.00018937, validation loss: 0.00107384\n",
      "Epoch 431: train loss: 0.00019303, validation loss: 0.00115937\n",
      "Epoch 432: train loss: 0.00020184, validation loss: 0.00123817\n",
      "Epoch 433: train loss: 0.00017615, validation loss: 0.00129890\n",
      "Epoch 434: train loss: 0.00017491, validation loss: 0.00117603\n",
      "Epoch 435: train loss: 0.00015881, validation loss: 0.00129606\n",
      "Epoch 436: train loss: 0.00018665, validation loss: 0.00128493\n",
      "Epoch 437: train loss: 0.00016121, validation loss: 0.00123629\n",
      "Epoch 438: train loss: 0.00017552, validation loss: 0.00124485\n",
      "Epoch 439: train loss: 0.00016135, validation loss: 0.00135776\n",
      "Epoch 440: train loss: 0.00016995, validation loss: 0.00137910\n",
      "Epoch 441: train loss: 0.00015316, validation loss: 0.00183636\n",
      "Epoch 442: train loss: 0.00015524, validation loss: 0.00102142\n",
      "Epoch 443: train loss: 0.00014682, validation loss: 0.00117343\n",
      "Epoch 444: train loss: 0.00016830, validation loss: 0.00129729\n",
      "Epoch 445: train loss: 0.00016630, validation loss: 0.00101394\n",
      "Epoch 446: train loss: 0.00018870, validation loss: 0.00115421\n",
      "Epoch 447: train loss: 0.00016246, validation loss: 0.00142992\n",
      "Epoch 448: train loss: 0.00017751, validation loss: 0.00115315\n",
      "Epoch 449: train loss: 0.00016479, validation loss: 0.00123495\n",
      "Epoch 450: train loss: 0.00018514, validation loss: 0.00126039\n",
      "Epoch 451: train loss: 0.00014656, validation loss: 0.00126278\n",
      "Epoch 452: train loss: 0.00018385, validation loss: 0.00107580\n",
      "Epoch 453: train loss: 0.00015529, validation loss: 0.00135803\n",
      "Epoch 454: train loss: 0.00015338, validation loss: 0.00132734\n",
      "Epoch 455: train loss: 0.00024188, validation loss: 0.00128884\n",
      "Epoch 456: train loss: 0.00014429, validation loss: 0.00118766\n",
      "Epoch 457: train loss: 0.00017625, validation loss: 0.00108878\n",
      "Epoch 458: train loss: 0.00015563, validation loss: 0.00118141\n",
      "Epoch 459: train loss: 0.00018507, validation loss: 0.00134879\n",
      "Epoch 460: train loss: 0.00014772, validation loss: 0.00137316\n",
      "Epoch 461: train loss: 0.00018540, validation loss: 0.00103144\n",
      "Epoch 462: train loss: 0.00017616, validation loss: 0.00120539\n",
      "Epoch 463: train loss: 0.00021246, validation loss: 0.00114333\n",
      "Epoch 464: train loss: 0.00016592, validation loss: 0.00103315\n",
      "Epoch 465: train loss: 0.00017266, validation loss: 0.00122927\n",
      "Epoch 466: train loss: 0.00018736, validation loss: 0.00118677\n",
      "Epoch 467: train loss: 0.00016016, validation loss: 0.00101600\n",
      "Epoch 468: train loss: 0.00017773, validation loss: 0.00130173\n",
      "Epoch 469: train loss: 0.00019229, validation loss: 0.00133175\n",
      "Epoch 470: train loss: 0.00017914, validation loss: 0.00138323\n",
      "Epoch 471: train loss: 0.00018152, validation loss: 0.00137035\n",
      "Epoch 472: train loss: 0.00015357, validation loss: 0.00151160\n",
      "Epoch 473: train loss: 0.00017179, validation loss: 0.00098587\n",
      "Epoch 474: train loss: 0.00016555, validation loss: 0.00126344\n",
      "Epoch 475: train loss: 0.00017695, validation loss: 0.00130696\n",
      "Epoch 476: train loss: 0.00022060, validation loss: 0.00120670\n",
      "Epoch 477: train loss: 0.00015689, validation loss: 0.00120248\n",
      "Epoch 478: train loss: 0.00015600, validation loss: 0.00097562\n",
      "Epoch 479: train loss: 0.00017934, validation loss: 0.00122164\n",
      "Epoch 480: train loss: 0.00019106, validation loss: 0.00124043\n",
      "Epoch 481: train loss: 0.00021977, validation loss: 0.00104373\n",
      "Epoch 482: train loss: 0.00018626, validation loss: 0.00104228\n",
      "Epoch 483: train loss: 0.00016386, validation loss: 0.00133130\n",
      "Epoch 484: train loss: 0.00015775, validation loss: 0.00126281\n",
      "Epoch 485: train loss: 0.00018808, validation loss: 0.00121684\n",
      "Epoch 486: train loss: 0.00019667, validation loss: 0.00106179\n",
      "Epoch 487: train loss: 0.00020539, validation loss: 0.00100615\n",
      "Epoch 488: train loss: 0.00015685, validation loss: 0.00110957\n",
      "Epoch 489: train loss: 0.00019009, validation loss: 0.00106569\n",
      "Epoch 490: train loss: 0.00016141, validation loss: 0.00100805\n",
      "Epoch 491: train loss: 0.00017486, validation loss: 0.00096199\n",
      "Epoch 492: train loss: 0.00015065, validation loss: 0.00104739\n",
      "Epoch 493: train loss: 0.00019299, validation loss: 0.00117169\n",
      "Epoch 494: train loss: 0.00020292, validation loss: 0.00109276\n",
      "Epoch 495: train loss: 0.00018372, validation loss: 0.00103009\n",
      "Epoch 496: train loss: 0.00017406, validation loss: 0.00118258\n",
      "Epoch 497: train loss: 0.00017554, validation loss: 0.00131638\n",
      "Epoch 498: train loss: 0.00018094, validation loss: 0.00127119\n",
      "Epoch 499: train loss: 0.00016747, validation loss: 0.00121867\n",
      "Epoch 500: train loss: 0.00018526, validation loss: 0.00105571\n",
      "Finished Training\n"
     ]
    }
   ],
   "source": [
    "from koopman_core.learning import KoopDnn, KoopmanNetCtrl\n",
    "from koopman_core.util import fit_standardizer\n",
    "\n",
    "standardizer_x_kdnn = fit_standardizer(xs_train, preprocessing.StandardScaler())\n",
    "standardizer_u_kdnn = fit_standardizer(us_train, preprocessing.StandardScaler())\n",
    "n_tot = n + net_params['encoder_output_dim'] + int(net_params['first_obs_const'])\n",
    "\n",
    "net = KoopmanNetCtrl(net_params, standardizer_x=standardizer_x_kdnn, standardizer_u=standardizer_u_kdnn)\n",
    "model_koop_dnn = KoopDnn(net)\n",
    "model_koop_dnn.set_datasets(xs_train, t_train, u_train=us_train, x_val=xs_val, u_val=us_val, t_val=t_train)\n",
    "model_koop_dnn.model_pipeline(net_params)\n",
    "model_koop_dnn.construct_koopman_model()\n",
    "sys_koop_dnn = BilinearLiftedDynamics(n_tot, m, model_koop_dnn.A, model_koop_dnn.B, model_koop_dnn.C, model_koop_dnn.basis_encode,\n",
    "                                    continuous_mdl=False, dt=dt, standardizer_x=standardizer_x_kdnn, \n",
    "                                      standardizer_u=standardizer_u_kdnn)"
   ]
  },
  {
   "cell_type": "code",
   "execution_count": 70,
   "metadata": {},
   "outputs": [
    {
     "data": {
      "text/plain": [
       "array([[ 1.00000000e+00,  0.00000000e+00,  0.00000000e+00,\n",
       "         0.00000000e+00,  0.00000000e+00,  0.00000000e+00,\n",
       "         0.00000000e+00,  0.00000000e+00,  0.00000000e+00,\n",
       "         0.00000000e+00,  0.00000000e+00,  0.00000000e+00],\n",
       "       [-5.66578703e-04,  1.00000060e+00,  1.84078226e-06,\n",
       "        -1.11701105e-04,  1.11345500e-02,  9.64380842e-09,\n",
       "        -1.47279930e-08,  3.94975632e-06, -3.26323643e-05,\n",
       "         7.09663755e-06, -8.55917449e-07,  1.72010750e-05],\n",
       "       [ 4.63585311e-04,  1.49854179e-06,  1.00000024e+00,\n",
       "         4.15849217e-06,  1.32893126e-06,  9.07166675e-03,\n",
       "         7.69341568e-06,  7.25413065e-06, -4.67949303e-06,\n",
       "         3.52375864e-05,  4.20180231e-06, -2.59865810e-05],\n",
       "       [-1.34448661e-03,  5.89642241e-07,  7.68647112e-07,\n",
       "         9.99999881e-01,  1.03901039e-08, -8.74529803e-07,\n",
       "         2.57213227e-02, -5.77612354e-07,  1.35318416e-07,\n",
       "        -1.89220728e-08, -1.42442147e-08,  8.92070773e-07],\n",
       "       [ 5.65586088e-04, -6.85978375e-05,  1.61461870e-07,\n",
       "        -2.01876834e-02,  1.00004983e+00, -3.78953223e-06,\n",
       "        -2.85539776e-04,  8.42213747e-04, -5.78063354e-03,\n",
       "         1.04848470e-03, -6.12655058e-05,  2.87739141e-03],\n",
       "       [-5.58932152e-05,  1.02075865e-04,  6.17103433e-05,\n",
       "         4.04325692e-05, -1.27972686e-04,  9.99981880e-01,\n",
       "         4.46935956e-05,  2.57921201e-04, -9.80924931e-04,\n",
       "         7.03769177e-03,  9.34330339e-04, -5.96536044e-03],\n",
       "       [-8.06190772e-04, -1.00528105e-07, -9.79517694e-08,\n",
       "         6.74772650e-07, -1.94308555e-07,  5.35533218e-08,\n",
       "         1.00000036e+00,  4.75945882e-07, -4.63862335e-07,\n",
       "         5.32740103e-07, -4.68184794e-07,  4.69142265e-07],\n",
       "       [-1.18924887e-03,  6.68691995e-04,  5.39036293e-04,\n",
       "        -1.55285010e-02, -1.20313826e-03,  2.77183892e-04,\n",
       "        -1.78466144e-04,  9.87011492e-01, -1.55773817e-03,\n",
       "        -7.22211669e-04,  1.59740057e-02,  9.05958097e-03],\n",
       "       [ 9.36443394e-06, -1.10199420e-04,  1.27056701e-04,\n",
       "        -9.91559681e-03,  2.55315774e-03,  2.86946713e-04,\n",
       "        -1.13885989e-03, -4.76464890e-02,  9.80212569e-01,\n",
       "         1.55939637e-02, -1.16622925e-03,  2.19549108e-02],\n",
       "       [ 1.83938921e-03, -6.78350218e-04, -3.51434719e-04,\n",
       "        -1.07040238e-02, -5.21091744e-04, -4.06991108e-04,\n",
       "        -1.32292835e-03,  1.40857503e-01, -1.66251473e-02,\n",
       "         9.67597783e-01, -3.22478265e-03, -2.93334890e-02],\n",
       "       [ 1.28732892e-04, -3.16656136e-04, -2.19762267e-04,\n",
       "         5.69203927e-04, -8.33087077e-04, -5.84074412e-04,\n",
       "         1.31581789e-02,  7.65244514e-02, -3.34971445e-03,\n",
       "        -1.87926330e-02,  9.97301638e-01, -1.91704445e-02],\n",
       "       [-5.84103516e-04,  2.08306417e-04,  1.68745828e-04,\n",
       "        -1.51144061e-02,  1.31460698e-03,  7.00562145e-04,\n",
       "        -1.96988811e-03, -1.32864386e-01,  6.99452544e-03,\n",
       "         3.46062668e-02, -1.22542086e-03,  1.02935159e+00]], dtype=float32)"
      ]
     },
     "execution_count": 70,
     "metadata": {},
     "output_type": "execute_result"
    }
   ],
   "source": [
    "sys_koop_dnn.A"
   ]
  },
  {
   "cell_type": "markdown",
   "metadata": {},
   "source": [
    "### Evaluate open loop prediction performance"
   ]
  },
  {
   "cell_type": "markdown",
   "metadata": {
    "pycharm": {
     "name": "#%% md\n"
    }
   },
   "source": [
    "We first evaluate the open loop prediction performance of the proposed method.\n",
    "This is done by generating a new data set in the same way as the training set, predicting the evolution of the system\n",
    "with the control sequence of each trajectory executed in the data set with each of the models, and finally comparing\n",
    "the mean and standard deviation of the error between the true and predicted evolution over the trajectories. The\n",
    "experimental results support what is to be expected from the theory as the error in the $y$ and $z$ terms are\n",
    "significantly lower for the bEDMD method than both DMD and EDMD. The reason for this\n",
    "improvement is that the bEDMD method can capture the nonlinearities present in the actuation matrix of the\n",
    "$(y,z)$-dynamics."
   ]
  },
  {
   "cell_type": "code",
   "execution_count": 64,
   "metadata": {
    "pycharm": {
     "name": "#%%\n"
    }
   },
   "outputs": [],
   "source": [
    "# Prediction performance evaluation parameters:\n",
    "folder_plots = 'figures/'                                  # Path to save plots\n",
    "n_traj_ol = 50                                                     # Number of trajectories to execute, open loop\n",
    "t_eval = t_train"
   ]
  },
  {
   "cell_type": "code",
   "execution_count": 65,
   "metadata": {
    "pycharm": {
     "name": "#%%\n"
    },
    "scrolled": true
   },
   "outputs": [
    {
     "name": "stdout",
     "output_type": "stream",
     "text": [
      "\n",
      "Open loop performance statistics:\n",
      "            Mean squared error    Standard deviation\n",
      "--------  --------------------  --------------------\n",
      "bEDMD                  0.00158               0.0396\n",
      "Koop DNN               0.033                 0.17543\n"
     ]
    }
   ],
   "source": [
    "from koopman_core.util import evaluate_ol_pred\n",
    "from tabulate import tabulate\n",
    "\n",
    "xs_test = np.empty((n_traj_ol, t_eval.shape[0], n))\n",
    "us_test = np.empty((n_traj_ol, t_eval.shape[0]-1, m))\n",
    "\n",
    "for ii in range(n_traj_ol):\n",
    "    x0 = np.asarray([rand.uniform(l, u) for l, u in zip(-x0_max, x0_max)])\n",
    "    set_pt_dc = np.asarray([rand.uniform(l, u) for l, u in zip(-x0_max, x0_max)])\n",
    "    mpc_trajgen = MPCController(nominal_sys, n_pred_dc, dt, umin, umax, xmin, xmax, QN_trajgen, R_trajgen,\n",
    "                                QN_trajgen, set_pt_dc)\n",
    "    mpc_trajgen.eval(x0, 0)\n",
    "    xd = mpc_trajgen.parse_result().T\n",
    "\n",
    "    while xd[0,0] is None:\n",
    "        x0 = np.asarray([rand.uniform(l, u) for l, u in zip(-x0_max, x0_max)])\n",
    "        set_pt_dc = np.asarray([rand.uniform(l, u) for l, u in zip(-x0_max, x0_max)])\n",
    "        mpc_trajgen = MPCController(nominal_sys, n_pred_dc, dt, umin, umax, xmin, xmax, QN_trajgen, R_trajgen,\n",
    "                                    QN_trajgen, set_pt_dc)\n",
    "        mpc_trajgen.eval(x0, 0)\n",
    "        xd = mpc_trajgen.parse_result().T\n",
    "\n",
    "    output = QuadrotorPdOutput(system, xd, t_eval, n, m)\n",
    "    pd_controller = PDController(output, K_dc_p, K_dc_d)\n",
    "    perturbed_pd_controller = PerturbedController(system, pd_controller, noise_var, const_offset=hover_thrust)\n",
    "    \n",
    "    xs_test[ii,:,:], us_test[ii,:,:] = system.simulate(x0, perturbed_pd_controller, t_eval)\n",
    "    \n",
    "#    mdl_lst = [sys_dmd, sys_edmd, sys_bedmd, sys_koop_dnn]\n",
    "mdl_lst = [sys_bedmd, sys_koop_dnn]\n",
    "#u_data_lst = [us_test-hover_thrust, us_test-hover_thrust, us_test, us_test]\n",
    "u_data_lst = [us_test, us_test]\n",
    "#mdl_names = ['DMD', 'EDMD', 'bEDMD', 'Koop DNN']\n",
    "mdl_names = ['bEDMD', 'Koop DNN']\n",
    "error, mse, std = [], [], []\n",
    "\n",
    "for sys, u_data in zip(mdl_lst, u_data_lst):\n",
    "    err_tmp, mse_tmp, std_tmp = evaluate_ol_pred(sys, xs_test, t_eval, us=u_data)\n",
    "    error.append(err_tmp)\n",
    "    mse.append(mse_tmp)\n",
    "    std.append(std_tmp)\n",
    "\n",
    "print('\\nOpen loop performance statistics:')\n",
    "table_data = []\n",
    "for name, mse_mdl, std_mdl in zip(mdl_names, mse, std):\n",
    "    table_data.append([name, \"{:.5f}\".format(mse_mdl), \"{:.5f}\".format(std_mdl)])\n",
    "\n",
    "print(tabulate(table_data, \n",
    "               headers=['Mean squared error', 'Standard deviation']))"
   ]
  },
  {
   "cell_type": "code",
   "execution_count": 66,
   "metadata": {
    "pycharm": {
     "name": "#%%\n"
    }
   },
   "outputs": [
    {
     "data": {
      "image/png": "[encoded data removed]",
      "text/plain": [
       "<Figure size 1152x288 with 6 Axes>"
      ]
     },
     "metadata": {
      "needs_background": "light"
     },
     "output_type": "display_data"
    }
   ],
   "source": [
    "import matplotlib.pyplot as plt\n",
    "import matplotlib\n",
    "\n",
    "figwidth = 16\n",
    "lw = 2\n",
    "fs = 14\n",
    "y_lim_gain = 1.2\n",
    "row = 2\n",
    "col = n/row\n",
    "\n",
    "#Plot open loop results:\n",
    "plt.figure(figsize=(figwidth,4))\n",
    "axs = [plt.subplot(row,col,jj+1) for jj in range(n)]\n",
    "\n",
    "for ii, err in enumerate(error):\n",
    "    err_mean = np.mean(err, axis=0)\n",
    "    err_std = np.std(err, axis=0)\n",
    "    \n",
    "    for jj in range(n):\n",
    "        axs[jj].plot(t_eval[1:], err_mean[:,jj], label=mdl_names[ii])\n",
    "        axs[jj].fill_between(t_eval[1:], err_mean[:,jj]-err_std[:,jj], err_mean[:,jj]+err_std[:,jj], alpha=0.1)\n",
    "\n",
    "for jj in range(n):\n",
    "    axs[jj].set_xlabel('Time (sec)', fontsize=fs)\n",
    "    axs[jj].set_ylabel('$x_'+ str(jj+1) + '$', fontsize=fs)\n",
    "\n",
    "plt.legend(frameon=False, fontsize=fs)\n",
    "stitle=plt.suptitle('Open loop prediction performance of learned models', fontsize=fs+2)\n",
    "matplotlib.rcParams['pdf.fonttype'] = 42\n",
    "matplotlib.rcParams['ps.fonttype'] = 42\n",
    "plt.savefig(folder_plots + 'koop_sys_prediction.pdf', format='pdf', dpi=2400, bbox_extra_artists=(stitle,), bbox_inches=\"tight\")\n",
    "plt.show()"
   ]
  },
  {
   "cell_type": "code",
   "execution_count": 67,
   "metadata": {},
   "outputs": [
    {
     "name": "stdout",
     "output_type": "stream",
     "text": [
      "\n",
      "Open loop performance statistics:\n",
      "            Mean squared error    Standard deviation\n",
      "--------  --------------------  --------------------\n",
      "bEDMD                  0.003                 0.05466\n",
      "Koop DNN               0.04085               0.19437\n"
     ]
    }
   ],
   "source": [
    "u_data_lst = [us_train, us_train]\n",
    "#mdl_names = ['DMD', 'EDMD', 'bEDMD', 'Koop DNN']\n",
    "mdl_names = ['bEDMD', 'Koop DNN']\n",
    "error, mse, std = [], [], []\n",
    "\n",
    "for sys, u_data in zip(mdl_lst, u_data_lst):\n",
    "    err_tmp, mse_tmp, std_tmp = evaluate_ol_pred(sys, xs_train, t_eval, us=u_data)\n",
    "    error.append(err_tmp)\n",
    "    mse.append(mse_tmp)\n",
    "    std.append(std_tmp)\n",
    "\n",
    "print('\\nOpen loop performance statistics:')\n",
    "table_data = []\n",
    "for name, mse_mdl, std_mdl in zip(mdl_names, mse, std):\n",
    "    table_data.append([name, \"{:.5f}\".format(mse_mdl), \"{:.5f}\".format(std_mdl)])\n",
    "\n",
    "print(tabulate(table_data, \n",
    "               headers=['Mean squared error', 'Standard deviation']))"
   ]
  },
  {
   "cell_type": "markdown",
   "metadata": {
    "pycharm": {
     "name": "#%% md\n"
    }
   },
   "source": [
    "We now study the closed loop performance of the control design. "
   ]
  },
  {
   "cell_type": "code",
   "execution_count": 18,
   "metadata": {
    "pycharm": {
     "name": "#%%\n"
    }
   },
   "outputs": [],
   "source": [
    "#Closed loop performance evaluation parameters:\n",
    "traj_length=250\n",
    "t_eval = dt * np.arange(traj_length+1)                       # Simulation time points, closed loop\n",
    "Q_mpc = sc.sparse.diags([0,0,0,0,0,0])                       # State penalty matrix, trajectory generation\n",
    "#QN_mpc = sc.sparse.diags([1e5,1e5,1e5,1e5,1e5,1e5])         # Final state penalty matrix, trajectory generation\n",
    "QN_mpc = Q_mpc\n",
    "R_mpc = sc.sparse.eye(m)                                     # Actuation penalty matrix, trajectory generation\n",
    "\n",
    "ctrl_offset = np.array([hover_thrust, hover_thrust])\n",
    "\n",
    "# Design trajectory:\n",
    "x0_cl = np.array([0., 0., 0., 0., 0., 0.])                   # Initial value, closed loop trajectory\n",
    "set_pt_cl = np.array([1.5, 0.5, 0., 0., 0., 0.])              # Desired final value, closed loop trajectory\n",
    "xmax = np.array([2, 2, np.pi/3, 1.,1.,1.])                          # State constraints, trajectory generation\n",
    "xmin = -xmax\n",
    "term_constraint=True\n",
    "\n",
    "# Define initial solution for SQP algorithm:\n",
    "x_init = np.linspace(x0_cl, set_pt_cl, int(traj_length)+1)\n",
    "u_init = hover_thrust*np.ones((m,traj_length)).T"
   ]
  },
  {
   "cell_type": "markdown",
   "metadata": {},
   "source": [
    "#### Design controllers for learned DMD, EDMD, and bEDMD models"
   ]
  },
  {
   "cell_type": "code",
   "execution_count": 19,
   "metadata": {},
   "outputs": [],
   "source": [
    "from koopman_core.controllers import MPCController, NonlinearMPCController, BilinearMPCController\n",
    "\n",
    "# Define DMD-based controller:\n",
    "controller_dmd = MPCController(sys_dmd, traj_length, dt, umin, umax, xmin, xmax, Q_mpc, R_mpc, QN_mpc, set_pt_cl, terminal_constraint=term_constraint, const_offset=ctrl_offset)\n",
    "\n",
    "# Define EDMD-based controller:\n",
    "controller_edmd = MPCController(sys_edmd, traj_length, dt, umin, umax, xmin, xmax, Q_mpc, R_mpc, QN_mpc, set_pt_cl, terminal_constraint=term_constraint, const_offset=ctrl_offset)\n",
    "\n",
    "# Define bEDMD-based controller:\n",
    "controller_bedmd = BilinearMPCController(sys_bedmd, traj_length, dt, umin+hover_thrust, umax+hover_thrust, xmin, xmax, Q_mpc, R_mpc, QN_mpc, set_pt_cl, terminal_constraint=term_constraint)\n",
    "z0_cl = sys_bedmd.basis(x0_cl.reshape((1,-1))).squeeze()\n",
    "z_init = sys_bedmd.basis(x_init)\n",
    "controller_bedmd.construct_controller(z_init, u_init)\n",
    "\n",
    "# Define KDNN-based controller:\n",
    "controller_kdnn = BilinearMPCController(sys_koop_dnn, traj_length, dt, umin+hover_thrust, umax+hover_thrust, xmin, xmax, Q_mpc, R_mpc, QN_mpc, set_pt_cl, \n",
    "                                        terminal_constraint=term_constraint, standardizer_x=standardizer_x_kdnn, standardizer_u=standardizer_u_kdnn)\n",
    "z0_cl_kdnn = sys_koop_dnn.basis(x0_cl.reshape((1,-1))).squeeze()\n",
    "z_init_kdnn = sys_koop_dnn.basis(x_init)\n",
    "u_init_kdnn = standardizer_u_kdnn.transform(u_init)\n",
    "controller_kdnn.construct_controller(z_init_kdnn, u_init_kdnn)"
   ]
  },
  {
   "cell_type": "markdown",
   "metadata": {},
   "source": [
    "#### Design controller using full knowledge of nonlinear controller"
   ]
  },
  {
   "cell_type": "code",
   "execution_count": 20,
   "metadata": {},
   "outputs": [],
   "source": [
    "system_d = PlanarQuadrotorForceInputDiscrete(mass, inertia, prop_arm, g=gravity, dt=dt)\n",
    "controller_nmpc = NonlinearMPCController(system_d, traj_length, dt, umin+hover_thrust, umax+hover_thrust, xmin, xmax, Q_mpc, R_mpc, QN_mpc, set_pt_cl, terminal_constraint=term_constraint)\n",
    "controller_nmpc.construct_controller(x_init, u_init+hover_thrust)"
   ]
  },
  {
   "cell_type": "markdown",
   "metadata": {},
   "source": [
    "#### Design trajectories with the contructed MPCs"
   ]
  },
  {
   "cell_type": "code",
   "execution_count": 21,
   "metadata": {},
   "outputs": [],
   "source": [
    "max_iter = 50\n",
    "\n",
    "controller_dmd.eval(x0_cl, 0)\n",
    "xr_dmd = controller_dmd.parse_result()\n",
    "ur_dmd = controller_dmd.get_control_prediction() + hover_thrust\n",
    "\n",
    "controller_edmd.eval(x0_cl, 0)\n",
    "xr_edmd = sys_edmd.C@controller_edmd.parse_result()\n",
    "ur_edmd = controller_edmd.get_control_prediction() + hover_thrust\n",
    "\n",
    "controller_bedmd.solve_to_convergence(z0_cl, 0., z_init, u_init, max_iter=max_iter)\n",
    "xr_bedmd = sys_bedmd.C@controller_bedmd.get_state_prediction().T\n",
    "ur_bedmd = controller_bedmd.get_control_prediction().T\n",
    "\n",
    "controller_kdnn.solve_to_convergence(z0_cl_kdnn, 0., z_init_kdnn, u_init_kdnn, max_iter=max_iter)\n",
    "xr_kdnn = standardizer_x_kdnn.inverse_transform((sys_koop_dnn.C@controller_kdnn.get_state_prediction().T).T).T\n",
    "ur_kdnn = controller_kdnn.get_control_prediction().T"
   ]
  },
  {
   "cell_type": "code",
   "execution_count": 22,
   "metadata": {},
   "outputs": [],
   "source": [
    "controller_nmpc.solve_to_convergence(x0_cl, 0., x_init, u_init + ctrl_offset.reshape(1,-1), max_iter=max_iter)\n",
    "xr_nmpc = controller_nmpc.get_state_prediction().T\n",
    "ur_nmpc = controller_nmpc.get_control_prediction().T"
   ]
  },
  {
   "cell_type": "markdown",
   "metadata": {},
   "source": [
    "#### Simulate designed trajectories open loop"
   ]
  },
  {
   "cell_type": "code",
   "execution_count": 23,
   "metadata": {},
   "outputs": [],
   "source": [
    "ol_controller_dmd = OpenLoopController(system, ur_dmd.T, t_eval[:-1])\n",
    "xs_dmd, us_dmd = system.simulate(x0_cl, ol_controller_dmd, t_eval)\n",
    "xs_dmd, us_dmd = xs_dmd.T, us_dmd.T\n",
    "\n",
    "ol_controller_edmd = OpenLoopController(system, ur_edmd.T, t_eval[:-1])\n",
    "xs_edmd, us_edmd = system.simulate(x0_cl, ol_controller_edmd, t_eval)\n",
    "xs_edmd, us_edmd = xs_edmd.T, us_edmd.T\n",
    "\n",
    "ol_controller_bedmd = OpenLoopController(system, ur_bedmd.T, t_eval[:-1])\n",
    "xs_bedmd, us_bedmd = system.simulate(x0_cl, ol_controller_bedmd, t_eval)\n",
    "xs_bedmd, us_bedmd = xs_bedmd.T, us_bedmd.T\n",
    "\n",
    "ol_controller_kdnn = OpenLoopController(system, ur_kdnn.T, t_eval[:-1])\n",
    "xs_kdnn, us_kdnn = system.simulate(x0_cl, ol_controller_kdnn, t_eval)\n",
    "xs_kdnn, us_kdnn = xs_kdnn.T, us_kdnn.T\n",
    "\n",
    "ol_controller_nmpc = OpenLoopController(system, ur_nmpc.T, t_eval[:-1])\n",
    "xs_nmpc, us_nmpc = system.simulate(x0_cl, ol_controller_nmpc, t_eval)\n",
    "xs_nmpc, us_nmpc = xs_nmpc.T, us_nmpc.T"
   ]
  },
  {
   "cell_type": "markdown",
   "metadata": {},
   "source": [
    "##### Compare performance"
   ]
  },
  {
   "cell_type": "code",
   "execution_count": 24,
   "metadata": {
    "pycharm": {
     "name": "#%%\n"
    }
   },
   "outputs": [
    {
     "data": {
      "image/png": "[encoded data removed]",
      "text/plain": [
       "<Figure size 864x288 with 8 Axes>"
      ]
     },
     "metadata": {
      "needs_background": "light"
     },
     "output_type": "display_data"
    }
   ],
   "source": [
    "import matplotlib.pyplot as plt\n",
    "from matplotlib.ticker import MaxNLocator\n",
    "\n",
    "plot_inds = [0, 1, 2, 3, 4, 5, 0, 1]\n",
    "subplot_inds = [1, 2, 3, 5, 6, 7, 4, 8]\n",
    "labels = ['$y$ (m)', '$z$ (m)', '$\\\\theta$ (rad)', '$\\\\dot{y}$ (m/s)','$\\\\dot{z}$ (m/s)', '$\\\\dot{\\\\theta}$', '$T_1$ (N)','$T_2$ (N)']\n",
    "titles = ['y-coordinates', 'z-coordinates', '$\\\\theta$-coordinates', 'Control inputs']\n",
    "colors = ['tab:blue', 'tab:orange', 'tab:brown', 'tab:green', 'tab:cyan']\n",
    "\n",
    "plt.figure(figsize=(12,4))\n",
    "#plt.suptitle('Trajectory designed with model predictive controllers\\nsolid lines - designed trajectory | dashed lines - open loop simulated trajectory | black dotted lines - state/actuation bounds')\n",
    "for ii in range(8):\n",
    "    ind = plot_inds[ii]\n",
    "    if ii < 6:\n",
    "        ax = plt.subplot(2,4,subplot_inds[ii])\n",
    "        plt.plot(t_eval, xr_dmd[ind,:], colors[0], label='DMD MPC')\n",
    "        plt.plot(t_eval, xr_edmd[ind, :], colors[1], label='EDMD MPC')\n",
    "        plt.plot(t_eval, xr_bedmd[ind, :], colors[2], label='K-MPC')\n",
    "        plt.plot(t_eval, xr_kdnn[ind, :], colors[3], label='KDNN-MPC')\n",
    "        plt.plot(t_eval, xr_nmpc[ind,:], colors[4], label='NMPC')\n",
    "\n",
    "        plt.plot(t_eval, xs_dmd[ind,:], '--', color=colors[0], linewidth=1)\n",
    "        plt.plot(t_eval, xs_edmd[ind, :], '--', color=colors[1], linewidth=1)\n",
    "        plt.plot(t_eval, xs_bedmd[ind, :], '--', color=colors[2], linewidth=1)\n",
    "        plt.plot(t_eval, xs_kdnn[ind, :], '--',  colors[3], linewidth=1)\n",
    "        plt.plot(t_eval, xs_nmpc[ind,:], '--', color=colors[4], linewidth=1)\n",
    "\n",
    "        plt.scatter(t_eval[0], x0_cl[ind], color='g')\n",
    "        plt.scatter(t_eval[-1], set_pt_cl[ind], color='r')\n",
    "        plt.ylabel(labels[ind])\n",
    "        ax.yaxis.set_major_locator(MaxNLocator(integer=True))\n",
    "        if ii >= 3:\n",
    "            plt.plot([0, t_eval[-1]], [xmax[ind], xmax[ind]], ':k')\n",
    "            plt.plot([0, t_eval[-1]], [xmin[ind], xmin[ind]], ':k')\n",
    "            #plt.ylim(xmin[ind]-0.1,xmax[ind]+0.1)\n",
    "        if subplot_inds[ii]==1:\n",
    "            plt.legend(loc='upper left', frameon=False)\n",
    "    elif ii < 8:\n",
    "        ax = plt.subplot(2,4,subplot_inds[ii])\n",
    "        plt.plot(t_eval[:-1],ur_dmd[ind,:], color=colors[0], label='DMD MPC')\n",
    "        plt.plot(t_eval[:-1], ur_edmd[ind, :], color=colors[1], label='EDMD MPC')\n",
    "        plt.plot(t_eval[:-1], ur_bedmd[ind, :], color=colors[2], label='K-NMPC')\n",
    "        plt.plot(t_eval[:-1], ur_kdnn[ind, :], color=colors[3], label='KDNN-NMPC')\n",
    "        plt.plot(t_eval[:-1],ur_nmpc[ind,:], color=colors[4], label='NMPC')\n",
    "        plt.plot([0, t_eval[-1]], [umax[ind]+hover_thrust, umax[ind]+hover_thrust], ':k')\n",
    "        plt.plot([0, t_eval[-1]], [umin[ind]+hover_thrust, umin[ind]+hover_thrust], ':k')\n",
    "        plt.ylabel(labels[ii])\n",
    "        ax.yaxis.set_major_locator(MaxNLocator(integer=True))\n",
    "        \n",
    "    if subplot_inds[ii] > 4:\n",
    "        plt.xlabel('Time (sec)')\n",
    "    else:\n",
    "        plt.title(titles[subplot_inds[ii]-1])\n",
    "\n",
    "if save_figures:\n",
    "    matplotlib.rcParams['pdf.fonttype'] = 42\n",
    "    matplotlib.rcParams['ps.fonttype'] = 42\n",
    "    plt.tight_layout()\n",
    "    #plt.savefig(dropbox_folder + 'planar_quad_trajectory.pdf', format='pdf', dpi=2400)\n",
    "plt.show()\n",
    "\n",
    "cost_ref_dmd = (xr_dmd[:,-1]-set_pt_cl).T@QN_mpc@(xr_dmd[:,-1]-set_pt_cl) + np.sum(np.diag(ur_dmd.T@R_mpc@ur_dmd))\n",
    "cost_ref_edmd = (xr_edmd[:,-1]-set_pt_cl).T@QN_mpc@(xr_edmd[:,-1]-set_pt_cl) + np.sum(np.diag(ur_edmd.T@R_mpc@ur_edmd))\n",
    "cost_ref_bedmd = (xr_bedmd[:,-1]-set_pt_cl).T@QN_mpc@(xr_bedmd[:,-1]-set_pt_cl) + np.sum(np.diag(ur_bedmd.T@R_mpc@ur_bedmd))\n",
    "cost_ref_kdnn = (xr_kdnn[:,-1]-set_pt_cl).T@QN_mpc@(xr_kdnn[:,-1]-set_pt_cl) + np.sum(np.diag(ur_kdnn.T@R_mpc@ur_kdnn))\n",
    "cost_ref_nmpc = (xr_nmpc[:,-1]-set_pt_cl).T@QN_mpc@(xr_nmpc[:,-1]-set_pt_cl) + np.sum(np.diag(ur_nmpc.T@R_mpc@ur_nmpc))\n",
    "\n",
    "dist_ol_dmd = np.linalg.norm(xs_dmd[:,-1] - set_pt_cl)\n",
    "dist_ol_edmd = np.linalg.norm(xs_edmd[:,-1] - set_pt_cl)\n",
    "dist_ol_bedmd = np.linalg.norm(xs_bedmd[:,-1] - set_pt_cl)\n",
    "dist_ol_kdnn = np.linalg.norm(xs_kdnn[:,-1] - set_pt_cl)\n",
    "dist_ol_nmpc = np.linalg.norm(xs_nmpc[:,-1] - set_pt_cl)\n",
    "\n",
    "print('Solution statistics:\\n')\n",
    "print(tabulate([['DMD MPC', \"{:.4f}\".format(cost_ref_dmd/cost_ref_nmpc), \"{:.4f}\".format(dist_ol_dmd), '-','-',sum(controller_dmd.comp_time)], \n",
    "                ['EDMD MPC', \"{:.4f}\".format(cost_ref_edmd/cost_ref_nmpc), \"{:.4f}\".format(dist_ol_edmd),'-','-',sum(controller_edmd.comp_time)], \n",
    "                ['bEDMD MPC', \"{:.4f}\".format(cost_ref_bedmd/cost_ref_nmpc), \"{:.4f}\".format(dist_ol_bedmd), len(controller_bedmd.x_iter), \"{:.4f}\".format(np.mean(controller_bedmd.comp_time)), sum(controller_bedmd.comp_time)],\n",
    "                ['KDNN MPC', \"{:.4f}\".format(cost_ref_kdnn/cost_ref_nmpc), \"{:.4f}\".format(dist_ol_kdnn), len(controller_kdnn.x_iter), \"{:.4f}\".format(np.mean(controller_kdnn.comp_time)), sum(controller_kdnn.comp_time)],\n",
    "                ['NMPC (benchmark)', 1, \"{:.4f}\".format(dist_ol_nmpc), len(controller_nmpc.x_iter), \"{:.4f}\".format(np.mean(controller_nmpc.comp_time)), sum(controller_nmpc.comp_time)]], \n",
    "               headers=['Normalized cost,\\ndesigned trajectory', 'Realized terminal,\\nerror', '# of SQP\\niterations','Mean comp. time\\nper iteration (secs)', 'Total comp.\\ntime (secs)']))"
   ]
  },
  {
   "cell_type": "markdown",
   "metadata": {},
   "source": [
    "#### Study evolution of the solution after each iteration of the SQP-algorithm"
   ]
  },
  {
   "cell_type": "code",
   "execution_count": 25,
   "metadata": {},
   "outputs": [
    {
     "name": "stdout",
     "output_type": "stream",
     "text": [
      "Solution statistics:\n",
      "\n",
      "                       Normalized cost,    Realized terminal,  # of SQP      Mean comp. time           Total comp.\n",
      "                    designed trajectory                 error  iterations    per iteration (secs)      time (secs)\n",
      "----------------  ---------------------  --------------------  ------------  ----------------------  -------------\n",
      "DMD MPC                          0.9215                0.4307  -             -                            0.197514\n",
      "EDMD MPC                         0.8543                1.2583  -             -                            3.12966\n",
      "bEDMD MPC                        1.0112                0.0642  26            1.3692                      35.6\n",
      "KDNN MPC                         0.8795                1.8385  15            0.7752                      11.6284\n",
      "NMPC (benchmark)                 1                     0.0182  9             0.1370                       1.23314\n"
     ]
    }
   ],
   "source": [
    "n_iter = min(len(controller_nmpc.x_iter),len(controller_bedmd.x_iter))\n",
    "\n",
    "# Calculate cost after each iteration:\n",
    "iter_cost_bedmd, iter_cost_nmpc = [], []\n",
    "\n",
    "ol_controller_init = OpenLoopController(system, u_init, t_eval[:-1])\n",
    "xs_init, _ = system.simulate(x0_cl, ol_controller_init, t_eval)\n",
    "xs_init, us_init = xs_init.T, u_init.T\n",
    "init_cost = (xs_init[:,-1]-set_pt_cl).T@QN_mpc@(xs_init[:,-1]-set_pt_cl) + np.sum(np.diag(us_init.T@R_mpc@us_init))\n",
    "iter_cost_bedmd = [init_cost]\n",
    "iter_cost_kdnn = [init_cost]\n",
    "iter_cost_nmpc = [init_cost]\n",
    "iter_norm_dist_bedmd = [np.linalg.norm(xs_init[:,-1]-set_pt_cl)]\n",
    "iter_norm_dist_kdnn = [np.linalg.norm(xs_init[:,-1]-set_pt_cl)]\n",
    "iter_norm_dist_nmpc = [np.linalg.norm(xs_init[:,-1]-set_pt_cl)]\n",
    "\n",
    "for ii in range(len(controller_bedmd.x_iter)):\n",
    "    ur_bedmd_iter = controller_bedmd.u_iter[ii].T\n",
    "    ol_controller_bedmd_iter = OpenLoopController(system, ur_bedmd_iter, t_eval[:-1])\n",
    "    xs_bedmd_iter, _ = system.simulate(x0_cl, ol_controller_bedmd_iter, t_eval)\n",
    "    xs_bedmd_iter, us_bedmd_iter = xs_bedmd_iter.T, ur_bedmd_iter.T\n",
    "    iter_cost_bedmd.append((xs_bedmd_iter[:,-1]-set_pt_cl).T@QN_mpc@(xs_bedmd_iter[:,-1]-set_pt_cl) + np.sum(np.diag(us_bedmd_iter.T@R_mpc@us_bedmd_iter)))\n",
    "    iter_norm_dist_bedmd.append(np.linalg.norm(xs_bedmd_iter[:,-1]-set_pt_cl))\n",
    "    \n",
    "for ii in range(len(controller_kdnn.x_iter)):\n",
    "    ur_kdnn_iter = standardizer_u_kdnn.inverse_transform(controller_kdnn.u_iter[ii].T)\n",
    "    ol_controller_kdnn_iter = OpenLoopController(system, ur_kdnn_iter, t_eval[:-1])\n",
    "    xs_kdnn_iter, _ = system.simulate(x0_cl, ol_controller_kdnn_iter, t_eval)\n",
    "    xs_kdnn_iter, us_kdnn_iter = xs_kdnn_iter.T, ur_kdnn_iter.T\n",
    "    iter_cost_kdnn.append((xs_kdnn_iter[:,-1]-set_pt_cl).T@QN_mpc@(xs_kdnn_iter[:,-1]-set_pt_cl) + np.sum(np.diag(us_kdnn_iter.T@R_mpc@us_kdnn_iter)))\n",
    "    iter_norm_dist_kdnn.append(np.linalg.norm(xs_kdnn_iter[:,-1]-set_pt_cl))\n",
    "    \n",
    "for ii in range(len(controller_nmpc.x_iter)):\n",
    "    ur_nmpc_iter = controller_nmpc.u_iter[ii].T\n",
    "    ol_controller_nmpc_iter = OpenLoopController(system, ur_nmpc_iter, t_eval[:-1])\n",
    "    xs_nmpc_iter, _ = system.simulate(x0_cl, ol_controller_nmpc_iter, t_eval)\n",
    "    xs_nmpc_iter, us_nmpc_iter = xs_nmpc_iter.T, ur_nmpc_iter.T\n",
    "    iter_cost_nmpc.append((xs_nmpc_iter[:,-1]-set_pt_cl).T@QN_mpc@(xs_nmpc_iter[:,-1]-set_pt_cl) + np.sum(np.diag(us_nmpc_iter.T@R_mpc@us_nmpc_iter)))\n",
    "    iter_norm_dist_nmpc.append(np.linalg.norm(xs_nmpc_iter[:,-1]-set_pt_cl))"
   ]
  },
  {
   "cell_type": "code",
   "execution_count": 26,
   "metadata": {},
   "outputs": [
    {
     "data": {
      "image/png": "[encoded data removed]",
      "text/plain": [
       "<Figure size 432x288 with 2 Axes>"
      ]
     },
     "metadata": {
      "needs_background": "light"
     },
     "output_type": "display_data"
    },
    {
     "name": "stdout",
     "output_type": "stream",
     "text": [
      "Solution statistics\n",
      "\n",
      "                            Number of SQP    Mean comp. time per    Std comp. time per    Total comp.\n",
      "                               iterations       iteration (secs)      iteration (secs)    time (secs)\n",
      "------------------------  ---------------  ---------------------  --------------------  -------------\n",
      "Nonlinear MPC                           9               0.137016              0.101685        1.23314\n",
      "Koopman bilinear MPC                   26               1.36923               1.89135        35.6\n",
      "Koopman DNN bilinear MPC               15               0.775227              0.753512       11.6284\n"
     ]
    }
   ],
   "source": [
    "plt.figure(figsize=(6,4))\n",
    "#plt.suptitle('Control solution after each iteration of the SQP-algorithm for NMPC and K-NMPC')\n",
    "plt.subplot(2,1,1)\n",
    "plt.plot(np.arange(n_iter), iter_cost_bedmd[:n_iter]/iter_cost_nmpc[-1], color=colors[2], label='K-NMPC')\n",
    "plt.plot(np.arange(n_iter), iter_cost_kdnn[:n_iter]/iter_cost_nmpc[-1], color=colors[3], label='KDNN-NMPC')\n",
    "plt.plot(np.arange(n_iter), iter_cost_nmpc[:n_iter]/iter_cost_nmpc[-1], color=colors[4], label='NMPC')\n",
    "plt.title('Control effort')\n",
    "plt.ylabel('$||u||$')\n",
    "plt.legend(loc='upper right', frameon=False)\n",
    "plt.xlabel('SQP iteration')\n",
    "\n",
    "plt.subplot(2,1,2)\n",
    "plt.plot(np.arange(n_iter), iter_norm_dist_bedmd[:n_iter], color=colors[2], label=labels[2])\n",
    "plt.plot(np.arange(n_iter), iter_norm_dist_kdnn[:n_iter], color=colors[3], label=labels[3])\n",
    "plt.plot(np.arange(n_iter), iter_norm_dist_nmpc[:n_iter], color=colors[4], label=labels[4])\n",
    "plt.ylim(0,5)\n",
    "plt.title('Realized terminal distance from setpoint')\n",
    "plt.ylabel('$||x_N - x_d||$')\n",
    "plt.xlabel('SQP iteration')\n",
    "\n",
    "if save_figures:\n",
    "    matplotlib.rcParams['pdf.fonttype'] = 42\n",
    "    matplotlib.rcParams['ps.fonttype'] = 42\n",
    "    plt.tight_layout()\n",
    "    #plt.savefig(dropbox_folder + 'planar_quad_sqp_iterations.pdf', format='pdf', dpi=2400)\n",
    "\n",
    "plt.show()\n",
    "\n",
    "print('Solution statistics\\n')\n",
    "print(tabulate([['Nonlinear MPC', len(controller_nmpc.x_iter), np.mean(controller_nmpc.comp_time), np.std(controller_nmpc.comp_time), sum(controller_nmpc.comp_time)],\n",
    "                ['Koopman bilinear MPC', len(controller_bedmd.x_iter), np.mean(controller_bedmd.comp_time), np.std(controller_bedmd.comp_time), sum(controller_bedmd.comp_time)],\n",
    "                ['Koopman DNN bilinear MPC', len(controller_kdnn.x_iter), np.mean(controller_kdnn.comp_time), np.std(controller_kdnn.comp_time), sum(controller_kdnn.comp_time)]], \n",
    "               headers=['Number of SQP\\niterations','Mean comp. time per\\niteration (secs)', 'Std comp. time per\\niteration (secs)', 'Total comp.\\ntime (secs)']))"
   ]
  },
  {
   "cell_type": "markdown",
   "metadata": {},
   "source": [
    "# Evaluate performance of controllers for closed-loop control"
   ]
  },
  {
   "cell_type": "markdown",
   "metadata": {},
   "source": [
    "#### Design finite horizon controllers"
   ]
  },
  {
   "cell_type": "code",
   "execution_count": 27,
   "metadata": {},
   "outputs": [],
   "source": [
    "from koopman_core.controllers import PerturbedController\n",
    "\n",
    "Q_mpc_cl = 5e2*np.diag([1, 1, 1, 2e-1, 2e-1, 2e-1])\n",
    "QN_mpc_cl = Q_mpc_cl\n",
    "R_mpc_cl = np.eye(m)\n",
    "traj_duration = 1.\n",
    "N_cl = int(traj_duration/dt)\n",
    "t_eval_cl=np.arange(300)*dt\n",
    "\n",
    "# Solver settings closed loop:\n",
    "polish_osqp = False\n",
    "max_iter_osqp = 10\n",
    "linsys_solver_osqp = 'qdldl'\n",
    "warm_start_osqp = True\n",
    "\n",
    "controller_dmd_cl = MPCController(sys_dmd, N_cl, dt, umin, umax, xmin, xmax, Q_mpc_cl, R_mpc_cl, QN_mpc_cl, set_pt_cl, add_slack=True)\n",
    "controller_dmd_cl = PerturbedController(sys_dmd,controller_dmd_cl,0.,const_offset=hover_thrust, umin=umin, umax=umax)\n",
    "\n",
    "controller_edmd_cl = MPCController(sys_edmd, N_cl, dt, umin, umax, xmin, xmax, Q_mpc_cl, R_mpc_cl, QN_mpc_cl, set_pt_cl, add_slack=True)\n",
    "controller_edmd_cl = PerturbedController(sys_edmd,controller_edmd_cl,0.,const_offset=hover_thrust, umin=umin, umax=umax)\n",
    "\n",
    "controller_bedmd_cl = BilinearMPCController(sys_bedmd, N_cl, dt, umin+hover_thrust, umax+hover_thrust, xmin, xmax, Q_mpc_cl, R_mpc_cl, QN_mpc_cl, set_pt_cl, add_slack=True)\n",
    "controller_bedmd_cl.construct_controller(controller_bedmd.cur_z[:N_cl+1,:], controller_bedmd.cur_u[:N_cl,:])\n",
    "controller_bedmd_cl.solve_to_convergence(z0_cl, 0., controller_bedmd.cur_z[:N_cl+1,:], controller_bedmd.cur_u[:N_cl,:], max_iter=max_iter)\n",
    "#controller_bedmd_cl = PerturbedController(sys_bedmd,controller_bedmd_cl,0.,const_offset=hover_thrust, umin=umin, umax=umax)\n",
    "controller_bedmd_cl.update_solver_settings(polish=polish_osqp, max_iter=max_iter_osqp, linsys_solver=linsys_solver_osqp, warm_start=warm_start_osqp)\n",
    "\n",
    "controller_kdnn_cl = BilinearMPCController(sys_koop_dnn, N_cl, dt, umin+hover_thrust, umax+hover_thrust, xmin, xmax, Q_mpc_cl, R_mpc_cl, QN_mpc_cl, set_pt_cl, \n",
    "                                        add_slack=True, standardizer_x=standardizer_x_kdnn, standardizer_u=standardizer_u_kdnn)\n",
    "controller_kdnn_cl.construct_controller(controller_kdnn.cur_z[:N_cl+1,:], controller_kdnn.cur_u[:N_cl,:])\n",
    "controller_kdnn_cl.solve_to_convergence(z0_cl_kdnn, 0., controller_kdnn.cur_z[:N_cl+1,:], controller_kdnn.cur_u[:N_cl,:], max_iter=max_iter)\n",
    "controller_kdnn_cl.update_solver_settings(polish=polish_osqp, max_iter=max_iter_osqp, linsys_solver=linsys_solver_osqp, warm_start=warm_start_osqp)\n",
    "\n",
    "controller_nmpc_cl = NonlinearMPCController(system_d, N_cl, dt, umin+hover_thrust, umax+hover_thrust, xmin, xmax, Q_mpc_cl, R_mpc_cl, QN_mpc_cl, set_pt_cl, add_slack=True)\n",
    "controller_nmpc_cl.construct_controller(controller_nmpc.cur_z[:N_cl+1,:], controller_nmpc.cur_u[:N_cl,:])\n",
    "controller_nmpc_cl.solve_to_convergence(x0_cl, 0., controller_nmpc.cur_z[:N_cl+1,:], controller_nmpc.cur_u[:N_cl,:], max_iter=max_iter)\n",
    "controller_nmpc_cl.update_solver_settings(polish=polish_osqp, max_iter=max_iter_osqp, linsys_solver=linsys_solver_osqp, warm_start=warm_start_osqp)"
   ]
  },
  {
   "cell_type": "markdown",
   "metadata": {},
   "source": [
    "#### Simulate designed trajectories closed-loop"
   ]
  },
  {
   "cell_type": "code",
   "execution_count": 28,
   "metadata": {},
   "outputs": [],
   "source": [
    "xs_dmd_cl, us_dmd_cl = system.simulate(x0_cl, controller_dmd_cl, t_eval_cl)\n",
    "xs_dmd_cl, us_dmd_cl = xs_dmd_cl.T, us_dmd_cl.T\n",
    "\n",
    "xs_edmd_cl, us_edmd_cl = system.simulate(x0_cl, controller_edmd_cl, t_eval_cl)\n",
    "xs_edmd_cl, us_edmd_cl = xs_edmd_cl.T, us_edmd_cl.T\n",
    "\n",
    "controller_bedmd_cl.comp_time = []\n",
    "xs_bedmd_cl, us_bedmd_cl = system.simulate(x0_cl, controller_bedmd_cl, t_eval_cl)\n",
    "xs_bedmd_cl, us_bedmd_cl = xs_bedmd_cl.T, us_bedmd_cl.T\n",
    "\n",
    "controller_kdnn_cl.comp_time = []\n",
    "xs_kdnn_cl, us_kdnn_cl = system.simulate(x0_cl, controller_kdnn_cl, t_eval_cl)\n",
    "xs_kdnn_cl, us_kdnn_cl = xs_kdnn_cl.T, us_kdnn_cl.T\n",
    "\n",
    "controller_nmpc_cl.comp_time = []\n",
    "xs_nmpc_cl, us_nmpc_cl = system.simulate(x0_cl, controller_nmpc_cl, t_eval_cl)\n",
    "xs_nmpc_cl, us_nmpc_cl = xs_nmpc_cl.T, us_nmpc_cl.T"
   ]
  },
  {
   "cell_type": "markdown",
   "metadata": {},
   "source": [
    "#### Plot/analyze the results"
   ]
  },
  {
   "cell_type": "code",
   "execution_count": 29,
   "metadata": {},
   "outputs": [
    {
     "data": {
      "image/png": "[encoded data removed]",
      "text/plain": [
       "<Figure size 864x180 with 5 Axes>"
      ]
     },
     "metadata": {
      "needs_background": "light"
     },
     "output_type": "display_data"
    },
    {
     "name": "stdout",
     "output_type": "stream",
     "text": [
      "Solution statistics:\n",
      "\n",
      "                                    Normalized cost,    Mean comp. time (secs)    std comp. time (secs)\n",
      "                                 realized trajectory\n",
      "-----------------------------  ---------------------  ------------------------  -----------------------\n",
      "DMD MPC                                       1.022                0.000964126              0.00022343\n",
      "EDMD MPC                                      1.0161               0.00766263               0.00320831\n",
      "bEDMD MPC                                     1.0021               0.0191118                0.000909178\n",
      "DNN bEDMD MPC                                 1.0696               0.00951947               0.00151268\n",
      "NMPC (benchmark, known model)                 1                    0.0132226                0.001643\n"
     ]
    }
   ],
   "source": [
    "plot_inds = [0, 1, 2, 0, 1]\n",
    "subplot_inds = [1, 2, 3, 4, 8]\n",
    "\n",
    "plt.figure(figsize=(12,2.5))\n",
    "for ii in range(5):\n",
    "    ind = plot_inds[ii]\n",
    "    if ii < 3:\n",
    "        ax = plt.subplot(1,4,subplot_inds[ii])\n",
    "        plt.plot(t_eval_cl, xs_dmd_cl[ind,:], colors[0], label='DMD MPC')\n",
    "        plt.plot(t_eval_cl, xs_edmd_cl[ind, :], colors[1], label='EDMD MPC')\n",
    "        plt.plot(t_eval_cl, xs_bedmd_cl[ind, :], colors[2], label='K-NMPC')\n",
    "        plt.plot(t_eval_cl, xs_kdnn_cl[ind, :], colors[3], label='KDNN-NMPC')\n",
    "        plt.plot(t_eval_cl, xs_nmpc_cl[ind,:], colors[4], label='NMPC')\n",
    "\n",
    "        plt.scatter(t_eval_cl[0], x0_cl[ind], color='g')\n",
    "        plt.scatter(t_eval_cl[-1], set_pt_cl[ind], color='r')\n",
    "        plt.ylabel(labels[ind])\n",
    "        ax.yaxis.set_major_locator(MaxNLocator(integer=True))\n",
    "        plt.title(titles[subplot_inds[ii]-1])\n",
    "        plt.xlabel('Time (sec)')\n",
    "        if subplot_inds[ii]==1:\n",
    "            plt.legend(loc='upper left', frameon=False)\n",
    "            plt.ylim(-0.15,2)\n",
    "    else:\n",
    "        bx = plt.subplot(2,4,subplot_inds[ii])\n",
    "        plt.plot(t_eval_cl[:-1],us_dmd_cl[ind,:], color=colors[0], label='DMD MPC')\n",
    "        plt.plot(t_eval_cl[:-1], us_edmd_cl[ind, :], color=colors[1], label='EDMD MPC')\n",
    "        plt.plot(t_eval_cl[:-1], us_bedmd_cl[ind, :], color=colors[2], label='K-NMPC')\n",
    "        plt.plot(t_eval_cl[:-1], us_kdnn_cl[ind, :], color=colors[3], label='KDNN-NMPC')\n",
    "        plt.plot(t_eval_cl[:-1],us_nmpc_cl[ind,:], color=colors[4], label='NMPC')\n",
    "        plt.plot([0, t_eval_cl[-1]], [umax[ind]+hover_thrust, umax[ind]+hover_thrust], ':k')\n",
    "        plt.plot([0, t_eval_cl[-1]], [umin[ind]+hover_thrust, umin[ind]+hover_thrust], ':k')\n",
    "        plt.ylabel(labels[ii+3])\n",
    "        ax.yaxis.set_major_locator(MaxNLocator(integer=True))\n",
    "        if subplot_inds[ii] == 4:\n",
    "            plt.title('Control inputs')\n",
    "        else:\n",
    "            plt.xlabel('Time (sec)')\n",
    "if save_figures:\n",
    "    matplotlib.rcParams['pdf.fonttype'] = 42\n",
    "    matplotlib.rcParams['ps.fonttype'] = 42\n",
    "    plt.tight_layout()\n",
    "    #plt.savefig(dropbox_folder + 'planar_quad_closed_loop.pdf', format='pdf', dpi=2400)\n",
    "plt.show()\n",
    "    \n",
    "cost_cl_dmd = np.sum(np.diag((xs_dmd_cl[:,:-1]-set_pt_cl.reshape(-1,1)).T@Q_mpc_cl@(xs_dmd_cl[:,:-1]-set_pt_cl.reshape(-1,1)))) + (xs_dmd_cl[:,-1]-set_pt_cl).T@QN_mpc_cl@(xs_dmd_cl[:,-1]-set_pt_cl) + np.sum(np.diag(us_dmd_cl.T@R_mpc_cl@us_dmd_cl))\n",
    "cost_cl_edmd = np.sum(np.diag((xs_edmd_cl[:,:-1]-set_pt_cl.reshape(-1,1)).T@Q_mpc_cl@(xs_edmd_cl[:,:-1]-set_pt_cl.reshape(-1,1)))) + (xs_edmd_cl[:,-1]-set_pt_cl).T@QN_mpc_cl@(xs_edmd_cl[:,-1]-set_pt_cl) + np.sum(np.diag(us_edmd_cl.T@R_mpc_cl@us_edmd_cl))\n",
    "cost_cl_bedmd = np.sum(np.diag((xs_bedmd_cl[:,:-1]-set_pt_cl.reshape(-1,1)).T@Q_mpc_cl@(xs_bedmd_cl[:,:-1]-set_pt_cl.reshape(-1,1)))) + (xs_bedmd_cl[:,-1]-set_pt_cl).T@QN_mpc_cl@(xs_bedmd_cl[:,-1]-set_pt_cl) + np.sum(np.diag(us_bedmd_cl.T@R_mpc_cl@us_bedmd_cl))\n",
    "cost_cl_kdnn = np.sum(np.diag((xs_kdnn_cl[:,:-1]-set_pt_cl.reshape(-1,1)).T@Q_mpc_cl@(xs_kdnn_cl[:,:-1]-set_pt_cl.reshape(-1,1)))) + (xs_kdnn_cl[:,-1]-set_pt_cl).T@QN_mpc_cl@(xs_kdnn_cl[:,-1]-set_pt_cl) + np.sum(np.diag(us_kdnn_cl.T@R_mpc_cl@us_kdnn_cl))\n",
    "cost_cl_nmpc = np.sum(np.diag((xs_nmpc_cl[:,:-1]-set_pt_cl.reshape(-1,1)).T@Q_mpc_cl@(xs_nmpc_cl[:,:-1]-set_pt_cl.reshape(-1,1)))) + (xs_nmpc_cl[:,-1]-set_pt_cl).T@QN_mpc_cl@(xs_nmpc_cl[:,-1]-set_pt_cl) + np.sum(np.diag(us_nmpc_cl.T@R_mpc_cl@us_nmpc_cl))\n",
    "\n",
    "print('Solution statistics:\\n')\n",
    "print(tabulate([['DMD MPC', \"{:.4f}\".format(cost_cl_dmd/cost_cl_nmpc), np.mean(controller_dmd_cl.nom_controller.comp_time), np.std(controller_dmd_cl.nom_controller.comp_time)], \n",
    "                ['EDMD MPC', \"{:.4f}\".format(cost_cl_edmd/cost_cl_nmpc),np.mean(controller_edmd_cl.nom_controller.comp_time), np.std(controller_edmd_cl.nom_controller.comp_time)], \n",
    "                ['bEDMD MPC', \"{:.4f}\".format(cost_cl_bedmd/cost_cl_nmpc), np.mean(controller_bedmd_cl.comp_time), np.std(controller_bedmd_cl.comp_time)],\n",
    "                ['DNN bEDMD MPC', \"{:.4f}\".format(cost_cl_kdnn/cost_cl_nmpc), np.mean(controller_kdnn_cl.comp_time), np.std(controller_kdnn_cl.comp_time)],\n",
    "                ['NMPC (benchmark, known model)',1, np.mean(controller_nmpc_cl.comp_time), np.std(controller_nmpc_cl.comp_time)]], \n",
    "               headers=['Normalized cost,\\nrealized trajectory', 'Mean comp. time (secs)', 'std comp. time (secs)']))"
   ]
  },
  {
   "cell_type": "code",
   "execution_count": null,
   "metadata": {},
   "outputs": [],
   "source": []
  }
 ],
 "metadata": {
  "kernelspec": {
   "display_name": "keedmd",
   "language": "python",
   "name": "keedmd"
  },
  "language_info": {
   "codemirror_mode": {
    "name": "ipython",
    "version": 3
   },
   "file_extension": ".py",
   "mimetype": "text/x-python",
   "name": "python",
   "nbconvert_exporter": "python",
   "pygments_lexer": "ipython3",
   "version": "3.7.6"
  }
 },
 "nbformat": 4,
 "nbformat_minor": 1
}
