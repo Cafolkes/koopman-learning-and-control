{
 "cells": [
  {
   "cell_type": "markdown",
   "source": [
    "$\\newcommand{\\mb}[1]{\\mathbf{ #1 }}$\n",
    "$\\newcommand{\\bs}[1]{\\boldsymbol{ #1 }}$\n",
    "$\\newcommand{\\bb}[1]{\\mathbb{ #1 }}$\n",
    "\n",
    "$\\newcommand{\\R}{\\bb{R}}$\n",
    "\n",
    "$\\newcommand{\\ip}[2]{\\left\\langle #1, #2 \\right\\rangle}$\n",
    "$\\newcommand{\\norm}[1]{\\left\\Vert #1 \\right\\Vert}$\n",
    "\n",
    "$\\newcommand{\\der}[2]{\\frac{\\mathrm{d} #1 }{\\mathrm{d} #2 }}$\n",
    "$\\newcommand{\\derp}[2]{\\frac{\\partial #1 }{\\partial #2 }}$\n",
    "\n",
    "# Finite Dimensional Koopman Bilinear System"
   ],
   "metadata": {
    "collapsed": false
   }
  },
  {
   "cell_type": "markdown",
   "source": [
    "Consider a nonlinear dynamical system that allows an exact finite dimensional Koopman canonical transform such that the control-affine dynamics can be transformed to a bilinear system. Consider the dynamical system "
   ],
   "metadata": {
    "collapsed": false
   }
  },
  {
   "cell_type": "markdown",
   "source": [
    "\\begin{equation}\n",
    "\\mb{\\dot{x}}=\\mb{f}_0(\\mb x) + \\mb f_1 ( \\mb x) u_1 + \\mb f_2(\\mb x) u_2, \n",
    "\\end{equation}"
   ],
   "metadata": {
    "collapsed": false
   }
  },
  {
   "cell_type": "markdown",
   "source": [
    "where we for this example choose $\\mb f_0, \\mb f_1$ as follows:"
   ],
   "metadata": {
    "collapsed": false
   }
  },
  {
   "cell_type": "markdown",
   "source": [
    "\\begin{equation}\n",
    "\\mb f_0(\\mb x) = \\begin{bmatrix} x_3 \\\\ x_4 \\\\ \\lambda x_3 \\\\ \\mu x_4 + (2 \\lambda - \\mu) c x_3^2 \\end{bmatrix}, \\qquad\n",
    "\\mb f_1(\\mb x) = \\begin{bmatrix} 0 \\\\ 0 \\\\ 1 \\\\ 0 \\end{bmatrix}, \\qquad\n",
    "\\mb f_2(\\mb x) = \\begin{bmatrix} 0 \\\\ 0 \\\\ 0 \\\\ x_1+1 \\end{bmatrix}, \n",
    "\\end{equation}   "
   ],
   "metadata": {
    "collapsed": false
   }
  },
  {
   "cell_type": "markdown",
   "source": [
    "and $\\lambda, \\mu, c \\in \\mathbb{R}$ are scalar parameters of the system. Setting $ \\mb x = [q_1 \\, q_2 \\, \\dot{q_1} \\, \\dot{q_2}]^T$, \n",
    "these equations of motion can be expressed as robotic dynamics of the form $\\mb{D}(\\mb{q})\\ddot{\\mb{q}} + \\mb{C}(\\mb{q}, \\dot{\\mb{q}})\\dot{\\mb{q}} + \\mb{G}(\\mb{q}) = \\mb{B}\\mb{u}$, where $\\mb D$ is the inertia matrix, $\\mb C$ is the matrix of Coriolis terms, $\\mb G$ is the matrix of gravitational terms, and $\\mb B$ is the static actuation matrix. Rewriting $\\mb f_0, \\mb f_1, \\mb f_2$ in terms of $\\mb D, \\mb C, \\mb G,$ and $\\mb B$ yield\n"
   ],
   "metadata": {
    "collapsed": false
   }
  },
  {
   "cell_type": "markdown",
   "source": [
    "\\begin{equation}\n",
    "\\mb D(\\mb q) = \\begin{bmatrix} 1 & 0\\\\ 0 &  \\frac{1}{q_1+1} \\end{bmatrix}, \n",
    "\\qquad \\mb C(\\mb q, \\mb{\\dot{q}}) = -\\begin{bmatrix} \\lambda & 0 \\\\ \\frac{1}{q_1 + 1}(2 \\lambda - \\mu) c \\dot{q}_1 & \\frac{1}{q_1 +1} \\mu \\end{bmatrix}, \\qquad \n",
    "\\mb G(\\mb q) = \\begin{bmatrix} 0 \\\\ 0 \\end{bmatrix} \n",
    "\\qquad \\mb B = \\begin{bmatrix}1 & 0 \\\\ 0 & 1 \\end{bmatrix},\n",
    "\\end{equation}"
   ],
   "metadata": {
    "collapsed": false
   }
  },
  {
   "cell_type": "code",
   "execution_count": 1,
   "outputs": [],
   "source": [
    "import numpy as np\n",
    "\n",
    "from core.dynamics import RoboticDynamics\n",
    "\n",
    "class FiniteDimKoopSys(RoboticDynamics):\n",
    "    def __init__(self, lambd, mu, c):\n",
    "        RoboticDynamics.__init__(self, 2, 2)\n",
    "        self.params = lambd, mu, c\n",
    "    \n",
    "    def D(self, q):\n",
    "        return np.array([[1, 0],[0, (q[0]+1)**(-1)]])\n",
    "    \n",
    "    def C(self, q, q_dot):\n",
    "        labmd, mu, c = self.params\n",
    "        return -np.array([[lambd, 0], [(q[0]+1)**(-1)*(2*lambd - mu)*c*q_dot[0], (q[0]+1)**(-1)*mu]])\n",
    "    \n",
    "    def G(self, q):\n",
    "        return np.array([0, 0])\n",
    "    \n",
    "    def B(self, q):\n",
    "        return np.array([[1, 0], [0, 1]])\n",
    "\n",
    "n, m = 4, 2\n",
    "lambd, mu, c = .3, .2, -.5\n",
    "finite_dim_koop_sys = FiniteDimKoopSys(lambd, mu, c)"
   ],
   "metadata": {
    "collapsed": false,
    "pycharm": {
     "name": "#%%\n"
    }
   }
  },
  {
   "cell_type": "markdown",
   "source": [
    "### Feedback linearization of the control-affine dynamics"
   ],
   "metadata": {
    "collapsed": false
   }
  },
  {
   "cell_type": "markdown",
   "source": [
    "We attempt to stabilize the system to the origin, that is, drive $q$ to $0$. We'll use the normal form transformation:\n",
    "\n",
    "\\begin{equation}\n",
    "    \\bs{\\Phi}(\\mb{q}, \\dot{\\mb{q}}) = \\bs{\\eta}(\\mb{q}, \\dot{\\mb{q}}) = \\begin{bmatrix} \\mb q \\\\ \\mb{\\dot{q}} \\end{bmatrix}.\n",
    "\\end{equation}"
   ],
   "metadata": {
    "collapsed": false
   }
  },
  {
   "cell_type": "code",
   "execution_count": 2,
   "outputs": [],
   "source": [
    "from core.dynamics import ConfigurationDynamics\n",
    "\n",
    "class FiniteDimKoopSysOutput(ConfigurationDynamics):\n",
    "    def __init__(self, finite_dim_koop_sys):\n",
    "        ConfigurationDynamics.__init__(self, finite_dim_koop_sys, 2)\n",
    "        self.finite_dim_koop_sys = finite_dim_koop_sys\n",
    "    \n",
    "    def y(self, q):\n",
    "        return q\n",
    "        \n",
    "    def dydq(self, q):\n",
    "        return np.array([[1, 0], [0, 1]])\n",
    "    \n",
    "    def d2ydq2(self, q):\n",
    "        return np.zeros((1, 2, 2))\n",
    "    \n",
    "output = FiniteDimKoopSysOutput(finite_dim_koop_sys)"
   ],
   "metadata": {
    "collapsed": false,
    "pycharm": {
     "name": "#%%\n"
    }
   }
  },
  {
   "cell_type": "code",
   "execution_count": 3,
   "outputs": [],
   "source": [
    "from core.controllers import FBLinController, LQRController\n",
    "q, r = 5, 1\n",
    "Q_fb = q * np.identity(4)\n",
    "R_fb = r*np.identity(2)\n",
    "lqr = LQRController.build(output, Q_fb, R_fb)\n",
    "fb_lin = FBLinController(output, lqr)"
   ],
   "metadata": {
    "collapsed": false,
    "pycharm": {
     "name": "#%%\n"
    }
   }
  },
  {
   "cell_type": "code",
   "execution_count": 4,
   "outputs": [],
   "source": [
    "x_0 = np.array([3, 3, -3, 3])\n",
    "ts = np.linspace(0, 5, 500 + 1)\n",
    "\n",
    "xs_fb, us_fb = finite_dim_koop_sys.simulate(x_0, fb_lin, ts)"
   ],
   "metadata": {
    "collapsed": false,
    "pycharm": {
     "name": "#%%\n"
    }
   }
  },
  {
   "cell_type": "markdown",
   "source": [
    "### Koopman Canonical Transform of the Control-Affine Dynamics"
   ],
   "metadata": {
    "collapsed": false
   }
  },
  {
   "cell_type": "markdown",
   "source": [
    "As a result of the careful construction of this system, there exists a Koopman canonical transform, $\\mb z = T(\\mb x)$ that exactly transforms the control-affine dynamics into a bilinear system. Consider the transformation:"
   ],
   "metadata": {
    "collapsed": false
   }
  },
  {
   "cell_type": "markdown",
   "source": [
    "\\begin{equation}\n",
    "    T(\\mb q, \\mb{\\dot{q}}) = \\begin{bmatrix} \n",
    "    \\phi_1(\\mb q, \\mb{\\dot{q}})\\\\\n",
    "    \\phi_2(\\mb q, \\mb{\\dot{q}})\\\\\n",
    "    \\phi_3(\\mb q, \\mb{\\dot{q}})\\\\\n",
    "    \\phi_4(\\mb q, \\mb{\\dot{q}})\\\\\n",
    "    \\phi_5(\\mb q, \\mb{\\dot{q}})\\\\\n",
    "    \\phi_6(\\mb q, \\mb{\\dot{q}})\\\\\n",
    "    \\end{bmatrix}\n",
    "    = \\begin{bmatrix} \n",
    "    q_1 - \\frac{1}{\\lambda}\\dot{q}_1\\\\\n",
    "    q_2 - \\frac{1}{\\mu} \\dot{q}_2 + \\frac{(2 \\lambda - \\mu)c}{2\\lambda \\mu} \\dot{q}_1^2\\\\\n",
    "    \\dot{q}_1\\\\\n",
    "    \\dot{q}_2 - c \\dot{q}_1^2\\\\\n",
    "    \\dot{q}_1^2\\\\\n",
    "    1\n",
    "    \\end{bmatrix},\n",
    "\\end{equation}"
   ],
   "metadata": {
    "collapsed": false
   }
  },
  {
   "cell_type": "markdown",
   "source": [
    "where $\\phi_1, \\phi_2, \\phi_3, \\phi_4, \\phi_5, \\phi_6$ are eigenfunctions of the Koopman operator associated with the drift \n",
    "vector field $\\mb f_0$. The matrix with the eigenvalue associated with the i-th eigenfunction on the i-th diagonal \n",
    "element is $F=\\text{diag}(0, 0, \\lambda, \\mu, 2 \\lambda, 0)$. Then, to reformulate the dynamics we have:"
   ],
   "metadata": {
    "collapsed": false
   }
  },
  {
   "cell_type": "markdown",
   "source": [
    "\\begin{equation} \n",
    "L_{\\mb f_1} T(\\mb q, \\mb{\\dot{q}}) = \\begin{bmatrix} -\\frac{1}{\\lambda}\\\\ \\frac{(2\\lambda - \\mu)c}{\\lambda \\mu}\\dot{q}_1\\\\ 1 \\\\ -2c\\dot{q}_1 \\\\ 2\\dot{q_1} \\\\ 0 \\end{bmatrix}, \\qquad \n",
    "L_{\\mb f_2} T(\\mb q, \\mb{\\dot{q}}) = \\begin{bmatrix} 0\\\\ -\\frac{1}{\\mu}(q_1 + 1)\\\\0 \\\\ q_1 + 1 \\\\ 0 \\\\ 0 \\end{bmatrix} \n",
    "\\end{equation}"
   ],
   "metadata": {
    "collapsed": false
   }
  },
  {
   "cell_type": "markdown",
   "source": [
    "and the dynamics can be equivalently transformed to a bilinear form $\\mb{\\dot{z}} = F \\mb z + G_1\\mb z u_1 + G_2\\mb z u_2$ with"
   ],
   "metadata": {
    "collapsed": false
   }
  },
  {
   "cell_type": "markdown",
   "source": [
    "\\begin{equation}\n",
    "F = \\begin{bmatrix} \n",
    "0 & 0 & 0 & 0 & 0 & 0\\\\\n",
    "0 & 0 & 0 & 0 & 0 & 0\\\\\n",
    "0 & 0 & \\lambda & 0 & 0 & 0\\\\\n",
    "0 & 0 & 0 & \\mu & 0 & 0\\\\\n",
    "0 & 0 & 0 & 0 & 2 \\lambda & 0\\\\\n",
    "0 & 0 & 0 & 0 & 0 & 0\\\\  \n",
    "\\end{bmatrix}, \\qquad \n",
    "G_1 = \\begin{bmatrix} \n",
    "0 & 0 & 0 & 0 & 0 & -\\frac{1}{\\lambda}\\\\\n",
    "0 & 0 & \\frac{(2\\lambda - \\mu)c}{\\lambda \\mu} & 0 & 0 & 0\\\\\n",
    "0 & 0 & 0 & 0 & 0 & 1\\\\\n",
    "0 & 0 & -2c & 0 & 0 & 0\\\\\n",
    "0 & 0 & 2 & 0 & 0 & 0\\\\\n",
    "0 & 0 & 0 & 0 & 0 & 0\\\\  \n",
    "\\end{bmatrix}\n",
    ", \\qquad \n",
    "G_2 = \\begin{bmatrix} \n",
    "0 & 0 &  0 & 0 & 0 & 0\\\\\n",
    "-\\frac{1}{\\mu} & 0 &  -\\frac{1}{\\lambda \\mu} & 0 & 0 & -\\frac{1}{\\mu}\\\\\n",
    "0 & 0 & 0 & 0 & 0 & 0\\\\\n",
    "1 & 0 & \\frac{1}{\\lambda} & 0 & 0 & 1\\\\\n",
    "0 & 0 & 0 & 0 & 0 & 0\\\\\n",
    "0 & 0 & 0 & 0 & 0 & 0\\\\  \n",
    "\\end{bmatrix}\n",
    "\\end{equation}"
   ],
   "metadata": {
    "collapsed": false
   }
  },
  {
   "cell_type": "code",
   "execution_count": 5,
   "outputs": [],
   "source": [
    "from koopman_core.dynamics import BilinearLiftedDynamics\n",
    "\n",
    "F = np.array([[0, 0, 0, 0, 0, 0],\n",
    "             [0, 0, 0, 0, 0, 0],\n",
    "              [0, 0, lambd, 0, 0, 0],\n",
    "              [0, 0, 0, mu, 0, 0],\n",
    "              [0, 0, 0, 0, 2*lambd, 0],\n",
    "              [0, 0, 0, 0, 0, 0]])\n",
    "G_1 = np.array([[0, 0, 0, 0, 0, -1/lambd],\n",
    "                [0, 0, (2*lambd - mu)*c/(lambd*mu), 0, 0, 0],\n",
    "                [0, 0, 0, 0, 0, 1], \n",
    "                [0, 0, -2*c, 0, 0, 0], \n",
    "                [0, 0, 2, 0, 0, 0], \n",
    "                [0, 0, 0, 0, 0, 0]])\n",
    "G_2 = np.array([[0, 0, 0, 0, 0, 0],\n",
    "                [-1/mu, 0, -1/(lambd*mu), 0, 0, -1/mu],\n",
    "                [0, 0, 0, 0, 0, 0], \n",
    "                [1, 0, 1/lambd, 0, 0, 1], \n",
    "                [0, 0, 0, 0, 0, 0], \n",
    "                [0, 0, 0, 0, 0, 0]])\n",
    "G = [G_1, G_2]\n",
    "phi_fun = lambda x: np.array([x[0] - 1/lambd*x[2],\n",
    "                            x[1] - 1/mu*x[3] + (2*lambd - mu)*c/(2*lambd*mu)*x[2]**2,\n",
    "                            x[2], \n",
    "                            x[3] - c*x[2]**2, \n",
    "                            x[2]**2, \n",
    "                            1])\n",
    "C_h = np.array([[1, 0, 1/lambd, 0, 0, 0],\n",
    "                [0, 1, 0, 1/mu, c/mu - ((2*lambd - mu)*c)/(2*lambd*mu), 0]])\n",
    "n_koop = 6\n",
    "\n",
    "koop_bilinear_sys = BilinearLiftedDynamics(n_koop, m, F, G, C_h, phi_fun)"
   ],
   "metadata": {
    "collapsed": false,
    "pycharm": {
     "name": "#%%\n"
    }
   }
  },
  {
   "cell_type": "markdown",
   "source": [
    "With the same objective as before, we aim to design a feedback linearizing control law utilizing the bilinear dynamics. \n",
    "We assume that the outputs can be linearly described in the lifted state space such that $\\mb y = C^{\\mb h} \\mb z$. \n",
    "The outputs encoding the objective (driving the system to the origin) can then be described as"
   ],
   "metadata": {
    "collapsed": false
   }
  },
  {
   "cell_type": "markdown",
   "source": [
    "\\begin{equation}\n",
    "    \\bs{\\eta}(\\mb{q}, \\dot{\\mb{q}}) = C^{\\mb h} \\mb z - \\mb y_d(t), \n",
    "    \\qquad C^{\\mb h} = \\begin{bmatrix} 1 & 0 & \\frac{1}{\\lambda} & 0 & 0 & 0\\\\\n",
    "    0 & 1 & 0 & \\frac{1}{\\mu} & \\frac{c}{\\mu} - \\frac{(2\\lambda - \\mu)c}{2\\lambda \\mu} & 0\n",
    "    \\end{bmatrix}\n",
    "\\end{equation}"
   ],
   "metadata": {
    "collapsed": false
   }
  },
  {
   "cell_type": "markdown",
   "source": [
    "To verify that the transformation is correct, we compare the open loop simulation of the true system and the transformed \n",
    "system."
   ],
   "metadata": {
    "collapsed": false
   }
  },
  {
   "cell_type": "code",
   "execution_count": 6,
   "outputs": [
    {
     "data": {
      "text/plain": "<Figure size 432x576 with 2 Axes>",
      "image/png": "[encoded data removed]"
     },
     "metadata": {
      "needs_background": "light"
     },
     "output_type": "display_data"
    }
   ],
   "source": [
    "from matplotlib.pyplot import subplots, tight_layout, show\n",
    "from koopman_core.controllers.openloop_controller import OpenLoopController\n",
    "\n",
    "ol_controller = OpenLoopController(koop_bilinear_sys, us_fb, ts[:-1])\n",
    "z_0 = phi_fun(x_0)\n",
    "zs_koop, us_koop = koop_bilinear_sys.simulate(z_0, ol_controller, ts)\n",
    "xs_koop = np.dot(C_h, zs_koop.T)\n",
    "\n",
    "_, axs = subplots(2, 1, figsize=(6, 8))\n",
    "ylabels = ['$q_1$', '$q_2$']\n",
    "\n",
    "for ax, data_fb, data_koop, ylabel in zip(axs.flatten(), xs_fb.T, xs_koop, ylabels):\n",
    "    ax.plot(ts, data_fb, linewidth=3, label='True system')\n",
    "    ax.plot(ts, data_koop, linewidth=3, label='KCT')\n",
    "    ax.set_ylabel(ylabel, fontsize=16)\n",
    "    ax.grid()\n",
    "    ax.set_xlabel('$t$ (sec)', fontsize=16)\n",
    "    ax.legend()\n",
    "    \n",
    "tight_layout()\n",
    "show()"
   ],
   "metadata": {
    "collapsed": false,
    "pycharm": {
     "name": "#%%\n"
    }
   }
  },
  {
   "cell_type": "markdown",
   "source": [
    "Differentiating the outputs we get and writing the actuated dynamics $G_1 \\mb z u_1 + G_2 \\mb z u_2$ as $\\hat{G}(\\mb z) \\mb u$ we get:"
   ],
   "metadata": {
    "collapsed": false
   }
  },
  {
   "cell_type": "markdown",
   "source": [
    "\\begin{equation}\n",
    "    \\bs{\\dot{\\eta}} = C^{\\mb h}\\mb{\\dot{z}} - \\mb{\\dot{y}}_d(t) = C^{\\mb h} \\big (\\mb{\\dot{z}} - \\mb{\\dot{z}}_d(t) \\big ) = C^{\\mb h} \\big ( F \\mb z + \\hat{G}(\\mb z)\\mb u - \\mb{\\dot{z}}_d \\big ).\n",
    "\\end{equation}"
   ],
   "metadata": {
    "collapsed": false
   }
  },
  {
   "cell_type": "markdown",
   "source": [
    "Because of the relative degree assumption on the outputs, each output $y_i(\\mb x)=h_i(\\mb x), i=1,\\dots,k$ has relative degree 2,\n",
    "we have that $L_g h(x) = C^{\\mb h} \\hat{G}(\\mb z) = 0$. As a result, $\\bs{\\dot{\\eta}} = C^{\\mb h} \\big ( F \\mb z - \\mb{\\dot{z}}_d \\big )$.\n",
    "Now, akin to classical feedback linearization we differentiate the outputs again to get:"
   ],
   "metadata": {
    "collapsed": false
   }
  },
  {
   "cell_type": "markdown",
   "source": [
    "\\begin{equation}\n",
    "    \\bs{\\ddot{\\eta}} = C^{\\mb h} \\big ( F \\mb{\\dot{z}} - \\mb{\\ddot{z}}_d \\big ) = C^{\\mb h} \\big ( F(F \\mb z + \\hat{G}(\\mb z)\\mb u)- \\mb{\\ddot{z}}_d \\big )\n",
    "    = C^{\\mb h} \\big ( F^2 \\mb z + F\\hat{G}(\\mb z)\\mb u - \\mb{\\ddot{z}}_d \\big )\n",
    "\\end{equation}"
   ],
   "metadata": {
    "collapsed": false
   }
  },
  {
   "cell_type": "markdown",
   "source": [
    "Now, the output error dynamics can be written in normal form such that we get:"
   ],
   "metadata": {
    "collapsed": false
   }
  },
  {
   "cell_type": "markdown",
   "source": [
    "\\begin{equation}\n",
    "    \\bs{\\Phi}(\\mb{q}, \\dot{\\mb{q}}) = \\begin{bmatrix} \\bs{\\eta}(\\mb{q}, \\dot{\\mb{q}})\\\\ \\bs{\\dot{\\eta}}(\\mb{q}, \\dot{\\mb{q}})\\end{bmatrix}, \\qquad\n",
    "    \\bs{\\dot{\\Phi}} = \\begin{bmatrix} \\bs{\\dot{\\eta}}\\\\ \\bs{\\ddot{\\eta}}\\end{bmatrix} =\n",
    "    \\begin{bmatrix} \\bs{\\dot{\\eta}}\\\\\n",
    "    C^{\\mb h} \\big ( F(F \\mb z + \\hat{G}(\\mb z)\\mb u)- \\mb{\\ddot{z}}_d \\big ) \\end{bmatrix}\n",
    "\\end{equation}"
   ],
   "metadata": {
    "collapsed": false
   }
  },
  {
   "cell_type": "code",
   "execution_count": 7,
   "outputs": [],
   "source": [
    "from core.dynamics.configuration_dynamics import ConfigurationDynamics\n",
    "\n",
    "class BilinearSysOutput(ConfigurationDynamics):\n",
    "    def __init__(self, bilinear_dynamics, C_h):\n",
    "        ConfigurationDynamics.__init__(self, bilinear_dynamics, 1)\n",
    "        self.bilinear_dynamics = bilinear_dynamics\n",
    "        self.C_h = C_h\n",
    "    \n",
    "    def y(self, x):\n",
    "        z = self.bilinear_dynamics.phi_fun(x)\n",
    "        return np.dot(self.C_h, z)\n",
    "        \n",
    "    def dydx(self, x):\n",
    "        return np.array([[1, 0, 0, 0],[0, 1, 0, 0]])\n",
    "    \n",
    "    def d2ydz2(self, x):\n",
    "        return np.zeros((1, self.k, 4))\n",
    "\n",
    "    def y_d(self, t):\n",
    "        return np.dot(self.C_h, self.z_d(t))\n",
    "\n",
    "    def y_d_dot(self, t):\n",
    "        return np.dot(self.C_h, self.z_d_dot(t))\n",
    "\n",
    "    def y_d_ddot(self, t):\n",
    "        return np.dot(self.C_h, self.z_d_ddot(t))\n",
    "    \n",
    "    def z_d(self, t):\n",
    "        return np.array(([0, 0, 0, 0, 0, 1]))\n",
    "\n",
    "    def z_d_dot(self, t):\n",
    "        return np.zeros(self.bilinear_dynamics.n)\n",
    "\n",
    "    def z_d_ddot(self, t):\n",
    "        return np.zeros(self.bilinear_dynamics.n)\n",
    "    \n",
    "output_bl_fb = BilinearSysOutput(koop_bilinear_sys, C_h)"
   ],
   "metadata": {
    "collapsed": false,
    "pycharm": {
     "name": "#%%\n"
    }
   }
  },
  {
   "cell_type": "markdown",
   "source": [
    "### Koopman Feedback Linearization\n"
   ],
   "metadata": {
    "collapsed": false
   }
  },
  {
   "cell_type": "markdown",
   "source": [
    "Since the unactuated dynamics are already linear in the lifted state space, we only need to cancel out the nonlinear actuated \n",
    "dynamics terms. Writing the actuated dynamics $G \\mb z u$ as $\\hat{G}(\\mb z) u$ we get the control law:"
   ],
   "metadata": {
    "collapsed": false
   }
  },
  {
   "cell_type": "markdown",
   "source": [
    "\\begin{equation}\n",
    "    \\mb u(\\mb z, t) = \\big(C^{\\mb h}F\\hat{G}(\\mb z)\\big )^\\dagger (\\mb{\\ddot{z}}_d(t) - C^{\\mb h}F^2 \\mb z_d(t) + C^{\\mb h}\\bs{\\nu}(\\mb z, t)),\n",
    "\\end{equation}"
   ],
   "metadata": {
    "collapsed": false
   }
  },
  {
   "cell_type": "markdown",
   "source": [
    "where $\\bs{\\nu}(\\mb z, t)$ is a controller designed with LQR to stabilize the system "
   ],
   "metadata": {
    "collapsed": false
   }
  },
  {
   "cell_type": "markdown",
   "source": [
    "\\begin{equation}\n",
    "\\dot{\\Phi}_{\\mb z} = \\begin{bmatrix} 0 & I \\\\ F^2 & 0\\end{bmatrix} \\Phi_{\\mb z} + \n",
    "\\begin{bmatrix} 0 \\\\ I \\end{bmatrix} \\bs{\\nu}\n",
    "\\end{equation}\n"
   ],
   "metadata": {
    "collapsed": false
   }
  },
  {
   "cell_type": "code",
   "execution_count": 8,
   "outputs": [],
   "source": [
    "from scipy.linalg import solve_continuous_are\n",
    "from koopman_core.controllers.bilinear_fb_lin_controller import BilinearFBLinController\n",
    "\n",
    "f_eta = np.concatenate((np.zeros((n_koop,n_koop)), np.eye(n_koop)), axis=1)\n",
    "f_eta_dot = np.concatenate((F@F, np.zeros((n_koop,n_koop))), axis=1)\n",
    "F_lin = np.concatenate((f_eta, f_eta_dot), axis=0)\n",
    "G_lin = np.concatenate((np.zeros((n_koop,n_koop)), np.eye(n_koop)), axis=0)\n",
    "Q_bl_fb = q*np.eye(2*n_koop)\n",
    "R_bl_fb = r*np.eye(n_koop)\n",
    "P = solve_continuous_are(F_lin, G_lin, Q_bl_fb, R_bl_fb)\n",
    "K = -np.linalg.inv(R_bl_fb)@G_lin.T@P\n",
    "bl_fb_lin = BilinearFBLinController(koop_bilinear_sys, output_bl_fb, K)"
   ],
   "metadata": {
    "collapsed": false,
    "pycharm": {
     "name": "#%%\n"
    }
   }
  },
  {
   "cell_type": "code",
   "execution_count": 9,
   "outputs": [],
   "source": [
    "xs_bl_fb, us_bl_fb = finite_dim_koop_sys.simulate(x_0, bl_fb_lin, ts)"
   ],
   "metadata": {
    "collapsed": false,
    "pycharm": {
     "name": "#%%\n"
    }
   }
  },
  {
   "cell_type": "markdown",
   "source": [
    "### Performance comparison of the control-affine and Koopman bilinear controllers"
   ],
   "metadata": {
    "collapsed": false
   }
  },
  {
   "cell_type": "markdown",
   "source": [
    "To compare the relative performance of the feedback linearizing controller based on the control-affine dynamics\n",
    "and the feedback linearizing controller based on the Koopman bilinear dynamics, consider the quadratic cost metric,\n",
    "where $Q, R$ are the cost matrices used for the LRQ design of the linear auxillary controller:"
   ],
   "metadata": {
    "collapsed": false
   }
  },
  {
   "cell_type": "markdown",
   "source": [
    "\\begin{equation}\n",
    "    J(\\mb x, \\mb u, t) = \\int_{0}^{T_f} \\big [ (\\mb y(t) - \\mb y_d(t))^T Q (\\mb y(t) - \\mb y_d(t)) + \\mb u(t)^T R \\mb u(t) \\big ] dt\n",
    "\\end{equation}"
   ],
   "metadata": {
    "collapsed": false
   }
  },
  {
   "cell_type": "markdown",
   "source": [
    "Recall that in this example the output is simply $y(t) = q$ that we aim to stabilize to the origin."
   ],
   "metadata": {
    "collapsed": false
   }
  },
  {
   "cell_type": "code",
   "execution_count": 10,
   "outputs": [
    {
     "data": {
      "text/plain": "<Figure size 864x216 with 4 Axes>",
      "image/png": "[encoded data removed]"
     },
     "metadata": {
      "needs_background": "light"
     },
     "output_type": "display_data"
    }
   ],
   "source": [
    "import matplotlib.pyplot as plt\n",
    "import matplotlib\n",
    "\n",
    "cost_fb_lin = np.cumsum(np.diag(xs_fb[1:,:] @ Q_fb @ xs_fb[1:,:].T) + np.diag(us_fb @ R_fb @ us_fb.T))\n",
    "cost_bl_fb_lin = np.cumsum(np.diag(xs_bl_fb[1:,:] @ Q_fb @ xs_bl_fb[1:,:].T) + np.diag(us_bl_fb @ R_fb @ us_bl_fb.T))\n",
    "\n",
    "plt.figure(figsize=(12,3))\n",
    "plt.subplot(1,3,1)\n",
    "plt.plot(xs_fb[:,0], xs_fb[:,1], label='Control-affine FL')\n",
    "plt.plot(xs_bl_fb[:,0], xs_bl_fb[:,1], label='KCT FL')\n",
    "plt.xlabel('$x_1$')\n",
    "plt.ylabel('$x_2$')\n",
    "plt.title('Phase plot')\n",
    "plt.grid()\n",
    "\n",
    "plt.subplot(2,3,2)\n",
    "plt.plot(ts[:-1], us_fb[:,0], label='Control-affine FL')\n",
    "plt.plot(ts[:-1], us_bl_fb[:,0], label='KCT FL')\n",
    "plt.ylabel('$u_1$')\n",
    "plt.title('Control action')\n",
    "plt.grid()\n",
    "\n",
    "plt.subplot(2,3,5)\n",
    "plt.plot(ts[:-1], us_fb[:,1], label='Control-affine FL')\n",
    "plt.plot(ts[:-1], us_bl_fb[:,1], label='KCT FL')\n",
    "plt.xlabel('Time (sec)')\n",
    "plt.ylabel('$u_2$')\n",
    "plt.grid()\n",
    "\n",
    "plt.subplot(1,3,3)\n",
    "plt.plot(ts[:-1], cost_fb_lin/cost_fb_lin[-1], linewidth=3, label='Control-affine FL')\n",
    "plt.plot(ts[:-1], cost_bl_fb_lin/cost_fb_lin[-1], linewidth=3, label='KCT FL')\n",
    "plt.xlabel('Time (sec)')\n",
    "plt.ylabel('J (normalized)')\n",
    "plt.title('Normalized cost')\n",
    "plt.grid()\n",
    "plt.legend(loc='lower right')\n",
    "\n",
    "matplotlib.rcParams['pdf.fonttype'] = 42\n",
    "matplotlib.rcParams['ps.fonttype'] = 42\n",
    "plt.tight_layout()\n",
    "plt.savefig('examples/figures/finite_koop_sys.pdf', format='pdf', dpi=2400)\n",
    "plt.show()"
   ],
   "metadata": {
    "collapsed": false,
    "pycharm": {
     "name": "#%%\n"
    }
   }
  },
  {
   "cell_type": "markdown",
   "source": [
    "### Linear model predictive control"
   ],
   "metadata": {
    "collapsed": false,
    "pycharm": {
     "name": "#%% md\n"
    }
   }
  },
  {
   "cell_type": "code",
   "execution_count": 11,
   "outputs": [],
   "source": [
    "import scipy as sc\n",
    "from koopman_core.controllers.linear_mpc_controller import LinearMpcController\n",
    "\n",
    "A_lin = np.array([[0, 0, 1, 0],\n",
    "                  [0, 0, 0, 1],\n",
    "                  [0, 0, lambd, 0],\n",
    "                  [0, 0, 0, mu]])\n",
    "B_lin = np.array([[0, 0],\n",
    "                  [0, 0],\n",
    "                  [1, 0],\n",
    "                  [0, 1]])\n",
    "C_lin = np.eye(n)\n",
    "D_lin = np.zeros((n,m))\n",
    "dt = 1e-2\n",
    "lin_sys = sc.signal.StateSpace(A_lin, B_lin, C_lin, D_lin)\n",
    "lin_sys_d = lin_sys.to_discrete(dt)\n",
    "A_d, B_d, C_d, D_d = lin_sys_d.A, lin_sys_d.B, lin_sys_d.C, lin_sys_d.D\n",
    "\n",
    "# MPC parameters:\n",
    "umax = np.array([100., 100.])\n",
    "umin = -umax\n",
    "xmax = np.array([10., 10., 10., 10.])\n",
    "xmin = -xmax\n",
    "Q_mpc = Q_fb\n",
    "R_mpc = R_fb\n",
    "n_pred = 100\n",
    "set_pt = np.zeros(n)\n",
    "\n",
    "mpc_controller = LinearMpcController(n, m, n_koop, n_pred, lin_sys_d, xmin, xmax, umin, umax, Q_mpc, Q_mpc, R_mpc, set_pt)\n",
    "mpc_controller.construct_controller()\n",
    "xs_mpc, us_mpc = finite_dim_koop_sys.simulate(x_0, mpc_controller, ts)"
   ],
   "metadata": {
    "collapsed": false,
    "pycharm": {
     "name": "#%%\n"
    }
   }
  },
  {
   "cell_type": "markdown",
   "source": [
    "### Koopman feedback linearized model predictive control"
   ],
   "metadata": {
    "collapsed": false
   }
  },
  {
   "cell_type": "code",
   "execution_count": 12,
   "outputs": [
    {
     "ename": "TypeError",
     "evalue": "__init__() missing 2 required positional arguments: 'R' and 'set_pt'",
     "output_type": "error",
     "traceback": [
      "\u001B[0;31m---------------------------------------------------------------------------\u001B[0m",
      "\u001B[0;31mTypeError\u001B[0m                                 Traceback (most recent call last)",
      "\u001B[0;32m<ipython-input-12-63f2fef81618>\u001B[0m in \u001B[0;36m<module>\u001B[0;34m\u001B[0m\n\u001B[1;32m     25\u001B[0m \u001B[0mset_pt\u001B[0m \u001B[0;34m=\u001B[0m \u001B[0mnp\u001B[0m\u001B[0;34m.\u001B[0m\u001B[0mzeros\u001B[0m\u001B[0;34m(\u001B[0m\u001B[0mn\u001B[0m\u001B[0;34m)\u001B[0m\u001B[0;34m\u001B[0m\u001B[0;34m\u001B[0m\u001B[0m\n\u001B[1;32m     26\u001B[0m \u001B[0;34m\u001B[0m\u001B[0m\n\u001B[0;32m---> 27\u001B[0;31m \u001B[0mbl_mpc_controller\u001B[0m \u001B[0;34m=\u001B[0m \u001B[0mBilinearMpcController\u001B[0m\u001B[0;34m(\u001B[0m\u001B[0mn\u001B[0m\u001B[0;34m,\u001B[0m \u001B[0mm\u001B[0m\u001B[0;34m,\u001B[0m \u001B[0mk\u001B[0m\u001B[0;34m,\u001B[0m \u001B[0mn_koop\u001B[0m\u001B[0;34m,\u001B[0m \u001B[0mn_pred\u001B[0m\u001B[0;34m,\u001B[0m \u001B[0mfb_sys_d\u001B[0m\u001B[0;34m,\u001B[0m \u001B[0mkoop_bilinear_sys\u001B[0m\u001B[0;34m,\u001B[0m \u001B[0mxmin\u001B[0m\u001B[0;34m,\u001B[0m \u001B[0mxmax\u001B[0m\u001B[0;34m,\u001B[0m \u001B[0mumin\u001B[0m\u001B[0;34m,\u001B[0m \u001B[0mumax\u001B[0m\u001B[0;34m,\u001B[0m \u001B[0mQ_mpc\u001B[0m\u001B[0;34m,\u001B[0m \u001B[0mQ_mpc\u001B[0m\u001B[0;34m,\u001B[0m \u001B[0mR_mpc\u001B[0m\u001B[0;34m,\u001B[0m \u001B[0mset_pt\u001B[0m\u001B[0;34m)\u001B[0m\u001B[0;34m\u001B[0m\u001B[0;34m\u001B[0m\u001B[0m\n\u001B[0m\u001B[1;32m     28\u001B[0m \u001B[0mbl_mpc_controller\u001B[0m\u001B[0;34m.\u001B[0m\u001B[0mconstruct_controller\u001B[0m\u001B[0;34m(\u001B[0m\u001B[0;34m)\u001B[0m\u001B[0;34m\u001B[0m\u001B[0;34m\u001B[0m\u001B[0m\n\u001B[1;32m     29\u001B[0m \u001B[0mxs_bl_mpc\u001B[0m\u001B[0;34m,\u001B[0m \u001B[0mus_bl_mpc\u001B[0m \u001B[0;34m=\u001B[0m \u001B[0mfinite_dim_koop_sys\u001B[0m\u001B[0;34m.\u001B[0m\u001B[0msimulate\u001B[0m\u001B[0;34m(\u001B[0m\u001B[0mx_0\u001B[0m\u001B[0;34m,\u001B[0m \u001B[0mbl_mpc_controller\u001B[0m\u001B[0;34m,\u001B[0m \u001B[0mts\u001B[0m\u001B[0;34m)\u001B[0m\u001B[0;34m\u001B[0m\u001B[0;34m\u001B[0m\u001B[0m\n",
      "\u001B[0;31mTypeError\u001B[0m: __init__() missing 2 required positional arguments: 'R' and 'set_pt'"
     ]
    }
   ],
   "source": [
    "import scipy as sc\n",
    "from koopman_core.controllers.bilinear_mpc_controller import BilinearMpcController\n",
    "\n",
    "C_bl= np.eye(int(2*n_koop))\n",
    "D_bl = np.zeros((int(2*n_koop),n_koop))\n",
    "dt = 1e-2\n",
    "fb_sys = sc.signal.StateSpace(F_lin, G_lin, C_bl, D_bl)\n",
    "fb_sys_d = fb_sys.to_discrete(dt)\n",
    "A_bl_d, B_bl_d = fb_sys_d.A, fb_sys_d.B\n",
    "\n",
    "# MPC parameters:\n",
    "umax = np.array([100., 100.])\n",
    "umin = -umax\n",
    "xmax = np.array([10., 10., 10., 10.])\n",
    "xmin = -xmax\n",
    "k = m\n",
    "Q_mpc = Q_bl_fb\n",
    "R_mpc = R_bl_fb\n",
    "C_stacked = np.zeros((int(2*k), int(2*n_koop)))\n",
    "C_stacked[:k, :n_koop] = C_h\n",
    "C_stacked[k:, n_koop:] = C_h\n",
    "#Q_mpc = C_stacked.T@Q_fb@C_stacked\n",
    "#R_mpc = C_h.T@R_fb@C_h\n",
    "n_pred = 250\n",
    "set_pt = np.zeros(n)\n",
    "\n",
    "bl_mpc_controller = BilinearMpcController(n, m, k, n_koop, n_pred, fb_sys_d, koop_bilinear_sys, xmin, xmax, umin, umax, Q_mpc, Q_mpc, R_mpc, set_pt)\n",
    "bl_mpc_controller.construct_controller()\n",
    "xs_bl_mpc, us_bl_mpc = finite_dim_koop_sys.simulate(x_0, bl_mpc_controller, ts)"
   ],
   "metadata": {
    "collapsed": false,
    "pycharm": {
     "name": "#%%\n"
    }
   }
  },
  {
   "cell_type": "markdown",
   "source": [
    "### Performance comparison of the control-affine and Koopman bilinear controllers"
   ],
   "metadata": {
    "collapsed": false
   }
  },
  {
   "cell_type": "markdown",
   "source": [
    "To compare the relative performance of the feedback linearizing controller based on the control-affine dynamics \n",
    "and the feedback linearizing controller based on the Koopman bilinear dynamics, consider the quadratic cost metric,\n",
    "where $Q, R$ are the cost matrices used for the LRQ design of the linear auxillary controller:"
   ],
   "metadata": {
    "collapsed": false
   }
  },
  {
   "cell_type": "markdown",
   "source": [
    "\\begin{equation}\n",
    "    J(\\mb x, \\mb u, t) = \\int_{0}^{T_f} \\big [ (\\mb y(t) - \\mb y_d(t))^T Q (\\mb y(t) - \\mb y_d(t)) + \\mb u(t)^T R \\mb u(t) \\big ] dt\n",
    "\\end{equation}"
   ],
   "metadata": {
    "collapsed": false
   }
  },
  {
   "cell_type": "markdown",
   "source": [
    "Recall that in this example the output is simply $y(t) = q$ that we aim to stabilize to the origin."
   ],
   "metadata": {
    "collapsed": false
   }
  },
  {
   "cell_type": "code",
   "execution_count": null,
   "outputs": [],
   "source": [
    "cost_fb_lin = np.cumsum(np.diag(xs_fb[1:,:] @ Q_fb @ xs_fb[1:,:].T) + np.diag(us_fb @ R_fb @ us_fb.T))\n",
    "cost_bl_fb_lin = np.cumsum(np.diag(xs_bl_fb[1:,:] @ Q_fb @ xs_bl_fb[1:,:].T) + np.diag(us_bl_fb @ R_fb @ us_bl_fb.T))\n",
    "#cost_mpc_lin = np.cumsum(np.diag(xs_mpc[1:,:] @ Q_fb @ xs_mpc[1:,:].T) + np.diag(us_mpc @ R_fb @ us_mpc.T))\n",
    "cost_bl_mpc = np.cumsum(np.diag(xs_bl_mpc[1:,:] @ Q_fb @ xs_bl_mpc[1:,:].T) + np.diag(us_bl_mpc @ R_fb @ us_bl_mpc.T))\n",
    "\n",
    "_, axs = subplots(2, 2, figsize=(12, 8))\n",
    "ylabels = ['$q$', '$\\\\dot{q}$']\n",
    "\n",
    "#for ax, data_fb, data_bl_fb, data_mpc, data_bl_mpc, ylabel in zip(axs[:-1].flatten(), xs_fb.T, xs_bl_fb.T, xs_mpc.T, xs_bl_mpc.T, ylabels):\n",
    "for ax, data_fb, data_bl_fb, data_bl_mpc, ylabel in zip(axs[:-1].flatten(), xs_fb.T, xs_bl_fb.T, xs_bl_mpc.T, ylabels):\n",
    "    ax.plot(ts, data_fb, linewidth=3, label='Control-affine')\n",
    "    ax.plot(ts, data_bl_fb, linewidth=3, label='Koopman bilinear')\n",
    "    #ax.plot(ts, data_mpc, linewidth=3, label='Linear MPC')\n",
    "    ax.plot(ts, data_bl_mpc, linewidth=3, label='Bilinear MPC')\n",
    "    ax.set_ylabel(ylabel, fontsize=16)\n",
    "    ax.grid()\n",
    "    ax.set_xlabel('$t$ (sec)', fontsize=16)\n",
    "    ax.legend()\n",
    "\n",
    "ax = axs[1,0]\n",
    "ax.plot(ts[:-1], us_fb[:,0], linewidth=3, label='$u_1$, control-affine')\n",
    "ax.plot(ts[:-1], us_fb[:,1], linewidth=3, label='$u_2$, control-affine')\n",
    "ax.plot(ts[:-1], us_bl_fb[:,0], linewidth=3, label='$u_1$, Koopman bilinear')\n",
    "ax.plot(ts[:-1], us_bl_fb[:,1], linewidth=3, label='$u_2$, Koopman bilinear')\n",
    "#ax.plot(ts[:-1], us_mpc[:,0], linewidth=3, label='$u_1$, linear MPC')\n",
    "#ax.plot(ts[:-1], us_mpc[:,1], linewidth=3, label='$u_2$, linear MPC')\n",
    "ax.plot(ts[:-1], us_bl_mpc[:,0], linewidth=3, label='$u_1$, bilinear MPC')\n",
    "ax.plot(ts[:-1], us_bl_mpc[:,1], linewidth=3, label='$u_2$, bilinear MPC')\n",
    "ax.grid()\n",
    "ax.set_xlabel('$t$ (sec)', fontsize=16)\n",
    "ax.set_ylabel('$u$', fontsize=16)\n",
    "ax.legend()\n",
    "\n",
    "ax = axs[1,1]\n",
    "ax.plot(ts[:-1], cost_fb_lin/cost_fb_lin[-1], linewidth=3, label='Control-affine')\n",
    "ax.plot(ts[:-1], cost_bl_fb_lin/cost_fb_lin[-1], linewidth=3, label='Koopman bilinear')\n",
    "#ax.plot(ts[:-1], cost_mpc_lin/cost_fb_lin[-1], linewidth=3, label='Linear MPC')\n",
    "ax.plot(ts[:-1], cost_bl_mpc/cost_fb_lin[-1], linewidth=3, label='Bilinear MPC')\n",
    "ax.grid()\n",
    "ax.set_xlabel('$t$ (sec)', fontsize=16)\n",
    "ax.set_ylabel('Normalized cost, $J$', fontsize=16)\n",
    "ax.legend(loc='lower right')\n",
    "    \n",
    "tight_layout()\n",
    "show()"
   ],
   "metadata": {
    "collapsed": false,
    "pycharm": {
     "name": "#%%\n"
    }
   }
  },
  {
   "cell_type": "code",
   "execution_count": null,
   "outputs": [],
   "source": [
    "\n"
   ],
   "metadata": {
    "collapsed": false,
    "pycharm": {
     "name": "#%%\n"
    }
   }
  }
 ],
 "metadata": {
  "kernelspec": {
   "display_name": "Python 3",
   "language": "python",
   "name": "python3"
  },
  "language_info": {
   "codemirror_mode": {
    "name": "ipython",
    "version": 3
   },
   "file_extension": ".py",
   "mimetype": "text/x-python",
   "name": "python",
   "nbconvert_exporter": "python",
   "pygments_lexer": "ipython3",
   "version": "3.7.6"
  }
 },
 "nbformat": 4,
 "nbformat_minor": 2
}