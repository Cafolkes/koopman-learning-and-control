{
 "cells": [
  {
   "cell_type": "markdown",
   "source": [
    "$\\newcommand{\\mb}[1]{\\mathbf{ #1 }}$\n",
    "$\\newcommand{\\bs}[1]{\\boldsymbol{ #1 }}$\n",
    "$\\newcommand{\\bb}[1]{\\mathbb{ #1 }}$\n",
    "\n",
    "$\\newcommand{\\R}{\\bb{R}}$\n",
    "\n",
    "$\\newcommand{\\ip}[2]{\\left\\langle #1, #2 \\right\\rangle}$\n",
    "$\\newcommand{\\norm}[1]{\\left\\Vert #1 \\right\\Vert}$\n",
    "\n",
    "$\\newcommand{\\der}[2]{\\frac{\\mathrm{d} #1 }{\\mathrm{d} #2 }}$\n",
    "$\\newcommand{\\derp}[2]{\\frac{\\partial #1 }{\\partial #2 }}$\n",
    "\n",
    "# Bilinear Extended Dynamic Mode Decomposition "
   ],
   "metadata": {
    "collapsed": false
   }
  },
  {
   "cell_type": "markdown",
   "source": [
    "### System dynamics: system with finite dimensional Koopman canonical transform"
   ],
   "metadata": {
    "collapsed": false,
    "pycharm": {
     "name": "#%% md\n"
    }
   }
  },
  {
   "cell_type": "markdown",
   "source": [
    "Consider a nonlinear dynamical system that allows an exact finite dimensional Koopman canonical transform such that the control-affine dynamics can be transformed to a bilinear system. Consider the dynamical system "
   ],
   "metadata": {
    "collapsed": false
   }
  },
  {
   "cell_type": "markdown",
   "source": [
    "\\begin{equation}\n",
    "\\mb{\\dot{x}}=\\mb{f}_0(\\mb x) + \\mb f_1 ( \\mb x) u_1, \n",
    "\\end{equation}"
   ],
   "metadata": {
    "collapsed": false
   }
  },
  {
   "cell_type": "markdown",
   "source": [
    "where we for this example choose $\\mb f_0, \\mb f_1$ as follows:"
   ],
   "metadata": {
    "collapsed": false
   }
  },
  {
   "cell_type": "markdown",
   "source": [
    "\\begin{equation}\n",
    "\\mb f_0(\\mb x) = \\begin{bmatrix} \\lambda x_1 \\\\ \\mu x_2 + (2 \\lambda - \\mu) c x_1^2 \\end{bmatrix}, \\qquad\n",
    "\\mb f_1(\\mb x) = \\begin{bmatrix} 0 \\\\ x_1+1 \\end{bmatrix}, \\qquad\n",
    "\\end{equation}   "
   ],
   "metadata": {
    "collapsed": false
   }
  },
  {
   "cell_type": "markdown",
   "source": [
    "and $\\lambda, \\mu, c \\in \\mathbb{R}$ are scalar parameters of the system. Setting $ \\mb x = [\\mb q \\, \\mb{\\dot{q}}]^T$, these equations of motion can be expressed as robotic dynamics of the form $\\mb{D}(\\mb{q})\\ddot{\\mb{q}} + \\mb{C}(\\mb{q}, \\dot{\\mb{q}})\\dot{\\mb{q}} + \\mb{G}(\\mb{q}) = \\mb{B}\\mb{u}$, where $\\mb D$ is the inertia matrix, $\\mb C$ is the matrix of Coriolis terms, $\\mb G$ is the matrix of gravitational terms, and $\\mb B$ is the static actuation matrix. Rewriting $\\mb f_0, \\mb f_1, \\mb f_2$ in terms of $\\mb D, \\mb C, \\mb G,$ and $\\mb B$ yield\n"
   ],
   "metadata": {
    "collapsed": false
   }
  },
  {
   "cell_type": "markdown",
   "source": [
    "\\begin{equation}\n",
    "\\mb D(\\mb q) = (\\mb q+1)^{-1}, \\qquad \\mb C(\\mb q, \\mb{\\dot{q}}) = \\mu (\\mb q+1)^{-1}, \\qquad \\mb G(\\mb q) = (2\\lambda - \\mu)c \\mb q^2 (\\mb q + 1)^{-1}, \\qquad \\mb B = 1,\n",
    "\\end{equation}"
   ],
   "metadata": {
    "collapsed": false
   }
  },
  {
   "cell_type": "code",
   "execution_count": 1,
   "outputs": [],
   "source": [
    "import numpy as np\n",
    "\n",
    "from core.dynamics import RoboticDynamics\n",
    "\n",
    "class FiniteDimKoopSys(RoboticDynamics):\n",
    "    def __init__(self, lambd, mu, c):\n",
    "        RoboticDynamics.__init__(self, 1, 1)\n",
    "        self.params = lambd, mu, c\n",
    "    \n",
    "    def D(self, q):\n",
    "        return np.array([(q+1)**(-1)])\n",
    "    \n",
    "    def C(self, q, q_dot):\n",
    "        _, mu, _ = self.params\n",
    "        return np.array([mu*(q+1)**(-1)])\n",
    "    \n",
    "    def G(self, q):\n",
    "        lambd, mu, c = self.params\n",
    "        return np.array([(2*lambd -mu)*c*q**(2)*(q+1)**(-1)])\n",
    "    \n",
    "    def B(self, q):\n",
    "        return np.array([[1]])\n",
    "    \n",
    "lambd, mu, c = -.3, .2, -.5\n",
    "finite_dim_koop_sys = FiniteDimKoopSys(lambd, mu, c)"
   ],
   "metadata": {
    "collapsed": false,
    "pycharm": {
     "name": "#%%\n",
     "is_executing": false
    }
   }
  },
  {
   "cell_type": "markdown",
   "source": [
    "As a result of the careful construction of this system, there exists a Koopman canonical transform, $\\mb z = T(\\mb x)$ that exactly transforms the control-affine dynamics into a bilinear system. Consider the transformation:"
   ],
   "metadata": {
    "collapsed": false,
    "pycharm": {
     "name": "#%% md\n"
    }
   }
  },
  {
   "cell_type": "markdown",
   "source": [
    "\\begin{equation}\n",
    "    T(\\mb q, \\mb{\\dot{q}}) = \\begin{bmatrix} \\phi_1(\\mb q, \\mb{\\dot{q}})\\\\\n",
    "    \\phi_2(\\mb q, \\mb{\\dot{q}})\\\\\n",
    "    \\phi_3(\\mb q, \\mb{\\dot{q}})\\\\\n",
    "    \\phi_4(\\mb q, \\mb{\\dot{q}})\\\\\n",
    "    \\end{bmatrix}\n",
    "    = \\begin{bmatrix} \\mb q\\\\\n",
    "    \\mb{\\dot{q}}- c \\mb q^2\\\\\n",
    "    \\mb q^2\\\\\n",
    "    1\n",
    "    \\end{bmatrix},\n",
    "\\end{equation}"
   ],
   "metadata": {
    "collapsed": false
   }
  },
  {
   "cell_type": "markdown",
   "source": [
    "where $\\phi_1, \\phi_2, \\phi_3, \\phi_4$ are eigenfunctions of the Koopman operator associated with the drift vector field $\\mb f_0$. The matrix with the eigenvalue associated with the i-th eigenfunction on the i-th diagonal element is $F=\\text{diag}(\\lambda, \\mu, 2 \\lambda, 0)$. Then, to reformulate the dynamics we have:"
   ],
   "metadata": {
    "collapsed": false
   }
  },
  {
   "cell_type": "markdown",
   "source": [
    "\\begin{equation} \n",
    "L_{\\mb f_1} T(\\mb q, \\mb{\\dot{q}}) = \\begin{bmatrix} 0\\\\ \\mb q + 1 \\\\ 0 \\\\ 0 \\end{bmatrix}, \n",
    "\\end{equation}"
   ],
   "metadata": {
    "collapsed": false
   }
  },
  {
   "cell_type": "markdown",
   "source": [
    "and the dynamics can be equivalently transformed to a bilinear form $\\mb{\\dot{z}} = F \\mb z + G\\mb z u$ with"
   ],
   "metadata": {
    "collapsed": false
   }
  },
  {
   "cell_type": "markdown",
   "source": [
    "\\begin{equation}\n",
    "F = \\begin{bmatrix} \\lambda & 0 & 0 & 0\\\\\n",
    "0 & \\mu & 0 & 0\\\\\n",
    "0 & 0 & 2 \\lambda & 0\\\\\n",
    "0 & 0 & 0 & 0\\\\  \n",
    "\\end{bmatrix}, \\qquad \n",
    "G = \\begin{bmatrix} 0 & 0 & 0 & 0\\\\\n",
    "1 & 0 & 0 & 1\\\\\n",
    "0 & 0 & 0 & 0\\\\\n",
    "0 & 0 & 0 & 0\\\\  \n",
    "\\end{bmatrix}\n",
    "\\end{equation}"
   ],
   "metadata": {
    "collapsed": false
   }
  },
  {
   "cell_type": "code",
   "execution_count": 2,
   "outputs": [],
   "source": [
    "from koopman_core.dynamics.bilinear_dynamics import BilinearDynamics\n",
    "\n",
    "F = np.array([[lambd, 0, 0, 0], [0, mu, 0, 0], [0, 0, 2*lambd, 0], [0, 0, 0, 0]])\n",
    "G = [np.array([[0, 0, 0, 0], [1, 0, 0, 1], [0, 0, 0, 0], [0, 0, 0, 0]])]\n",
    "C_h = np.array([1, 0, 0, 0])\n",
    "phi_fun = lambda x: np.array([x[0], x[1] - c*x[0]**2, x[0]**2, 1])\n",
    "n, m = 4, 1\n",
    "\n",
    "koop_bilinear_sys = BilinearDynamics(n, m, F, G, phi_fun)\n"
   ],
   "metadata": {
    "collapsed": false,
    "pycharm": {
     "name": "#%%\n",
     "is_executing": false
    }
   }
  },
  {
   "cell_type": "markdown",
   "source": [
    "### Collect data from the system under PD control\n",
    "\n",
    "We first collect data from the system under PD control designed by LQR on the linearization of the dynamics around the \n",
    "origin. This is done by picking 20 intial conditions $\\mb x_0 = [q_0, \\dot{q}_0]^T$ uniformly at random in the space \n",
    "$\\mb x_0 \\in [-5, 5]^2$. The linearized dynamics around the origin are:"
   ],
   "metadata": {
    "collapsed": false,
    "pycharm": {
     "name": "#%% md\n"
    }
   }
  },
  {
   "cell_type": "markdown",
   "source": [
    "\\begin{equation}\n",
    "    \\mb{\\dot{x}} = \\begin{bmatrix} \\lambda & 0\\\\ 0 & \\mu \\end{bmatrix} \\mb x + \n",
    "    \\begin{bmatrix} 0 \\\\ 1 \\end{bmatrix} u\n",
    "\\end{equation}"
   ],
   "metadata": {
    "collapsed": false
   }
  },
  {
   "cell_type": "markdown",
   "source": [
    "and using these dynamics, we can design a LQR controller as follows:"
   ],
   "metadata": {
    "collapsed": false,
    "pycharm": {
     "name": "#%% md\n"
    }
   }
  },
  {
   "cell_type": "code",
   "execution_count": 3,
   "outputs": [
    {
     "name": "stdout",
     "text": [
      "[[ 1.08812061e-17 -4.67660586e+00]]\n"
     ],
     "output_type": "stream"
    }
   ],
   "source": [
    "from scipy.linalg import solve_continuous_are\n",
    "from core.controllers.pd_controller import PDController\n",
    "\n",
    "n, m = 2, 1\n",
    "A = np.array([[lambd, 0],[0, mu]])\n",
    "B = np.array([[0],[1]])\n",
    "q, r = 20, 1\n",
    "Q_lqr = q*np.eye(n)\n",
    "R_lqr = r*np.eye(m)\n",
    "P = solve_continuous_are(A, B, Q_lqr, R_lqr)\n",
    "K = -np.linalg.inv(R_lqr)@B.T@P\n",
    "print(K)\n",
    "\n",
    "lqr_controller = PDController(finite_dim_koop_sys, K[:,:int(n/2)], K[:,int(n/2):])"
   ],
   "metadata": {
    "collapsed": false,
    "pycharm": {
     "name": "#%%\n",
     "is_executing": false
    }
   }
  },
  {
   "cell_type": "markdown",
   "source": [
    "Finally, we collect the data and store the state and action pairs that will be used to learn dynamics models later on:"
   ],
   "metadata": {
    "collapsed": false,
    "pycharm": {
     "name": "#%% md\n"
    }
   }
  },
  {
   "cell_type": "code",
   "execution_count": null,
   "outputs": [
    {
     "name": "stdout",
     "text": [
      "[-0.09631006 -0.35045648]\n"
     ],
     "output_type": "stream"
    },
    {
     "data": {
      "text/plain": "<Figure size 432x288 with 1 Axes>",
      "image/png": "[encoded data removed]"
     },
     "metadata": {
      "needs_background": "light"
     },
     "output_type": "display_data"
    },
    {
     "data": {
      "text/plain": "<Figure size 432x288 with 1 Axes>",
      "image/png": "[encoded data removed]"
     },
     "metadata": {
      "needs_background": "light"
     },
     "output_type": "display_data"
    }
   ],
   "source": [
    "import random as rn\n",
    "from koopman_core.controllers.perturbed_controller import PerturbedController\n",
    "from matplotlib import pyplot as plt\n",
    "\n",
    "Ntraj = 2                                                  # Number of trajectories to collect data from\n",
    "dt = 1.0e-2                                                 # Time step length\n",
    "N = int(2./dt)                                              # Number of time steps\n",
    "t_eval = dt * np.arange(N + 1)                              # Simulation time points\n",
    "traj_bounds = [0.5, 0.5]                                        # State constraints, [q, q_dot]\n",
    "pert_noise_var = 0.0                                        # Variance of controller perturbation noise\n",
    "\n",
    "pert_lqr_controller = PerturbedController(finite_dim_koop_sys, lqr_controller, pert_noise_var)\n",
    "\n",
    "xs, us, us_nom, ts = [], [], [], []\n",
    "for ii in range(Ntraj):\n",
    "    x_0 = np.asarray([rn.uniform(-i,i)  for i in traj_bounds])\n",
    "    xs_tmp, us_tmp = finite_dim_koop_sys.simulate(x_0, pert_lqr_controller, t_eval)\n",
    "    xs.append(xs_tmp)\n",
    "    us.append(us_tmp)\n",
    "    ts.append(t_eval)\n",
    "    \n",
    "    print(x_0 )\n",
    "    plt.figure()\n",
    "    plt.plot(t_eval, xs_tmp[:,0], label='$x_1$')\n",
    "    plt.plot(t_eval, xs_tmp[:,1], label='$x_2$')\n",
    "    plt.legend()\n",
    "    \n",
    "    plt.figure()\n",
    "    plt.plot(t_eval[:-1], us_tmp[:,0], label='$u$')\n",
    "    plt.show()\n",
    "\n",
    "xs, us, ts = np.array(xs), np.array(us), np.array(ts)\n"
   ],
   "metadata": {
    "collapsed": false,
    "pycharm": {
     "name": "#%%\n",
     "is_executing": true
    }
   }
  },
  {
   "cell_type": "markdown",
   "source": [
    "### Learn lifted linear state space model with EDMD"
   ],
   "metadata": {
    "collapsed": false,
    "pycharm": {
     "name": "#%% md\n"
    }
   }
  },
  {
   "cell_type": "markdown",
   "source": [
    "### Learn lifted bilinear state space model with bEDMD"
   ],
   "metadata": {
    "collapsed": false,
    "pycharm": {
     "name": "#%% md\n",
     "is_executing": false
    }
   }
  },
  {
   "cell_type": "markdown",
   "source": [
    "### Compare prediction performance of the linear and bilinear models"
   ],
   "metadata": {
    "collapsed": false,
    "pycharm": {
     "name": "#%% md\n"
    }
   }
  }
 ],
 "metadata": {
  "kernelspec": {
   "display_name": "Python 3",
   "language": "python",
   "name": "python3"
  },
  "language_info": {
   "codemirror_mode": {
    "name": "ipython",
    "version": 2
   },
   "file_extension": ".py",
   "mimetype": "text/x-python",
   "name": "python",
   "nbconvert_exporter": "python",
   "pygments_lexer": "ipython2",
   "version": "2.7.6"
  },
  "pycharm": {
   "stem_cell": {
    "cell_type": "raw",
    "source": [],
    "metadata": {
     "collapsed": false
    }
   }
  }
 },
 "nbformat": 4,
 "nbformat_minor": 0
}