{
 "cells": [
  {
   "cell_type": "code",
   "execution_count": 1,
   "metadata": {},
   "outputs": [],
   "source": [
    "import numpy as np\n",
    "import scipy as sc\n",
    "import random as rand\n",
    "from sklearn import preprocessing, linear_model\n",
    "import matplotlib.pyplot as plt\n",
    "\n",
    "from core.controllers import PDController\n",
    "from core.dynamics import LinearSystemDynamics, ConfigurationDynamics\n",
    "\n",
    "from koopman_core.controllers import OpenLoopController, MPCController,BilinearFBLinController, PerturbedController, LinearLiftedController\n",
    "from koopman_core.dynamics import LinearLiftedDynamics, BilinearLiftedDynamics\n",
    "from koopman_core.learning import Edmd, BilinearEdmd\n",
    "from koopman_core.basis_functions import PlanarQuadBasis\n",
    "from koopman_core.learning.utils import differentiate_vec\n",
    "from koopman_core.systems import PlanarQuadrotorForceInput\n",
    "\n",
    "class QuadrotorPdOutput(ConfigurationDynamics):\n",
    "    def __init__(self, dynamics, xd, t_d, n, m):\n",
    "        ConfigurationDynamics.__init__(self, dynamics, 1)\n",
    "        self.xd = xd\n",
    "        self.t_d = t_d\n",
    "        self.xd_dot = differentiate_vec(self.xd, self.t_d)\n",
    "        self.n = n\n",
    "        self.m = m\n",
    "\n",
    "    def proportional(self, x, t):\n",
    "        q, q_dot = x[:int(n/2)], x[int(n/2):]\n",
    "        return self.y(q) - self.y_d(t)\n",
    "\n",
    "    def derivative(self, x, t):\n",
    "        q, q_dot = x[:int(n/2)], x[int(n/2):]\n",
    "        return self.dydq(q)@q_dot - self.y_d_dot(t)\n",
    "\n",
    "    def y(self, q):\n",
    "        return q\n",
    "\n",
    "    def dydq(self, q):\n",
    "        return np.eye(int(self.n/2))\n",
    "\n",
    "    def d2ydq2(self, q):\n",
    "        return np.zeros((int(self.n/2), int(self.n/2), int(self.n/2)))\n",
    "\n",
    "    def y_d(self, t):\n",
    "        return self.desired_state_(t)[:int(self.n/2)]\n",
    "\n",
    "    def y_d_dot(self, t):\n",
    "        return self.desired_state_(t)[int(self.n/2):]\n",
    "\n",
    "    def y_d_ddot(self, t):\n",
    "        return self.desired_state_dot_(t)[int(self.n/2):]\n",
    "\n",
    "    def desired_state_(self, t):\n",
    "        return [np.interp(t, self.t_d.flatten(),self.xd[:,ii].flatten()) for ii in range(self.xd.shape[1])]\n",
    "\n",
    "    def desired_state_dot_(self, t):\n",
    "        return [np.interp(t, self.t_d.flatten(),self.xd_dot[:,ii].flatten()) for ii in range(self.xd_dot.shape[1])]\n",
    "\n",
    "class PlanarQuadrotorForceInputDiscrete(PlanarQuadrotorForceInput):\n",
    "    def __init__(self, mass, inertia, prop_arm, g=9.81, dt=1e-2):\n",
    "        PlanarQuadrotorForceInput.__init__(self, mass, inertia, prop_arm, g=g)\n",
    "        self.dt=dt\n",
    "        \n",
    "    def eval_dot(self, x, u, t):\n",
    "        return x + self.dt*self.drift(x, t) + self.dt*np.dot(self.act(x, t),u)\n",
    "\n",
    "    def get_linearization(self, x0, x1, u0, t):\n",
    "        m, J, b, g = self.params\n",
    "        A_lin = np.eye(self.n) + self.dt*np.array([[0, 0, 0, 1, 0, 0],\n",
    "                                                   [0, 0, 0, 0, 1, 0],\n",
    "                                                   [0, 0, 0, 0, 0, 1],\n",
    "                                                   [0, 0, -(1/m)*np.cos(x0[2])*u0[0] -(1/m)*np.cos(x0[2])*u0[1], 0, 0, 0],\n",
    "                                                   [0, 0, -(1/m)*np.sin(x0[2])*u0[0] -(1/m)*np.sin(x0[2])*u0[1], 0, 0, 0],\n",
    "                                                   [0, 0, 0, 0, 0, 0],])\n",
    "\n",
    "        B_lin = self.dt*np.array([[0, 0],\n",
    "                                  [0, 0],\n",
    "                                  [0, 0],\n",
    "                                  [-(1/m)*np.sin(x0[2]), -(1/m)*np.sin(x0[2])],\n",
    "                                  [(1/m)*np.cos(x0[2]), (1/m)*np.cos(x0[2])],\n",
    "                                  [-b/J, b/J]])\n",
    "\n",
    "        if x1 is None:\n",
    "            x1 = A_lin@x0 + B_lin@u0\n",
    "\n",
    "        f_d = self.eval_dot(x0,u0,t)\n",
    "        r_lin = f_d - x1\n",
    "\n",
    "        return A_lin, B_lin, r_lin\n",
    "    "
   ]
  },
  {
   "cell_type": "markdown",
   "metadata": {
    "pycharm": {
     "name": "#%% md\n"
    }
   },
   "source": [
    "## Planar Quadrotor Example"
   ]
  },
  {
   "cell_type": "markdown",
   "metadata": {},
   "source": [
    "Consider a planar quadrotor with states $\\mathbf{x} = [y \\, z \\, \\theta \\, \\dot{y} \\, \\dot{z} \\, \\dot{\\theta}]^T$ and continuous-time dynamics\n",
    "\n",
    "\\begin{equation}\n",
    "    \\begin{bmatrix} \\ddot{y} \\\\ \\ddot{z} \\\\ \\ddot{\\theta} \\end{bmatrix}\n",
    "    = \\begin{bmatrix}\n",
    "    0\\\\-g\\\\0\n",
    "    \\end{bmatrix} +\n",
    "    \\begin{bmatrix}\n",
    "    -\\frac{1}{m}\\text{sin}\\theta & -\\frac{1}{m}\\text{sin}\\theta\\\\\n",
    "    \\frac{1}{m}\\text{cos}\\theta & \\frac{1}{m}\\text{cos}\\theta\\\\\n",
    "    -\\frac{l_{arm}}{I_{xx}} & \\frac{l_{arm}}{I_{xx}}\n",
    "    \\end{bmatrix}\n",
    "    \\begin{bmatrix}\n",
    "    T_1 \\\\ T_2\n",
    "    \\end{bmatrix}\n",
    "\\end{equation}\n",
    "\n",
    "where $y,z$ describe the position of the vehicle in a fixed reference frame, $\\theta$ is the orientation of the vehicle,\n",
    "$T_1, T_2$ are the thrust from each of the propellers, $g$ is the gravitational acceleration, $m$ is the vehicle mass,\n",
    "$l_{arm}$ is the distance from the vehicle's center of mass to the center of the propeller, and $I_{xx}$ is the inertia\n",
    "around the x-axis."
   ]
  },
  {
   "cell_type": "code",
   "execution_count": 2,
   "metadata": {
    "pycharm": {
     "name": "#%%\n"
    }
   },
   "outputs": [],
   "source": [
    "# Cart pole system parameters\n",
    "mass = 2.\n",
    "inertia = 1.\n",
    "prop_arm = 0.2\n",
    "gravity = 9.81\n",
    "quadrotor = PlanarQuadrotorForceInput(mass, inertia, prop_arm, g=gravity)\n",
    "\n",
    "# Linearized system specification:\n",
    "n, m = 6, 2                                                         # Number of states, number of control inputs\n",
    "A_nom = np.array([[0., 0., 0., 1., 0., 0.],                         # Linearization of the true system around the origin\n",
    "                  [0., 0., 0., 0., 1., 0.],\n",
    "                  [0., 0., 0., 0., 0., 1.],\n",
    "                  [0., 0., -gravity, 0., 0., 0.],\n",
    "                  [0., 0., 0., 0., 0., 0.],\n",
    "                  [0., 0., 0., 0., 0., 0.]])\n",
    "B_nom = np.array([[0., 0.],                                         # Linearization of the true system around the origin\n",
    "                  [0., 0.],\n",
    "                  [0., 0.],\n",
    "                  [0., 0.],\n",
    "                  [1./mass, 1./mass],\n",
    "                  [-prop_arm/inertia, prop_arm/inertia]])\n",
    "\n",
    "hover_thrust = mass*gravity/m"
   ]
  },
  {
   "cell_type": "markdown",
   "metadata": {
    "pycharm": {
     "name": "#%% md\n"
    }
   },
   "source": [
    "### Collect data for learning"
   ]
  },
  {
   "cell_type": "markdown",
   "metadata": {
    "pycharm": {
     "name": "#%% md\n"
    }
   },
   "source": [
    "To collect data, a nominal controller is designed with LQR on the dynamics's linearization around hover. However, any\n",
    "controller can be used and the method does not require the knowledge of model's linearization. In addition, a\n",
    "exploratory white noise is added to the controller to ensure that the data is sufficiently excited. Note that the system\n",
    "is underactuated and that trajectory optimization is necessary to control the position of the vehicle. We use a\n",
    "simplified trajectory generator based on a model predictive controller for the linearized dynamics. More careful design\n",
    "of the desired trajectory may be necessary for more demanding applications and this is readily compatible with our method.\n",
    "\n"
   ]
  },
  {
   "cell_type": "code",
   "execution_count": 3,
   "metadata": {
    "pycharm": {
     "name": "#%%\n"
    }
   },
   "outputs": [],
   "source": [
    "q_dc, r_dc = 1e2, 1                                                 # State and actuation penalty values, data collection\n",
    "Q_dc = q_dc * np.identity(n)                                        # State penalty matrix, data collection\n",
    "R_dc = r_dc*np.identity(m)                                          # Actuation penalty matrix, data collection\n",
    "P_dc = sc.linalg.solve_continuous_are(A_nom, B_nom, Q_dc, R_dc)     # Algebraic Ricatti equation solution, data collection\n",
    "K_dc = np.linalg.inv(R_dc)@B_nom.T@P_dc                             # LQR feedback gain matrix, data collection\n",
    "K_dc_p = K_dc[:,:int(n/2)]                                          # Proportional control gains, data collection\n",
    "K_dc_d = K_dc[:,int(n/2):]                                          # Derivative control gains, data collection\n",
    "nominal_sys = LinearLiftedDynamics(A_nom, B_nom, np.eye(n), lambda x: x)\n",
    "\n",
    "# Data collection parameters:\n",
    "dt = 1.0e-2                                                         # Time step length\n",
    "traj_length_dc = 2.                                                 # Trajectory length, data collection\n",
    "n_pred_dc = int(traj_length_dc/dt)                                  # Number of time steps, data collection\n",
    "t_eval = dt * np.arange(n_pred_dc + 1)                              # Simulation time points\n",
    "n_traj_dc = 100                                                     # Number of trajectories to execute, data collection\n",
    "noise_var = 2.                                                      # Exploration noise to perturb controller, data collection\n",
    "\n",
    "xmax = np.array([2, 2, np.pi/3, 2.,2.,2.])                          # State constraints, trajectory generation\n",
    "xmin = -xmax\n",
    "umax = np.array([2*hover_thrust, 2*hover_thrust]) - hover_thrust    # Actuation constraint, trajectory generation\n",
    "umin = np.array([0., 0.]) - hover_thrust\n",
    "x0_max = np.array([xmax[0], xmax[1], xmax[2], 1., 1., 1.])          # Initial value limits\n",
    "Q_trajgen = sc.sparse.diags([0,0,0,0,0,0])                          # State penalty matrix, trajectory generation\n",
    "QN_trajgen = sc.sparse.diags([5e1,5e1,5e1,1e1,1e1,1e1])             # Final state penalty matrix, trajectory generation\n",
    "R_trajgen = sc.sparse.eye(m)                                        # Actuation penalty matrix, trajectory generation\n",
    "sub_sample_rate = 2                                                 # Rate to subsample data for training\n",
    "model_fname = 'examples/planar_quad_models'                         # Path to save learned models\n",
    "n_cols = 10                                                         # Number of columns in training data plot"
   ]
  },
  {
   "cell_type": "code",
   "execution_count": null,
   "metadata": {
    "pycharm": {
     "name": "#%%\n"
    }
   },
   "outputs": [],
   "source": [
    "xd = np.empty((n_traj_dc, n_pred_dc + 1, n))\n",
    "xs = np.empty((n_traj_dc, n_pred_dc + 1, n))\n",
    "us = np.empty((n_traj_dc, n_pred_dc, m))\n",
    "\n",
    "plt.figure(figsize=(12, 12 * n_traj_dc / (n_cols ** 2)))\n",
    "for ii in range(n_traj_dc):\n",
    "    x0 = np.asarray([rand.uniform(l, u) for l, u in zip(-x0_max, x0_max)])\n",
    "    set_pt_dc = np.asarray([rand.uniform(l, u) for l, u in zip(-x0_max, x0_max)])\n",
    "    mpc_trajgen = MPCController(nominal_sys, n_pred_dc, dt, umin, umax, xmin, xmax, QN_trajgen, R_trajgen,\n",
    "                                QN_trajgen, set_pt_dc)\n",
    "    mpc_trajgen.eval(x0, 0)\n",
    "    xd[ii, :, :] = mpc_trajgen.parse_result().T\n",
    "    while abs(x0[0]) < 1.25 or np.any(np.isnan(xd[ii, :, :])):\n",
    "        x0 = np.asarray([rand.uniform(l, u) for l, u in zip(-x0_max, x0_max)])\n",
    "        set_pt_dc = np.asarray([rand.uniform(l, u) for l, u in zip(-x0_max, x0_max)])\n",
    "        mpc_trajgen = MPCController(nominal_sys, n_pred_dc, dt, umin, umax, xmin, xmax, QN_trajgen, R_trajgen,\n",
    "                                    QN_trajgen, set_pt_dc)\n",
    "        mpc_trajgen.eval(x0, 0)\n",
    "        xd[ii, :, :] = mpc_trajgen.parse_result().T\n",
    "\n",
    "    output = QuadrotorPdOutput(quadrotor, xd[ii, :, :], t_eval, n, m)\n",
    "    pd_controller = PDController(output, K_dc_p, K_dc_d)\n",
    "    perturbed_pd_controller = PerturbedController(quadrotor, pd_controller, noise_var, const_offset=hover_thrust)\n",
    "    xs[ii, :, :], us[ii, :, :] = quadrotor.simulate(x0, perturbed_pd_controller, t_eval)\n",
    "\n",
    "    plt.subplot(int(np.ceil(n_traj_dc / n_cols)), n_cols, ii + 1)\n",
    "    plt.plot(t_eval, xs[ii, :, 0], 'b', label='$y$')\n",
    "    plt.plot(t_eval, xs[ii, :, 1], 'g', label='$z$')\n",
    "    plt.plot(t_eval, xs[ii, :, 2], 'r', label='$\\\\theta$')\n",
    "    plt.plot(t_eval, xd[ii, :, 0], '--b', label='$y_d$')\n",
    "    plt.plot(t_eval, xd[ii, :, 1], '--g', label='$z_d$')\n",
    "    plt.plot(t_eval, xd[ii, :, 2], '--r', label='$\\\\theta_d$')\n",
    "\n",
    "plt.suptitle(\n",
    "    'Training data \\nx-axis: time (sec), y-axis: state value, $x$ - blue, $xd$ - dotted blue, $\\\\theta$ - red, $\\\\theta_d$ - dotted red',\n",
    "    y=0.94)\n",
    "plt.show()"
   ]
  },
  {
   "cell_type": "markdown",
   "metadata": {
    "pycharm": {
     "name": "#%% md\n"
    }
   },
   "source": [
    "### Learn a linear model with dynamic mode decomposition (DMD)"
   ]
  },
  {
   "cell_type": "markdown",
   "metadata": {
    "pycharm": {
     "name": "#%% md\n"
    }
   },
   "source": [
    "To compare our method with existing techniques, we first learn a linear state space model from data. This is dubbed\n",
    "dynamic mode decomposition. I.e. we use linear regression with LASSO regularization to learn an approximate linear model\n",
    "with model structure\n",
    "\n",
    "\\begin{equation}\n",
    "    \\mathbf{\\dot{x}} = A_{dmd}\\mathbf{x} + B_{dmd}\\mathbf{u}\n",
    "\\end{equation}"
   ]
  },
  {
   "cell_type": "code",
   "execution_count": null,
   "metadata": {
    "pycharm": {
     "name": "#%%\n"
    }
   },
   "outputs": [],
   "source": [
    "#DMD parameters:\n",
    "alpha_dmd = 1.5e-4                                                  # Regularization strength (LASSO) DMD\n",
    "tune_mdl_dmd = False"
   ]
  },
  {
   "cell_type": "code",
   "execution_count": null,
   "metadata": {
    "pycharm": {
     "name": "#%%\n"
    }
   },
   "outputs": [],
   "source": [
    "basis = lambda x: x\n",
    "C_dmd = np.eye(n)\n",
    "\n",
    "optimizer_dmd = linear_model.MultiTaskLasso(alpha=alpha_dmd, fit_intercept=False, selection='random')\n",
    "cv_dmd = linear_model.MultiTaskLassoCV(fit_intercept=False, n_jobs=-1, cv=3, selection='random')\n",
    "standardizer_dmd = preprocessing.StandardScaler(with_mean=False)\n",
    "\n",
    "model_dmd = Edmd(n, m, basis, n, n_traj_dc, optimizer_dmd, cv=cv_dmd, standardizer=standardizer_dmd, C=C_dmd, first_obs_const=False, continuous_mdl=False, dt=dt)\n",
    "xdmd, y_dmd = model_dmd.process(xs, us-hover_thrust, np.tile(t_eval,(n_traj_dc,1)), downsample_rate=sub_sample_rate)\n",
    "model_dmd.fit(xdmd, y_dmd, cv=tune_mdl_dmd, override_kinematics=True)\n",
    "sys_dmd = LinearLiftedDynamics(model_dmd.A, model_dmd.B, model_dmd.C, model_dmd.basis, continuous_mdl=False, dt=dt)\n",
    "if tune_mdl_dmd:\n",
    "    print('$\\\\alpha$ DMD: ',model_dmd.cv.alpha_)"
   ]
  },
  {
   "cell_type": "markdown",
   "metadata": {
    "pycharm": {
     "name": "#%% md\n"
    }
   },
   "source": [
    "### Learn a lifted linear model with extended dynamic mode decomposition (EDMD)"
   ]
  },
  {
   "cell_type": "markdown",
   "metadata": {
    "pycharm": {
     "name": "#%% md\n"
    }
   },
   "source": [
    "In addition, we compare our method with the current state of the art of Koopman based learning, the extended dynamic mode\n",
    "decomposition. We use a dictionary of nonlinear functions $\\boldsymbol{\\phi(x)}$ to lift the state variables and learn a lifted state space model\n",
    "of the dynamics. I.e. we first lift and then use linear regression with LASSO regularization to learn an approximate\n",
    "lifted linear model with model structure\n",
    "\n",
    "\\begin{equation}\n",
    "    \\mathbf{\\dot{z}} = A_{edmd}\\mathbf{z} + B_{edmd}\\mathbf{u}, \\qquad \\mathbf{z} = \\boldsymbol{\\phi(x)}\n",
    "\\end{equation}"
   ]
  },
  {
   "cell_type": "code",
   "execution_count": null,
   "metadata": {
    "pycharm": {
     "name": "#%%\n"
    }
   },
   "outputs": [],
   "source": [
    "#EDMD parameters:\n",
    "alpha_edmd = 5.0e-5                                                 # Regularization strength (LASSO) EDMD\n",
    "tune_mdl_edmd = False"
   ]
  },
  {
   "cell_type": "code",
   "execution_count": null,
   "metadata": {
    "pycharm": {
     "name": "#%%\n"
    }
   },
   "outputs": [],
   "source": [
    "basis = PlanarQuadBasis(n, poly_deg=3)\n",
    "basis.construct_basis()\n",
    "planar_quad_features = preprocessing.FunctionTransformer(basis.basis)\n",
    "planar_quad_features.fit(np.zeros((1,n)))\n",
    "n_lift_edmd = planar_quad_features.transform((np.zeros((1,n)))).shape[1]\n",
    "C_edmd = np.zeros((n,n_lift_edmd))\n",
    "C_edmd[:,1:n+1] = np.eye(n)\n",
    "\n",
    "optimizer_edmd = linear_model.MultiTaskLasso(alpha=alpha_edmd, fit_intercept=False, selection='random')\n",
    "cv_edmd = linear_model.MultiTaskLassoCV(fit_intercept=False, n_jobs=-1, cv=3, selection='random')\n",
    "standardizer_edmd = preprocessing.StandardScaler(with_mean=False)\n",
    "\n",
    "model_edmd = Edmd(n, m, basis.basis, n_lift_edmd, n_traj_dc, optimizer_edmd, cv=cv_edmd, standardizer=standardizer_edmd, C=C_edmd, continuous_mdl=False, dt=dt)\n",
    "X_edmd, y_edmd = model_edmd.process(xs, us-hover_thrust, np.tile(t_eval,(n_traj_dc,1)), downsample_rate=sub_sample_rate)\n",
    "model_edmd.fit(X_edmd, y_edmd, cv=tune_mdl_edmd, override_kinematics=True)\n",
    "model_edmd.reduce_mdl()\n",
    "sys_edmd = LinearLiftedDynamics(model_edmd.A, model_edmd.B, model_edmd.C, model_edmd.basis_reduced, continuous_mdl=False, dt=dt)\n",
    "if tune_mdl_edmd:\n",
    "    print('$\\\\alpha$ EDMD: ',model_edmd.cv.alpha_)\n"
   ]
  },
  {
   "cell_type": "markdown",
   "metadata": {
    "pycharm": {
     "name": "#%% md\n"
    }
   },
   "source": [
    "### Learn a lifted bilinear model with bilinear extended mode decomposition (bEDMD)"
   ]
  },
  {
   "cell_type": "markdown",
   "metadata": {
    "pycharm": {
     "name": "#%% md\n"
    }
   },
   "source": [
    "Finally, we use the method developed in the paper to learn a lifted bilinear model of the dynamics, dubbed bilinear\n",
    "extended mode decomposition (bEDMD). I.e. we first lift and then use linear regression with LASSO regularization to learn an approximate\n",
    "lifted linear model with model structure\n",
    "\n",
    "\\begin{equation}\n",
    "    \\mathbf{\\dot{z}}=F\\mathbf{z}+\\sum_{i=1}^m G_i\\mathbf{z}\\mathbf{u}_i, \\qquad \\mathbf{z} = \\boldsymbol{\\phi(x)}\n",
    "\\end{equation}"
   ]
  },
  {
   "cell_type": "code",
   "execution_count": null,
   "metadata": {
    "pycharm": {
     "name": "#%%\n"
    }
   },
   "outputs": [],
   "source": [
    "#Bilinear EDMD parameters:\n",
    "alpha_bedmd_init = 5.5e-5                                           # Regularization strength (LASSO) bEDMD\n",
    "alpha_bedmd = 5.5e-5\n",
    "tune_mdl_bedmd = False"
   ]
  },
  {
   "cell_type": "code",
   "execution_count": null,
   "metadata": {
    "pycharm": {
     "name": "#%%\n"
    }
   },
   "outputs": [],
   "source": [
    "n_lift_bedmd = n_lift_edmd\n",
    "C_bedmd = np.zeros((n,n_lift_bedmd))\n",
    "C_bedmd[:,1:n+1] = np.eye(n)\n",
    "\n",
    "basis_bedmd = lambda x: planar_quad_features.transform(x)\n",
    "optimizer_bedmd = linear_model.MultiTaskLasso(alpha=alpha_bedmd, fit_intercept=False, selection='random')\n",
    "cv_bedmd = linear_model.MultiTaskLassoCV(fit_intercept=False, n_jobs=-1, cv=3, selection='random')\n",
    "standardizer_bedmd = preprocessing.StandardScaler(with_mean=False)\n",
    "\n",
    "model_bedmd = BilinearEdmd(n, m, basis_bedmd, n_lift_bedmd, n_traj_dc, optimizer_bedmd, cv=cv_bedmd, standardizer=standardizer_bedmd, C=C_bedmd, continuous_mdl=False, dt=dt)\n",
    "X_bedmd, y_bedmd = model_bedmd.process(xs, us-hover_thrust, np.tile(t_eval,(n_traj_dc,1)), downsample_rate=sub_sample_rate)\n",
    "model_bedmd.fit(X_bedmd, y_bedmd, cv=tune_mdl_bedmd, override_kinematics=True)\n",
    "sys_bedmd = BilinearLiftedDynamics(model_bedmd.n_lift, m, model_bedmd.A, model_bedmd.B, model_bedmd.C, model_bedmd.basis, continuous_mdl=False, dt=dt)\n",
    "if tune_mdl_bedmd:\n",
    "    print('$\\\\alpha$ bilinear EDMD: ', model_bedmd.cv.alpha_)\n",
    "    "
   ]
  },
  {
   "cell_type": "markdown",
   "metadata": {},
   "source": [
    "### Evaluate open loop prediction performance"
   ]
  },
  {
   "cell_type": "markdown",
   "metadata": {
    "pycharm": {
     "name": "#%% md\n"
    }
   },
   "source": [
    "We first evaluate the open loop prediction performance of the proposed method.\n",
    "This is done by generating a new data set in the same way as the training set, predicting the evolution of the system\n",
    "with the control sequence of each trajectory executed in the data set with each of the models, and finally comparing\n",
    "the mean and standard deviation of the error between the true and predicted evolution over the trajectories. The\n",
    "experimental results support what is to be expected from the theory as the error in the $y$ and $z$ terms are\n",
    "significantly lower for the bEDMD method than both DMD and EDMD. The reason for this\n",
    "improvement is that the bEDMD method can capture the nonlinearities present in the actuation matrix of the\n",
    "$(y,z)$-dynamics."
   ]
  },
  {
   "cell_type": "code",
   "execution_count": null,
   "metadata": {
    "pycharm": {
     "name": "#%%\n"
    }
   },
   "outputs": [],
   "source": [
    "# Prediction performance evaluation parameters:\n",
    "folder_plots = 'examples/figures/'                                  # Path to save plots\n",
    "n_traj_ol = 100                                                      # Number of trajectories to execute, open loop"
   ]
  },
  {
   "cell_type": "code",
   "execution_count": null,
   "metadata": {
    "pycharm": {
     "name": "#%%\n"
    }
   },
   "outputs": [],
   "source": [
    "from tabulate import tabulate\n",
    "\n",
    "xs_ol = np.empty((n_traj_ol, t_eval.shape[0], n))\n",
    "xs_dmd_ol = np.empty((n_traj_ol, t_eval.shape[0]-1, n))\n",
    "xs_edmd_ol = np.empty((n_traj_ol, t_eval.shape[0]-1, n))\n",
    "xs_bedmd_ol = np.empty((n_traj_ol, t_eval.shape[0]-1, n))\n",
    "us_test = np.empty((n_traj_ol, t_eval.shape[0]-1, m))\n",
    "\n",
    "for ii in range(n_traj_ol):\n",
    "    x0 = np.asarray([rand.uniform(l, u) for l, u in zip(-x0_max, x0_max)])\n",
    "    set_pt_dc = np.asarray([rand.uniform(l, u) for l, u in zip(-x0_max, x0_max)])\n",
    "    mpc_trajgen = MPCController(nominal_sys, n_pred_dc, dt, umin, umax, xmin, xmax, QN_trajgen, R_trajgen,\n",
    "                                QN_trajgen, set_pt_dc)\n",
    "    mpc_trajgen.eval(x0, 0)\n",
    "    xd = mpc_trajgen.parse_result().T\n",
    "\n",
    "    while xd[0,0] is None:\n",
    "        x0 = np.asarray([rand.uniform(l, u) for l, u in zip(-x0_max, x0_max)])\n",
    "        set_pt_dc = np.asarray([rand.uniform(l, u) for l, u in zip(-x0_max, x0_max)])\n",
    "        mpc_trajgen = MPCController(nominal_sys, n_pred_dc, dt, umin, umax, xmin, xmax, QN_trajgen, R_trajgen,\n",
    "                                    QN_trajgen, set_pt_dc)\n",
    "        mpc_trajgen.eval(x0, 0)\n",
    "        xd = mpc_trajgen.parse_result().T\n",
    "\n",
    "    output = QuadrotorPdOutput(quadrotor, xd, t_eval, n, m)\n",
    "    pd_controller = PDController(output, K_dc_p, K_dc_d)\n",
    "    perturbed_pd_controller = PerturbedController(quadrotor, pd_controller, noise_var, const_offset=hover_thrust)\n",
    "\n",
    "    xs_ol[ii,:,:], us_test[ii,:,:] = quadrotor.simulate(x0, perturbed_pd_controller, t_eval)\n",
    "    ol_controller_nom = OpenLoopController(sys_bedmd, us_test[ii,:,:]-hover_thrust, t_eval[:-1])\n",
    "\n",
    "    xs_dmd_ol[ii,:,:], _ = sys_dmd.simulate(x0, ol_controller_nom, t_eval[:-1])\n",
    "\n",
    "    z_0_edmd = sys_edmd.basis(np.atleast_2d(x0)).squeeze()\n",
    "    zs_edmd_tmp, _ = sys_edmd.simulate(z_0_edmd, ol_controller_nom, t_eval[:-1])\n",
    "    xs_edmd_ol[ii,:,:] = np.dot(model_edmd.C, zs_edmd_tmp.T).T\n",
    "\n",
    "    z_0_bedmd = sys_bedmd.basis(np.atleast_2d(x0)).squeeze()\n",
    "    zs_bedmd_tmp, _ = sys_bedmd.simulate(z_0_bedmd, ol_controller_nom, t_eval[:-1])\n",
    "    xs_bedmd_ol[ii,:,:] = np.dot(model_bedmd.C, zs_bedmd_tmp.T).T\n",
    "\n",
    "error_dmd = xs_ol[:,:-1,:] - xs_dmd_ol\n",
    "error_dmd_mean = np.mean(error_dmd, axis=0).T\n",
    "error_dmd_std = np.std(error_dmd, axis=0).T\n",
    "mse_dmd = np.mean(np.mean(np.mean(np.square(error_dmd))))\n",
    "\n",
    "error_edmd = xs_ol[:,:-1,:] - xs_edmd_ol\n",
    "error_edmd_mean = np.mean(error_edmd, axis=0).T\n",
    "error_edmd_std = np.std(error_edmd, axis=0).T\n",
    "mse_edmd = np.mean(np.mean(np.mean(np.square(error_edmd))))\n",
    "\n",
    "error_bedmd = xs_ol[:,:-1,:] - xs_bedmd_ol\n",
    "error_bedmd_mean = np.mean(error_bedmd, axis=0).T\n",
    "error_bedmd_std = np.std(error_bedmd, axis=0).T\n",
    "mse_bedmd = np.mean(np.mean(np.mean(np.square(error_bedmd))))\n",
    "\n",
    "print('\\nOpen loop performance statistics:\\n')\n",
    "print(tabulate([['DMD', \"{:.3f}\".format(mse_dmd), '-', '-'],\n",
    "               ['EDMD', \"{:.3f}\".format(mse_edmd), \"{:.2f}\".format((1 - mse_edmd / mse_dmd) * 100)+' %', '-'],\n",
    "               ['bEDMD', \"{:.3f}\".format(mse_bedmd), \"{:.2f}\".format((1 - mse_bedmd / mse_dmd) * 100)+' %', \"{:.2f}\".format((1 - mse_bedmd / mse_edmd) * 100)+' %']], \n",
    "               headers=['Learned model', 'MSE', 'Improvement over DMD', 'Improvement over EDMD']))"
   ]
  },
  {
   "cell_type": "code",
   "execution_count": null,
   "metadata": {
    "pycharm": {
     "name": "#%%\n"
    }
   },
   "outputs": [],
   "source": [
    "import matplotlib.pyplot as plt\n",
    "import matplotlib\n",
    "\n",
    "figwidth = 12\n",
    "lw = 2\n",
    "fs = 16\n",
    "y_lim_gain = 1.2\n",
    "\n",
    "#Plot open loop results:\n",
    "ylabels = ['$e_{y}$', '$e_z$', '$e_{\\\\theta}$']\n",
    "plt.figure(figsize=(figwidth,3))\n",
    "for ii in range(3):\n",
    "    plt.subplot(1,3,ii+1)\n",
    "    plt.plot(t_eval[:-1], error_dmd_mean[ii,:], linewidth=lw, label='DMD')\n",
    "    plt.fill_between(t_eval[:-1], error_dmd_mean[ii,:] - error_dmd_std[ii,:], error_dmd_mean[ii,:] + error_dmd_std[ii,:], alpha=0.2)\n",
    "    plt.plot(t_eval[:-1], error_edmd_mean[ii, :], linewidth=lw, label='EDMD')\n",
    "    plt.fill_between(t_eval[:-1], error_edmd_mean[ii, :] - error_edmd_std[ii, :],error_edmd_mean[ii, :] + error_edmd_std[ii, :], alpha=0.2)\n",
    "    plt.plot(t_eval[:-1], error_bedmd_mean[ii, :], linewidth=lw, label='bEDMD')\n",
    "    plt.fill_between(t_eval[:-1], error_bedmd_mean[ii, :] - error_bedmd_std[ii, :],error_bedmd_mean[ii, :] + error_bedmd_std[ii, :], alpha=0.2)\n",
    "    ylim = max(max(np.abs(error_bedmd_mean[ii, :] - error_bedmd_std[ii, :])), max(np.abs(error_bedmd_mean[ii, :] + error_bedmd_std[ii, :])))\n",
    "    plt.ylim([-ylim * y_lim_gain, ylim * y_lim_gain])\n",
    "    plt.xlabel('$t$ (sec)', fontsize=fs)\n",
    "    plt.ylabel(ylabels[ii], fontsize=fs)\n",
    "    plt.grid()\n",
    "\n",
    "plt.legend(loc='upper left', fontsize=fs-4)\n",
    "suptitle = plt.suptitle('Open loop prediction error of DMD, EDMD and bilinear EDMD models', y=1.05, fontsize=18)\n",
    "matplotlib.rcParams['pdf.fonttype'] = 42\n",
    "matplotlib.rcParams['ps.fonttype'] = 42\n",
    "plt.tight_layout()\n",
    "plt.savefig(folder_plots + 'planar_quad_prediction.pdf', format='pdf', dpi=2400, bbox_extra_artists=(suptitle,), bbox_inches=\"tight\")\n",
    "plt.show()\n"
   ]
  },
  {
   "cell_type": "markdown",
   "metadata": {},
   "source": [
    "# Design trajectories based on learned models"
   ]
  },
  {
   "cell_type": "markdown",
   "metadata": {
    "pycharm": {
     "name": "#%% md\n"
    }
   },
   "source": [
    "We now study the closed loop performance of the control design. "
   ]
  },
  {
   "cell_type": "code",
   "execution_count": null,
   "metadata": {
    "pycharm": {
     "name": "#%%\n"
    }
   },
   "outputs": [],
   "source": [
    "#Closed loop performance evaluation parameters:\n",
    "t_eval = dt * np.arange(201)                                     # Simulation time points, closed loop\n",
    "Q_mpc = sc.sparse.diags([0,0,0,0,0,0])                       # State penalty matrix, trajectory generation\n",
    "QN_mpc = sc.sparse.diags([1e5,1e5,1e5,1e5,1e5,1e5])          # Final state penalty matrix, trajectory generation\n",
    "R_mpc = sc.sparse.eye(m)                                     # Actuation penalty matrix, trajectory generation\n",
    "traj_length=200\n",
    "ctrl_offset = np.array([hover_thrust, hover_thrust])\n",
    "\n",
    "# Design trajectory:\n",
    "x0_cl = np.array([0., 0., 0., 0., 0., 0.])                         # Initial value, closed loop trajectory\n",
    "set_pt_cl = np.array([1., 1., 0., 0., 0., 0.])                      # Desired final value, closed loop trajectory\n",
    "term_constraint=True\n",
    "\n",
    "# Define initial solution for SQP algorithm:\n",
    "x_init = np.tile(x0.reshape((-1,1)),(1,traj_length+1)).T\n",
    "u_init = np.zeros((m,traj_length)).T"
   ]
  },
  {
   "cell_type": "markdown",
   "metadata": {},
   "source": [
    "#### Design controllers for learned DMD, EDMD, and bEDMD models"
   ]
  },
  {
   "cell_type": "code",
   "execution_count": null,
   "metadata": {},
   "outputs": [],
   "source": [
    "from koopman_core.controllers import MPCController, NonlinearMPCController\n",
    "\n",
    "# Define DMD-based controller:\n",
    "controller_dmd = MPCController(sys_dmd, traj_length, dt, umin, umax, xmin, xmax, Q_mpc, R_mpc, QN_mpc, set_pt_cl, terminal_constraint=term_constraint, const_offset=ctrl_offset)\n",
    "\n",
    "# Define EDMD-based controller:\n",
    "controller_edmd = MPCController(sys_edmd, traj_length, dt, umin, umax, xmin, xmax, Q_mpc, R_mpc, QN_mpc, set_pt_cl, terminal_constraint=term_constraint, const_offset=ctrl_offset)\n",
    "\n",
    "# Define bEDMD-based controller:\n",
    "controller_bedmd = NonlinearMPCController(sys_bedmd, traj_length, dt, umin, umax, xmin, xmax, Q_mpc, R_mpc, QN_mpc, set_pt_cl, terminal_constraint=term_constraint, const_offset=ctrl_offset)\n",
    "z0_cl = sys_bedmd.basis(x0_cl.reshape((1,-1))).squeeze()\n",
    "z_init = np.tile(z0_cl.reshape((-1,1)),(1,traj_length+1)).T\n",
    "controller_bedmd.construct_controller(z_init, u_init)"
   ]
  },
  {
   "cell_type": "markdown",
   "metadata": {},
   "source": [
    "#### Design controller using full knowledge of nonlinear controller"
   ]
  },
  {
   "cell_type": "code",
   "execution_count": null,
   "metadata": {},
   "outputs": [],
   "source": [
    "quadrotor_d = PlanarQuadrotorForceInputDiscrete(mass, inertia, prop_arm, g=gravity, dt=dt)\n",
    "controller_nmpc = NonlinearMPCController(quadrotor_d, traj_length, dt, umin+hover_thrust, umax+hover_thrust, xmin, xmax, Q_mpc, R_mpc, QN_mpc, set_pt_cl, terminal_constraint=term_constraint)\n",
    "controller_nmpc.construct_controller(x_init, u_init)"
   ]
  },
  {
   "cell_type": "markdown",
   "metadata": {},
   "source": [
    "#### Design trajectories with the contructed MPCs"
   ]
  },
  {
   "cell_type": "code",
   "execution_count": null,
   "metadata": {},
   "outputs": [],
   "source": [
    "max_iter = 50\n",
    "\n",
    "controller_dmd.eval(x0_cl, 0)\n",
    "xr_dmd = controller_dmd.parse_result()\n",
    "ur_dmd = controller_dmd.get_control_prediction() + ctrl_offset.reshape(-1,1)\n",
    "\n",
    "controller_edmd.eval(x0_cl, 0)\n",
    "xr_edmd = sys_edmd.C@controller_edmd.parse_result()\n",
    "ur_edmd = controller_edmd.get_control_prediction() + ctrl_offset.reshape(-1,1)\n",
    "\n",
    "controller_bedmd.solve_to_convergence(z0_cl, 0., z_init, u_init, max_iter=max_iter)\n",
    "xr_bedmd = sys_bedmd.C@controller_bedmd.get_state_prediction().T\n",
    "ur_bedmd = controller_bedmd.get_control_prediction().T + ctrl_offset.reshape(-1,1)\n",
    "\n",
    "controller_nmpc.solve_to_convergence(x0_cl, 0., x_init, u_init + ctrl_offset.reshape(1,-1), max_iter=max_iter)\n",
    "xr_nmpc = controller_nmpc.get_state_prediction().T\n",
    "ur_nmpc = controller_nmpc.get_control_prediction().T"
   ]
  },
  {
   "cell_type": "markdown",
   "metadata": {},
   "source": [
    "#### Simulate designed trajectories open loop"
   ]
  },
  {
   "cell_type": "code",
   "execution_count": null,
   "metadata": {},
   "outputs": [],
   "source": [
    "ol_controller_dmd = OpenLoopController(quadrotor, ur_dmd.T, t_eval[:-1])\n",
    "xs_dmd, us_dmd = quadrotor.simulate(x0_cl, ol_controller_dmd, t_eval)\n",
    "xs_dmd, us_dmd = xs_dmd.T, us_dmd.T\n",
    "\n",
    "ol_controller_edmd = OpenLoopController(quadrotor, ur_edmd.T, t_eval[:-1])\n",
    "xs_edmd, us_edmd = quadrotor.simulate(x0_cl, ol_controller_edmd, t_eval)\n",
    "xs_edmd, us_edmd = xs_edmd.T, us_edmd.T\n",
    "\n",
    "ol_controller_bedmd = OpenLoopController(quadrotor, ur_bedmd.T, t_eval[:-1])\n",
    "xs_bedmd, us_bedmd = quadrotor.simulate(x0_cl, ol_controller_bedmd, t_eval)\n",
    "xs_bedmd, us_bedmd = xs_bedmd.T, us_bedmd.T\n",
    "\n",
    "ol_controller_nmpc = OpenLoopController(quadrotor, ur_nmpc.T, t_eval[:-1])\n",
    "xs_nmpc, us_nmpc = quadrotor.simulate(x0_cl, ol_controller_nmpc, t_eval)\n",
    "xs_nmpc, us_nmpc = xs_nmpc.T, us_nmpc.T"
   ]
  },
  {
   "cell_type": "markdown",
   "metadata": {},
   "source": [
    "##### Compare performance"
   ]
  },
  {
   "cell_type": "code",
   "execution_count": null,
   "metadata": {
    "pycharm": {
     "name": "#%%\n"
    }
   },
   "outputs": [],
   "source": [
    "import matplotlib.pyplot as plt\n",
    "from matplotlib.ticker import MaxNLocator\n",
    "\n",
    "plot_inds = [0, 3, 1, 4, 2, 5, 0, 1, 2]\n",
    "subplot_inds = [1, 2, 4, 5, 7, 8, 3, 6, 9]\n",
    "labels = ['$x$ (m)', '$z$ (m)', '$\\\\theta$ (rad)', '$\\\\dot{x}$ (m/s)','$\\\\dot{z}$ (m/s)', '$\\\\dot{\\\\theta}$', '$T_1$ (N)','$T_2$ (N)']\n",
    "colors = ['tab:blue', 'tab:orange', 'tab:brown', 'tab:cyan']\n",
    "\n",
    "plt.figure(figsize=(15,12))\n",
    "plt.suptitle('Trajectory designed with model predictive controllers\\nsolid lines - designed trajectory | dashed lines - open loop simulated trajectory | black dotted lines - state/actuation bounds')\n",
    "for ii in range(9):\n",
    "    ind = plot_inds[ii]\n",
    "    if ii < 6:\n",
    "        plt.subplot(3,3,subplot_inds[ii])\n",
    "        plt.plot(t_eval, xr_dmd[ind,:], colors[0], label='DMD MPC')\n",
    "        plt.plot(t_eval, xr_edmd[ind, :], colors[1], label='EDMD MPC')\n",
    "        plt.plot(t_eval, xr_bedmd[ind, :], colors[2], label='bEDMD MPC')\n",
    "        plt.plot(t_eval, xr_nmpc[ind,:], colors[3], label='Nonlinear MPC')\n",
    "\n",
    "        plt.plot(t_eval, xs_dmd[ind,:], '--', color=colors[0], linewidth=0.75)\n",
    "        plt.plot(t_eval, xs_edmd[ind, :], '--', color=colors[1], linewidth=0.75)\n",
    "        plt.plot(t_eval, xs_bedmd[ind, :], '--', color=colors[2], linewidth=0.75)\n",
    "        plt.plot(t_eval, xs_nmpc[ind,:], '--', color=colors[3], linewidth=0.75)\n",
    "\n",
    "        plt.plot([0, 2.], [xmax[ind], xmax[ind]], ':k')\n",
    "        plt.plot([0, 2.], [xmin[ind], xmin[ind]], ':k')\n",
    "        plt.scatter(t_eval[0], x0_cl[ind], color='g')\n",
    "        plt.scatter(t_eval[-1], set_pt_cl[ind], color='r')\n",
    "        plt.ylabel(labels[ind])\n",
    "        plt.ylim(xmin[ind]-0.1,xmax[ind]+0.1)\n",
    "        if subplot_inds[ii]==8:\n",
    "            plt.legend(loc='upper left', bbox_to_anchor=(0.975, 0.95), frameon=False)\n",
    "    elif ii < 8:\n",
    "        ax = plt.subplot(3,3,subplot_inds[ii])\n",
    "        plt.plot(t_eval[:-1],ur_dmd[ind,:], color=colors[0], label='DMD MPC')\n",
    "        plt.plot(t_eval[:-1], ur_edmd[ind, :], color=colors[1], label='EDMD MPC')\n",
    "        plt.plot(t_eval[:-1], ur_bedmd[ind, :], color=colors[2], label='bEDMD MPC')\n",
    "        plt.plot(t_eval[:-1],ur_nmpc[ind,:], color=colors[3], label='Nonlinear MPC')\n",
    "        plt.plot([0, 2.], [umax[ind]+hover_thrust, umax[ind]+hover_thrust], ':k')\n",
    "        plt.plot([0, 2.], [umin[ind]+hover_thrust, umin[ind]+hover_thrust], ':k')\n",
    "        plt.ylabel(labels[ii])\n",
    "        ax.yaxis.set_major_locator(MaxNLocator(integer=True))\n",
    "        \n",
    "    if subplot_inds[ii] == 7 or subplot_inds[ii] == 8 or subplot_inds[ii] == 6:\n",
    "        plt.xlabel('Time (sec)')\n",
    "\n",
    "#matplotlib.rcParams['pdf.fonttype'] = 42\n",
    "#matplotlib.rcParams['ps.fonttype'] = 42\n",
    "#plt.tight_layout()\n",
    "#plt.savefig(folder_plots + 'planar_quad_closedloop.pdf', format='pdf', dpi=2400, bbox_extra_artists=(suptitle,),\n",
    "#            bbox_inches=\"tight\")\n",
    "plt.show()\n",
    "\n",
    "cost_ref_dmd = (xr_dmd[:,-1]-set_pt_cl).T@QN_mpc@(xr_dmd[:,-1]-set_pt_cl) + np.sum(np.diag(ur_dmd.T@R_mpc@ur_dmd))\n",
    "cost_ref_edmd = (xr_edmd[:,-1]-set_pt_cl).T@QN_mpc@(xr_edmd[:,-1]-set_pt_cl) + np.sum(np.diag(ur_edmd.T@R_mpc@ur_edmd))\n",
    "cost_ref_bedmd = (xr_bedmd[:,-1]-set_pt_cl).T@QN_mpc@(xr_bedmd[:,-1]-set_pt_cl) + np.sum(np.diag(ur_bedmd.T@R_mpc@ur_bedmd))\n",
    "cost_ref_nmpc = (xr_nmpc[:,-1]-set_pt_cl).T@QN_mpc@(xr_nmpc[:,-1]-set_pt_cl) + np.sum(np.diag(ur_nmpc.T@R_mpc@ur_nmpc))\n",
    "\n",
    "cost_ol_dmd = (xs_dmd[:,-1]-set_pt_cl).T@QN_mpc@(xs_dmd[:,-1]-set_pt_cl) + np.sum(np.diag(us_dmd.T@R_mpc@us_dmd))\n",
    "cost_ol_edmd = (xs_edmd[:,-1]-set_pt_cl).T@QN_mpc@(xs_edmd[:,-1]-set_pt_cl) + np.sum(np.diag(us_edmd.T@R_mpc@us_edmd))\n",
    "cost_ol_bedmd = (xs_bedmd[:,-1]-set_pt_cl).T@QN_mpc@(xs_bedmd[:,-1]-set_pt_cl) + np.sum(np.diag(us_bedmd.T@R_mpc@us_bedmd))\n",
    "cost_ol_nmpc = (xs_nmpc[:,-1]-set_pt_cl).T@QN_mpc@(xs_nmpc[:,-1]-set_pt_cl) + np.sum(np.diag(us_nmpc.T@R_mpc@us_nmpc))\n",
    "\n",
    "print('Solution statistics:\\n')\n",
    "print(tabulate([['DMD MPC', \"{:.4f}\".format(cost_ref_dmd/cost_ref_nmpc), \"{:.4f}\".format(cost_ol_dmd/cost_ol_nmpc), '-','-',sum(controller_dmd.comp_time)], \n",
    "                ['EDMD MPC', \"{:.4f}\".format(cost_ref_edmd/cost_ref_nmpc), \"{:.4f}\".format(cost_ol_edmd/cost_ol_nmpc),'-','-',sum(controller_edmd.comp_time)], \n",
    "                ['bEDMD MPC', \"{:.4f}\".format(cost_ref_bedmd/cost_ref_nmpc), \"{:.4f}\".format(cost_ol_bedmd/cost_ol_nmpc), len(controller_bedmd.x_iter), \"{:.4f}\".format(np.mean(controller_bedmd.comp_time)), sum(controller_bedmd.comp_time)],\n",
    "                ['NMPC (benchmark)', 1, \"{:.4f}\".format(cost_ol_nmpc/cost_ref_nmpc), len(controller_nmpc.x_iter), \"{:.4f}\".format(np.mean(controller_nmpc.comp_time)), sum(controller_nmpc.comp_time)]], \n",
    "               headers=['Normalized cost,\\ndesigned trajectory', 'Normalized cost,\\nrealized trajectory', '# of SQP\\niterations','Mean comp. time\\nper iteration (secs)', 'Total comp.\\ntime (secs)']))"
   ]
  },
  {
   "cell_type": "code",
   "execution_count": null,
   "metadata": {},
   "outputs": [],
   "source": []
  }
 ],
 "metadata": {
  "kernelspec": {
   "display_name": "keedmd",
   "language": "python",
   "name": "keedmd"
  },
  "language_info": {
   "codemirror_mode": {
    "name": "ipython",
    "version": 3
   },
   "file_extension": ".py",
   "mimetype": "text/x-python",
   "name": "python",
   "nbconvert_exporter": "python",
   "pygments_lexer": "ipython3",
   "version": "3.7.6"
  }
 },
 "nbformat": 4,
 "nbformat_minor": 1
}
