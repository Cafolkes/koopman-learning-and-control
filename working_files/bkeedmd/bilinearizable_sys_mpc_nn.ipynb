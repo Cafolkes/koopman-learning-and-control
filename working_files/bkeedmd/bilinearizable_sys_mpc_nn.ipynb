{
 "cells": [
  {
   "cell_type": "markdown",
   "metadata": {},
   "source": [
    "$\\newcommand{\\mb}[1]{\\mathbf{ #1 }}$\n",
    "$\\newcommand{\\bs}[1]{\\boldsymbol{ #1 }}$\n",
    "$\\newcommand{\\bb}[1]{\\mathbb{ #1 }}$\n",
    "\n",
    "$\\newcommand{\\R}{\\bb{R}}$\n",
    "\n",
    "$\\newcommand{\\ip}[2]{\\left\\langle #1, #2 \\right\\rangle}$\n",
    "$\\newcommand{\\norm}[1]{\\left\\Vert #1 \\right\\Vert}$\n",
    "\n",
    "$\\newcommand{\\der}[2]{\\frac{\\mathrm{d} #1 }{\\mathrm{d} #2 }}$\n",
    "$\\newcommand{\\derp}[2]{\\frac{\\partial #1 }{\\partial #2 }}$\n",
    "\n",
    "# Finite Dimensional Koopman Bilinear System"
   ]
  },
  {
   "cell_type": "markdown",
   "metadata": {},
   "source": [
    "Consider a nonlinear dynamical system that allows an exact finite dimensional Koopman canonical transform such that the control-affine dynamics can be transformed to a bilinear system. Consider the dynamical system "
   ]
  },
  {
   "cell_type": "markdown",
   "metadata": {},
   "source": [
    "\\begin{equation}\n",
    "\\mb{\\dot{x}}=\\mb{f}_0(\\mb x) + \\mb f_1 ( \\mb x) u_1 + \\mb f_2(\\mb x) u_2, \n",
    "\\end{equation}"
   ]
  },
  {
   "cell_type": "markdown",
   "metadata": {},
   "source": [
    "where we for this example choose $\\mb f_0, \\mb f_1$ as follows:"
   ]
  },
  {
   "cell_type": "markdown",
   "metadata": {},
   "source": [
    "\\begin{equation}\n",
    "\\mb f_0(\\mb x) = \\begin{bmatrix} x_3 \\\\ x_4 \\\\ \\lambda x_3 \\\\ \\mu x_4 + (2 \\lambda - \\mu) c x_3^2 \\end{bmatrix}, \\qquad\n",
    "\\mb f_1(\\mb x) = \\begin{bmatrix} 0 \\\\ 0 \\\\ 1 \\\\ 0 \\end{bmatrix}, \\qquad\n",
    "\\mb f_2(\\mb x) = \\begin{bmatrix} 0 \\\\ 0 \\\\ 0 \\\\ x_1+1 \\end{bmatrix}, \n",
    "\\end{equation}   "
   ]
  },
  {
   "cell_type": "markdown",
   "metadata": {},
   "source": [
    "and $\\lambda, \\mu, c \\in \\mathbb{R}$ are scalar parameters of the system. Setting $ \\mb x = [q_1 \\, q_2 \\, \\dot{q_1} \\, \\dot{q_2}]^T$, \n",
    "these equations of motion can be expressed as robotic dynamics of the form $\\mb{D}(\\mb{q})\\ddot{\\mb{q}} + \\mb{C}(\\mb{q}, \\dot{\\mb{q}})\\dot{\\mb{q}} + \\mb{G}(\\mb{q}) = \\mb{B}\\mb{u}$, where $\\mb D$ is the inertia matrix, $\\mb C$ is the matrix of Coriolis terms, $\\mb G$ is the matrix of gravitational terms, and $\\mb B$ is the static actuation matrix. Rewriting $\\mb f_0, \\mb f_1, \\mb f_2$ in terms of $\\mb D, \\mb C, \\mb G,$ and $\\mb B$ yield\n",
    "\n"
   ]
  },
  {
   "cell_type": "markdown",
   "metadata": {},
   "source": [
    "\\begin{equation}\n",
    "\\mb D(\\mb q) = \\begin{bmatrix} 1 & 0\\\\ 0 &  \\frac{1}{q_1+1} \\end{bmatrix}, \n",
    "\\qquad \\mb C(\\mb q, \\mb{\\dot{q}}) = -\\begin{bmatrix} \\lambda & 0 \\\\ \\frac{1}{q_1 + 1}(2 \\lambda - \\mu) c \\dot{q}_1 & \\frac{1}{q_1 +1} \\mu \\end{bmatrix}, \\qquad \n",
    "\\mb G(\\mb q) = \\begin{bmatrix} 0 \\\\ 0 \\end{bmatrix} \n",
    "\\qquad \\mb B = \\begin{bmatrix}1 & 0 \\\\ 0 & 1 \\end{bmatrix},\n",
    "\\end{equation}"
   ]
  },
  {
   "cell_type": "markdown",
   "metadata": {},
   "source": [
    "As a result of the careful construction of this system, there exists a Koopman canonical transform, $\\mb z = T(\\mb x)$ that exactly transforms the control-affine dynamics into a bilinear system. Consider the transformation:"
   ]
  },
  {
   "cell_type": "markdown",
   "metadata": {},
   "source": [
    "\\begin{equation}\n",
    "    T(\\mb q, \\mb{\\dot{q}}) = \\begin{bmatrix} \n",
    "    \\phi_1(\\mb q, \\mb{\\dot{q}})\\\\\n",
    "    \\phi_2(\\mb q, \\mb{\\dot{q}})\\\\\n",
    "    \\phi_3(\\mb q, \\mb{\\dot{q}})\\\\\n",
    "    \\phi_4(\\mb q, \\mb{\\dot{q}})\\\\\n",
    "    \\phi_5(\\mb q, \\mb{\\dot{q}})\\\\\n",
    "    \\phi_6(\\mb q, \\mb{\\dot{q}})\\\\\n",
    "    \\end{bmatrix}\n",
    "    = \\begin{bmatrix} \n",
    "    1\\\\\n",
    "    q_1 - \\frac{1}{\\lambda}\\dot{q}_1\\\\\n",
    "    q_2 - \\frac{1}{\\mu} \\dot{q}_2 + \\frac{(2 \\lambda - \\mu)c}{2\\lambda \\mu} \\dot{q}_1^2\\\\\n",
    "    \\dot{q}_1\\\\\n",
    "    \\dot{q}_2 - c \\dot{q}_1^2\\\\\n",
    "    \\dot{q}_1^2\\\\\n",
    "    \\end{bmatrix},\n",
    "\\end{equation}"
   ]
  },
  {
   "cell_type": "markdown",
   "metadata": {},
   "source": [
    "where $\\phi_1, \\phi_2, \\phi_3, \\phi_4, \\phi_5, \\phi_6$ are eigenfunctions of the Koopman operator associated with the drift \n",
    "vector field $\\mb f_0$. The matrix with the eigenvalue associated with the i-th eigenfunction on the i-th diagonal \n",
    "element is $F=\\text{diag}(0, 0, \\lambda, \\mu, 2 \\lambda, 0)$. Then, to reformulate the dynamics we have: "
   ]
  },
  {
   "cell_type": "markdown",
   "metadata": {},
   "source": [
    "\\begin{equation} \n",
    "L_{\\mb f_1} T(\\mb q, \\mb{\\dot{q}}) = \\begin{bmatrix} 0\\\\ -\\frac{1}{\\lambda}\\\\ \\frac{(2\\lambda - \\mu)c}{\\lambda \\mu}\\dot{q}_1\\\\ 1 \\\\ -2c\\dot{q}_1 \\\\ 2\\dot{q_1} \\end{bmatrix}, \\qquad \n",
    "L_{\\mb f_2} T(\\mb q, \\mb{\\dot{q}}) = \\begin{bmatrix} 0 \\\\ 0\\\\ -\\frac{1}{\\mu}(q_1 + 1)\\\\0 \\\\ q_1 + 1 \\\\ 0 \\end{bmatrix} \n",
    "\\end{equation}"
   ]
  },
  {
   "cell_type": "markdown",
   "metadata": {},
   "source": [
    "and the dynamics can be equivalently transformed to a bilinear form $\\mb{\\dot{z}} = F \\mb z + G_1\\mb z u_1 + G_2\\mb z u_2$ with "
   ]
  },
  {
   "cell_type": "markdown",
   "metadata": {},
   "source": [
    "\\begin{equation}\n",
    "F = \\begin{bmatrix} \n",
    "0 &0 & 0 & 0 & 0 & 0\\\\  \n",
    "0 & 0 & 0 & 0 & 0 & 0\\\\\n",
    "0 &0 & 0 & 0 & 0 & 0\\\\\n",
    "0 &0 & 0 & \\lambda & 0 & 0\\\\\n",
    "0 &0 & 0 & 0 & \\mu & 0 \\\\\n",
    "0 &0 & 0 & 0 & 0 & 2 \\lambda\\\\\n",
    "\\end{bmatrix}, \\qquad \n",
    "G_1 = \\begin{bmatrix} \n",
    "0 & 0 & 0 & 0 & 0 & 0\\\\\n",
    "-\\frac{1}{\\lambda}& 0 & 0 & 0 & 0 & 0\\\\\n",
    "0 & 0 & 0 & \\frac{(2\\lambda - \\mu)c}{\\lambda \\mu} & 0 & 0\\\\\n",
    "1 & 0 & 0 & 0 & 0 & 0\\\\\n",
    "0 & 0 & 0 & -2c & 0 & 0\\\\\n",
    "0 & 0 & 0 & 2 & 0 & 0\\\\  \n",
    "\\end{bmatrix}\n",
    ", \\qquad \n",
    "G_2 = \\begin{bmatrix} \n",
    "0 & 0 & 0 & 0 & 0 & 0\\\\\n",
    "0 & 0 &  0 & 0 & 0 & 0\\\\\n",
    " -\\frac{1}{\\mu} & -\\frac{1}{\\mu} & 0 &  -\\frac{1}{\\lambda \\mu} & 0 & 0\\\\\n",
    "0 & 0 & 0 & 0 & 0 & 0\\\\\n",
    "1 & 1 & 0 & \\frac{1}{\\lambda} & 0 & 0\\\\\n",
    "0 & 0 & 0 & 0 & 0 & 0\\\\  \n",
    "\\end{bmatrix}\n",
    "\\end{equation}"
   ]
  },
  {
   "cell_type": "code",
   "execution_count": 1,
   "metadata": {},
   "outputs": [],
   "source": [
    "import numpy as np\n",
    "import sys\n",
    "sys.path.append('../../')"
   ]
  },
  {
   "cell_type": "markdown",
   "metadata": {},
   "source": [
    "# Define experiment parameters"
   ]
  },
  {
   "cell_type": "code",
   "execution_count": 2,
   "metadata": {},
   "outputs": [],
   "source": [
    "from core.dynamics import RoboticDynamics, ConfigurationDynamics\n",
    "\n",
    "class KoopPdOutput(ConfigurationDynamics):\n",
    "    def __init__(self, dynamics, xd, n, m):\n",
    "        ConfigurationDynamics.__init__(self, dynamics, 1)\n",
    "        self.xd = xd\n",
    "        self.n = n\n",
    "        self.m = m\n",
    "\n",
    "    def proportional(self, x, t):\n",
    "        q = x[:int(n/2)]\n",
    "        q_d = self.xd[:int(n/2)]\n",
    "\n",
    "        return  q - q_d\n",
    "\n",
    "    def derivative(self, x, t):\n",
    "        q_dot = x[int(n/2):]\n",
    "        q_dot_d = self.xd[int(n/2):]\n",
    "\n",
    "        return q_dot - q_dot_d\n",
    "\n",
    "class FiniteDimKoopSys(RoboticDynamics):\n",
    "    def __init__(self, lambd, mu, c):\n",
    "        RoboticDynamics.__init__(self, 2, 2)\n",
    "        self.params = lambd, mu, c\n",
    "    \n",
    "    def D(self, q):\n",
    "        return np.array([[1, 0],[0, (q[0]+1)**(-1)]])\n",
    "    \n",
    "    def C(self, q, q_dot):\n",
    "        labmd, mu, c = self.params\n",
    "        return -np.array([[lambd, 0], [(q[0]+1)**(-1)*(2*lambd - mu)*c*q_dot[0], (q[0]+1)**(-1)*mu]])\n",
    "    \n",
    "    def G(self, q):\n",
    "        return np.array([0, 0])\n",
    "    \n",
    "    def B(self, q):\n",
    "        return np.array([[1, 0], [0, 1]])\n",
    "\n",
    "n, m = 4, 2\n",
    "lambd, mu, c = .3, .2, -.5\n",
    "sys_name = 'bilinearizable_sys'\n",
    "system = FiniteDimKoopSys(lambd, mu, c)"
   ]
  },
  {
   "cell_type": "code",
   "execution_count": 3,
   "metadata": {},
   "outputs": [],
   "source": [
    "from koopman_core.dynamics import LinearLiftedDynamics\n",
    "\n",
    "A_lin = np.array([[0, 0, 1, 0],\n",
    "                  [0, 0, 0, 1],\n",
    "                  [0, 0, lambd, 0],\n",
    "                  [0, 0, 0, mu]])\n",
    "B_lin = np.array([[0, 0],\n",
    "                  [0, 0],\n",
    "                  [1, 0],\n",
    "                  [0, 1]])\n",
    "dt = 1e-2\n",
    "linearized_sys = LinearLiftedDynamics(A_lin, B_lin, np.eye(n), lambda x: x)"
   ]
  },
  {
   "cell_type": "markdown",
   "metadata": {},
   "source": [
    "# Collect data for learning "
   ]
  },
  {
   "cell_type": "code",
   "execution_count": 4,
   "metadata": {},
   "outputs": [],
   "source": [
    "import scipy as sc\n",
    "import os\n",
    "\n",
    "q_dc, r_dc = 5e2, 1                                                 # State and actuation penalty values, data collection\n",
    "Q_dc = q_dc * np.identity(n)                                        # State penalty matrix, data collection\n",
    "R_dc = r_dc*np.identity(m)                                          # Actuation penalty matrix, data collection\n",
    "P_dc = sc.linalg.solve_continuous_are(A_lin, B_lin, Q_dc, R_dc)     # Algebraic Ricatti equation solution, data collection\n",
    "K_dc = np.linalg.inv(R_dc)@B_lin.T@P_dc                             # LQR feedback gain matrix, data collection\n",
    "K_dc_p = K_dc[:,:int(n/2)]                                          # Proportional control gains, data collection\n",
    "K_dc_d = K_dc[:,int(n/2):]                                          # Derivative control gains, data collection\n",
    "\n",
    "# Data collection parameters:\n",
    "collect_data = False\n",
    "dt = 1.0e-2                                                         # Time step length\n",
    "traj_length_dc = 2.                                                 # Trajectory length, data collection\n",
    "n_pred_dc = int(traj_length_dc/dt)                                  # Number of time steps, data collection\n",
    "t_eval = dt * np.arange(n_pred_dc + 1)                              # Simulation time points\n",
    "n_traj_train = 100                                                      # Number of trajectories to execute, data collection\n",
    "n_traj_val = int(0.2*n_traj_train)\n",
    "noise_var = 5.                                                      # Exploration noise to perturb controller, data collection\n",
    "\n",
    "xmax = np.array([1., 1., 1., 1.])                                   # State constraints, trajectory generation\n",
    "xmin = -xmax\n",
    "umax = np.array([10., 10.])                                         # Actuation constraint, trajectory generation\n",
    "umin = -umax\n",
    "x0_max = xmax/2                                                     # Initial value limits\n",
    "sub_sample_rate = 1                                                 # Rate to subsample data for training\n",
    "model_fname = 'examples/'                                           # Path to save learned models\n",
    "n_cols = 10                                                         # Number of columns in training data plot\n",
    "directory = os.path.abspath(\"\")                                     # Path to save learned models"
   ]
  },
  {
   "cell_type": "code",
   "execution_count": 5,
   "metadata": {
    "scrolled": false
   },
   "outputs": [],
   "source": [
    "from koopman_core.util import run_experiment\n",
    "import dill\n",
    "\n",
    "if collect_data:\n",
    "    xs_train, us_train, t_train = run_experiment(system, n, n_traj_train, n_pred_dc, t_eval, x0_max, plot_experiment_data=True,\n",
    "                                      m=m, K_p=K_dc_p, K_d=K_dc_d, noise_var=noise_var)\n",
    "    xs_val, us_val, t_val = run_experiment(system, n, n_traj_val, n_pred_dc, t_eval, x0_max,\n",
    "                                      m=m, K_p=K_dc_p, K_d=K_dc_d, noise_var=noise_var)\n",
    "\n",
    "    data_list = [xs_train, us_train, t_train, n_traj_train, xs_val, us_val, t_val, n_traj_val]\n",
    "    outfile = open(directory + '/data/' + sys_name + '_data.pickle', 'wb')\n",
    "    dill.dump(data_list, outfile)\n",
    "    outfile.close()\n",
    "else:\n",
    "    infile = open(directory + '/data/' + sys_name + '_data.pickle', 'rb')\n",
    "    xs_train, us_train, t_train, n_traj_train, xs_val, us_val, t_val, n_traj_val = dill.load(infile)\n",
    "    infile.close()"
   ]
  },
  {
   "cell_type": "markdown",
   "metadata": {},
   "source": [
    "# Learn Koopman-based models of the dynamics"
   ]
  },
  {
   "cell_type": "markdown",
   "metadata": {},
   "source": [
    "### Learn bilinear EDMD model"
   ]
  },
  {
   "cell_type": "code",
   "execution_count": 6,
   "metadata": {},
   "outputs": [],
   "source": [
    "#Bilinear EDMD parameters:                                           \n",
    "alpha_bedmd = 2.4e-5  # Regularization strength (LASSO) bEDMD\n",
    "tune_mdl_bedmd = False"
   ]
  },
  {
   "cell_type": "code",
   "execution_count": 7,
   "metadata": {},
   "outputs": [],
   "source": [
    "from sklearn import preprocessing, linear_model\n",
    "from koopman_core.learning import BilinearEdmd\n",
    "from koopman_core.dynamics import BilinearLiftedDynamics\n",
    "\n",
    "bedmd_features = preprocessing.PolynomialFeatures(2)\n",
    "bedmd_features.fit(np.zeros((1,n)))\n",
    "n_lift_bedmd = bedmd_features.transform((np.zeros((1,n)))).shape[1]\n",
    "\n",
    "C_bedmd = np.zeros((n,n_lift_bedmd))\n",
    "C_bedmd[:,1:n+1] = np.eye(n)\n",
    "\n",
    "basis_bedmd = lambda x: bedmd_features.transform(x)\n",
    "optimizer_bedmd = linear_model.MultiTaskLasso(alpha=alpha_bedmd, fit_intercept=False, selection='random')\n",
    "cv_bedmd = linear_model.MultiTaskLassoCV(fit_intercept=False, n_jobs=-1, cv=3, selection='random')\n",
    "#standardizer_bedmd = preprocessing.StandardScaler(with_mean=False)\n",
    "standardizer_bedmd = None\n",
    "\n",
    "model_bedmd = BilinearEdmd(n, m, basis_bedmd, n_lift_bedmd, n_traj_train, optimizer_bedmd, cv=cv_bedmd, \n",
    "                           standardizer=standardizer_bedmd, C=C_bedmd, continuous_mdl=False, dt=dt)\n",
    "X_bedmd, y_bedmd = model_bedmd.process(xs_train, us_train, np.tile(t_train,(n_traj_train,1)), downsample_rate=sub_sample_rate)\n",
    "model_bedmd.fit(X_bedmd, y_bedmd, cv=tune_mdl_bedmd, override_kinematics=True)\n",
    "sys_bedmd = BilinearLiftedDynamics(model_bedmd.n_lift, m, model_bedmd.A, model_bedmd.B, model_bedmd.C, \n",
    "                                   model_bedmd.basis, continuous_mdl=False, dt=dt)\n",
    "if tune_mdl_bedmd:\n",
    "    print('$\\\\alpha$ bilinear EDMD: ', model_bedmd.cv.alpha_)"
   ]
  },
  {
   "cell_type": "markdown",
   "metadata": {},
   "source": [
    "### Learn Koopman DNN model"
   ]
  },
  {
   "cell_type": "code",
   "execution_count": 8,
   "metadata": {},
   "outputs": [
    {
     "name": "stdout",
     "output_type": "stream",
     "text": [
      "{'state_dim': 4, 'ctrl_dim': 2, 'encoder_hidden_width': 100, 'encoder_hidden_depth': 1, 'encoder_output_dim': 1, 'optimizer': 'adam', 'activation_type': 'relu', 'lr': 0.001, 'epochs': 200, 'batch_size': 128, 'lin_loss_penalty': 0.2, 'l2_reg': 1e-08, 'l1_reg': 1e-08, 'first_obs_const': True, 'override_kinematics': True, 'dt': 0.01}\n"
     ]
    }
   ],
   "source": [
    "import dill, os, torch\n",
    "\n",
    "load_tuned_params = False\n",
    "\n",
    "if load_tuned_params:\n",
    "    infile = open(os.path.abspath('') + '/data/analytic_koop_sys_best_params.pickle', 'rb')\n",
    "    best_config, val_loss, test_loss, open_loop_mse, open_loop_std = dill.load(infile)\n",
    "    infile.close()\n",
    "\n",
    "else:\n",
    "    net_params = {}\n",
    "    net_params['state_dim'] = n\n",
    "    net_params['ctrl_dim'] = m\n",
    "    net_params['encoder_hidden_width'] = 100\n",
    "    net_params['encoder_hidden_depth'] = 1\n",
    "    net_params['encoder_output_dim'] = 1\n",
    "    net_params['optimizer'] = 'adam'\n",
    "    net_params['activation_type'] = 'relu'\n",
    "    net_params['lr'] = 1e-3\n",
    "    net_params['epochs'] = 200\n",
    "    net_params['batch_size'] = 128\n",
    "    net_params['lin_loss_penalty'] = 0.2\n",
    "    net_params['l2_reg'] = 1e-8\n",
    "    net_params['l1_reg'] = 1e-8\n",
    "    net_params['first_obs_const'] = True\n",
    "    net_params['override_kinematics'] = True # TODO: Fix override kin... \n",
    "    net_params['dt'] = dt\n",
    "\n",
    "print(net_params)"
   ]
  },
  {
   "cell_type": "code",
   "execution_count": 9,
   "metadata": {
    "scrolled": false
   },
   "outputs": [
    {
     "name": "stdout",
     "output_type": "stream",
     "text": [
      "Epoch   1: train loss: 26.60061455, validation loss: 20.82542765\n",
      "Epoch   2: train loss: 9.70919514, validation loss: 2.01865379\n",
      "Epoch   3: train loss: 0.77257508, validation loss: 0.17448301\n",
      "Epoch   4: train loss: 0.18646003, validation loss: 0.13729317\n",
      "Epoch   5: train loss: 0.16084635, validation loss: 0.12175367\n",
      "Epoch   6: train loss: 0.14187421, validation loss: 0.10665112\n",
      "Epoch   7: train loss: 0.12361694, validation loss: 0.09689202\n",
      "Epoch   8: train loss: 0.10792923, validation loss: 0.08313322\n",
      "Epoch   9: train loss: 0.09379406, validation loss: 0.07657399\n",
      "Epoch  10: train loss: 0.08159868, validation loss: 0.06337100\n",
      "Epoch  11: train loss: 0.07116191, validation loss: 0.05416720\n",
      "Epoch  12: train loss: 0.06184578, validation loss: 0.04813123\n",
      "Epoch  13: train loss: 0.05393686, validation loss: 0.04177840\n",
      "Epoch  14: train loss: 0.04711575, validation loss: 0.03843516\n",
      "Epoch  15: train loss: 0.04156090, validation loss: 0.03333922\n",
      "Epoch  16: train loss: 0.03696008, validation loss: 0.02897060\n",
      "Epoch  17: train loss: 0.03296084, validation loss: 0.02629189\n",
      "Epoch  18: train loss: 0.02976948, validation loss: 0.02346203\n",
      "Epoch  19: train loss: 0.02705218, validation loss: 0.02226352\n",
      "Epoch  20: train loss: 0.02472809, validation loss: 0.02042679\n",
      "Epoch  21: train loss: 0.02254428, validation loss: 0.01858259\n",
      "Epoch  22: train loss: 0.02084106, validation loss: 0.01721677\n",
      "Epoch  23: train loss: 0.01924553, validation loss: 0.01569159\n",
      "Epoch  24: train loss: 0.01785478, validation loss: 0.01481902\n",
      "Epoch  25: train loss: 0.01657332, validation loss: 0.01364203\n",
      "Epoch  26: train loss: 0.01522524, validation loss: 0.01313156\n",
      "Epoch  27: train loss: 0.01405159, validation loss: 0.01180498\n",
      "Epoch  28: train loss: 0.01291821, validation loss: 0.01062232\n",
      "Epoch  29: train loss: 0.01190099, validation loss: 0.00998646\n",
      "Epoch  30: train loss: 0.01087829, validation loss: 0.00923548\n",
      "Epoch  31: train loss: 0.01003297, validation loss: 0.00873652\n",
      "Epoch  32: train loss: 0.00908221, validation loss: 0.00788302\n",
      "Epoch  33: train loss: 0.00827840, validation loss: 0.00687902\n",
      "Epoch  34: train loss: 0.00754829, validation loss: 0.00650176\n",
      "Epoch  35: train loss: 0.00688000, validation loss: 0.00581737\n",
      "Epoch  36: train loss: 0.00620831, validation loss: 0.00529766\n",
      "Epoch  37: train loss: 0.00558360, validation loss: 0.00481132\n",
      "Epoch  38: train loss: 0.00499607, validation loss: 0.00441311\n",
      "Epoch  39: train loss: 0.00447707, validation loss: 0.00380347\n",
      "Epoch  40: train loss: 0.00400574, validation loss: 0.00351320\n",
      "Epoch  41: train loss: 0.00353644, validation loss: 0.00313610\n",
      "Epoch  42: train loss: 0.00315005, validation loss: 0.00274260\n",
      "Epoch  43: train loss: 0.00280481, validation loss: 0.00248534\n",
      "Epoch  44: train loss: 0.00249785, validation loss: 0.00221101\n",
      "Epoch  45: train loss: 0.00223423, validation loss: 0.00197625\n",
      "Epoch  46: train loss: 0.00198486, validation loss: 0.00175257\n",
      "Epoch  47: train loss: 0.00177827, validation loss: 0.00160761\n",
      "Epoch  48: train loss: 0.00162451, validation loss: 0.00146519\n",
      "Epoch  49: train loss: 0.00147570, validation loss: 0.00134605\n",
      "Epoch  50: train loss: 0.00135868, validation loss: 0.00129066\n",
      "Epoch  51: train loss: 0.00127982, validation loss: 0.00119101\n",
      "Epoch  52: train loss: 0.00119454, validation loss: 0.00113241\n",
      "Epoch  53: train loss: 0.00114576, validation loss: 0.00107907\n",
      "Epoch  54: train loss: 0.00108114, validation loss: 0.00104171\n",
      "Epoch  55: train loss: 0.00104594, validation loss: 0.00101573\n",
      "Epoch  56: train loss: 0.00104107, validation loss: 0.00101416\n",
      "Epoch  57: train loss: 0.00101373, validation loss: 0.00097466\n",
      "Epoch  58: train loss: 0.00098952, validation loss: 0.00098253\n",
      "Epoch  59: train loss: 0.00097035, validation loss: 0.00096277\n",
      "Epoch  60: train loss: 0.00095923, validation loss: 0.00094867\n",
      "Epoch  61: train loss: 0.00095219, validation loss: 0.00095133\n",
      "Epoch  62: train loss: 0.00096796, validation loss: 0.00096682\n",
      "Epoch  63: train loss: 0.00093985, validation loss: 0.00090713\n",
      "Epoch  64: train loss: 0.00091655, validation loss: 0.00089449\n",
      "Epoch  65: train loss: 0.00096924, validation loss: 0.00090966\n",
      "Epoch  66: train loss: 0.00089925, validation loss: 0.00104286\n",
      "Epoch  67: train loss: 0.00095644, validation loss: 0.00112725\n",
      "Epoch  68: train loss: 0.00089956, validation loss: 0.00084542\n",
      "Epoch  69: train loss: 0.00085916, validation loss: 0.00084152\n",
      "Epoch  70: train loss: 0.00083856, validation loss: 0.00082309\n",
      "Epoch  71: train loss: 0.00082284, validation loss: 0.00080489\n",
      "Epoch  72: train loss: 0.00083757, validation loss: 0.00090579\n",
      "Epoch  73: train loss: 0.00082597, validation loss: 0.00079726\n",
      "Epoch  74: train loss: 0.00078180, validation loss: 0.00076564\n",
      "Epoch  75: train loss: 0.00078832, validation loss: 0.00145629\n",
      "Epoch  76: train loss: 0.00077253, validation loss: 0.00073857\n",
      "Epoch  77: train loss: 0.00073377, validation loss: 0.00072368\n",
      "Epoch  78: train loss: 0.00072976, validation loss: 0.00077771\n",
      "Epoch  79: train loss: 0.00073657, validation loss: 0.00068768\n",
      "Epoch  80: train loss: 0.00069294, validation loss: 0.00088084\n",
      "Epoch  81: train loss: 0.00070198, validation loss: 0.00065494\n",
      "Epoch  82: train loss: 0.00065972, validation loss: 0.00064482\n",
      "Epoch  83: train loss: 0.00064762, validation loss: 0.00062513\n",
      "Epoch  84: train loss: 0.00063396, validation loss: 0.00064249\n",
      "Epoch  85: train loss: 0.00064448, validation loss: 0.00062021\n",
      "Epoch  86: train loss: 0.00061508, validation loss: 0.00058442\n",
      "Epoch  87: train loss: 0.00059887, validation loss: 0.00066894\n",
      "Epoch  88: train loss: 0.00064273, validation loss: 0.00056067\n",
      "Epoch  89: train loss: 0.00056896, validation loss: 0.00054099\n",
      "Epoch  90: train loss: 0.00055624, validation loss: 0.00053496\n",
      "Epoch  91: train loss: 0.00056046, validation loss: 0.00053303\n",
      "Epoch  92: train loss: 0.00055911, validation loss: 0.00054070\n",
      "Epoch  93: train loss: 0.00052678, validation loss: 0.00050696\n",
      "Epoch  94: train loss: 0.00052149, validation loss: 0.00050131\n",
      "Epoch  95: train loss: 0.00051022, validation loss: 0.00048465\n",
      "Epoch  96: train loss: 0.00048910, validation loss: 0.00047151\n",
      "Epoch  97: train loss: 0.00048465, validation loss: 0.00046085\n",
      "Epoch  98: train loss: 0.00053652, validation loss: 0.00045852\n",
      "Epoch  99: train loss: 0.00046204, validation loss: 0.00045231\n",
      "Epoch 100: train loss: 0.00047243, validation loss: 0.00045420\n",
      "Epoch 101: train loss: 0.00046357, validation loss: 0.00043792\n",
      "Epoch 102: train loss: 0.00044441, validation loss: 0.00043147\n",
      "Epoch 103: train loss: 0.00043487, validation loss: 0.00042201\n",
      "Epoch 104: train loss: 0.00043209, validation loss: 0.00041902\n",
      "Epoch 105: train loss: 0.00042551, validation loss: 0.00040845\n",
      "Epoch 106: train loss: 0.00045784, validation loss: 0.00040484\n",
      "Epoch 107: train loss: 0.00042345, validation loss: 0.00043065\n",
      "Epoch 108: train loss: 0.00040969, validation loss: 0.00038581\n",
      "Epoch 109: train loss: 0.00039250, validation loss: 0.00037592\n",
      "Epoch 110: train loss: 0.00039344, validation loss: 0.00037551\n",
      "Epoch 111: train loss: 0.00039490, validation loss: 0.00036774\n",
      "Epoch 112: train loss: 0.00038398, validation loss: 0.00039762\n",
      "Epoch 113: train loss: 0.00037637, validation loss: 0.00035354\n",
      "Epoch 114: train loss: 0.00038940, validation loss: 0.00040717\n",
      "Epoch 115: train loss: 0.00037097, validation loss: 0.00035354\n",
      "Epoch 116: train loss: 0.00036052, validation loss: 0.00036417\n",
      "Epoch 117: train loss: 0.00035682, validation loss: 0.00034003\n",
      "Epoch 118: train loss: 0.00034658, validation loss: 0.00033109\n",
      "Epoch 119: train loss: 0.00033962, validation loss: 0.00032263\n",
      "Epoch 120: train loss: 0.00034107, validation loss: 0.00034660\n",
      "Epoch 121: train loss: 0.00034939, validation loss: 0.00033113\n",
      "Epoch 122: train loss: 0.00035236, validation loss: 0.00031317\n",
      "Epoch 123: train loss: 0.00033704, validation loss: 0.00037619\n",
      "Epoch 124: train loss: 0.00033127, validation loss: 0.00034674\n",
      "Epoch 125: train loss: 0.00031230, validation loss: 0.00036327\n",
      "Epoch 126: train loss: 0.00030874, validation loss: 0.00038044\n",
      "Epoch 127: train loss: 0.00031179, validation loss: 0.00038018\n",
      "Epoch 128: train loss: 0.00039158, validation loss: 0.00040394\n",
      "Epoch 129: train loss: 0.00029746, validation loss: 0.00042239\n",
      "Epoch 130: train loss: 0.00029702, validation loss: 0.00043243\n",
      "Epoch 131: train loss: 0.00030953, validation loss: 0.00039751\n"
     ]
    },
    {
     "name": "stdout",
     "output_type": "stream",
     "text": [
      "Epoch 132: train loss: 0.00029009, validation loss: 0.00033979\n",
      "Epoch 133: train loss: 0.00028918, validation loss: 0.00035530\n",
      "Epoch 134: train loss: 0.00028178, validation loss: 0.00038582\n",
      "Epoch 135: train loss: 0.00029551, validation loss: 0.00041938\n",
      "Epoch 136: train loss: 0.00031740, validation loss: 0.00046587\n",
      "Epoch 137: train loss: 0.00027649, validation loss: 0.00044455\n",
      "Epoch 138: train loss: 0.00026977, validation loss: 0.00046758\n",
      "Epoch 139: train loss: 0.00026876, validation loss: 0.00047479\n",
      "Epoch 140: train loss: 0.00027626, validation loss: 0.00049779\n",
      "Epoch 141: train loss: 0.00029219, validation loss: 0.00049661\n",
      "Epoch 142: train loss: 0.00026016, validation loss: 0.00047186\n",
      "Epoch 143: train loss: 0.00025705, validation loss: 0.00048213\n",
      "Epoch 144: train loss: 0.00028552, validation loss: 0.00055736\n",
      "Epoch 145: train loss: 0.00025605, validation loss: 0.00058550\n",
      "Epoch 146: train loss: 0.00026243, validation loss: 0.00049177\n",
      "Epoch 147: train loss: 0.00024981, validation loss: 0.00051010\n",
      "Epoch 148: train loss: 0.00025086, validation loss: 0.00051087\n",
      "Epoch 149: train loss: 0.00025299, validation loss: 0.00060558\n",
      "Epoch 150: train loss: 0.00027864, validation loss: 0.00055108\n",
      "Epoch 151: train loss: 0.00023597, validation loss: 0.00058566\n",
      "Epoch 152: train loss: 0.00023547, validation loss: 0.00058712\n",
      "Epoch 153: train loss: 0.00023919, validation loss: 0.00201741\n",
      "Epoch 154: train loss: 0.00026188, validation loss: 0.00061835\n",
      "Epoch 155: train loss: 0.00022783, validation loss: 0.00063559\n",
      "Epoch 156: train loss: 0.00023223, validation loss: 0.00072068\n",
      "Epoch 157: train loss: 0.00026504, validation loss: 0.00190901\n",
      "Epoch 158: train loss: 0.00029287, validation loss: 0.00065685\n",
      "Epoch 159: train loss: 0.00022299, validation loss: 0.00200063\n",
      "Epoch 160: train loss: 0.00021951, validation loss: 0.00068482\n",
      "Epoch 161: train loss: 0.00022021, validation loss: 0.00067269\n",
      "Epoch 162: train loss: 0.00022009, validation loss: 0.00073937\n",
      "Epoch 163: train loss: 0.00021441, validation loss: 0.00075829\n",
      "Epoch 164: train loss: 0.00021967, validation loss: 0.00079357\n",
      "Epoch 165: train loss: 0.00022446, validation loss: 0.00073058\n",
      "Epoch 166: train loss: 0.00021076, validation loss: 0.00076689\n",
      "Epoch 167: train loss: 0.00021985, validation loss: 0.00076644\n",
      "Epoch 168: train loss: 0.00023397, validation loss: 0.00084060\n",
      "Epoch 169: train loss: 0.00023134, validation loss: 0.00079631\n",
      "Epoch 170: train loss: 0.00020334, validation loss: 0.00080582\n",
      "Epoch 171: train loss: 0.00021021, validation loss: 0.00081365\n",
      "Epoch 172: train loss: 0.00021821, validation loss: 0.00085863\n",
      "Epoch 173: train loss: 0.00021021, validation loss: 0.00084284\n",
      "Epoch 174: train loss: 0.00025163, validation loss: 0.00070585\n",
      "Epoch 175: train loss: 0.00019885, validation loss: 0.00069027\n",
      "Epoch 176: train loss: 0.00019351, validation loss: 0.00071190\n",
      "Epoch 177: train loss: 0.00019465, validation loss: 0.00073942\n",
      "Epoch 178: train loss: 0.00019169, validation loss: 0.00075275\n",
      "Epoch 179: train loss: 0.00019893, validation loss: 0.00092109\n",
      "Epoch 180: train loss: 0.00020213, validation loss: 0.00079608\n",
      "Epoch 181: train loss: 0.00019684, validation loss: 0.00081875\n",
      "Epoch 182: train loss: 0.00020336, validation loss: 0.00083626\n",
      "Epoch 183: train loss: 0.00018751, validation loss: 0.00085425\n",
      "Epoch 184: train loss: 0.00021112, validation loss: 0.00093829\n",
      "Epoch 185: train loss: 0.00019967, validation loss: 0.00086600\n",
      "Epoch 186: train loss: 0.00019568, validation loss: 0.00091043\n",
      "Epoch 187: train loss: 0.00020525, validation loss: 0.00123595\n",
      "Epoch 188: train loss: 0.00020259, validation loss: 0.00091698\n",
      "Epoch 189: train loss: 0.00018224, validation loss: 0.00090124\n",
      "Epoch 190: train loss: 0.00018153, validation loss: 0.00092625\n",
      "Epoch 191: train loss: 0.00018048, validation loss: 0.00092683\n",
      "Epoch 192: train loss: 0.00018012, validation loss: 0.00092859\n",
      "Epoch 193: train loss: 0.00018916, validation loss: 0.00094279\n",
      "Epoch 194: train loss: 0.00018758, validation loss: 0.00094051\n",
      "Epoch 195: train loss: 0.00017750, validation loss: 0.00095151\n",
      "Epoch 196: train loss: 0.00018368, validation loss: 0.00094664\n",
      "Epoch 197: train loss: 0.00018582, validation loss: 0.00076470\n",
      "Epoch 198: train loss: 0.00017735, validation loss: 0.00076995\n",
      "Epoch 199: train loss: 0.00017359, validation loss: 0.00076844\n",
      "Epoch 200: train loss: 0.00016919, validation loss: 0.00077250\n",
      "Finished Training\n"
     ]
    }
   ],
   "source": [
    "from koopman_core.learning import KoopDnn, KoopmanNetCtrl\n",
    "from koopman_core.util import fit_standardizer\n",
    "\n",
    "#standardizer_x_kdnn = fit_standardizer(xs_train, preprocessing.StandardScaler())\n",
    "standardizer_x_kdnn = None\n",
    "standardizer_u_kdnn = fit_standardizer(us_train, preprocessing.StandardScaler())\n",
    "n_tot = n + net_params['encoder_output_dim'] + int(net_params['first_obs_const'])\n",
    "\n",
    "net = KoopmanNetCtrl(net_params, standardizer_x=standardizer_x_kdnn, standardizer_u=standardizer_u_kdnn)\n",
    "model_koop_dnn = KoopDnn(net)\n",
    "model_koop_dnn.set_datasets(xs_train, t_train, u_train=us_train, x_val=xs_val, u_val=us_val, t_val=t_val)\n",
    "model_koop_dnn.model_pipeline(net_params)\n",
    "model_koop_dnn.construct_koopman_model()\n",
    "sys_koop_dnn = BilinearLiftedDynamics(n_tot, m, model_koop_dnn.A, model_koop_dnn.B, model_koop_dnn.C, \n",
    "                                      model_koop_dnn.basis_encode, continuous_mdl=False, dt=dt, \n",
    "                                      standardizer_x=standardizer_x_kdnn, standardizer_u=standardizer_u_kdnn)"
   ]
  },
  {
   "cell_type": "code",
   "execution_count": 10,
   "metadata": {},
   "outputs": [
    {
     "data": {
      "text/plain": [
       "array([[ 1.0000000e+00,  0.0000000e+00,  0.0000000e+00,  0.0000000e+00,\n",
       "         0.0000000e+00,  0.0000000e+00],\n",
       "       [ 0.0000000e+00,  1.0000000e+00,  0.0000000e+00,  9.9999998e-03,\n",
       "         0.0000000e+00,  0.0000000e+00],\n",
       "       [ 0.0000000e+00,  0.0000000e+00,  1.0000000e+00,  0.0000000e+00,\n",
       "         9.9999998e-03,  0.0000000e+00],\n",
       "       [ 3.9262036e-03,  2.2928580e-03,  3.8543028e-05,  1.0029552e+00,\n",
       "         2.8405786e-06, -8.2602439e-04],\n",
       "       [ 1.5682067e-03,  1.0280407e-03, -1.5334166e-05,  2.5904576e-05,\n",
       "         1.0019810e+00, -3.3952016e-04],\n",
       "       [-2.5977932e-03, -1.5804581e-03, -3.0833122e-05,  2.7772481e-02,\n",
       "         4.1897921e-04,  1.0005784e+00]], dtype=float32)"
      ]
     },
     "execution_count": 10,
     "metadata": {},
     "output_type": "execute_result"
    }
   ],
   "source": [
    "sys_koop_dnn.A"
   ]
  },
  {
   "cell_type": "markdown",
   "metadata": {},
   "source": [
    "# Evaluate open-loop prediction performance"
   ]
  },
  {
   "cell_type": "code",
   "execution_count": 11,
   "metadata": {},
   "outputs": [],
   "source": [
    "# Prediction performance evaluation parameters:\n",
    "folder_plots = 'figures/'                                          # Path to save plots\n",
    "n_traj_ol = 50                                                     # Number of trajectories to execute, open loop"
   ]
  },
  {
   "cell_type": "code",
   "execution_count": 12,
   "metadata": {},
   "outputs": [
    {
     "name": "stdout",
     "output_type": "stream",
     "text": [
      "\n",
      "Open loop performance statistics:\n",
      "            Mean squared error    Standard deviation\n",
      "--------  --------------------  --------------------\n",
      "Koop DNN               3e-05                 0.00524\n",
      "bEDMD                  0.00014               0.01195\n"
     ]
    },
    {
     "data": {
      "text/plain": [
       "<Figure size 864x432 with 0 Axes>"
      ]
     },
     "metadata": {},
     "output_type": "display_data"
    }
   ],
   "source": [
    "from koopman_core.util import evaluate_ol_pred\n",
    "from tabulate import tabulate\n",
    "import random as rand\n",
    "\n",
    "xs_ol, us_ol, t_ol = run_experiment(system, n, n_traj_ol, n_pred_dc, t_eval, x0_max,\n",
    "                                      m=m, K_p=K_dc_p, K_d=K_dc_d, noise_var=noise_var)\n",
    "\n",
    "mdl_lst = [sys_koop_dnn, sys_bedmd]\n",
    "mdl_names = ['Koop DNN', 'bEDMD']\n",
    "error, mse, std = [], [], []\n",
    "\n",
    "for sys in mdl_lst:\n",
    "    err_tmp, mse_tmp, std_tmp = evaluate_ol_pred(sys, xs_ol, t_eval, us=us_ol)\n",
    "    error.append(err_tmp)\n",
    "    mse.append(mse_tmp)\n",
    "    std.append(std_tmp)\n",
    "    \n",
    "print('\\nOpen loop performance statistics:')\n",
    "table_data = []\n",
    "for name, mse_mdl, std_mdl in zip(mdl_names, mse, std):\n",
    "    table_data.append([name, \"{:.5f}\".format(mse_mdl), \"{:.5f}\".format(std_mdl)])\n",
    "\n",
    "print(tabulate(table_data, \n",
    "               headers=['Mean squared error', 'Standard deviation']))"
   ]
  },
  {
   "cell_type": "code",
   "execution_count": 13,
   "metadata": {},
   "outputs": [
    {
     "data": {
      "image/png": "[encoded data removed]",
      "text/plain": [
       "<Figure size 864x288 with 4 Axes>"
      ]
     },
     "metadata": {
      "needs_background": "light"
     },
     "output_type": "display_data"
    }
   ],
   "source": [
    "import matplotlib.pyplot as plt\n",
    "import matplotlib\n",
    "\n",
    "figwidth = 12\n",
    "lw = 2\n",
    "fs = 14\n",
    "y_lim_gain = 1.2\n",
    "row = 2\n",
    "col = n/row\n",
    "\n",
    "#Plot open loop results:\n",
    "plt.figure(figsize=(figwidth,4))\n",
    "axs = [plt.subplot(row,col,jj+1) for jj in range(n)]\n",
    "\n",
    "for ii, err in enumerate(error):\n",
    "    err_mean = np.mean(err, axis=0)\n",
    "    err_std = np.std(err, axis=0)\n",
    "    \n",
    "    for jj in range(n):\n",
    "        axs[jj].plot(t_eval[1:], err_mean[:,jj], label=mdl_names[ii])\n",
    "        axs[jj].fill_between(t_eval[1:], err_mean[:,jj]-err_std[:,jj], err_mean[:,jj]+err_std[:,jj], alpha=0.1)\n",
    "\n",
    "for jj in range(n):\n",
    "    axs[jj].grid()\n",
    "    axs[jj].set_xlabel('Time (sec)', fontsize=fs)\n",
    "    axs[jj].set_ylabel('$x_'+ str(jj+1) + '$', fontsize=fs)\n",
    "\n",
    "plt.legend(frameon=False, fontsize=fs)\n",
    "stitle=plt.suptitle('Open loop prediction performance of learned models', fontsize=fs+2)\n",
    "matplotlib.rcParams['pdf.fonttype'] = 42\n",
    "matplotlib.rcParams['ps.fonttype'] = 42\n",
    "plt.savefig(folder_plots + 'koop_sys_prediction.pdf', format='pdf', dpi=2400, bbox_extra_artists=(stitle,), bbox_inches=\"tight\")\n",
    "plt.show()"
   ]
  },
  {
   "cell_type": "code",
   "execution_count": 14,
   "metadata": {},
   "outputs": [
    {
     "name": "stdout",
     "output_type": "stream",
     "text": [
      "[0.0223093  0.00944786]\n",
      "[5.44863724 5.43992453]\n"
     ]
    },
    {
     "ename": "AttributeError",
     "evalue": "'NoneType' object has no attribute 'mean_'",
     "output_type": "error",
     "traceback": [
      "\u001b[0;31m---------------------------------------------------------------------------\u001b[0m",
      "\u001b[0;31mAttributeError\u001b[0m                            Traceback (most recent call last)",
      "\u001b[0;32m<ipython-input-14-8ede04424dd4>\u001b[0m in \u001b[0;36m<module>\u001b[0;34m\u001b[0m\n\u001b[1;32m      1\u001b[0m \u001b[0mprint\u001b[0m\u001b[0;34m(\u001b[0m\u001b[0mstandardizer_u_kdnn\u001b[0m\u001b[0;34m.\u001b[0m\u001b[0mmean_\u001b[0m\u001b[0;34m)\u001b[0m\u001b[0;34m\u001b[0m\u001b[0;34m\u001b[0m\u001b[0m\n\u001b[1;32m      2\u001b[0m \u001b[0mprint\u001b[0m\u001b[0;34m(\u001b[0m\u001b[0mstandardizer_u_kdnn\u001b[0m\u001b[0;34m.\u001b[0m\u001b[0mscale_\u001b[0m\u001b[0;34m)\u001b[0m\u001b[0;34m\u001b[0m\u001b[0;34m\u001b[0m\u001b[0m\n\u001b[0;32m----> 3\u001b[0;31m \u001b[0mprint\u001b[0m\u001b[0;34m(\u001b[0m\u001b[0mstandardizer_x_kdnn\u001b[0m\u001b[0;34m.\u001b[0m\u001b[0mmean_\u001b[0m\u001b[0;34m)\u001b[0m\u001b[0;34m\u001b[0m\u001b[0;34m\u001b[0m\u001b[0m\n\u001b[0m\u001b[1;32m      4\u001b[0m \u001b[0mprint\u001b[0m\u001b[0;34m(\u001b[0m\u001b[0mstandardizer_x_kdnn\u001b[0m\u001b[0;34m.\u001b[0m\u001b[0mscale_\u001b[0m\u001b[0;34m)\u001b[0m\u001b[0;34m\u001b[0m\u001b[0;34m\u001b[0m\u001b[0m\n",
      "\u001b[0;31mAttributeError\u001b[0m: 'NoneType' object has no attribute 'mean_'"
     ]
    }
   ],
   "source": [
    "print(standardizer_u_kdnn.mean_)\n",
    "print(standardizer_u_kdnn.scale_)\n",
    "print(standardizer_x_kdnn.mean_)\n",
    "print(standardizer_x_kdnn.scale_)"
   ]
  },
  {
   "cell_type": "code",
   "execution_count": null,
   "metadata": {},
   "outputs": [],
   "source": []
  }
 ],
 "metadata": {
  "kernelspec": {
   "display_name": "keedmd",
   "language": "python",
   "name": "keedmd"
  },
  "language_info": {
   "codemirror_mode": {
    "name": "ipython",
    "version": 3
   },
   "file_extension": ".py",
   "mimetype": "text/x-python",
   "name": "python",
   "nbconvert_exporter": "python",
   "pygments_lexer": "ipython3",
   "version": "3.7.6"
  }
 },
 "nbformat": 4,
 "nbformat_minor": 4
}
