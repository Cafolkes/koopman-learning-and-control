{
 "cells": [
  {
   "cell_type": "markdown",
   "source": [
    "$\\newcommand{\\mb}[1]{\\mathbf{ #1 }}$\n",
    "$\\newcommand{\\bs}[1]{\\boldsymbol{ #1 }}$\n",
    "$\\newcommand{\\bb}[1]{\\mathbb{ #1 }}$\n",
    "\n",
    "$\\newcommand{\\R}{\\bb{R}}$\n",
    "\n",
    "$\\newcommand{\\ip}[2]{\\left\\langle #1, #2 \\right\\rangle}$\n",
    "$\\newcommand{\\norm}[1]{\\left\\Vert #1 \\right\\Vert}$\n",
    "\n",
    "$\\newcommand{\\der}[2]{\\frac{\\mathrm{d} #1 }{\\mathrm{d} #2 }}$\n",
    "$\\newcommand{\\derp}[2]{\\frac{\\partial #1 }{\\partial #2 }}$\n",
    "\n",
    "# Finite Dimensional Koopman Bilinear System"
   ],
   "metadata": {
    "collapsed": false
   }
  },
  {
   "cell_type": "markdown",
   "source": [
    "Consider a nonlinear dynamical system that allows an exact finite dimensional Koopman canonical transform such that the control-affine dynamics can be transformed to a bilinear system. Consider the dynamical system "
   ],
   "metadata": {
    "collapsed": false
   }
  },
  {
   "cell_type": "markdown",
   "source": [
    "\\begin{equation}\n",
    "\\mb{\\dot{x}}=\\mb{f}_0(\\mb x) + \\mb f_1 ( \\mb x) u_1 + \\mb f_2(\\mb x) u_2, \n",
    "\\end{equation}"
   ],
   "metadata": {
    "collapsed": false
   }
  },
  {
   "cell_type": "markdown",
   "source": [
    "where we for this example choose $\\mb f_0, \\mb f_1$ as follows:"
   ],
   "metadata": {
    "collapsed": false
   }
  },
  {
   "cell_type": "markdown",
   "source": [
    "\\begin{equation}\n",
    "\\mb f_0(\\mb x) = \\begin{bmatrix} x_3 \\\\ x_4 \\\\ \\lambda x_3 \\\\ \\mu x_4 + (2 \\lambda - \\mu) c x_3^2 \\end{bmatrix}, \\qquad\n",
    "\\mb f_1(\\mb x) = \\begin{bmatrix} 0 \\\\ 0 \\\\ 1 \\\\ 0 \\end{bmatrix}, \\qquad\n",
    "\\mb f_2(\\mb x) = \\begin{bmatrix} 0 \\\\ 0 \\\\ 0 \\\\ x_1+1 \\end{bmatrix}, \n",
    "\\end{equation}   "
   ],
   "metadata": {
    "collapsed": false
   }
  },
  {
   "cell_type": "markdown",
   "source": [
    "and $\\lambda, \\mu, c \\in \\mathbb{R}$ are scalar parameters of the system. Setting $ \\mb x = [q_1 \\, q_2 \\, \\dot{q_1} \\, \\dot{q_2}]^T$, \n",
    "these equations of motion can be expressed as robotic dynamics of the form $\\mb{D}(\\mb{q})\\ddot{\\mb{q}} + \\mb{C}(\\mb{q}, \\dot{\\mb{q}})\\dot{\\mb{q}} + \\mb{G}(\\mb{q}) = \\mb{B}\\mb{u}$, where $\\mb D$ is the inertia matrix, $\\mb C$ is the matrix of Coriolis terms, $\\mb G$ is the matrix of gravitational terms, and $\\mb B$ is the static actuation matrix. Rewriting $\\mb f_0, \\mb f_1, \\mb f_2$ in terms of $\\mb D, \\mb C, \\mb G,$ and $\\mb B$ yield\n"
   ],
   "metadata": {
    "collapsed": false
   }
  },
  {
   "cell_type": "markdown",
   "source": [
    "\\begin{equation}\n",
    "\\mb D(\\mb q) = \\begin{bmatrix} 1 & 0\\\\ 0 &  \\frac{1}{q_1+1} \\end{bmatrix}, \n",
    "\\qquad \\mb C(\\mb q, \\mb{\\dot{q}}) = -\\begin{bmatrix} \\lambda & 0 \\\\ \\frac{1}{q_1 + 1}(2 \\lambda - \\mu) c \\dot{q}_1 & \\frac{1}{q_1 +1} \\mu \\end{bmatrix}, \\qquad \n",
    "\\mb G(\\mb q) = \\begin{bmatrix} 0 \\\\ 0 \\end{bmatrix} \n",
    "\\qquad \\mb B = \\begin{bmatrix}1 & 0 \\\\ 0 & 1 \\end{bmatrix},\n",
    "\\end{equation}"
   ],
   "metadata": {
    "collapsed": false
   }
  },
  {
   "cell_type": "code",
   "execution_count": 34,
   "outputs": [],
   "source": [
    "import numpy as np\n",
    "\n",
    "from core.dynamics import RoboticDynamics\n",
    "\n",
    "class FiniteDimKoopSys(RoboticDynamics):\n",
    "    def __init__(self, lambd, mu, c):\n",
    "        RoboticDynamics.__init__(self, 2, 2)\n",
    "        self.params = lambd, mu, c\n",
    "    \n",
    "    def D(self, q):\n",
    "        return np.array([[1, 0],[0, (q[0]+1)**(-1)]])\n",
    "    \n",
    "    def C(self, q, q_dot):\n",
    "        labmd, mu, c = self.params\n",
    "        return -np.array([[lambd, 0], [(q[0]+1)**(-1)*(2*lambd - mu)*c*q_dot[0], (q[0]+1)**(-1)*mu]])\n",
    "    \n",
    "    def G(self, q):\n",
    "        return np.array([0, 0])\n",
    "    \n",
    "    def B(self, q):\n",
    "        return np.array([[1, 0], [0, 1]])\n",
    "    \n",
    "lambd, mu, c = .3, .2, -.5\n",
    "finite_dim_koop_sys = FiniteDimKoopSys(lambd, mu, c)"
   ],
   "metadata": {
    "collapsed": false,
    "pycharm": {
     "name": "#%%\n"
    }
   }
  },
  {
   "cell_type": "markdown",
   "source": [
    "### Koopman Canonical Transform of the Control-Affine Dynamics"
   ],
   "metadata": {
    "collapsed": false
   }
  },
  {
   "cell_type": "markdown",
   "source": [
    "As a result of the careful construction of this system, there exists a Koopman canonical transform, $\\mb z = T(\\mb x)$ that exactly transforms the control-affine dynamics into a bilinear system. Consider the transformation:"
   ],
   "metadata": {
    "collapsed": false
   }
  },
  {
   "cell_type": "markdown",
   "source": [
    "\\begin{equation}\n",
    "    T(\\mb q, \\mb{\\dot{q}}) = \\begin{bmatrix} \n",
    "    \\phi_1(\\mb q, \\mb{\\dot{q}})\\\\\n",
    "    \\phi_2(\\mb q, \\mb{\\dot{q}})\\\\\n",
    "    \\phi_3(\\mb q, \\mb{\\dot{q}})\\\\\n",
    "    \\phi_4(\\mb q, \\mb{\\dot{q}})\\\\\n",
    "    \\phi_5(\\mb q, \\mb{\\dot{q}})\\\\\n",
    "    \\phi_6(\\mb q, \\mb{\\dot{q}})\\\\\n",
    "    \\end{bmatrix}\n",
    "    = \\begin{bmatrix} \n",
    "    q_1 - \\frac{1}{\\lambda}\\dot{q}_1\\\\\n",
    "    q_2 - \\frac{1}{\\mu} \\dot{q}_2 + \\frac{(2 \\lambda - \\mu)c}{2\\lambda \\mu} \\dot{q}_1^2\\\\\n",
    "    \\dot{q}_1\\\\\n",
    "    \\dot{q}_2 - c \\dot{q}_1^2\\\\\n",
    "    \\dot{q}_1^2\\\\\n",
    "    1\n",
    "    \\end{bmatrix},\n",
    "\\end{equation}"
   ],
   "metadata": {
    "collapsed": false
   }
  },
  {
   "cell_type": "markdown",
   "source": [
    "where $\\phi_1, \\phi_2, \\phi_3, \\phi_4, \\phi_5, \\phi_6$ are eigenfunctions of the Koopman operator associated with the drift \n",
    "vector field $\\mb f_0$. The matrix with the eigenvalue associated with the i-th eigenfunction on the i-th diagonal \n",
    "element is $F=\\text{diag}(0, 0, \\lambda, \\mu, 2 \\lambda, 0)$. Then, to reformulate the dynamics we have:"
   ],
   "metadata": {
    "collapsed": false
   }
  },
  {
   "cell_type": "markdown",
   "source": [
    "\\begin{equation} \n",
    "L_{\\mb f_1} T(\\mb q, \\mb{\\dot{q}}) = \\begin{bmatrix} -\\frac{1}{\\lambda}\\\\ \\frac{(2\\lambda - \\mu)c}{\\lambda \\mu}\\dot{q}_1\\\\ 1 \\\\ -2c\\dot{q}_1 \\\\ 2\\dot{q_1} \\\\ 0 \\end{bmatrix}, \\qquad \n",
    "L_{\\mb f_2} T(\\mb q, \\mb{\\dot{q}}) = \\begin{bmatrix} 0\\\\ -\\frac{1}{\\mu}(q_1 + 1)\\\\0 \\\\ q_1 + 1 \\\\ 0 \\\\ 0 \\end{bmatrix} \n",
    "\\end{equation}"
   ],
   "metadata": {
    "collapsed": false
   }
  },
  {
   "cell_type": "markdown",
   "source": [
    "and the dynamics can be equivalently transformed to a bilinear form $\\mb{\\dot{z}} = F \\mb z + G_1\\mb z u_1 + G_2\\mb z u_2$ with"
   ],
   "metadata": {
    "collapsed": false
   }
  },
  {
   "cell_type": "markdown",
   "source": [
    "\\begin{equation}\n",
    "F = \\begin{bmatrix} \n",
    "0 & 0 & 0 & 0 & 0 & 0\\\\\n",
    "0 & 0 & 0 & 0 & 0 & 0\\\\\n",
    "0 & 0 & \\lambda & 0 & 0 & 0\\\\\n",
    "0 & 0 & 0 & \\mu & 0 & 0\\\\\n",
    "0 & 0 & 0 & 0 & 2 \\lambda & 0\\\\\n",
    "0 & 0 & 0 & 0 & 0 & 0\\\\  \n",
    "\\end{bmatrix}, \\qquad \n",
    "G_1 = \\begin{bmatrix} \n",
    "0 & 0 & 0 & 0 & 0 & -\\frac{1}{\\lambda}\\\\\n",
    "0 & 0 & \\frac{(2\\lambda - \\mu)c}{\\lambda \\mu} & 0 & 0 & 0\\\\\n",
    "0 & 0 & 0 & 0 & 0 & 1\\\\\n",
    "0 & 0 & -2c & 0 & 0 & 0\\\\\n",
    "0 & 0 & 2 & 0 & 0 & 0\\\\\n",
    "0 & 0 & 0 & 0 & 0 & 0\\\\  \n",
    "\\end{bmatrix}\n",
    ", \\qquad \n",
    "G_2 = \\begin{bmatrix} \n",
    "0 & 0 &  0 & 0 & 0 & 0\\\\\n",
    "-\\frac{1}{\\mu} & 0 &  -\\frac{1}{\\lambda \\mu} & 0 & 0 & -\\frac{1}{\\mu}\\\\\n",
    "0 & 0 & 0 & 0 & 0 & 0\\\\\n",
    "1 & 0 & \\frac{1}{\\lambda} & 0 & 0 & 1\\\\\n",
    "0 & 0 & 0 & 0 & 0 & 0\\\\\n",
    "0 & 0 & 0 & 0 & 0 & 0\\\\  \n",
    "\\end{bmatrix}\n",
    "\\end{equation}"
   ],
   "metadata": {
    "collapsed": false
   }
  },
  {
   "cell_type": "code",
   "execution_count": 35,
   "outputs": [],
   "source": [
    "from koopman_core.dynamics.bilinear_dynamics import BilinearDynamics\n",
    "\n",
    "F = np.array([[0, 0, 0, 0, 0, 0],\n",
    "             [0, 0, 0, 0, 0, 0],\n",
    "              [0, 0, lambd, 0, 0, 0],\n",
    "              [0, 0, 0, mu, 0, 0],\n",
    "              [0, 0, 0, 0, 2*lambd, 0],\n",
    "              [0, 0, 0, 0, 0, 0]])\n",
    "G_1 = np.array([[0, 0, 0, 0, 0, -1/lambd],\n",
    "                [0, 0, (2*lambd - mu)*c/(lambd*mu), 0, 0, 0],\n",
    "                [0, 0, 0, 0, 0, 1], \n",
    "                [0, 0, -2*c, 0, 0, 0], \n",
    "                [0, 0, 2, 0, 0, 0], \n",
    "                [0, 0, 0, 0, 0, 0]])\n",
    "G_2 = np.array([[0, 0, 0, 0, 0, 0],\n",
    "                [-1/mu, 0, -1/(lambd*mu), 0, 0, -1/mu],\n",
    "                [0, 0, 0, 0, 0, 0], \n",
    "                [1, 0, 1/lambd, 0, 0, 1], \n",
    "                [0, 0, 0, 0, 0, 0], \n",
    "                [0, 0, 0, 0, 0, 0]])\n",
    "G = [G_1, G_2]\n",
    "phi_fun = lambda x: np.array([x[0] - 1/lambd*x[2],\n",
    "                            x[1] - 1/mu*x[3] + (2*lambd - mu)*c/(2*lambd*mu)*x[2]**2,\n",
    "                            x[2], \n",
    "                            x[3] - c*x[2]**2, \n",
    "                            x[2]**2, \n",
    "                            1])\n",
    "n, m = 6, 2\n",
    "\n",
    "koop_bilinear_sys = BilinearDynamics(n, m, F, G, phi_fun)"
   ],
   "metadata": {
    "collapsed": false,
    "pycharm": {
     "name": "#%%\n"
    }
   }
  },
  {
   "cell_type": "markdown",
   "source": [
    "With the same objective as before, we aim to design a feedback linearizing control law utilizing the bilinear dynamics. \n",
    "We assume that the outputs can be linearly described in the lifted state space such that $\\mb y = C^{\\mb h} \\mb z$. \n",
    "The outputs encoding the objective (driving the system to the origin) can then be described as"
   ],
   "metadata": {
    "collapsed": false
   }
  },
  {
   "cell_type": "markdown",
   "source": [
    "\\begin{equation}\n",
    "    \\bs{\\eta}(\\mb{q}, \\dot{\\mb{q}}) = C^{\\mb h} \\mb z - \\mb y_d(t), \n",
    "    \\qquad C^{\\mb h} = \\begin{bmatrix} 1 & 0 & \\frac{1}{\\lambda} & 0 & 0 & 0\\\\\n",
    "    0 & 1 & 0 & \\frac{1}{\\mu} & \\frac{c}{\\mu} - \\frac{(2\\lambda - \\mu)c}{2\\lambda \\mu} & 0\n",
    "    \\end{bmatrix}\n",
    "\\end{equation}"
   ],
   "metadata": {
    "collapsed": false
   }
  },
  {
   "cell_type": "markdown",
   "source": [
    "Differentiating the outputs we get and writing the actuated dynamics $G_1 \\mb z u_1 + G_2 \\mb z u_2$ as $\\hat{G}(\\mb z) \\mb u$ we get:"
   ],
   "metadata": {
    "collapsed": false
   }
  },
  {
   "cell_type": "markdown",
   "source": [
    "\\begin{equation}\n",
    "    \\bs{\\dot{\\eta}} = C^{\\mb h}\\mb{\\dot{z}} - \\mb{\\dot{y}}_d(t) = C^{\\mb h} \\big (\\mb{\\dot{z}} - \\mb{\\dot{z}}_d(t) \\big ) = C^{\\mb h} \\big ( F \\mb z + \\hat{G}(\\mb z)\\mb u - \\mb{\\dot{z}}_d \\big ).\n",
    "\\end{equation}"
   ],
   "metadata": {
    "collapsed": false
   }
  },
  {
   "cell_type": "markdown",
   "source": [
    "Because of the relative degree assumption on the outputs, each output $y_i(\\mb x)=h_i(\\mb x), i=1,\\dots,k$ has relative degree 2,\n",
    "we have that $L_g h(x) = C^{\\mb h} \\hat{G}(\\mb z) = 0$. As a result, $\\bs{\\dot{\\eta}} = C^{\\mb h} \\big ( F \\mb z - \\mb{\\dot{z}}_d \\big )$.\n",
    "Now, akin to classical feedback linearization we differentiate the outputs again to get:"
   ],
   "metadata": {
    "collapsed": false
   }
  },
  {
   "cell_type": "markdown",
   "source": [
    "\\begin{equation}\n",
    "    \\bs{\\ddot{\\eta}} = C^{\\mb h} \\big ( F \\mb{\\dot{z}} - \\mb{\\ddot{z}}_d \\big ) = C^{\\mb h} \\big ( F(F \\mb z + \\hat{G}(\\mb z)\\mb u)- \\mb{\\ddot{z}}_d \\big )\n",
    "    = C^{\\mb h} \\big ( F^2 \\mb z + F\\hat{G}(\\mb z)\\mb u - \\mb{\\ddot{z}}_d \\big )\n",
    "\\end{equation}"
   ],
   "metadata": {
    "collapsed": false
   }
  },
  {
   "cell_type": "markdown",
   "source": [
    "Now, the output error dynamics can be written in normal form such that we get:"
   ],
   "metadata": {
    "collapsed": false
   }
  },
  {
   "cell_type": "markdown",
   "source": [
    "\\begin{equation}\n",
    "    \\bs{\\Phi}(\\mb{q}, \\dot{\\mb{q}}) = \\begin{bmatrix} \\bs{\\eta}(\\mb{q}, \\dot{\\mb{q}})\\\\ \\bs{\\dot{\\eta}}(\\mb{q}, \\dot{\\mb{q}})\\end{bmatrix}, \\qquad\n",
    "    \\bs{\\dot{\\Phi}} = \\begin{bmatrix} \\bs{\\dot{\\eta}}\\\\ \\bs{\\ddot{\\eta}}\\end{bmatrix} =\n",
    "    \\begin{bmatrix} \\bs{\\dot{\\eta}}\\\\\n",
    "    C^{\\mb h} \\big ( F(F \\mb z + \\hat{G}(\\mb z)\\mb u)- \\mb{\\ddot{z}}_d \\big ) \\end{bmatrix}\n",
    "\\end{equation}"
   ],
   "metadata": {
    "collapsed": false
   }
  },
  {
   "cell_type": "code",
   "execution_count": 36,
   "outputs": [],
   "source": [
    "from core.dynamics.configuration_dynamics import ConfigurationDynamics\n",
    "\n",
    "class BilinearSysOutput(ConfigurationDynamics):\n",
    "    def __init__(self, bilinear_dynamics, C_h):\n",
    "        ConfigurationDynamics.__init__(self, bilinear_dynamics, 1)\n",
    "        self.bilinear_dynamics = bilinear_dynamics\n",
    "        self.C_h = C_h\n",
    "    \n",
    "    def y(self, x):\n",
    "        z = self.bilinear_dynamics.phi_fun(x)\n",
    "        return np.dot(self.C_h, z)\n",
    "        \n",
    "    def dydx(self, x):\n",
    "        return np.array([[1, 0, 0, 0],[0, 1, 0, 0]])\n",
    "    \n",
    "    def d2ydz2(self, x):\n",
    "        return np.zeros((1, self.k, 4))\n",
    "\n",
    "    def y_d(self, t):\n",
    "        return np.dot(self.C_h, self.z_d(t))\n",
    "\n",
    "    def y_d_dot(self, t):\n",
    "        return np.dot(self.C_h, self.z_d_dot(t))\n",
    "\n",
    "    def y_d_ddot(self, t):\n",
    "        return np.dot(self.C_h, self.z_d_ddot(t))\n",
    "    \n",
    "    def z_d(self, t):\n",
    "        return np.array(([0, 0, 0, 0, 0, 1]))\n",
    "\n",
    "    def z_d_dot(self, t):\n",
    "        return np.zeros(self.bilinear_dynamics.n)\n",
    "\n",
    "    def z_d_ddot(self, t):\n",
    "        return np.zeros(self.bilinear_dynamics.n)\n",
    "\n",
    "C_h = np.array([[1, 0, 1/lambd, 0, 0, 0], \n",
    "                [0, 1, 0, 1/mu, c/mu - ((2*lambd - mu)*c)/(2*lambd*mu), 0]])\n",
    "output_bl_fb = BilinearSysOutput(koop_bilinear_sys, C_h)\n",
    "\n"
   ],
   "metadata": {
    "collapsed": false,
    "pycharm": {
     "name": "#%%\n"
    }
   }
  },
  {
   "cell_type": "markdown",
   "source": [
    "### Collect data from the system under PD control\n",
    "\n",
    "We first collect data from the system under PD control designed by LQR on the linearization of the dynamics around the \n",
    "origin. This is done by picking 20 intial conditions $\\mb x_0 = [q_0, \\dot{q}_0]^T$ uniformly at random in the space \n",
    "$\\mb x_0 \\in [-5, 5]^2$. The linearized dynamics around the origin are:"
   ],
   "metadata": {
    "collapsed": false
   }
  },
  {
   "cell_type": "code",
   "source": [
    "from core.dynamics import ConfigurationDynamics\n",
    "\n",
    "class FiniteDimKoopSysOutput(ConfigurationDynamics):\n",
    "    def __init__(self, finite_dim_koop_sys):\n",
    "        ConfigurationDynamics.__init__(self, finite_dim_koop_sys, 2)\n",
    "        self.finite_dim_koop_sys = finite_dim_koop_sys\n",
    "    \n",
    "    def y(self, q):\n",
    "        return q\n",
    "        \n",
    "    def dydq(self, q):\n",
    "        return np.array([[1, 0], [0, 1]])\n",
    "    \n",
    "    def d2ydq2(self, q):\n",
    "        return np.zeros((1, 2, 2))\n",
    "    \n",
    "output = FiniteDimKoopSysOutput(finite_dim_koop_sys)"
   ],
   "metadata": {
    "collapsed": false,
    "pycharm": {
     "name": "#%%\n"
    }
   },
   "execution_count": 37,
   "outputs": []
  },
  {
   "cell_type": "code",
   "source": [
    "from core.controllers import FBLinController, LQRController\n",
    "q, r = 5, 1\n",
    "Q_fb = q * np.identity(4)\n",
    "R_fb = r*np.identity(2)\n",
    "lqr = LQRController.build(output, Q_fb, R_fb)\n",
    "fb_lin = FBLinController(output, lqr)"
   ],
   "metadata": {
    "collapsed": false,
    "pycharm": {
     "name": "#%%\n"
    }
   },
   "execution_count": 38,
   "outputs": []
  },
  {
   "cell_type": "markdown",
   "source": [
    "Finally, we collect the data and store the state and action pairs that will be used to learn dynamics models later on:"
   ],
   "metadata": {
    "collapsed": false
   }
  },
  {
   "cell_type": "code",
   "execution_count": 39,
   "outputs": [
    {
     "name": "stdout",
     "output_type": "stream",
     "text": [
      "[ 1.84986266 -1.0103985   1.81519175  1.90814639]\n",
      "[-0.18276614  0.06438683 -0.830326    1.89088349]\n",
      "[-1.16822389 -1.7359706   0.95388928 -1.56096624]\n",
      "[-1.4722194  -0.46439274  1.54669968  0.44614443]\n",
      "[ 0.96182673 -1.4799193  -1.66260409  0.07884943]\n",
      "[-1.44165347  1.99021332  1.92787194  0.27732343]\n",
      "[ 0.35648502 -0.46292214  1.57165985 -1.97155482]\n",
      "[-1.87642195 -0.94503657 -1.35204035 -0.97009329]\n",
      "[-0.68476631 -1.31098287 -1.77933958  1.95624455]\n",
      "[ 1.20150372 -1.82675229 -1.27796241  1.72594938]\n",
      "[ 1.03546032  0.49580197  1.47652478 -1.70813472]\n",
      "[-1.9210677   1.49717364  1.51146773 -0.3811907 ]\n",
      "[-1.61303052 -0.17053929  0.0268925  -1.1997332 ]\n",
      "[ 1.31877794  1.73039475 -1.36169771  1.19619061]\n",
      "[-1.78276767  1.49954824  0.4187397   0.3123516 ]\n",
      "[-1.15485388  0.54153525  0.72291575  1.39948865]\n",
      "[0.63247539 1.03098745 0.45248529 1.71016341]\n",
      "[ 1.85852051  1.53458771 -1.35935569  1.27132154]\n",
      "[ 0.13903325 -1.42901067 -0.56121418  0.78662829]\n",
      "[-0.65998005  1.27161376 -1.57304565 -0.71254157]\n",
      "[ 0.29160661  0.19166525 -0.10963371 -0.11831261]\n",
      "[ 1.64842362 -0.9403894  -1.474112   -1.55648749]\n",
      "[0.21878112 0.51248584 1.95727266 1.10924626]\n",
      "[-1.59648731  0.40294591  1.90739449 -0.94643163]\n",
      "[ 0.40897471 -1.80895909 -0.68065053 -1.67095289]\n",
      "[ 1.51420167  1.30800253 -0.13975695 -1.1259071 ]\n",
      "[-0.84130464 -0.8927255   1.14960452  1.92678166]\n",
      "[ 1.6537206  -0.18552976 -0.25445514 -0.26262545]\n",
      "[-1.93141504  1.43674304 -1.44675787  0.55435182]\n",
      "[ 0.27592903  0.54003762  0.94460174 -0.77039042]\n",
      "[ 1.39834328  1.27892985 -0.11081219  0.43945549]\n",
      "[-0.9972543   0.27284105 -1.12135069 -0.58524825]\n",
      "[ 1.35712412 -0.35983675  0.66518559 -0.2345098 ]\n",
      "[ 1.48216856  1.65044367 -0.3734641   0.49728354]\n",
      "[-0.4437127  -0.01874424 -1.68959353  1.87808293]\n",
      "[-1.43054421 -0.65993563  0.47560176 -1.39677832]\n",
      "[ 1.1139467  -1.56746275 -0.28416422 -0.91376978]\n",
      "[-0.70532474  0.52294361 -0.47566425  1.2524268 ]\n",
      "[-1.78747229  1.42617606  1.6985143  -0.70554406]\n",
      "[ 1.72592844 -1.00685402 -1.2074633  -1.91806251]\n",
      "[-0.801376    0.88082751  0.8094262  -1.89772337]\n",
      "[-1.7781026   1.80830747 -1.80957882 -1.88611704]\n",
      "[ 1.80407202 -0.938119    1.47442323 -0.17243211]\n",
      "[-1.77356254 -1.85828245  1.66954289 -1.39126889]\n",
      "[ 0.06361908 -1.33802507  1.58512764 -1.11797787]\n",
      "[-1.95045044  1.7049528   1.34177756  1.32708783]\n",
      "[1.95853138 1.35507778 0.35563013 0.37143092]\n",
      "[ 1.15569843 -1.39048711 -1.1848166  -0.55775714]\n",
      "[-1.16556429  0.7057758   0.84466016 -1.96901184]\n",
      "[-1.02867798 -1.57427814  1.80342366 -0.84313654]\n"
     ]
    }
   ],
   "source": [
    "import random as rn\n",
    "from koopman_core.controllers.perturbed_controller import PerturbedController\n",
    "\n",
    "Ntraj = 50                                                 # Number of trajectories to collect data from\n",
    "dt = 1.0e-2                                                 # Time step length\n",
    "N = int(5./dt)                                              # Number of time steps\n",
    "t_eval = dt * np.arange(N + 1)                              # Simulation time points\n",
    "traj_bounds = [2., 2., 2., 2.]                                        # State constraints, [q, q_dot]\n",
    "pert_noise_var = .5                                        # Variance of controller perturbation noise\n",
    "\n",
    "pert_lqr_controller = PerturbedController(finite_dim_koop_sys, fb_lin, pert_noise_var)\n",
    "\n",
    "xs, us, us_nom, ts = [], [], [], []\n",
    "for ii in range(Ntraj):\n",
    "    x_0 = np.asarray([rn.uniform(-i,i)  for i in traj_bounds])\n",
    "    print(x_0)\n",
    "    xs_tmp, us_tmp = finite_dim_koop_sys.simulate(x_0, pert_lqr_controller, t_eval)\n",
    "    xs.append(xs_tmp)\n",
    "    us.append(us_tmp)\n",
    "    ts.append(t_eval)\n",
    "\n",
    "xs, us, ts = np.array(xs), np.array(us), np.array(ts)\n"
   ],
   "metadata": {
    "collapsed": false,
    "pycharm": {
     "name": "#%%\n"
    }
   }
  },
  {
   "cell_type": "markdown",
   "source": [
    "### Learn lifted linear state space model with EDMD"
   ],
   "metadata": {
    "collapsed": false
   }
  },
  {
   "cell_type": "code",
   "execution_count": 40,
   "outputs": [],
   "source": [
    "from koopman_core.learning.bilinear_basis_functions import BilinearBasis\n",
    "from koopman_core.learning.utils import differentiate_vec\n",
    "from sklearn.preprocessing import PolynomialFeatures\n",
    "\n",
    "n, degree = 4, 2\n",
    "poly_features = PolynomialFeatures(degree=2)\n",
    "poly_features.fit(np.zeros((1,n)))\n",
    "n_lift = poly_features.n_output_features_\n",
    "edmd_basis = lambda x: poly_features.transform(x)\n",
    "\n",
    "zs = np.array([edmd_basis(xs[ii,:-1,:]) for ii in range(Ntraj)])\n",
    "zs_u = np.concatenate((zs, us), axis=2)\n",
    "zs_dot = np.array([differentiate_vec(zs[ii,:,:], t_eval[:-1]) for ii in range(Ntraj)])  #Numerical differentiate lifted state\n",
    "\n",
    "order = 'F'\n",
    "n_data_pts = Ntraj*(t_eval.shape[0]-1)\n",
    "xs_flat = xs[:,:-1,:].T.reshape((n, n_data_pts),order=order)\n",
    "zs_flat = zs.T.reshape((n_lift, n_data_pts),order=order)\n",
    "zs_u_flat = zs_u.T.reshape((n_lift+m, n_data_pts),order=order)\n",
    "zs_dot_flat = zs_dot.T.reshape((n_lift, n_data_pts),order=order)"
   ],
   "metadata": {
    "collapsed": false,
    "pycharm": {
     "name": "#%%\n"
    }
   }
  },
  {
   "cell_type": "code",
   "execution_count": 41,
   "outputs": [],
   "source": [
    "from sklearn import linear_model, preprocessing\n",
    "from core.dynamics.linear_system_dynamics import LinearSystemDynamics\n",
    "\n",
    "l1_edmd = 7e-2\n",
    "edmd_model = linear_model.MultiTaskLasso(alpha=l1_edmd, fit_intercept=False, selection='random')\n",
    "#edmd_model = linear_model.MultiTaskLassoCV(fit_intercept=False, selection='random')\n",
    "edmd_standardizer = preprocessing.StandardScaler(with_mean=False)\n",
    "edmd_standardizer.fit(zs_u_flat.T)\n",
    "X_edmd = edmd_standardizer.transform(zs_u_flat.T)\n",
    "y_edmd = zs_dot_flat.T\n",
    "edmd_model.fit(X_edmd, y_edmd)\n",
    "#print('edmd l1: ', edmd_model.alpha_)\n",
    "\n",
    "# Parse learned coefficients into appropriate dynamics matrices\n",
    "coefs_edmd = edmd_standardizer.transform(edmd_model.coef_)\n",
    "A_edmd = coefs_edmd[:,:n_lift]\n",
    "B_edmd = coefs_edmd[:,n_lift:]\n",
    "\n",
    "C_h_edmd = np.zeros((n,n_lift))\n",
    "C_h_edmd[:,1:n+1] = np.eye(n)\n",
    "edmd_sys = LinearSystemDynamics(A_edmd, B_edmd)"
   ],
   "metadata": {
    "collapsed": false,
    "pycharm": {
     "name": "#%%\n"
    }
   }
  },
  {
   "cell_type": "markdown",
   "source": [
    "### Learn lifted bilinear state space model with bEDMD"
   ],
   "metadata": {
    "collapsed": false
   }
  },
  {
   "cell_type": "code",
   "execution_count": 42,
   "outputs": [],
   "source": [
    "bedmd_basis = BilinearBasis(n, m, n_lift, edmd_basis)\n",
    "bedmd_basis.construct_basis()\n",
    "\n",
    "zs_bu = np.array([bedmd_basis.lift(xs[ii,:-1,:], us[ii,:,:]) for ii in range(Ntraj)])\n",
    "zs_bu_flat = zs_bu.T.reshape(((m+1)*n_lift, n_data_pts),order=order)"
   ],
   "metadata": {
    "collapsed": false,
    "pycharm": {
     "name": "#%%\n"
    }
   }
  },
  {
   "cell_type": "code",
   "execution_count": 43,
   "outputs": [],
   "source": [
    "l1_bedmd = 1e-1\n",
    "bedmd_model = linear_model.MultiTaskLasso(alpha=l1_bedmd, fit_intercept=False, selection='random')\n",
    "#bedmd_model = linear_model.MultiTaskLassoCV(fit_intercept=False, selection='random')\n",
    "bedmd_standardizer = preprocessing.StandardScaler(with_mean=False)\n",
    "bedmd_standardizer.fit(zs_bu_flat.T)\n",
    "X_bedmd = bedmd_standardizer.transform(zs_bu_flat.T)\n",
    "y_bedmd = zs_dot_flat.T\n",
    "bedmd_model.fit(X_bedmd, y_bedmd)\n",
    "#print('bedmd l1: ', bedmd_model.alpha_)\n",
    "\n",
    "# Parse learned coefficients into appropriate dynamics matrices\n",
    "coefs_bedmd = bedmd_standardizer.transform(bedmd_model.coef_)\n",
    "F_bedmd = coefs_bedmd[:,:n_lift]\n",
    "G_bedmd = []\n",
    "for ii in range(m):\n",
    "    G_bedmd.append(coefs_bedmd[:,n_lift*(ii+1):n_lift*(ii+2)])\n",
    "\n",
    "C_h_bedmd = np.zeros((n,n_lift))\n",
    "C_h_bedmd[:,1:n+1] = np.eye(n)\n",
    "bedmd_sys = BilinearDynamics(n_lift, m, F_bedmd, G_bedmd, edmd_basis)"
   ],
   "metadata": {
    "collapsed": false,
    "pycharm": {
     "name": "#%%\n"
    }
   }
  },
  {
   "cell_type": "markdown",
   "source": [
    "### Compare prediction performance of the linear and bilinear models"
   ],
   "metadata": {
    "collapsed": false
   }
  },
  {
   "cell_type": "code",
   "execution_count": 44,
   "outputs": [
    {
     "data": {
      "text/plain": "<Figure size 720x432 with 4 Axes>",
      "image/png": "[encoded data removed]"
     },
     "metadata": {
      "needs_background": "light"
     },
     "output_type": "display_data"
    },
    {
     "name": "stdout",
     "output_type": "stream",
     "text": [
      "MSE EDMD:  0.013832630500855805 \n",
      "MSE bilinear EDMD:  0.015551478414918218 \n",
      "Improvement:  -12.426037939465463  percent\n"
     ]
    }
   ],
   "source": [
    "from matplotlib import pyplot as plt\n",
    "from koopman_core.controllers.openloop_controller import OpenLoopController\n",
    "\n",
    "Ntraj_test = 10\n",
    "xs_test, xs_edmd_test, xs_bedmd_test, us_test, ts_test = [], [], [], [], []\n",
    "for ii in range(Ntraj_test):\n",
    "    x_0 = np.asarray([rn.uniform(-i,i)  for i in traj_bounds])\n",
    "    xs_tmp, us_tmp = finite_dim_koop_sys.simulate(x_0, pert_lqr_controller, t_eval)\n",
    "\n",
    "    ol_controller = OpenLoopController(bedmd_sys, us_tmp, t_eval[:-1])\n",
    "    z_0 = edmd_basis(np.atleast_2d(x_0)).squeeze()\n",
    "\n",
    "    zs_edmd_tmp, _ = edmd_sys.simulate(z_0, ol_controller, t_eval[:-1])\n",
    "    xs_edmd_tmp = np.dot(C_h_edmd, zs_edmd_tmp.T)\n",
    "\n",
    "    zs_bedmd_tmp, _ = bedmd_sys.simulate(z_0, ol_controller, t_eval[:-1])\n",
    "    xs_bedmd_tmp = np.dot(C_h_bedmd, zs_bedmd_tmp.T)\n",
    "\n",
    "    xs_test.append(xs_tmp.T)\n",
    "    xs_edmd_test.append(xs_edmd_tmp)\n",
    "    xs_bedmd_test.append(xs_bedmd_tmp)\n",
    "    us_test.append(us_tmp)\n",
    "    ts_test.append(t_eval)\n",
    "\n",
    "xs_test, xs_edmd_test, xs_bedmd_test, us_test, ts_test = np.array(xs_test), np.array(xs_edmd_test), np.array(xs_bedmd_test), np.array(us_test), np.array(ts_test)\n",
    "\n",
    "error_edmd = xs_test[:,:,:-1] - xs_edmd_test\n",
    "error_edmd_mean = np.mean(error_edmd, axis=0)\n",
    "error_edmd_std = np.std(error_edmd, axis=0)\n",
    "mse_edmd = np.mean(np.mean(np.mean(np.square(error_edmd))))\n",
    "\n",
    "error_bedmd = xs_test[:,:,:-1] - xs_bedmd_test\n",
    "error_bedmd_mean = np.mean(error_bedmd, axis=0)\n",
    "error_bedmd_std = np.std(error_bedmd, axis=0)\n",
    "mse_bedmd = np.mean(np.mean(np.mean(np.square(error_bedmd))))\n",
    "\n",
    "fig, axs = plt.subplots(2, 2, figsize=(10, 6))\n",
    "ylabels = ['$q_1$', '$q_2$', '$\\dot{q}_1$', '$\\dot{q}_2$']\n",
    "fig.suptitle('Open loop predicition error of EDMD and bilinear EDMD models', y=1.025, fontsize=18)\n",
    "for ax, err_edmd_mean, err_edmd_std, err_bedmd_mean, err_bedmd_std, ylabel in zip(axs.flatten(), error_edmd_mean, error_edmd_std, error_bedmd_mean, error_bedmd_std, ylabels):\n",
    "    ax.plot(ts_test[0,:-1], err_edmd_mean, linewidth=3, label='mean, EDMD')\n",
    "    ax.fill_between(ts_test[0,:-1], err_edmd_mean-err_edmd_std, err_edmd_mean+err_edmd_std, alpha=0.2, label='std, EDMD')\n",
    "    ax.plot(ts_test[0,:-1], err_bedmd_mean, linewidth=3, label='mean, bEDMD')\n",
    "    ax.fill_between(ts_test[0,:-1], err_bedmd_mean-err_bedmd_std, err_bedmd_mean+err_bedmd_std, alpha=0.2, label='std, bEDMD')\n",
    "    ax.set_ylabel(ylabel, fontsize=16)\n",
    "    ax.grid()\n",
    "    ax.set_xlabel('$t$ (sec)', fontsize=16)\n",
    "\n",
    "ax.legend()\n",
    "plt.tight_layout()\n",
    "plt.show()\n",
    "print('MSE EDMD: ', mse_edmd, '\\nMSE bilinear EDMD: ', mse_bedmd, '\\nImprovement: ', (1-mse_bedmd/mse_edmd)*100, ' percent')"
   ],
   "metadata": {
    "collapsed": false,
    "pycharm": {
     "name": "#%%\n"
    }
   }
  },
  {
   "cell_type": "code",
   "execution_count": 44,
   "outputs": [],
   "source": [
    "\n"
   ],
   "metadata": {
    "collapsed": false,
    "pycharm": {
     "name": "#%%\n"
    }
   }
  }
 ],
 "metadata": {
  "kernelspec": {
   "display_name": "Python 3",
   "language": "python",
   "name": "python3"
  },
  "language_info": {
   "codemirror_mode": {
    "name": "ipython",
    "version": 2
   },
   "file_extension": ".py",
   "mimetype": "text/x-python",
   "name": "python",
   "nbconvert_exporter": "python",
   "pygments_lexer": "ipython2",
   "version": "2.7.6"
  }
 },
 "nbformat": 4,
 "nbformat_minor": 0
}