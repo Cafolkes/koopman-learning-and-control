{
 "cells": [
  {
   "cell_type": "markdown",
   "metadata": {},
   "source": [
    "$\\newcommand{\\mb}[1]{\\mathbf{ #1 }}$\n",
    "$\\newcommand{\\bs}[1]{\\boldsymbol{ #1 }}$\n",
    "$\\newcommand{\\bb}[1]{\\mathbb{ #1 }}$\n",
    "\n",
    "$\\newcommand{\\R}{\\bb{R}}$\n",
    "\n",
    "$\\newcommand{\\ip}[2]{\\left\\langle #1, #2 \\right\\rangle}$\n",
    "$\\newcommand{\\norm}[1]{\\left\\Vert #1 \\right\\Vert}$\n",
    "\n",
    "$\\newcommand{\\der}[2]{\\frac{\\mathrm{d} #1 }{\\mathrm{d} #2 }}$\n",
    "$\\newcommand{\\derp}[2]{\\frac{\\partial #1 }{\\partial #2 }}$\n",
    "\n",
    "# Finite Dimensional Koopman Bilinear System"
   ]
  },
  {
   "cell_type": "markdown",
   "metadata": {},
   "source": [
    "Consider a nonlinear dynamical system that allows an exact finite dimensional Koopman canonical transform such that the control-affine dynamics can be transformed to a bilinear system. Consider the dynamical system "
   ]
  },
  {
   "cell_type": "markdown",
   "metadata": {},
   "source": [
    "\\begin{equation}\n",
    "\\mb{\\dot{x}}=\\mb{f}_0(\\mb x) + \\mb f_1 ( \\mb x) u_1 + \\mb f_2(\\mb x) u_2, \n",
    "\\end{equation}"
   ]
  },
  {
   "cell_type": "markdown",
   "metadata": {},
   "source": [
    "where we for this example choose $\\mb f_0, \\mb f_1$ as follows:"
   ]
  },
  {
   "cell_type": "markdown",
   "metadata": {},
   "source": [
    "\\begin{equation}\n",
    "\\mb f_0(\\mb x) = \\begin{bmatrix} x_3 \\\\ x_4 \\\\ \\lambda x_3 \\\\ \\mu x_4 + (2 \\lambda - \\mu) c x_3^2 \\end{bmatrix}, \\qquad\n",
    "\\mb f_1(\\mb x) = \\begin{bmatrix} 0 \\\\ 0 \\\\ 1 \\\\ 0 \\end{bmatrix}, \\qquad\n",
    "\\mb f_2(\\mb x) = \\begin{bmatrix} 0 \\\\ 0 \\\\ 0 \\\\ x_1+1 \\end{bmatrix}, \n",
    "\\end{equation}   "
   ]
  },
  {
   "cell_type": "markdown",
   "metadata": {},
   "source": [
    "and $\\lambda, \\mu, c \\in \\mathbb{R}$ are scalar parameters of the system. Setting $ \\mb x = [q_1 \\, q_2 \\, \\dot{q_1} \\, \\dot{q_2}]^T$, \n",
    "these equations of motion can be expressed as robotic dynamics of the form $\\mb{D}(\\mb{q})\\ddot{\\mb{q}} + \\mb{C}(\\mb{q}, \\dot{\\mb{q}})\\dot{\\mb{q}} + \\mb{G}(\\mb{q}) = \\mb{B}\\mb{u}$, where $\\mb D$ is the inertia matrix, $\\mb C$ is the matrix of Coriolis terms, $\\mb G$ is the matrix of gravitational terms, and $\\mb B$ is the static actuation matrix. Rewriting $\\mb f_0, \\mb f_1, \\mb f_2$ in terms of $\\mb D, \\mb C, \\mb G,$ and $\\mb B$ yield\n",
    "\n"
   ]
  },
  {
   "cell_type": "markdown",
   "metadata": {},
   "source": [
    "\\begin{equation}\n",
    "\\mb D(\\mb q) = \\begin{bmatrix} 1 & 0\\\\ 0 &  \\frac{1}{q_1+1} \\end{bmatrix}, \n",
    "\\qquad \\mb C(\\mb q, \\mb{\\dot{q}}) = -\\begin{bmatrix} \\lambda & 0 \\\\ \\frac{1}{q_1 + 1}(2 \\lambda - \\mu) c \\dot{q}_1 & \\frac{1}{q_1 +1} \\mu \\end{bmatrix}, \\qquad \n",
    "\\mb G(\\mb q) = \\begin{bmatrix} 0 \\\\ 0 \\end{bmatrix} \n",
    "\\qquad \\mb B = \\begin{bmatrix}1 & 0 \\\\ 0 & 1 \\end{bmatrix},\n",
    "\\end{equation}"
   ]
  },
  {
   "cell_type": "code",
   "execution_count": 1,
   "metadata": {},
   "outputs": [],
   "source": [
    "import numpy as np\n",
    "import sys\n",
    "sys.path.append('../../../')"
   ]
  },
  {
   "cell_type": "markdown",
   "metadata": {},
   "source": [
    "# Define experiment parameters"
   ]
  },
  {
   "cell_type": "code",
   "execution_count": 2,
   "metadata": {},
   "outputs": [],
   "source": [
    "from core.dynamics import RoboticDynamics\n",
    "\n",
    "class FiniteDimKoopSys(RoboticDynamics):\n",
    "    def __init__(self, lambd, mu, c):\n",
    "        RoboticDynamics.__init__(self, 2, 2)\n",
    "        self.params = lambd, mu, c\n",
    "    \n",
    "    def D(self, q):\n",
    "        return np.array([[1, 0],[0, (q[0]+1)**(-1)]])\n",
    "    \n",
    "    def C(self, q, q_dot):\n",
    "        labmd, mu, c = self.params\n",
    "        return -np.array([[lambd, 0], [(q[0]+1)**(-1)*(2*lambd - mu)*c*q_dot[0], (q[0]+1)**(-1)*mu]])\n",
    "    \n",
    "    def G(self, q):\n",
    "        return np.array([0, 0])\n",
    "    \n",
    "    def B(self, q):\n",
    "        return np.array([[1, 0], [0, 1]])\n",
    "    \n",
    "class FiniteDimKoopSysDiscrete(FiniteDimKoopSys):\n",
    "    def __init__(self, lambd, mu, c, dt):\n",
    "        FiniteDimKoopSys.__init__(self, lambd, mu, c)\n",
    "        self.dt = dt\n",
    "\n",
    "    def eval_dot(self, x, u, t):\n",
    "        return x + self.dt*self.drift(x, t) + self.dt*np.dot(self.act(x, t),u)\n",
    "\n",
    "    def get_linearization(self, x0, x1, u0, t):\n",
    "        lambd, mu, c = self.params\n",
    "        A_lin = np.eye(self.n) + self.dt*np.array([[0, 0, 1, 0],\n",
    "                                            [0, 0, 0, 1],\n",
    "                                            [0, 0, lambd, 0],\n",
    "                                            [u0[1], 0, 2*(2*lambd-mu)*c*x0[2], mu]])\n",
    "\n",
    "        B_lin = self.dt*np.array([[0, 0],\n",
    "                          [0, 0],\n",
    "                          [1, 0],\n",
    "                          [0, x0[0]+1]])\n",
    "\n",
    "        if x1 is None:\n",
    "            x1 = A_lin@x0 + B_lin@u0\n",
    "\n",
    "        f_d = self.eval_dot(x0,u0,t)\n",
    "        r_lin = f_d - x1\n",
    "\n",
    "        return A_lin, B_lin, r_lin\n",
    "\n",
    "n, m = 4, 2\n",
    "lambd, mu, c = .3, .2, -.5\n",
    "finite_dim_koop_sys = FiniteDimKoopSys(lambd, mu, c)"
   ]
  },
  {
   "cell_type": "code",
   "execution_count": 3,
   "metadata": {},
   "outputs": [],
   "source": [
    "from koopman_core.dynamics import LinearLiftedDynamics\n",
    "\n",
    "A_lin = np.array([[0, 0, 1, 0],\n",
    "                  [0, 0, 0, 1],\n",
    "                  [0, 0, lambd, 0],\n",
    "                  [0, 0, 0, mu]])\n",
    "B_lin = np.array([[0, 0],\n",
    "                  [0, 0],\n",
    "                  [1, 0],\n",
    "                  [0, 1]])\n",
    "dt = 1e-2\n",
    "linearized_sys = LinearLiftedDynamics(A_lin, B_lin, np.eye(n), lambda x: x)\n",
    "\n",
    "# MPC parameters:\n",
    "umax = np.array([7.5, 7.5])\n",
    "umin = -umax\n",
    "xmax = np.array([6., 6., 5., 5.])\n",
    "xmin = -xmax\n",
    "Q_mpc = 1*np.diag([1, 1, 1e-1, 1e-1])\n",
    "QN_mpc = 1e4*np.eye(n)\n",
    "R_mpc = np.eye(m)\n",
    "traj_duration = 2\n",
    "traj_length = int(traj_duration/dt)\n",
    "\n",
    "# Design trajectory:\n",
    "x0 = np.array([0., 0., 0., 0.])\n",
    "set_pt = np.array([5., 3., 0., 0.])\n",
    "term_constraint = False\n",
    "\n",
    "# Define initial solution for SQP algorithm:\n",
    "x_init = np.linspace(x0, set_pt, int(traj_length)+1)\n",
    "u_init = np.zeros((m,traj_length)).T"
   ]
  },
  {
   "cell_type": "markdown",
   "metadata": {},
   "source": [
    "# Construct Koopman bilinear form of the system"
   ]
  },
  {
   "cell_type": "markdown",
   "metadata": {},
   "source": [
    "As a result of the careful construction of this system, there exists a Koopman canonical transform, $\\mb z = T(\\mb x)$ that exactly transforms the control-affine dynamics into a bilinear system. Consider the transformation:"
   ]
  },
  {
   "cell_type": "markdown",
   "metadata": {},
   "source": [
    "\\begin{equation}\n",
    "    T(\\mb q, \\mb{\\dot{q}}) = \\begin{bmatrix} \n",
    "    \\phi_1(\\mb q, \\mb{\\dot{q}})\\\\\n",
    "    \\phi_2(\\mb q, \\mb{\\dot{q}})\\\\\n",
    "    \\phi_3(\\mb q, \\mb{\\dot{q}})\\\\\n",
    "    \\phi_4(\\mb q, \\mb{\\dot{q}})\\\\\n",
    "    \\phi_5(\\mb q, \\mb{\\dot{q}})\\\\\n",
    "    \\phi_6(\\mb q, \\mb{\\dot{q}})\\\\\n",
    "    \\end{bmatrix}\n",
    "    = \\begin{bmatrix} \n",
    "    1\\\\\n",
    "    q_1 - \\frac{1}{\\lambda}\\dot{q}_1\\\\\n",
    "    q_2 - \\frac{1}{\\mu} \\dot{q}_2 + \\frac{(2 \\lambda - \\mu)c}{2\\lambda \\mu} \\dot{q}_1^2\\\\\n",
    "    \\dot{q}_1\\\\\n",
    "    \\dot{q}_2 - c \\dot{q}_1^2\\\\\n",
    "    \\dot{q}_1^2\\\\\n",
    "    \\end{bmatrix},\n",
    "\\end{equation}"
   ]
  },
  {
   "cell_type": "markdown",
   "metadata": {},
   "source": [
    "where $\\phi_1, \\phi_2, \\phi_3, \\phi_4, \\phi_5, \\phi_6$ are eigenfunctions of the Koopman operator associated with the drift \n",
    "vector field $\\mb f_0$. The matrix with the eigenvalue associated with the i-th eigenfunction on the i-th diagonal \n",
    "element is $F=\\text{diag}(0, 0, \\lambda, \\mu, 2 \\lambda, 0)$. Then, to reformulate the dynamics we have: "
   ]
  },
  {
   "cell_type": "markdown",
   "metadata": {},
   "source": [
    "\\begin{equation} \n",
    "L_{\\mb f_1} T(\\mb q, \\mb{\\dot{q}}) = \\begin{bmatrix} 0\\\\ -\\frac{1}{\\lambda}\\\\ \\frac{(2\\lambda - \\mu)c}{\\lambda \\mu}\\dot{q}_1\\\\ 1 \\\\ -2c\\dot{q}_1 \\\\ 2\\dot{q_1} \\end{bmatrix}, \\qquad \n",
    "L_{\\mb f_2} T(\\mb q, \\mb{\\dot{q}}) = \\begin{bmatrix} 0 \\\\ 0\\\\ -\\frac{1}{\\mu}(q_1 + 1)\\\\0 \\\\ q_1 + 1 \\\\ 0 \\end{bmatrix} \n",
    "\\end{equation}"
   ]
  },
  {
   "cell_type": "markdown",
   "metadata": {},
   "source": [
    "and the dynamics can be equivalently transformed to a bilinear form $\\mb{\\dot{z}} = F \\mb z + G_1\\mb z u_1 + G_2\\mb z u_2$ with "
   ]
  },
  {
   "cell_type": "markdown",
   "metadata": {},
   "source": [
    "\\begin{equation}\n",
    "F = \\begin{bmatrix} \n",
    "0 &0 & 0 & 0 & 0 & 0\\\\  \n",
    "0 & 0 & 0 & 0 & 0 & 0\\\\\n",
    "0 &0 & 0 & 0 & 0 & 0\\\\\n",
    "0 &0 & 0 & \\lambda & 0 & 0\\\\\n",
    "0 &0 & 0 & 0 & \\mu & 0 \\\\\n",
    "0 &0 & 0 & 0 & 0 & 2 \\lambda\\\\\n",
    "\\end{bmatrix}, \\qquad \n",
    "G_1 = \\begin{bmatrix} \n",
    "0 & 0 & 0 & 0 & 0 & 0\\\\\n",
    "-\\frac{1}{\\lambda}& 0 & 0 & 0 & 0 & 0\\\\\n",
    "0 & 0 & 0 & \\frac{(2\\lambda - \\mu)c}{\\lambda \\mu} & 0 & 0\\\\\n",
    "1 & 0 & 0 & 0 & 0 & 0\\\\\n",
    "0 & 0 & 0 & -2c & 0 & 0\\\\\n",
    "0 & 0 & 0 & 2 & 0 & 0\\\\  \n",
    "\\end{bmatrix}\n",
    ", \\qquad \n",
    "G_2 = \\begin{bmatrix} \n",
    "0 & 0 & 0 & 0 & 0 & 0\\\\\n",
    "0 & 0 &  0 & 0 & 0 & 0\\\\\n",
    " -\\frac{1}{\\mu} & -\\frac{1}{\\mu} & 0 &  -\\frac{1}{\\lambda \\mu} & 0 & 0\\\\\n",
    "0 & 0 & 0 & 0 & 0 & 0\\\\\n",
    "1 & 1 & 0 & \\frac{1}{\\lambda} & 0 & 0\\\\\n",
    "0 & 0 & 0 & 0 & 0 & 0\\\\  \n",
    "\\end{bmatrix}\n",
    "\\end{equation}"
   ]
  },
  {
   "cell_type": "code",
   "execution_count": 4,
   "metadata": {},
   "outputs": [],
   "source": [
    "from koopman_core.dynamics import BilinearLiftedDynamics\n",
    "\n",
    "F = np.array([[0, 0, 0, 0, 0, 0],\n",
    "              [0, 0, 0, 0, 0, 0],\n",
    "              [0, 0, 0, 0, 0, 0],\n",
    "              [0, 0, 0, lambd, 0, 0],\n",
    "              [0, 0, 0, 0, mu, 0],\n",
    "              [0, 0, 0, 0, 0, 2*lambd]])\n",
    "G_1 = np.array([[0, 0, 0, 0, 0, 0],\n",
    "                [-1/lambd, 0, 0, 0, 0, 0],\n",
    "                [0, 0, 0, (2*lambd - mu)*c/(lambd*mu), 0, 0],\n",
    "                [1, 0, 0, 0, 0, 0], \n",
    "                [0, 0, 0, -2*c, 0, 0], \n",
    "                [0, 0, 0, 2, 0, 0]])\n",
    "G_2 = np.array([[0, 0, 0, 0, 0, 0],\n",
    "                [0, 0, 0, 0, 0, 0],\n",
    "                [-1/mu, -1/mu, 0, -1/(lambd*mu), 0, 0],\n",
    "                [0, 0, 0, 0, 0, 0], \n",
    "                [1, 1, 0, 1/lambd, 0, 0], \n",
    "                [0, 0, 0, 0, 0, 0]])\n",
    "G = [G_1, G_2]\n",
    "phi_fun = lambda x: np.array([1,\n",
    "                            x[0,0] - 1/lambd*x[0,2],\n",
    "                            x[0,1] - 1/mu*x[0,3] + (2*lambd - mu)*c/(2*lambd*mu)*x[0,2]**2,\n",
    "                            x[0,2],\n",
    "                            x[0,3] - c*x[0,2]**2,\n",
    "                            x[0,2]**2])\n",
    "phi_fun_grad = lambda x: np.array([[0., 0., 0., 0.]\n",
    "                                   [1., 0., -1/lambd, 0.],\n",
    "                                   [0., 1., (2*lambd-mu)*c/(lambd*mu)*x[0,2], -1/mu],\n",
    "                                   [0., 0., 1., 0.],\n",
    "                                   [0., 0., -2*c*x[0,2], 1.],\n",
    "                                   [0., 0., 2*x[0,2], 0.]])\n",
    "\n",
    "C_q = np.array([[0, 1, 0, 1/lambd, 0, 0],\n",
    "                [0, 0, 1, 0, 1/mu, c/mu - ((2*lambd - mu)*c)/(2*lambd*mu)]])\n",
    "C_qdot = np.array([[0, 0, 0, 1, 0, 0],\n",
    "                   [0, 0, 0, 0, 1, c]])\n",
    "C = np.concatenate((C_q, C_qdot), axis=0)\n",
    "n_koop = 6\n",
    "\n",
    "koop_bilinear_sys = BilinearLiftedDynamics(n_koop, m, F, G, C, phi_fun)"
   ]
  },
  {
   "cell_type": "markdown",
   "metadata": {},
   "source": [
    "#### Verify that the Koopman Bilinear Form model and control-affine model are equivalent"
   ]
  },
  {
   "cell_type": "markdown",
   "metadata": {},
   "source": [
    "To verify that the models are in fact equivalent we sample a random control sequence and simulate both models forward with the same control sequence. As can be seen below, the resulting trajectories are equivalent."
   ]
  },
  {
   "cell_type": "code",
   "execution_count": 5,
   "metadata": {},
   "outputs": [
    {
     "data": {
      "image/png": "[encoded data removed]",
      "text/plain": [
       "<Figure size 1080x432 with 6 Axes>"
      ]
     },
     "metadata": {
      "needs_background": "light"
     },
     "output_type": "display_data"
    }
   ],
   "source": [
    "from matplotlib.pyplot import subplots, tight_layout, show\n",
    "from koopman_core.controllers.openloop_controller import OpenLoopController\n",
    "\n",
    "ol_controller = OpenLoopController(finite_dim_koop_sys, np.random.normal(size=(2,200)).T, np.arange(0,200)*dt)\n",
    "z0 = phi_fun(x0.reshape((1,-1)))\n",
    "xs, us = finite_dim_koop_sys.simulate(x0, ol_controller, np.arange(0,201)*dt)\n",
    "zs_koop, us_koop = koop_bilinear_sys.simulate(z0, ol_controller, np.arange(0,201)*dt)\n",
    "xs_koop = np.dot(C, zs_koop.T)\n",
    "\n",
    "_, axs = subplots(3, 2, figsize=(15, 6))\n",
    "ylabels = ['$q_1$', '$q_2$', '$\\\\dot{q}_1$', '$\\\\dot{q}_2$', '$u_1$', '$u_2$']\n",
    "\n",
    "for ax, data_fb, data_koop, ylabel in zip(axs.flatten(), np.vstack((xs[:-1,:].T, us.T)), np.vstack((xs_koop[:,:-1], us_koop.T)), ylabels):\n",
    "    ax.plot(np.arange(0,200)*dt, data_fb, linewidth=3, label='True system')\n",
    "    ax.plot(np.arange(0,200)*dt, data_koop, linewidth=3, label='KCT')\n",
    "    ax.set_ylabel(ylabel, fontsize=16)\n",
    "    ax.grid()\n",
    "    ax.set_xlabel('$t$ (sec)', fontsize=16)\n",
    "    ax.legend()\n",
    "    \n",
    "tight_layout()\n",
    "show()"
   ]
  },
  {
   "cell_type": "markdown",
   "metadata": {},
   "source": [
    "# Design model predictive controllers"
   ]
  },
  {
   "cell_type": "code",
   "execution_count": 6,
   "metadata": {},
   "outputs": [],
   "source": [
    "solver_settings = {}\n",
    "solver_settings['gen_embedded_ctrl'] = False\n",
    "solver_settings['warm_start'] = True\n",
    "solver_settings['polish'] = True\n",
    "solver_settings['scaling'] = True\n",
    "solver_settings['adaptive_rho'] = True\n",
    "solver_settings['check_termination'] = 25\n",
    "solver_settings['max_iter'] = 4000\n",
    "solver_settings['eps_abs'] = 1e-6\n",
    "solver_settings['eps_rel'] = 1e-6\n",
    "solver_settings['linsys_solver'] = 'qdldl'"
   ]
  },
  {
   "cell_type": "markdown",
   "metadata": {},
   "source": [
    "#### Linear model predictive controller"
   ]
  },
  {
   "cell_type": "code",
   "execution_count": 7,
   "metadata": {},
   "outputs": [],
   "source": [
    "from koopman_core.controllers import MPCController\n",
    "\n",
    "controller_lmpc = MPCController(linearized_sys, traj_length, dt, umin, umax, xmin, xmax, Q_mpc, R_mpc, QN_mpc, set_pt, terminal_constraint=term_constraint, add_slack=True)"
   ]
  },
  {
   "cell_type": "markdown",
   "metadata": {},
   "source": [
    "#### Bilinear model predictive controller"
   ]
  },
  {
   "cell_type": "code",
   "execution_count": 8,
   "metadata": {},
   "outputs": [],
   "source": [
    "from koopman_core.controllers import NonlinearMPCController, BilinearMPCController\n",
    "\n",
    "# Define rough discrete-time model:\n",
    "A_d = np.eye(n_koop) + koop_bilinear_sys.A*dt\n",
    "B_d = [b*dt for b in koop_bilinear_sys.B]\n",
    "kbf_d = BilinearLiftedDynamics(n_koop, m, A_d, B_d, C, koop_bilinear_sys.basis, continuous_mdl=False, dt=dt)\n",
    "\n",
    "# Define kbf controller:\n",
    "controller_knmpc = BilinearMPCController(kbf_d, traj_length, dt, umin, umax, xmin, xmax, Q_mpc, R_mpc, QN_mpc, set_pt, solver_settings, terminal_constraint=term_constraint)\n",
    "z0 = phi_fun(x0.reshape((1,-1)))\n",
    "z_init = np.array([phi_fun(x.reshape((1,-1))) for x in x_init])\n",
    "controller_knmpc.construct_controller(z_init, u_init)"
   ]
  },
  {
   "cell_type": "markdown",
   "metadata": {},
   "source": [
    "#### Nonlinear model predictive controller"
   ]
  },
  {
   "cell_type": "code",
   "execution_count": 9,
   "metadata": {},
   "outputs": [],
   "source": [
    "finite_dim_koop_sys_d = FiniteDimKoopSysDiscrete(lambd, mu, c, dt)\n",
    "controller_nmpc = NonlinearMPCController(finite_dim_koop_sys_d, traj_length, dt, umin, umax, xmin, xmax, Q_mpc, R_mpc, QN_mpc, set_pt, solver_settings, terminal_constraint=term_constraint)\n",
    "controller_nmpc.construct_controller(x_init, u_init)"
   ]
  },
  {
   "cell_type": "markdown",
   "metadata": {},
   "source": [
    "# Evaluate performance of controllers for trajectory generation"
   ]
  },
  {
   "cell_type": "markdown",
   "metadata": {},
   "source": [
    "#### Design trajectories with the constructed MPCs"
   ]
  },
  {
   "cell_type": "code",
   "execution_count": 10,
   "metadata": {},
   "outputs": [
    {
     "name": "stderr",
     "output_type": "stream",
     "text": [
      "/Users/carlaxelfolkestad/OneDrive - California Institute of Technology/Research/Learning to fly/Code/koopman-learning-control/koopman_core/controllers/nonlinear_mpc_controller.py:156: RuntimeWarning: divide by zero encountered in double_scalars\n",
      "  while (iter == 0 or np.linalg.norm(u_prev - self.cur_u) / np.linalg.norm(u_prev) > eps) and iter < max_iter:\n"
     ]
    }
   ],
   "source": [
    "max_iter = 50\n",
    "\n",
    "controller_lmpc.eval(x0, 0)\n",
    "xr_lmpc = controller_lmpc.parse_result()\n",
    "ur_lmpc = controller_lmpc.get_control_prediction()\n",
    "\n",
    "controller_knmpc.solve_to_convergence(z0, 0., z_init, u_init, max_iter=max_iter)\n",
    "xr_knmpc = koop_bilinear_sys.C@controller_knmpc.get_state_prediction().T\n",
    "ur_knmpc = controller_knmpc.get_control_prediction().T\n",
    "\n",
    "controller_nmpc.solve_to_convergence(x0, 0., x_init, u_init, max_iter=max_iter)\n",
    "xr_nmpc = controller_nmpc.get_state_prediction().T\n",
    "ur_nmpc = controller_nmpc.get_control_prediction().T"
   ]
  },
  {
   "cell_type": "markdown",
   "metadata": {},
   "source": [
    "#### Simulate designed trajectories open-loop"
   ]
  },
  {
   "cell_type": "code",
   "execution_count": null,
   "metadata": {},
   "outputs": [],
   "source": [
    "from koopman_core.controllers import OpenLoopController\n",
    "t_eval = np.arange(0,traj_length+1)*dt\n",
    "ol_controller_lmpc = OpenLoopController(finite_dim_koop_sys, ur_lmpc.T, t_eval[:-1])\n",
    "xs_lmpc, us_lmpc = finite_dim_koop_sys.simulate(x0, ol_controller_lmpc, t_eval)\n",
    "xs_lmpc, us_lmpc = xs_lmpc.T, us_lmpc.T\n",
    "\n",
    "ol_controller_knmpc = OpenLoopController(finite_dim_koop_sys, ur_knmpc.T, t_eval[:-1])\n",
    "xs_knmpc, us_knmpc = finite_dim_koop_sys.simulate(x0, ol_controller_knmpc, t_eval)\n",
    "xs_knmpc, us_knmpc = xs_knmpc.T, us_knmpc.T\n",
    "\n",
    "ol_controller_nmpc = OpenLoopController(finite_dim_koop_sys, ur_nmpc.T, t_eval[:-1])\n",
    "xs_nmpc, us_nmpc = finite_dim_koop_sys.simulate(x0, ol_controller_nmpc, t_eval)\n",
    "xs_nmpc, us_nmpc = xs_nmpc.T, us_nmpc.T"
   ]
  },
  {
   "cell_type": "markdown",
   "metadata": {},
   "source": [
    "#### Plot/analyze the results"
   ]
  },
  {
   "cell_type": "code",
   "execution_count": null,
   "metadata": {
    "scrolled": false
   },
   "outputs": [],
   "source": [
    "import matplotlib.pyplot as plt\n",
    "from matplotlib.ticker import MaxNLocator\n",
    "from tabulate import tabulate\n",
    "\n",
    "plot_inds = [0, 2, 1, 3, 0, 1]\n",
    "subplot_inds = [1, 2, 4, 5, 3, 6]\n",
    "labels = ['$x_1$ (m)', '$x_2$ (m)', '$\\\\dot{x}_1$ (m/s)','$\\\\dot{x}_2$ (m/s)','$F_1$ (N)','$F_2$ (N)']\n",
    "colors = ['tab:blue', 'tab:orange', 'tab:brown']\n",
    "\n",
    "plt.figure(figsize=(15,8))\n",
    "plt.suptitle('Trajectory designed with model predictive controllers\\nsolid lines - designed trajectory | dashed lines - open loop simulated trajectory | black dotted lines - state/actuation bounds')\n",
    "for ii in range(6):\n",
    "    ind = plot_inds[ii]\n",
    "    if ii < 4:\n",
    "        plt.subplot(2,3,subplot_inds[ii])\n",
    "        plt.plot(t_eval, xr_lmpc[ind,:], colors[0], label='Linear MPC')\n",
    "        plt.plot(t_eval, xr_knmpc[ind, :], colors[1], label='Bilinear MPC')\n",
    "        plt.plot(t_eval, xr_nmpc[ind,:], colors[2], label='Nonlinear MPC')\n",
    "\n",
    "        plt.plot(t_eval, xs_lmpc[ind,:], '--', color=colors[0])\n",
    "        plt.plot(t_eval, xs_knmpc[ind, :], '--', color=colors[1])\n",
    "        plt.plot(t_eval, xs_nmpc[ind,:], '--', color=colors[2])\n",
    "\n",
    "        plt.plot([0, 2.], [xmax[ind], xmax[ind]], ':k')\n",
    "        plt.plot([0, 2.], [xmin[ind], xmin[ind]], ':k')\n",
    "        plt.scatter(t_eval[0], x0[ind], color='g')\n",
    "        plt.scatter(t_eval[-1], set_pt[ind], color='r')\n",
    "        plt.ylabel(labels[ind])\n",
    "        plt.ylim(xmin[ind]-0.1,xmax[ind]+0.1)\n",
    "    else:\n",
    "        ax = plt.subplot(2,3,subplot_inds[ii])\n",
    "        plt.plot(t_eval[:-1],ur_lmpc[ind,:], color=colors[0], label='Linear MPC')\n",
    "        plt.plot(t_eval[:-1], ur_knmpc[ind, :], color=colors[1], label='Bilinear MPC')\n",
    "        plt.plot(t_eval[:-1],ur_nmpc[ind,:], color=colors[2], label='Nonlinear MPC')\n",
    "        plt.plot([0, 2.], [umax[ind], umax[ind]], ':k')\n",
    "        plt.plot([0, 2.], [umin[ind], umin[ind]], ':k')\n",
    "        plt.ylabel(labels[ii])\n",
    "        ax.yaxis.set_major_locator(MaxNLocator(integer=True))\n",
    "        if subplot_inds[ii]==3:\n",
    "            plt.legend(loc='upper right', bbox_to_anchor=(0.975, 0.95), frameon=False)\n",
    "    if subplot_inds[ii] == 4 or subplot_inds[ii] == 5 or subplot_inds[ii] == 6:\n",
    "        plt.xlabel('Time (sec)')\n",
    "            \n",
    "plt.show()\n",
    "\n",
    "cost_ref_lmpc = (xr_lmpc[:,-1]-set_pt).T@QN_mpc@(xr_lmpc[:,-1]-set_pt) + np.sum(np.diag(ur_lmpc.T@R_mpc@ur_lmpc))\n",
    "cost_ref_knmpc = (xr_knmpc[:,-1]-set_pt).T@QN_mpc@(xr_knmpc[:,-1]-set_pt) + np.sum(np.diag(ur_knmpc.T@R_mpc@ur_knmpc))\n",
    "cost_ref_nmpc = (xr_nmpc[:,-1]-set_pt).T@QN_mpc@(xr_nmpc[:,-1]-set_pt) + np.sum(np.diag(ur_nmpc.T@R_mpc@ur_nmpc))\n",
    "\n",
    "cost_ol_lmpc = (xs_lmpc[:,-1]-set_pt).T@QN_mpc@(xs_lmpc[:,-1]-set_pt) + np.sum(np.diag(ur_lmpc.T@R_mpc@ur_lmpc))\n",
    "cost_ol_knmpc = (xs_knmpc[:,-1]-set_pt).T@QN_mpc@(xs_knmpc[:,-1]-set_pt) + np.sum(np.diag(ur_knmpc.T@R_mpc@ur_knmpc))\n",
    "cost_ol_nmpc = (xs_nmpc[:,-1]-set_pt).T@QN_mpc@(xs_nmpc[:,-1]-set_pt) + np.sum(np.diag(ur_nmpc.T@R_mpc@ur_nmpc))\n",
    "\n",
    "print('Quadratic cost (normalized by NMPC cost) of designed and realized trajectories designed with each MPC:\\n')\n",
    "print(tabulate([['Linear MPC', cost_ref_lmpc/cost_ref_nmpc, cost_ol_lmpc/cost_ol_nmpc], \n",
    "                ['Koopman bilinear MPC', cost_ref_knmpc/cost_ref_nmpc, cost_ol_knmpc/cost_ol_nmpc],\n",
    "                ['Nonlinear MPC', 1, 1]], \n",
    "               headers=['Designed trajectory', 'Realized trajectory']))"
   ]
  },
  {
   "cell_type": "markdown",
   "metadata": {},
   "source": [
    "#### Study evolution of the solution after each iteration of the SQP-algorithm"
   ]
  },
  {
   "cell_type": "code",
   "execution_count": null,
   "metadata": {},
   "outputs": [],
   "source": [
    "n_iter = min(len(controller_nmpc.x_iter),len(controller_knmpc.x_iter))\n",
    "\n",
    "# Calculate cost after each iteration:\n",
    "iter_cost_nmpc, iter_cost_knmpc = [], []\n",
    "\n",
    "ol_controller_init = OpenLoopController(finite_dim_koop_sys, u_init, t_eval[:-1])\n",
    "xs_init, _ = finite_dim_koop_sys.simulate(x0, ol_controller_init, t_eval)\n",
    "xs_init, us_init = xs_init.T, u_init.T\n",
    "init_cost = (xs_init[:,-1]-set_pt).T@QN_mpc@(xs_init[:,-1]-set_pt) + np.sum(np.diag(us_init.T@R_mpc@us_init))\n",
    "iter_cost_nmpc = [init_cost]\n",
    "iter_cost_knmpc = [init_cost]\n",
    "\n",
    "for ii in range(n_iter):\n",
    "    ur_knmpc_iter = controller_knmpc.u_iter[ii].T\n",
    "    ol_controller_knmpc_iter = OpenLoopController(finite_dim_koop_sys, ur_knmpc_iter, t_eval[:-1])\n",
    "    xs_knmpc_iter, _ = finite_dim_koop_sys.simulate(x0, ol_controller_knmpc_iter, t_eval)\n",
    "    xs_knmpc_iter, us_knmpc_iter = xs_knmpc_iter.T, ur_knmpc_iter.T\n",
    "    iter_cost_knmpc.append((xs_knmpc_iter[:,-1]-set_pt).T@QN_mpc@(xs_knmpc_iter[:,-1]-set_pt) + np.sum(np.diag(us_knmpc_iter.T@R_mpc@us_knmpc_iter)))\n",
    "    \n",
    "    ur_nmpc_iter = controller_nmpc.u_iter[ii].T\n",
    "    ol_controller_nmpc_iter = OpenLoopController(finite_dim_koop_sys, ur_nmpc_iter, t_eval[:-1])\n",
    "    xs_nmpc_iter, _ = finite_dim_koop_sys.simulate(x0, ol_controller_nmpc_iter, t_eval)\n",
    "    xs_nmpc_iter, us_nmpc_iter = xs_nmpc_iter.T, ur_nmpc_iter.T\n",
    "    iter_cost_nmpc.append((xs_nmpc_iter[:,-1]-set_pt).T@QN_mpc@(xs_nmpc_iter[:,-1]-set_pt) + np.sum(np.diag(us_nmpc_iter.T@R_mpc@us_nmpc_iter)))\n",
    "\n",
    "plt.figure(figsize=(15,8))\n",
    "plt.suptitle('Control solution after each iteration of the SQP-algorithm for NMPC and K-NMPC')\n",
    "ax1 = plt.subplot(2,3,1)\n",
    "ax1.plot(t_eval[:-1],u_init[:, 0])\n",
    "ax2 = plt.subplot(2,3,2)\n",
    "ax2.plot(t_eval[:-1],u_init[:, 1], label='Iteration 0')\n",
    "ax3 = plt.subplot(2,3,4)\n",
    "ax3.plot(t_eval[:-1],u_init[:, 0])\n",
    "ax4 = plt.subplot(2,3,5)\n",
    "ax4.plot(t_eval[:-1],u_init[:, 0])\n",
    "\n",
    "for it in range(n_iter):\n",
    "    ax1.plot(t_eval[:-1],controller_nmpc.u_iter[it][0,:])\n",
    "    ax2.plot(t_eval[:-1],controller_nmpc.u_iter[it][1,:], label='Iteration '+str(it+1))\n",
    "    ax3.plot(t_eval[:-1],controller_knmpc.u_iter[it][0,:])\n",
    "    ax4.plot(t_eval[:-1],controller_knmpc.u_iter[it][1,:])\n",
    "    \n",
    "ax5 = plt.subplot(1,3,3)\n",
    "ax5.plot(np.arange(1,n_iter), iter_cost_nmpc[1:n_iter]/iter_cost_nmpc[-1], 'tab:cyan', label='NMPC')\n",
    "ax5.plot(np.arange(1,n_iter), iter_cost_knmpc[1:n_iter]/iter_cost_nmpc[-1], 'k', label='K-NMPC')\n",
    "\n",
    "ax1.set_title('Control action sequence at each iteration\\n$u_1$')\n",
    "ax1.set_ylabel('NMPC\\nControl value')\n",
    "ax2.set_title('$u_2$')\n",
    "ax2.legend(ncol=2, loc='upper right', frameon=False)\n",
    "ax3.set_ylabel('K-NMPC\\nControl value')\n",
    "ax3.set_xlabel('Time (sec)')\n",
    "ax4.set_xlabel('Time (sec)')\n",
    "ax5.set_title('Realized cost after each iteration\\n')\n",
    "ax5.set_xlabel('Iteration')\n",
    "ax5.set_ylabel('Cost (normalized)')\n",
    "ax5.legend(loc='upper right', frameon=False)\n",
    "\n",
    "plt.show()\n",
    "\n",
    "print('Solution statistics\\n')\n",
    "print(tabulate([['Nonlinear MPC', len(controller_nmpc.x_iter), np.mean(controller_nmpc.comp_time), np.std(controller_nmpc.comp_time), sum(controller_nmpc.comp_time)],\n",
    "                ['Koopman bilinear MPC', len(controller_knmpc.x_iter), np.mean(controller_knmpc.comp_time), np.std(controller_knmpc.comp_time), sum(controller_knmpc.comp_time)]], \n",
    "               headers=['Number of SQP\\niterations','Mean comp. time per\\niteration (secs)', 'Std comp. time per\\niteration (secs)', 'Total comp.\\ntime (secs)']))"
   ]
  },
  {
   "cell_type": "markdown",
   "metadata": {},
   "source": [
    "# Evaluate performance of controllers for closed-loop control"
   ]
  },
  {
   "cell_type": "markdown",
   "metadata": {},
   "source": [
    "#### Design finite horizon controllers"
   ]
  },
  {
   "cell_type": "code",
   "execution_count": null,
   "metadata": {},
   "outputs": [],
   "source": [
    "Q_mpc_cl = 1e2*np.diag([1, 1, 2e-1, 2e-1])\n",
    "QN_mpc_cl= Q_mpc_cl\n",
    "R_mpc_cl = np.eye(m)\n",
    "traj_duration = 0.5\n",
    "N_cl = int(traj_duration/dt)\n",
    "max_iter_sqp = 100\n",
    "\n",
    "solver_settings = {}\n",
    "solver_settings['gen_embedded_ctrl'] = False\n",
    "solver_settings['warm_start'] = True\n",
    "solver_settings['polish'] = True\n",
    "solver_settings['scaling'] = True\n",
    "solver_settings['adaptive_rho'] = True\n",
    "solver_settings['check_termination'] = 1\n",
    "solver_settings['max_iter'] = 1\n",
    "solver_settings['eps_abs'] = 1e-6\n",
    "solver_settings['eps_rel'] = 1e-6\n",
    "solver_settings['linsys_solver'] = 'qdldl'"
   ]
  },
  {
   "cell_type": "code",
   "execution_count": null,
   "metadata": {},
   "outputs": [],
   "source": [
    "controller_lmpc_cl = MPCController(linearized_sys, N_cl, dt, umin, umax, xmin, xmax, Q_mpc_cl, R_mpc_cl, QN_mpc_cl, set_pt, terminal_constraint=False, add_slack=False)\n",
    "controller_knmpc_cl = BilinearMPCController(kbf_d, N_cl, dt, umin, umax, xmin, xmax, Q_mpc_cl, R_mpc_cl, QN_mpc_cl, set_pt, solver_settings, terminal_constraint=False, add_slack=False)\n",
    "controller_knmpc_cl.construct_controller(controller_knmpc.cur_z[:N_cl+1,:], controller_knmpc.cur_u[:N_cl,:])\n",
    "controller_nmpc_cl = NonlinearMPCController(finite_dim_koop_sys_d, N_cl, dt, umin, umax, xmin, xmax, Q_mpc_cl, R_mpc_cl, QN_mpc_cl, set_pt, solver_settings, terminal_constraint=False)\n",
    "controller_nmpc_cl.construct_controller(controller_nmpc.cur_z[:N_cl+1,:], controller_nmpc.cur_u[:N_cl,:])"
   ]
  },
  {
   "cell_type": "code",
   "execution_count": null,
   "metadata": {},
   "outputs": [],
   "source": [
    "controller_knmpc_cl.solve_to_convergence(z0, 0., controller_knmpc.cur_z[:N_cl+1,:], controller_knmpc.cur_u[:N_cl,:], max_iter=max_iter_sqp)\n",
    "controller_nmpc_cl.solve_to_convergence(x0, 0., controller_nmpc.cur_z[:N_cl+1,:], controller_nmpc.cur_u[:N_cl,:], max_iter=max_iter_sqp)\n",
    "controller_knmpc_cl.comp_time, controller_knmpc_cl.prep_time, controller_knmpc_cl.qp_time,  = [], [], []\n",
    "controller_nmpc_cl.comp_time, controller_nmpc_cl.prep_time, controller_nmpc_cl.qp_time,  = [], [], []"
   ]
  },
  {
   "cell_type": "code",
   "execution_count": null,
   "metadata": {},
   "outputs": [],
   "source": [
    "solver_settings['polish'] = False\n",
    "solver_settings['scaling'] = False\n",
    "solver_settings['check_termination'] = 1\n",
    "solver_settings['max_iter'] = 1\n",
    "solver_settings['eps_abs'] = 1e-3\n",
    "solver_settings['eps_rel'] = 1e-3\n",
    "controller_nmpc_cl.update_solver_settings(solver_settings)\n",
    "controller_knmpc_cl.update_solver_settings(solver_settings)"
   ]
  },
  {
   "cell_type": "markdown",
   "metadata": {},
   "source": [
    "#### Simulate designed trajectories closed-loop"
   ]
  },
  {
   "cell_type": "code",
   "execution_count": null,
   "metadata": {},
   "outputs": [],
   "source": [
    "xs_lmpc_cl, us_lmpc_cl = finite_dim_koop_sys.simulate(x0, controller_lmpc_cl, t_eval)\n",
    "xs_lmpc_cl, us_lmpc_cl = xs_lmpc_cl.T, us_lmpc_cl.T\n",
    "\n",
    "controller_knmpc_cl.comp_time = []\n",
    "xs_knmpc_cl, us_knmpc_cl = finite_dim_koop_sys.simulate(x0, controller_knmpc_cl, t_eval)\n",
    "xs_knmpc_cl, us_knmpc_cl = xs_knmpc_cl.T, us_knmpc_cl.T\n",
    "\n",
    "controller_nmpc_cl.comp_time = []\n",
    "xs_nmpc_cl, us_nmpc_cl = finite_dim_koop_sys.simulate(x0, controller_nmpc_cl, t_eval)\n",
    "xs_nmpc_cl, us_nmpc_cl = xs_nmpc_cl.T, us_nmpc_cl.T"
   ]
  },
  {
   "cell_type": "markdown",
   "metadata": {},
   "source": [
    "#### Plot/analyze the results"
   ]
  },
  {
   "cell_type": "code",
   "execution_count": null,
   "metadata": {
    "scrolled": false
   },
   "outputs": [],
   "source": [
    "plot_inds = [0, 2, 1, 3, 0, 1]\n",
    "subplot_inds = [1, 2, 4, 5, 3, 6]\n",
    "labels = ['$x_1$ (m)', '$x_2$ (m)', '$\\\\dot{x}_1$ (m/s)','$\\\\dot{x}_2$ (m/s)','$F_1$ (N)','$F_2$ (N)']\n",
    "colors = ['tab:blue', 'tab:orange', 'tab:brown']\n",
    "\n",
    "plt.figure(figsize=(15,8))\n",
    "plt.suptitle('Closed loop control with model predictive controllers\\n black dotted lines - state/actuation bounds')\n",
    "for ii in range(6):\n",
    "    ind = plot_inds[ii]\n",
    "    if ii < 4:\n",
    "        plt.subplot(2,3,subplot_inds[ii])\n",
    "        plt.plot(t_eval, xs_lmpc_cl[ind,:], colors[0], label='Linear MPC')\n",
    "        plt.plot(t_eval, xs_knmpc_cl[ind, :], colors[1], label='Bilinear MPC')\n",
    "        plt.plot(t_eval, xs_nmpc_cl[ind,:], colors[2], label='Nonlinear MPC')\n",
    "        \n",
    "        plt.plot([0, 2.], [xmax[ind], xmax[ind]], ':k')\n",
    "        plt.plot([0, 2.], [xmin[ind], xmin[ind]], ':k')\n",
    "        plt.scatter(t_eval[0], x0[ind], color='g')\n",
    "        plt.scatter(t_eval[-1], set_pt[ind], color='r')\n",
    "        plt.ylabel(labels[ind])\n",
    "        plt.ylim(xmin[ind]-0.1,xmax[ind]+0.1)\n",
    "    else:\n",
    "        ax = plt.subplot(2,3,subplot_inds[ii])\n",
    "        plt.plot(t_eval[:-1],us_lmpc_cl[ind,:], color=colors[0], label='Linear MPC')\n",
    "        plt.plot(t_eval[:-1], us_knmpc_cl[ind, :], color=colors[1], label='Bilinear MPC')\n",
    "        plt.plot(t_eval[:-1],us_nmpc_cl[ind,:], color=colors[2], label='Nonlinear MPC')\n",
    "        plt.plot([0, 2.], [umax[ind], umax[ind]], ':k')\n",
    "        plt.plot([0, 2.], [umin[ind], umin[ind]], ':k')\n",
    "        plt.ylabel(labels[ii])\n",
    "        ax.yaxis.set_major_locator(MaxNLocator(integer=True))\n",
    "        if subplot_inds[ii]==3:\n",
    "            plt.legend(loc='upper right', bbox_to_anchor=(0.975, 0.95), frameon=False)\n",
    "    if subplot_inds[ii] == 4 or subplot_inds[ii] == 5 or subplot_inds[ii] == 6:\n",
    "        plt.xlabel('Time (sec)')\n",
    "            \n",
    "plt.show()\n",
    "\n",
    "cost_cl_lmpc = np.sum(np.diag((xs_lmpc_cl[:,:-1]-set_pt.reshape(-1,1)).T@Q_mpc@(xs_lmpc_cl[:,:-1]-set_pt.reshape(-1,1)))) + (xs_lmpc_cl[:,-1]-set_pt).T@QN_mpc@(xs_lmpc_cl[:,-1]-set_pt) + np.sum(np.diag(us_lmpc_cl.T@R_mpc@us_lmpc_cl))\n",
    "cost_cl_knmpc = np.sum(np.diag((xs_knmpc_cl[:,:-1]-set_pt.reshape(-1,1)).T@Q_mpc@(xs_knmpc_cl[:,:-1]-set_pt.reshape(-1,1)))) + (xs_knmpc_cl[:,-1]-set_pt).T@QN_mpc@(xs_knmpc_cl[:,-1]-set_pt) + np.sum(np.diag(us_knmpc_cl.T@R_mpc@us_knmpc_cl))\n",
    "cost_cl_nmpc = np.sum(np.diag((xs_nmpc_cl[:,:-1]-set_pt.reshape(-1,1)).T@Q_mpc@(xs_nmpc_cl[:,:-1]-set_pt.reshape(-1,1)))) + (xs_nmpc_cl[:,-1]-set_pt).T@QN_mpc@(xs_nmpc_cl[:,-1]-set_pt) + np.sum(np.diag(us_nmpc_cl.T@R_mpc@us_nmpc_cl))\n",
    "\n",
    "\n",
    "print('\\nSolution statistics:\\n')\n",
    "print(tabulate([['Linear MPC', cost_cl_lmpc/cost_cl_nmpc, np.mean(controller_lmpc_cl.comp_time), np.std(controller_lmpc_cl.comp_time)],\n",
    "                ['Koopman bilinear MPC', cost_cl_knmpc/cost_cl_nmpc, np.mean(controller_knmpc_cl.comp_time), np.std(controller_knmpc_cl.comp_time)], \n",
    "                ['Nonlinear MPC', cost_cl_nmpc/cost_cl_nmpc, np.mean(controller_nmpc_cl.comp_time), np.std(controller_nmpc_cl.comp_time)]],\n",
    "               headers=['Quadratic cost\\n(normalized)', 'Mean comp. time per\\niteration (secs)', 'Std comp. time per\\niteration (secs)']))"
   ]
  },
  {
   "cell_type": "code",
   "execution_count": null,
   "metadata": {},
   "outputs": [],
   "source": [
    "print('\\nSolution time profiling:\\n')\n",
    "print(tabulate([['NMPC', np.mean(controller_nmpc_cl.comp_time), np.mean(controller_nmpc_cl.prep_time), np.mean(controller_nmpc_cl.qp_time)],\n",
    "                ['Koopman bilinear MPC', np.mean(controller_knmpc_cl.comp_time), np.mean(controller_knmpc_cl.prep_time), np.mean(controller_knmpc_cl.qp_time)]],\n",
    "               headers=['Total comp time', 'setup time', 'qp solve time' ]))"
   ]
  },
  {
   "cell_type": "code",
   "execution_count": null,
   "metadata": {},
   "outputs": [],
   "source": []
  }
 ],
 "metadata": {
  "kernelspec": {
   "display_name": "bedmd",
   "language": "python",
   "name": "bedmd"
  },
  "language_info": {
   "codemirror_mode": {
    "name": "ipython",
    "version": 3
   },
   "file_extension": ".py",
   "mimetype": "text/x-python",
   "name": "python",
   "nbconvert_exporter": "python",
   "pygments_lexer": "ipython3",
   "version": "3.7.10"
  }
 },
 "nbformat": 4,
 "nbformat_minor": 4
}
