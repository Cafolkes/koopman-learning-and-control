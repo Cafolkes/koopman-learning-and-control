{
 "cells": [
  {
   "cell_type": "markdown",
   "metadata": {},
   "source": [
    "$\\newcommand{\\mb}[1]{\\mathbf{ #1 }}$\n",
    "$\\newcommand{\\bs}[1]{\\boldsymbol{ #1 }}$\n",
    "$\\newcommand{\\bb}[1]{\\mathbb{ #1 }}$\n",
    "\n",
    "$\\newcommand{\\R}{\\bb{R}}$\n",
    "\n",
    "$\\newcommand{\\ip}[2]{\\left\\langle #1, #2 \\right\\rangle}$\n",
    "$\\newcommand{\\norm}[1]{\\left\\Vert #1 \\right\\Vert}$\n",
    "\n",
    "$\\newcommand{\\der}[2]{\\frac{\\mathrm{d} #1 }{\\mathrm{d} #2 }}$\n",
    "$\\newcommand{\\derp}[2]{\\frac{\\partial #1 }{\\partial #2 }}$\n",
    "\n",
    "# Finite Dimensional Koopman Bilinear System"
   ]
  },
  {
   "cell_type": "markdown",
   "metadata": {},
   "source": [
    "Consider a nonlinear dynamical system that allows an exact finite dimensional Koopman canonical transform such that the control-affine dynamics can be transformed to a bilinear system. Consider the dynamical system "
   ]
  },
  {
   "cell_type": "markdown",
   "metadata": {},
   "source": [
    "\\begin{equation}\n",
    "\\mb{\\dot{x}}=\\mb{f}_0(\\mb x) + \\mb f_1 ( \\mb x) u_1 + \\mb f_2(\\mb x) u_2, \n",
    "\\end{equation}"
   ]
  },
  {
   "cell_type": "markdown",
   "metadata": {},
   "source": [
    "where we for this example choose $\\mb f_0, \\mb f_1$ as follows:"
   ]
  },
  {
   "cell_type": "markdown",
   "metadata": {},
   "source": [
    "\\begin{equation}\n",
    "\\mb f_0(\\mb x) = \\begin{bmatrix} x_3 \\\\ x_4 \\\\ \\lambda x_3 \\\\ \\mu x_4 + (2 \\lambda - \\mu) c x_3^2 \\end{bmatrix}, \\qquad\n",
    "\\mb f_1(\\mb x) = \\begin{bmatrix} 0 \\\\ 0 \\\\ 1 \\\\ 0 \\end{bmatrix}, \\qquad\n",
    "\\mb f_2(\\mb x) = \\begin{bmatrix} 0 \\\\ 0 \\\\ 0 \\\\ x_1+1 \\end{bmatrix}, \n",
    "\\end{equation}   "
   ]
  },
  {
   "cell_type": "markdown",
   "metadata": {},
   "source": [
    "and $\\lambda, \\mu, c \\in \\mathbb{R}$ are scalar parameters of the system. Setting $ \\mb x = [q_1 \\, q_2 \\, \\dot{q_1} \\, \\dot{q_2}]^T$, \n",
    "these equations of motion can be expressed as robotic dynamics of the form $\\mb{D}(\\mb{q})\\ddot{\\mb{q}} + \\mb{C}(\\mb{q}, \\dot{\\mb{q}})\\dot{\\mb{q}} + \\mb{G}(\\mb{q}) = \\mb{B}\\mb{u}$, where $\\mb D$ is the inertia matrix, $\\mb C$ is the matrix of Coriolis terms, $\\mb G$ is the matrix of gravitational terms, and $\\mb B$ is the static actuation matrix. Rewriting $\\mb f_0, \\mb f_1, \\mb f_2$ in terms of $\\mb D, \\mb C, \\mb G,$ and $\\mb B$ yield\n",
    "\n"
   ]
  },
  {
   "cell_type": "markdown",
   "metadata": {},
   "source": [
    "\\begin{equation}\n",
    "\\mb D(\\mb q) = \\begin{bmatrix} 1 & 0\\\\ 0 &  \\frac{1}{q_1+1} \\end{bmatrix}, \n",
    "\\qquad \\mb C(\\mb q, \\mb{\\dot{q}}) = -\\begin{bmatrix} \\lambda & 0 \\\\ \\frac{1}{q_1 + 1}(2 \\lambda - \\mu) c \\dot{q}_1 & \\frac{1}{q_1 +1} \\mu \\end{bmatrix}, \\qquad \n",
    "\\mb G(\\mb q) = \\begin{bmatrix} 0 \\\\ 0 \\end{bmatrix} \n",
    "\\qquad \\mb B = \\begin{bmatrix}1 & 0 \\\\ 0 & 1 \\end{bmatrix},\n",
    "\\end{equation}"
   ]
  },
  {
   "cell_type": "code",
   "execution_count": 1,
   "metadata": {},
   "outputs": [],
   "source": [
    "import numpy as np\n",
    "import sys\n",
    "sys.path.append('../../')"
   ]
  },
  {
   "cell_type": "markdown",
   "metadata": {},
   "source": [
    "# Define experiment parameters"
   ]
  },
  {
   "cell_type": "code",
   "execution_count": 2,
   "metadata": {},
   "outputs": [],
   "source": [
    "from core.dynamics import RoboticDynamics, ConfigurationDynamics\n",
    "\n",
    "class KoopPdOutput(ConfigurationDynamics):\n",
    "    def __init__(self, dynamics, xd, n, m):\n",
    "        ConfigurationDynamics.__init__(self, dynamics, 1)\n",
    "        self.xd = xd\n",
    "        self.n = n\n",
    "        self.m = m\n",
    "\n",
    "    def proportional(self, x, t):\n",
    "        q = x[:int(n/2)]\n",
    "        q_d = self.xd[:int(n/2)]\n",
    "\n",
    "        return  q - q_d\n",
    "\n",
    "    def derivative(self, x, t):\n",
    "        q_dot = x[int(n/2):]\n",
    "        q_dot_d = self.xd[int(n/2):]\n",
    "\n",
    "        return q_dot - q_dot_d\n",
    "\n",
    "class FiniteDimKoopSys(RoboticDynamics):\n",
    "    def __init__(self, lambd, mu, c):\n",
    "        RoboticDynamics.__init__(self, 2, 2)\n",
    "        self.params = lambd, mu, c\n",
    "    \n",
    "    def D(self, q):\n",
    "        return np.array([[1, 0],[0, (q[0]+1)**(-1)]])\n",
    "    \n",
    "    def C(self, q, q_dot):\n",
    "        labmd, mu, c = self.params\n",
    "        return -np.array([[lambd, 0], [(q[0]+1)**(-1)*(2*lambd - mu)*c*q_dot[0], (q[0]+1)**(-1)*mu]])\n",
    "    \n",
    "    def G(self, q):\n",
    "        return np.array([0, 0])\n",
    "    \n",
    "    def B(self, q):\n",
    "        return np.array([[1, 0], [0, 1]])\n",
    "    \n",
    "class FiniteDimKoopSysDiscrete(FiniteDimKoopSys):\n",
    "    def __init__(self, lambd, mu, c, dt):\n",
    "        FiniteDimKoopSys.__init__(self, lambd, mu, c)\n",
    "        self.dt = dt\n",
    "\n",
    "    def eval_dot(self, x, u, t):\n",
    "        return x + self.dt*self.drift(x, t) + self.dt*np.dot(self.act(x, t),u)\n",
    "\n",
    "    def get_linearization(self, x0, x1, u0, t):\n",
    "        lambd, mu, c = self.params\n",
    "        A_lin = np.eye(self.n) + self.dt*np.array([[0, 0, 1, 0],\n",
    "                                            [0, 0, 0, 1],\n",
    "                                            [0, 0, lambd, 0],\n",
    "                                            [u0[1], 0, 2*(2*lambd-mu)*c*x0[2], mu]])\n",
    "\n",
    "        B_lin = self.dt*np.array([[0, 0],\n",
    "                          [0, 0],\n",
    "                          [1, 0],\n",
    "                          [0, x0[0]+1]])\n",
    "\n",
    "        if x1 is None:\n",
    "            x1 = A_lin@x0 + B_lin@u0\n",
    "\n",
    "        f_d = self.eval_dot(x0,u0,t)\n",
    "        r_lin = f_d - x1\n",
    "\n",
    "        return A_lin, B_lin, r_lin\n",
    "\n",
    "n, m = 4, 2\n",
    "lambd, mu, c = .3, .2, -.5\n",
    "system = FiniteDimKoopSys(lambd, mu, c)\n",
    "sys_name = 'bilinearizable_sys'"
   ]
  },
  {
   "cell_type": "code",
   "execution_count": 3,
   "metadata": {},
   "outputs": [],
   "source": [
    "from koopman_core.dynamics import LinearLiftedDynamics\n",
    "\n",
    "A_lin = np.array([[0, 0, 1, 0],\n",
    "                  [0, 0, 0, 1],\n",
    "                  [0, 0, lambd, 0],\n",
    "                  [0, 0, 0, mu]])\n",
    "B_lin = np.array([[0, 0],\n",
    "                  [0, 0],\n",
    "                  [1, 0],\n",
    "                  [0, 1]])\n",
    "linearized_sys = LinearLiftedDynamics(A_lin, B_lin, np.eye(n), lambda x: x)"
   ]
  },
  {
   "cell_type": "markdown",
   "metadata": {},
   "source": [
    "# Collect data for learning "
   ]
  },
  {
   "cell_type": "code",
   "execution_count": 4,
   "metadata": {},
   "outputs": [],
   "source": [
    "import scipy as sc\n",
    "\n",
    "q_dc, r_dc = 5e2, 1                                                 # State and actuation penalty values, data collection\n",
    "Q_dc = q_dc * np.identity(n)                                        # State penalty matrix, data collection\n",
    "R_dc = r_dc*np.identity(m)                                          # Actuation penalty matrix, data collection\n",
    "P_dc = sc.linalg.solve_continuous_are(A_lin, B_lin, Q_dc, R_dc)     # Algebraic Ricatti equation solution, data collection\n",
    "K_dc = np.linalg.inv(R_dc)@B_lin.T@P_dc                             # LQR feedback gain matrix, data collection\n",
    "K_dc_p = K_dc[:,:int(n/2)]                                          # Proportional control gains, data collection\n",
    "K_dc_d = K_dc[:,int(n/2):]                                          # Derivative control gains, data collection\n",
    "\n",
    "# Data collection parameters:\n",
    "collect_data = True\n",
    "test_frac = 0.2\n",
    "val_frac = 0.2\n",
    "dt = 1.0e-2                                                         # Time step length\n",
    "traj_length_dc = 2.                                                 # Trajectory length, data collection\n",
    "n_pred_dc = int(traj_length_dc/dt)                                  # Number of time steps, data collection\n",
    "t_eval = dt * np.arange(n_pred_dc + 1)                              # Simulation time points\n",
    "n_traj_dc = 10                                                      # Number of trajectories to execute, data collection\n",
    "noise_var = 5.                                                      # Exploration noise to perturb controller, data collection\n",
    "\n",
    "xmax = np.array([1., 1., 1., 1.])                                   # State constraints, trajectory generation\n",
    "xmin = -xmax\n",
    "umax = np.array([10., 10.])                                         # Actuation constraint, trajectory generation\n",
    "umin = -umax\n",
    "x0_max = xmax/2                                                     # Initial value limits\n",
    "directory = 'data/'                                           # Path to save learned models\n",
    "n_cols = 10                                                         # Number of columns in training data plot"
   ]
  },
  {
   "cell_type": "code",
   "execution_count": 5,
   "metadata": {},
   "outputs": [
    {
     "data": {
      "image/png": "[encoded data removed]",
      "text/plain": [
       "<Figure size 864x86.4 with 10 Axes>"
      ]
     },
     "metadata": {
      "needs_background": "light"
     },
     "output_type": "display_data"
    }
   ],
   "source": [
    "import matplotlib.pyplot as plt\n",
    "import random as rand\n",
    "from core.controllers import PDController\n",
    "from koopman_core.controllers import PerturbedController, OpenLoopController\n",
    "import dill\n",
    "\n",
    "if collect_data:\n",
    "    xs = np.empty((n_traj_dc, n_pred_dc + 1, n))\n",
    "    us = np.empty((n_traj_dc, n_pred_dc, m))\n",
    "\n",
    "    plt.figure(figsize=(12, 12 * n_traj_dc / (n_cols ** 2)))\n",
    "    for ii in range(n_traj_dc):\n",
    "        x0 = np.asarray([rand.uniform(l, u) for l, u in zip(-x0_max, x0_max)])\n",
    "        set_pt_dc = np.zeros(n)\n",
    "\n",
    "        output = KoopPdOutput(system, set_pt_dc, n, m)\n",
    "        pd_controller = PDController(output, K_dc_p, K_dc_d)\n",
    "        perturbed_pd_controller = PerturbedController(system, pd_controller, noise_var)\n",
    "        xs[ii, :, :], us[ii, :, :] = system.simulate(x0, perturbed_pd_controller, t_eval)\n",
    "\n",
    "        plt.subplot(int(np.ceil(n_traj_dc / n_cols)), n_cols, ii + 1)\n",
    "        plt.plot(t_eval, xs[ii, :, 0], 'b', label='$x_1$')\n",
    "        plt.plot(t_eval, xs[ii, :, 1], 'g', label='$x_2$')\n",
    "        plt.plot(t_eval, set_pt_dc[0]*np.ones_like(xs[ii,:,0]), '--b', label='$\\\\tau_1$')\n",
    "        plt.plot(t_eval, set_pt_dc[1]*np.ones_like(xs[ii,:,0]), '--g', label='$\\\\tau_2$')\n",
    "\n",
    "    plt.suptitle(\n",
    "        'Training data \\nx-axis: time (sec), y-axis: state value, $x_1$ - blue, $\\tau_1$ - dotted blue, $x_2$ - green, $\\\\tau_2$ - dotted green',\n",
    "        y=0.94)\n",
    "    plt.show()\n",
    "    \n",
    "    data_list = [xs, us, t_eval, n_traj_dc]\n",
    "    outfile = open(directory + sys_name + '_data.pickle', 'wb')\n",
    "    dill.dump(data_list, outfile)\n",
    "    outfile.close()\n",
    "else:\n",
    "    infile = open(directory + sys_name + '_data.pickle', 'rb')\n",
    "    xs, us, t_eval, n_traj_dc = dill.load(infile)\n",
    "    infile.close()"
   ]
  },
  {
   "cell_type": "markdown",
   "metadata": {},
   "source": [
    "# Tune Koopman-based model of the dynamics"
   ]
  },
  {
   "cell_type": "markdown",
   "metadata": {},
   "source": [
    "### Learn Koopman DNN model"
   ]
  },
  {
   "cell_type": "code",
   "execution_count": 6,
   "metadata": {},
   "outputs": [
    {
     "name": "stdout",
     "output_type": "stream",
     "text": [
      "{'grid_search': [1e-05, 0.0001, 0.001, 0.01, 0.1]}\n",
      "{'grid_search': [1e-06, 1e-05, 0.0001, 0.001, 0.01]}\n"
     ]
    }
   ],
   "source": [
    "from koopman_core.learning import KoopDnn\n",
    "from ray import tune\n",
    "\n",
    "net_params = {}\n",
    "# Model configuration parameters:\n",
    "net_params['state_dim'] = n\n",
    "net_params['ctrl_dim'] = m\n",
    "net_params['first_obs_const'] = True\n",
    "net_params['override_kinematics'] = True\n",
    "net_params['dt'] = dt\n",
    "net_params['data_dir'] = directory\n",
    "\n",
    "# DNN architecture parameters:\n",
    "net_params['encoder_hidden_dim'] = [20, 20]\n",
    "net_params['encoder_output_dim'] = 10\n",
    "net_params['epochs'] = 500\n",
    "net_params['optimizer'] = 'adam'\n",
    "\n",
    "# DNN tunable parameters:\n",
    "net_params['lr'] = tune.grid_search(list(np.logspace(-5, -1, 5)))\n",
    "net_params['l2_reg'] = tune.grid_search(list(np.logspace(-6, -2, 5)))\n",
    "net_params['l1_reg'] = tune.grid_search(list(np.logspace(-6, -2, 5)))\n",
    "net_params['batch_size'] = tune.grid_search([8, 16, 32])\n",
    "net_params['lin_loss_penalty'] = tune.grid_search(list(np.linspace(1e-2, 1, 10)))\n",
    "net_params['n_multistep'] = tune.grid_search([1, 5, 10, 30])\n",
    "print(net_params['lr'])\n",
    "print(net_params['l2_reg'])"
   ]
  },
  {
   "cell_type": "code",
   "execution_count": 7,
   "metadata": {},
   "outputs": [],
   "source": [
    "from koopman_core.dynamics import BilinearLiftedDynamics\n",
    "import torch\n",
    "from torch.utils.data import random_split\n",
    "from ray.tune.schedulers import ASHAScheduler\n",
    "\n",
    "model_kdnn = KoopDnn(n_traj_dc, net_params)\n",
    "model_kdnn.set_datasets(xs, us, xs, us, t_eval) # TODO: Collect and store test dataset\n",
    "\n",
    "\n",
    "# TODO: Do elsewhere\n",
    "#        test_abs = int(len(dataset) * test_frac)\n",
    "#        dataset_train, dataset_test = random_split(dataset, [len(dataset) - test_abs, test_abs])\n",
    "#        model_kdnn.set_datasets(dataset_train, dataset_test)\n",
    "\n",
    "#model_kdnn.train_model(dataset_train, dataset_val)\n",
    "#model_kdnn.construct_koopman_model()\n",
    "\n",
    "#n_tot = net_params['state_dim'] + net_params['encoder_output_dim'] + int(net_params['first_obs_const'])\n",
    "#sys_kdnn = BilinearLiftedDynamics(n_tot, m, model_kdnn.A, model_kdnn.B, model_kdnn.C, model_kdnn.basis_encode, continuous_mdl=False, dt=dt)"
   ]
  },
  {
   "cell_type": "code",
   "execution_count": null,
   "metadata": {},
   "outputs": [
    {
     "name": "stderr",
     "output_type": "stream",
     "text": [
      "2021-01-19 20:06:49,420\tINFO services.py:1173 -- View the Ray dashboard at \u001b[1m\u001b[32mhttp://127.0.0.1:8265\u001b[39m\u001b[22m\n"
     ]
    }
   ],
   "source": [
    "num_samples = 10\n",
    "scheduler = ASHAScheduler(\n",
    "        max_t=net_params['epochs'],\n",
    "        grace_period=1,\n",
    "        reduction_factor=2)\n",
    "\n",
    "result = tune.run(\n",
    "    model_kdnn.model_pipeline,\n",
    "    config=net_params,\n",
    "    metric='loss',\n",
    "    mode='min',\n",
    "    checkpoint_at_end=True,\n",
    "    num_samples=num_samples,\n",
    "    scheduler=scheduler,\n",
    ")\n",
    "\n",
    "best_trial = result.get_best_trial(\"loss\", \"min\", \"last\")\n",
    "print(\"Best trial config: {}\".format(best_trial.config))\n",
    "print(\"Best trial final validation loss: {}\".format(\n",
    "        best_trial.last_result[\"loss\"]))\n",
    "print(\"Best trial final validation accuracy: {}\".format(\n",
    "        best_trial.last_result[\"accuracy\"]))\n",
    "\n",
    "# TODO: Save parameter file"
   ]
  },
  {
   "cell_type": "markdown",
   "metadata": {},
   "source": [
    "# Evaluate open-loop prediction performance"
   ]
  },
  {
   "cell_type": "code",
   "execution_count": null,
   "metadata": {},
   "outputs": [],
   "source": [
    "# Prediction performance evaluation parameters:\n",
    "folder_plots = 'figures/'                                          # Path to save plots\n",
    "n_traj_ol = 50                                                     # Number of trajectories to execute, open loop"
   ]
  },
  {
   "cell_type": "code",
   "execution_count": null,
   "metadata": {},
   "outputs": [],
   "source": [
    "from tabulate import tabulate\n",
    "\n",
    "xs_ol = np.empty((n_traj_ol, t_eval.shape[0], n))\n",
    "xs_bedmd_ol = np.empty((n_traj_ol, t_eval.shape[0]-1, n))\n",
    "xs_koop_dnn_ol = np.empty((n_traj_ol, t_eval.shape[0]-1, n))\n",
    "us_test = np.empty((n_traj_ol, t_eval.shape[0]-1, m))\n",
    "\n",
    "for ii in range(n_traj_ol):\n",
    "    x0 = np.asarray([rand.uniform(l, u) for l, u in zip(-x0_max, x0_max)])\n",
    "    set_pt_dc = np.zeros(n)\n",
    "    \n",
    "    output = KoopPdOutput(finite_dim_koop_sys, set_pt_dc, n, m)\n",
    "    pd_controller = PDController(output, K_dc_p, K_dc_d)\n",
    "    perturbed_pd_controller = PerturbedController(finite_dim_koop_sys, pd_controller, noise_var)\n",
    "    xs_ol[ii, :, :], us_test[ii, :, :] = finite_dim_koop_sys.simulate(x0, perturbed_pd_controller, t_eval)\n",
    "    ol_controller_nom = OpenLoopController(sys_bedmd, us_test[ii,:,:], t_eval[:-1])\n",
    "\n",
    "    z_0_bedmd = sys_bedmd.basis(np.atleast_2d(x0)).squeeze()\n",
    "    zs_bedmd_tmp, _ = sys_bedmd.simulate(z_0_bedmd, ol_controller_nom, t_eval[:-1])\n",
    "    xs_bedmd_ol[ii,:,:] = np.dot(model_bedmd.C, zs_bedmd_tmp.T).T\n",
    "    \n",
    "    z_0_koop_dnn = sys_koop_dnn.basis(np.atleast_2d(x0)).squeeze()\n",
    "    zs_koop_dnn_tmp, _ = sys_koop_dnn.simulate(z_0_koop_dnn, ol_controller_nom, t_eval[:-1])\n",
    "    xs_koop_dnn_ol[ii,:,:] = np.dot(model_koop_dnn.C, zs_koop_dnn_tmp.T).T\n",
    "\n",
    "data = [xs_bedmd_ol, xs_koop_dnn_ol]\n",
    "mdl_names = ['bEDMD', 'Koop DNN']\n",
    "error, mse, std = [], [], []\n",
    "\n",
    "for ii, d in enumerate(data):\n",
    "    err_tmp = xs_ol[:,:-1,:]-d\n",
    "    error.append(err_tmp)\n",
    "    mse.append(np.mean(np.square(error[ii])))\n",
    "    std.append(np.std(error[ii]))\n",
    "    \n",
    "print('\\nOpen loop performance statistics:')\n",
    "\n",
    "table_data = []\n",
    "for name, mse_mdl, std_mdl in zip(mdl_names, mse, std):\n",
    "    table_data.append([name, \"{:.5f}\".format(mse_mdl), \"{:.5f}\".format(std_mdl)])\n",
    "\n",
    "print(tabulate(table_data, \n",
    "               headers=['Mean squared error', 'Standard deviation']))"
   ]
  },
  {
   "cell_type": "code",
   "execution_count": null,
   "metadata": {},
   "outputs": [],
   "source": [
    "import matplotlib.pyplot as plt\n",
    "import matplotlib\n",
    "\n",
    "figwidth = 12\n",
    "lw = 2\n",
    "fs = 14\n",
    "y_lim_gain = 1.2\n",
    "row = 2\n",
    "col = n/row\n",
    "\n",
    "#Plot open loop results:\n",
    "plt.figure(figsize=(figwidth,4))\n",
    "axs = [plt.subplot(row,col,jj+1) for jj in range(n)]\n",
    "\n",
    "for ii, err in enumerate(error):\n",
    "    err_mean = np.mean(err, axis=0)\n",
    "    err_std = np.std(err, axis=0)\n",
    "    \n",
    "    for jj in range(n):\n",
    "        axs[jj].plot(t_eval[1:], err_mean[:,jj], label=mdl_names[ii])\n",
    "        axs[jj].fill_between(t_eval[1:], err_mean[:,jj]-err_std[:,jj], err_mean[:,jj]+err_std[:,jj], alpha=0.1)\n",
    "\n",
    "for jj in range(n):\n",
    "    axs[jj].set_xlabel('Time (sec)', fontsize=fs)\n",
    "    axs[jj].set_ylabel('$x_'+ str(jj+1) + '$', fontsize=fs)\n",
    "\n",
    "plt.legend(frameon=False, fontsize=fs)\n",
    "stitle=plt.suptitle('Open loop prediction performance of learned models', fontsize=fs+2)\n",
    "matplotlib.rcParams['pdf.fonttype'] = 42\n",
    "matplotlib.rcParams['ps.fonttype'] = 42\n",
    "plt.savefig(folder_plots + 'koop_sys_prediction.pdf', format='pdf', dpi=2400, bbox_extra_artists=(stitle,), bbox_inches=\"tight\")\n",
    "plt.show()"
   ]
  }
 ],
 "metadata": {
  "kernelspec": {
   "display_name": "keedmd",
   "language": "python",
   "name": "keedmd"
  },
  "language_info": {
   "codemirror_mode": {
    "name": "ipython",
    "version": 3
   },
   "file_extension": ".py",
   "mimetype": "text/x-python",
   "name": "python",
   "nbconvert_exporter": "python",
   "pygments_lexer": "ipython3",
   "version": "3.7.6"
  }
 },
 "nbformat": 4,
 "nbformat_minor": 4
}
